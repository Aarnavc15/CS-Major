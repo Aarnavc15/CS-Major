{
 "cells": [
  {
   "cell_type": "markdown",
   "metadata": {},
   "source": [
    "___\n",
    "\n",
    "<a href='http://www.pieriandata.com'> <img src='../Pierian_Data_Logo.png' /></a>\n",
    "___\n",
    "# Plotly and Cufflinks"
   ]
  },
  {
   "cell_type": "markdown",
   "metadata": {},
   "source": [
    "Plotly is a library that allows you to create interactive plots that you can use in dashboards or websites (you can save them as html files or static images).\n",
    "\n",
    "## Installation\n",
    "\n",
    "In order for this all to work, you'll need to install plotly and cufflinks to call plots directly off of a pandas dataframe. These libraries are not currently available through **conda** but are available through **pip**. Install the libraries at your command line/terminal using:\n",
    "\n",
    "    pip install plotly\n",
    "    pip install cufflinks\n",
    "\n",
    "** NOTE: Make sure you only have one installation of Python on your computer when you do this, otherwise the installation may not work. **\n",
    "\n",
    "## Imports and Set-up"
   ]
  },
  {
   "cell_type": "code",
   "execution_count": 1,
   "metadata": {},
   "outputs": [],
   "source": [
    "import pandas as pd\n",
    "import numpy as np\n",
    "%matplotlib inline"
   ]
  },
  {
   "cell_type": "code",
   "execution_count": 2,
   "metadata": {},
   "outputs": [
    {
     "name": "stdout",
     "output_type": "stream",
     "text": [
      "4.14.3\n"
     ]
    }
   ],
   "source": [
    "from plotly import __version__\n",
    "from plotly.offline import download_plotlyjs, init_notebook_mode, plot, iplot\n",
    "\n",
    "print(__version__) # requires version >= 1.9.0"
   ]
  },
  {
   "cell_type": "code",
   "execution_count": 3,
   "metadata": {},
   "outputs": [],
   "source": [
    "import cufflinks as cf"
   ]
  },
  {
   "cell_type": "code",
   "execution_count": 4,
   "metadata": {},
   "outputs": [
    {
     "data": {
      "text/html": [
       "        <script type=\"text/javascript\">\n",
       "        window.PlotlyConfig = {MathJaxConfig: 'local'};\n",
       "        if (window.MathJax) {MathJax.Hub.Config({SVG: {font: \"STIX-Web\"}});}\n",
       "        if (typeof require !== 'undefined') {\n",
       "        require.undef(\"plotly\");\n",
       "        requirejs.config({\n",
       "            paths: {\n",
       "                'plotly': ['https://cdn.plot.ly/plotly-latest.min']\n",
       "            }\n",
       "        });\n",
       "        require(['plotly'], function(Plotly) {\n",
       "            window._Plotly = Plotly;\n",
       "        });\n",
       "        }\n",
       "        </script>\n",
       "        "
      ]
     },
     "metadata": {},
     "output_type": "display_data"
    }
   ],
   "source": [
    "# For Notebooks\n",
    "init_notebook_mode(connected=True)"
   ]
  },
  {
   "cell_type": "code",
   "execution_count": 5,
   "metadata": {},
   "outputs": [
    {
     "data": {
      "text/html": [
       "        <script type=\"text/javascript\">\n",
       "        window.PlotlyConfig = {MathJaxConfig: 'local'};\n",
       "        if (window.MathJax) {MathJax.Hub.Config({SVG: {font: \"STIX-Web\"}});}\n",
       "        if (typeof require !== 'undefined') {\n",
       "        require.undef(\"plotly\");\n",
       "        requirejs.config({\n",
       "            paths: {\n",
       "                'plotly': ['https://cdn.plot.ly/plotly-latest.min']\n",
       "            }\n",
       "        });\n",
       "        require(['plotly'], function(Plotly) {\n",
       "            window._Plotly = Plotly;\n",
       "        });\n",
       "        }\n",
       "        </script>\n",
       "        "
      ]
     },
     "metadata": {},
     "output_type": "display_data"
    }
   ],
   "source": [
    "# For offline use\n",
    "cf.go_offline()"
   ]
  },
  {
   "cell_type": "markdown",
   "metadata": {},
   "source": [
    "### Fake Data"
   ]
  },
  {
   "cell_type": "code",
   "execution_count": 6,
   "metadata": {},
   "outputs": [],
   "source": [
    "df = pd.DataFrame(np.random.randn(100,4),columns='A B C D'.split())"
   ]
  },
  {
   "cell_type": "code",
   "execution_count": 7,
   "metadata": {},
   "outputs": [
    {
     "data": {
      "text/html": [
       "<div>\n",
       "<style scoped>\n",
       "    .dataframe tbody tr th:only-of-type {\n",
       "        vertical-align: middle;\n",
       "    }\n",
       "\n",
       "    .dataframe tbody tr th {\n",
       "        vertical-align: top;\n",
       "    }\n",
       "\n",
       "    .dataframe thead th {\n",
       "        text-align: right;\n",
       "    }\n",
       "</style>\n",
       "<table border=\"1\" class=\"dataframe\">\n",
       "  <thead>\n",
       "    <tr style=\"text-align: right;\">\n",
       "      <th></th>\n",
       "      <th>A</th>\n",
       "      <th>B</th>\n",
       "      <th>C</th>\n",
       "      <th>D</th>\n",
       "    </tr>\n",
       "  </thead>\n",
       "  <tbody>\n",
       "    <tr>\n",
       "      <th>0</th>\n",
       "      <td>-2.527011</td>\n",
       "      <td>0.607734</td>\n",
       "      <td>-0.024923</td>\n",
       "      <td>-0.722764</td>\n",
       "    </tr>\n",
       "    <tr>\n",
       "      <th>1</th>\n",
       "      <td>1.668017</td>\n",
       "      <td>-0.473189</td>\n",
       "      <td>-0.785885</td>\n",
       "      <td>-0.030580</td>\n",
       "    </tr>\n",
       "    <tr>\n",
       "      <th>2</th>\n",
       "      <td>0.450016</td>\n",
       "      <td>-1.376801</td>\n",
       "      <td>-0.447229</td>\n",
       "      <td>-0.778625</td>\n",
       "    </tr>\n",
       "    <tr>\n",
       "      <th>3</th>\n",
       "      <td>-0.020456</td>\n",
       "      <td>-1.426831</td>\n",
       "      <td>-1.629830</td>\n",
       "      <td>-0.070023</td>\n",
       "    </tr>\n",
       "    <tr>\n",
       "      <th>4</th>\n",
       "      <td>-0.046968</td>\n",
       "      <td>0.128750</td>\n",
       "      <td>0.687600</td>\n",
       "      <td>-1.650314</td>\n",
       "    </tr>\n",
       "  </tbody>\n",
       "</table>\n",
       "</div>"
      ],
      "text/plain": [
       "          A         B         C         D\n",
       "0 -2.527011  0.607734 -0.024923 -0.722764\n",
       "1  1.668017 -0.473189 -0.785885 -0.030580\n",
       "2  0.450016 -1.376801 -0.447229 -0.778625\n",
       "3 -0.020456 -1.426831 -1.629830 -0.070023\n",
       "4 -0.046968  0.128750  0.687600 -1.650314"
      ]
     },
     "execution_count": 7,
     "metadata": {},
     "output_type": "execute_result"
    }
   ],
   "source": [
    "df.head()"
   ]
  },
  {
   "cell_type": "code",
   "execution_count": 8,
   "metadata": {},
   "outputs": [],
   "source": [
    "df2 = pd.DataFrame({'Category':['A','B','C'],'Values':[32,43,50]})"
   ]
  },
  {
   "cell_type": "code",
   "execution_count": 9,
   "metadata": {},
   "outputs": [
    {
     "data": {
      "text/html": [
       "<div>\n",
       "<style scoped>\n",
       "    .dataframe tbody tr th:only-of-type {\n",
       "        vertical-align: middle;\n",
       "    }\n",
       "\n",
       "    .dataframe tbody tr th {\n",
       "        vertical-align: top;\n",
       "    }\n",
       "\n",
       "    .dataframe thead th {\n",
       "        text-align: right;\n",
       "    }\n",
       "</style>\n",
       "<table border=\"1\" class=\"dataframe\">\n",
       "  <thead>\n",
       "    <tr style=\"text-align: right;\">\n",
       "      <th></th>\n",
       "      <th>Category</th>\n",
       "      <th>Values</th>\n",
       "    </tr>\n",
       "  </thead>\n",
       "  <tbody>\n",
       "    <tr>\n",
       "      <th>0</th>\n",
       "      <td>A</td>\n",
       "      <td>32</td>\n",
       "    </tr>\n",
       "    <tr>\n",
       "      <th>1</th>\n",
       "      <td>B</td>\n",
       "      <td>43</td>\n",
       "    </tr>\n",
       "    <tr>\n",
       "      <th>2</th>\n",
       "      <td>C</td>\n",
       "      <td>50</td>\n",
       "    </tr>\n",
       "  </tbody>\n",
       "</table>\n",
       "</div>"
      ],
      "text/plain": [
       "  Category  Values\n",
       "0        A      32\n",
       "1        B      43\n",
       "2        C      50"
      ]
     },
     "execution_count": 9,
     "metadata": {},
     "output_type": "execute_result"
    }
   ],
   "source": [
    "df2.head()"
   ]
  },
  {
   "cell_type": "markdown",
   "metadata": {},
   "source": [
    "## Using Cufflinks and iplot()\n",
    "\n",
    "* scatter\n",
    "* bar\n",
    "* box\n",
    "* spread\n",
    "* ratio\n",
    "* heatmap\n",
    "* surface\n",
    "* histogram\n",
    "* bubble"
   ]
  },
  {
   "cell_type": "markdown",
   "metadata": {},
   "source": [
    "## Scatter"
   ]
  },
  {
   "cell_type": "code",
   "execution_count": 10,
   "metadata": {},
   "outputs": [
    {
     "data": {
      "application/vnd.plotly.v1+json": {
       "config": {
        "linkText": "Export to plot.ly",
        "plotlyServerURL": "https://plot.ly",
        "showLink": true
       },
       "data": [
        {
         "line": {
          "color": "rgba(255, 153, 51, 1.0)",
          "dash": "solid",
          "shape": "linear",
          "width": 1.3
         },
         "marker": {
          "size": 10,
          "symbol": "circle"
         },
         "mode": "markers",
         "name": "B",
         "text": "",
         "type": "scatter",
         "x": [
          -2.5270110065280242,
          1.6680174651519772,
          0.45001559995548196,
          -0.02045562584354937,
          -0.04696767175551414,
          -0.43901181387379545,
          1.7070413018056958,
          0.08565188696795122,
          -0.3344293828596582,
          0.9500404409209297,
          -0.21019113833514888,
          0.3604224452923828,
          -1.11216805280219,
          -1.5604767575486982,
          0.28660620043355134,
          0.13083296630364566,
          0.6822576428639039,
          -0.4829122357799119,
          -1.0615796698603883,
          1.5279868368772598,
          0.7273176523923723,
          -0.01668581955173972,
          -0.14431916847878662,
          -0.6694863923053975,
          -2.3470302981384954,
          -1.1661753763114484,
          -0.027495754023257737,
          -1.1940607139239843,
          1.2022992752144077,
          -1.2637653296749367,
          2.193581276644731,
          1.5401952281442286,
          1.2435478976767964,
          1.1198451524009416,
          0.6659197389716871,
          0.9129273941343368,
          -1.6551091407193894,
          -0.2022455946334687,
          1.7466718899342617,
          -1.0705815568121162,
          -0.5031411081362345,
          1.4354268289538574,
          0.35012433605173376,
          2.276633138686141,
          -0.010746264868391347,
          -0.3368132777335987,
          -0.42996015575909946,
          -0.14383787852590885,
          -0.36458495384677464,
          0.886255773590493,
          1.2708758764720964,
          -0.17095937360923044,
          1.7962916184698736,
          0.7468575618528512,
          0.27557541233497135,
          -0.4293600119498419,
          0.39163991626736816,
          0.28128110983445603,
          -0.5827217868530749,
          -0.8122462897014714,
          -1.4807240533031878,
          -1.9499612762391623,
          -1.0592607140515602,
          -1.6477046188858,
          1.0012645286707358,
          0.862565704579482,
          0.039131466186083146,
          0.6622855462079307,
          0.5149700197353527,
          -0.6940121322135872,
          0.15324988368917486,
          -0.5476656394961759,
          -0.004292537672022745,
          0.7637978366095226,
          0.15075134016268965,
          -1.210306488771418,
          1.4986544939320934,
          0.9920524382552748,
          0.5463758713635003,
          1.5976786993787182,
          -0.47325106610739365,
          -0.059765588262616895,
          -0.35657783893539957,
          1.0761729057971934,
          0.3656428099020587,
          1.846283176033301,
          0.5930304044860237,
          0.29793987221014107,
          0.8924446468847728,
          -0.5099299114197214,
          0.917801363350686,
          -0.5476396165319876,
          0.08810377362737165,
          0.67716359658272,
          -1.2866001392254593,
          0.3505270777704328,
          -0.35502740703668406,
          0.3198277785003611,
          -1.2683305733699586,
          -0.8306454799809649
         ],
         "y": [
          0.6077342487016018,
          -0.4731893416109403,
          -1.3768007323560167,
          -1.426830575049864,
          0.12874988879814375,
          -0.947733813933697,
          0.5238344892217599,
          0.4840873187211147,
          -0.14012108582502,
          -1.8873437456128668,
          -0.14026679486783325,
          0.4586861028400738,
          -0.10395573252720713,
          0.06140834037940289,
          -0.3502091575413244,
          -2.0090925410123672,
          0.4364534526441894,
          2.1817271426605065,
          -0.6445403959738393,
          0.45419525315091375,
          -0.5176436627591724,
          0.5329488253779412,
          0.3411555558959055,
          0.1950287322958298,
          -1.892179875114976,
          -0.04305897101210228,
          1.026946935339796,
          1.4848231767312008,
          -0.6055364169071535,
          0.4237220678947114,
          0.5388665211938162,
          -0.6728594434723479,
          -1.1915342740995833,
          0.5941628508263933,
          -0.863275792769601,
          0.047691635733050526,
          -0.4305545961459695,
          -2.2342519811712185,
          -0.5520756194783913,
          2.397078675528769,
          0.4545527413537645,
          -1.016763728464053,
          -0.6026059735096668,
          0.5137861018262334,
          0.5881748149974206,
          1.188626116200059,
          -0.3169650249940472,
          0.6923341698729818,
          -2.097714086167859,
          -0.5526867895889804,
          0.2120071963811955,
          -0.6187381387292377,
          0.9596534764458649,
          0.032236559936918534,
          -1.8499788850248917,
          2.503462048187462,
          1.1279064832228873,
          -1.2725792355196437,
          1.121997168063789,
          -0.4687798848657744,
          1.5793951413013747,
          2.1816459185106987,
          0.46107945737165623,
          0.5236098062294923,
          -1.1596068392298857,
          0.24036944442115304,
          0.6304058035738712,
          -1.0185978020522959,
          -0.15179028153027518,
          -0.08919393697884163,
          0.7714753987146433,
          -0.5390364543872649,
          1.920551168018313,
          0.3063838030070926,
          -0.22397774797668304,
          -1.0448493502254013,
          -1.2544416899655373,
          0.4892953069810365,
          0.697919876015075,
          0.6485908307169317,
          0.40662451216039197,
          0.5765804446501441,
          -0.44768295089216714,
          -0.738650617470391,
          0.24395544214563125,
          -1.5275755299976472,
          -0.23712520374440696,
          -0.45122748413867386,
          0.5496027629689889,
          1.5441391625326482,
          0.9254372535361087,
          -0.5676555714360765,
          1.7135407953393513,
          2.7406862509354215,
          0.7133139060010656,
          -0.1828690990490576,
          0.24013813467922385,
          -1.2477864222587203,
          0.6116994227216244,
          0.9070783540161795
         ]
        }
       ],
       "layout": {
        "legend": {
         "bgcolor": "#F5F6F9",
         "font": {
          "color": "#4D5663"
         }
        },
        "paper_bgcolor": "#F5F6F9",
        "plot_bgcolor": "#F5F6F9",
        "template": {
         "data": {
          "bar": [
           {
            "error_x": {
             "color": "#2a3f5f"
            },
            "error_y": {
             "color": "#2a3f5f"
            },
            "marker": {
             "line": {
              "color": "#E5ECF6",
              "width": 0.5
             }
            },
            "type": "bar"
           }
          ],
          "barpolar": [
           {
            "marker": {
             "line": {
              "color": "#E5ECF6",
              "width": 0.5
             }
            },
            "type": "barpolar"
           }
          ],
          "carpet": [
           {
            "aaxis": {
             "endlinecolor": "#2a3f5f",
             "gridcolor": "white",
             "linecolor": "white",
             "minorgridcolor": "white",
             "startlinecolor": "#2a3f5f"
            },
            "baxis": {
             "endlinecolor": "#2a3f5f",
             "gridcolor": "white",
             "linecolor": "white",
             "minorgridcolor": "white",
             "startlinecolor": "#2a3f5f"
            },
            "type": "carpet"
           }
          ],
          "choropleth": [
           {
            "colorbar": {
             "outlinewidth": 0,
             "ticks": ""
            },
            "type": "choropleth"
           }
          ],
          "contour": [
           {
            "colorbar": {
             "outlinewidth": 0,
             "ticks": ""
            },
            "colorscale": [
             [
              0,
              "#0d0887"
             ],
             [
              0.1111111111111111,
              "#46039f"
             ],
             [
              0.2222222222222222,
              "#7201a8"
             ],
             [
              0.3333333333333333,
              "#9c179e"
             ],
             [
              0.4444444444444444,
              "#bd3786"
             ],
             [
              0.5555555555555556,
              "#d8576b"
             ],
             [
              0.6666666666666666,
              "#ed7953"
             ],
             [
              0.7777777777777778,
              "#fb9f3a"
             ],
             [
              0.8888888888888888,
              "#fdca26"
             ],
             [
              1,
              "#f0f921"
             ]
            ],
            "type": "contour"
           }
          ],
          "contourcarpet": [
           {
            "colorbar": {
             "outlinewidth": 0,
             "ticks": ""
            },
            "type": "contourcarpet"
           }
          ],
          "heatmap": [
           {
            "colorbar": {
             "outlinewidth": 0,
             "ticks": ""
            },
            "colorscale": [
             [
              0,
              "#0d0887"
             ],
             [
              0.1111111111111111,
              "#46039f"
             ],
             [
              0.2222222222222222,
              "#7201a8"
             ],
             [
              0.3333333333333333,
              "#9c179e"
             ],
             [
              0.4444444444444444,
              "#bd3786"
             ],
             [
              0.5555555555555556,
              "#d8576b"
             ],
             [
              0.6666666666666666,
              "#ed7953"
             ],
             [
              0.7777777777777778,
              "#fb9f3a"
             ],
             [
              0.8888888888888888,
              "#fdca26"
             ],
             [
              1,
              "#f0f921"
             ]
            ],
            "type": "heatmap"
           }
          ],
          "heatmapgl": [
           {
            "colorbar": {
             "outlinewidth": 0,
             "ticks": ""
            },
            "colorscale": [
             [
              0,
              "#0d0887"
             ],
             [
              0.1111111111111111,
              "#46039f"
             ],
             [
              0.2222222222222222,
              "#7201a8"
             ],
             [
              0.3333333333333333,
              "#9c179e"
             ],
             [
              0.4444444444444444,
              "#bd3786"
             ],
             [
              0.5555555555555556,
              "#d8576b"
             ],
             [
              0.6666666666666666,
              "#ed7953"
             ],
             [
              0.7777777777777778,
              "#fb9f3a"
             ],
             [
              0.8888888888888888,
              "#fdca26"
             ],
             [
              1,
              "#f0f921"
             ]
            ],
            "type": "heatmapgl"
           }
          ],
          "histogram": [
           {
            "marker": {
             "colorbar": {
              "outlinewidth": 0,
              "ticks": ""
             }
            },
            "type": "histogram"
           }
          ],
          "histogram2d": [
           {
            "colorbar": {
             "outlinewidth": 0,
             "ticks": ""
            },
            "colorscale": [
             [
              0,
              "#0d0887"
             ],
             [
              0.1111111111111111,
              "#46039f"
             ],
             [
              0.2222222222222222,
              "#7201a8"
             ],
             [
              0.3333333333333333,
              "#9c179e"
             ],
             [
              0.4444444444444444,
              "#bd3786"
             ],
             [
              0.5555555555555556,
              "#d8576b"
             ],
             [
              0.6666666666666666,
              "#ed7953"
             ],
             [
              0.7777777777777778,
              "#fb9f3a"
             ],
             [
              0.8888888888888888,
              "#fdca26"
             ],
             [
              1,
              "#f0f921"
             ]
            ],
            "type": "histogram2d"
           }
          ],
          "histogram2dcontour": [
           {
            "colorbar": {
             "outlinewidth": 0,
             "ticks": ""
            },
            "colorscale": [
             [
              0,
              "#0d0887"
             ],
             [
              0.1111111111111111,
              "#46039f"
             ],
             [
              0.2222222222222222,
              "#7201a8"
             ],
             [
              0.3333333333333333,
              "#9c179e"
             ],
             [
              0.4444444444444444,
              "#bd3786"
             ],
             [
              0.5555555555555556,
              "#d8576b"
             ],
             [
              0.6666666666666666,
              "#ed7953"
             ],
             [
              0.7777777777777778,
              "#fb9f3a"
             ],
             [
              0.8888888888888888,
              "#fdca26"
             ],
             [
              1,
              "#f0f921"
             ]
            ],
            "type": "histogram2dcontour"
           }
          ],
          "mesh3d": [
           {
            "colorbar": {
             "outlinewidth": 0,
             "ticks": ""
            },
            "type": "mesh3d"
           }
          ],
          "parcoords": [
           {
            "line": {
             "colorbar": {
              "outlinewidth": 0,
              "ticks": ""
             }
            },
            "type": "parcoords"
           }
          ],
          "pie": [
           {
            "automargin": true,
            "type": "pie"
           }
          ],
          "scatter": [
           {
            "marker": {
             "colorbar": {
              "outlinewidth": 0,
              "ticks": ""
             }
            },
            "type": "scatter"
           }
          ],
          "scatter3d": [
           {
            "line": {
             "colorbar": {
              "outlinewidth": 0,
              "ticks": ""
             }
            },
            "marker": {
             "colorbar": {
              "outlinewidth": 0,
              "ticks": ""
             }
            },
            "type": "scatter3d"
           }
          ],
          "scattercarpet": [
           {
            "marker": {
             "colorbar": {
              "outlinewidth": 0,
              "ticks": ""
             }
            },
            "type": "scattercarpet"
           }
          ],
          "scattergeo": [
           {
            "marker": {
             "colorbar": {
              "outlinewidth": 0,
              "ticks": ""
             }
            },
            "type": "scattergeo"
           }
          ],
          "scattergl": [
           {
            "marker": {
             "colorbar": {
              "outlinewidth": 0,
              "ticks": ""
             }
            },
            "type": "scattergl"
           }
          ],
          "scattermapbox": [
           {
            "marker": {
             "colorbar": {
              "outlinewidth": 0,
              "ticks": ""
             }
            },
            "type": "scattermapbox"
           }
          ],
          "scatterpolar": [
           {
            "marker": {
             "colorbar": {
              "outlinewidth": 0,
              "ticks": ""
             }
            },
            "type": "scatterpolar"
           }
          ],
          "scatterpolargl": [
           {
            "marker": {
             "colorbar": {
              "outlinewidth": 0,
              "ticks": ""
             }
            },
            "type": "scatterpolargl"
           }
          ],
          "scatterternary": [
           {
            "marker": {
             "colorbar": {
              "outlinewidth": 0,
              "ticks": ""
             }
            },
            "type": "scatterternary"
           }
          ],
          "surface": [
           {
            "colorbar": {
             "outlinewidth": 0,
             "ticks": ""
            },
            "colorscale": [
             [
              0,
              "#0d0887"
             ],
             [
              0.1111111111111111,
              "#46039f"
             ],
             [
              0.2222222222222222,
              "#7201a8"
             ],
             [
              0.3333333333333333,
              "#9c179e"
             ],
             [
              0.4444444444444444,
              "#bd3786"
             ],
             [
              0.5555555555555556,
              "#d8576b"
             ],
             [
              0.6666666666666666,
              "#ed7953"
             ],
             [
              0.7777777777777778,
              "#fb9f3a"
             ],
             [
              0.8888888888888888,
              "#fdca26"
             ],
             [
              1,
              "#f0f921"
             ]
            ],
            "type": "surface"
           }
          ],
          "table": [
           {
            "cells": {
             "fill": {
              "color": "#EBF0F8"
             },
             "line": {
              "color": "white"
             }
            },
            "header": {
             "fill": {
              "color": "#C8D4E3"
             },
             "line": {
              "color": "white"
             }
            },
            "type": "table"
           }
          ]
         },
         "layout": {
          "annotationdefaults": {
           "arrowcolor": "#2a3f5f",
           "arrowhead": 0,
           "arrowwidth": 1
          },
          "autotypenumbers": "strict",
          "coloraxis": {
           "colorbar": {
            "outlinewidth": 0,
            "ticks": ""
           }
          },
          "colorscale": {
           "diverging": [
            [
             0,
             "#8e0152"
            ],
            [
             0.1,
             "#c51b7d"
            ],
            [
             0.2,
             "#de77ae"
            ],
            [
             0.3,
             "#f1b6da"
            ],
            [
             0.4,
             "#fde0ef"
            ],
            [
             0.5,
             "#f7f7f7"
            ],
            [
             0.6,
             "#e6f5d0"
            ],
            [
             0.7,
             "#b8e186"
            ],
            [
             0.8,
             "#7fbc41"
            ],
            [
             0.9,
             "#4d9221"
            ],
            [
             1,
             "#276419"
            ]
           ],
           "sequential": [
            [
             0,
             "#0d0887"
            ],
            [
             0.1111111111111111,
             "#46039f"
            ],
            [
             0.2222222222222222,
             "#7201a8"
            ],
            [
             0.3333333333333333,
             "#9c179e"
            ],
            [
             0.4444444444444444,
             "#bd3786"
            ],
            [
             0.5555555555555556,
             "#d8576b"
            ],
            [
             0.6666666666666666,
             "#ed7953"
            ],
            [
             0.7777777777777778,
             "#fb9f3a"
            ],
            [
             0.8888888888888888,
             "#fdca26"
            ],
            [
             1,
             "#f0f921"
            ]
           ],
           "sequentialminus": [
            [
             0,
             "#0d0887"
            ],
            [
             0.1111111111111111,
             "#46039f"
            ],
            [
             0.2222222222222222,
             "#7201a8"
            ],
            [
             0.3333333333333333,
             "#9c179e"
            ],
            [
             0.4444444444444444,
             "#bd3786"
            ],
            [
             0.5555555555555556,
             "#d8576b"
            ],
            [
             0.6666666666666666,
             "#ed7953"
            ],
            [
             0.7777777777777778,
             "#fb9f3a"
            ],
            [
             0.8888888888888888,
             "#fdca26"
            ],
            [
             1,
             "#f0f921"
            ]
           ]
          },
          "colorway": [
           "#636efa",
           "#EF553B",
           "#00cc96",
           "#ab63fa",
           "#FFA15A",
           "#19d3f3",
           "#FF6692",
           "#B6E880",
           "#FF97FF",
           "#FECB52"
          ],
          "font": {
           "color": "#2a3f5f"
          },
          "geo": {
           "bgcolor": "white",
           "lakecolor": "white",
           "landcolor": "#E5ECF6",
           "showlakes": true,
           "showland": true,
           "subunitcolor": "white"
          },
          "hoverlabel": {
           "align": "left"
          },
          "hovermode": "closest",
          "mapbox": {
           "style": "light"
          },
          "paper_bgcolor": "white",
          "plot_bgcolor": "#E5ECF6",
          "polar": {
           "angularaxis": {
            "gridcolor": "white",
            "linecolor": "white",
            "ticks": ""
           },
           "bgcolor": "#E5ECF6",
           "radialaxis": {
            "gridcolor": "white",
            "linecolor": "white",
            "ticks": ""
           }
          },
          "scene": {
           "xaxis": {
            "backgroundcolor": "#E5ECF6",
            "gridcolor": "white",
            "gridwidth": 2,
            "linecolor": "white",
            "showbackground": true,
            "ticks": "",
            "zerolinecolor": "white"
           },
           "yaxis": {
            "backgroundcolor": "#E5ECF6",
            "gridcolor": "white",
            "gridwidth": 2,
            "linecolor": "white",
            "showbackground": true,
            "ticks": "",
            "zerolinecolor": "white"
           },
           "zaxis": {
            "backgroundcolor": "#E5ECF6",
            "gridcolor": "white",
            "gridwidth": 2,
            "linecolor": "white",
            "showbackground": true,
            "ticks": "",
            "zerolinecolor": "white"
           }
          },
          "shapedefaults": {
           "line": {
            "color": "#2a3f5f"
           }
          },
          "ternary": {
           "aaxis": {
            "gridcolor": "white",
            "linecolor": "white",
            "ticks": ""
           },
           "baxis": {
            "gridcolor": "white",
            "linecolor": "white",
            "ticks": ""
           },
           "bgcolor": "#E5ECF6",
           "caxis": {
            "gridcolor": "white",
            "linecolor": "white",
            "ticks": ""
           }
          },
          "title": {
           "x": 0.05
          },
          "xaxis": {
           "automargin": true,
           "gridcolor": "white",
           "linecolor": "white",
           "ticks": "",
           "title": {
            "standoff": 15
           },
           "zerolinecolor": "white",
           "zerolinewidth": 2
          },
          "yaxis": {
           "automargin": true,
           "gridcolor": "white",
           "linecolor": "white",
           "ticks": "",
           "title": {
            "standoff": 15
           },
           "zerolinecolor": "white",
           "zerolinewidth": 2
          }
         }
        },
        "title": {
         "font": {
          "color": "#4D5663"
         }
        },
        "xaxis": {
         "gridcolor": "#E1E5ED",
         "showgrid": true,
         "tickfont": {
          "color": "#4D5663"
         },
         "title": {
          "font": {
           "color": "#4D5663"
          },
          "text": ""
         },
         "zerolinecolor": "#E1E5ED"
        },
        "yaxis": {
         "gridcolor": "#E1E5ED",
         "showgrid": true,
         "tickfont": {
          "color": "#4D5663"
         },
         "title": {
          "font": {
           "color": "#4D5663"
          },
          "text": ""
         },
         "zerolinecolor": "#E1E5ED"
        }
       }
      },
      "text/html": [
       "<div>                            <div id=\"eeb7b36f-757a-4036-919a-b2223fc7d2e9\" class=\"plotly-graph-div\" style=\"height:525px; width:100%;\"></div>            <script type=\"text/javascript\">                require([\"plotly\"], function(Plotly) {                    window.PLOTLYENV=window.PLOTLYENV || {};\n",
       "                    window.PLOTLYENV.BASE_URL='https://plot.ly';                                    if (document.getElementById(\"eeb7b36f-757a-4036-919a-b2223fc7d2e9\")) {                    Plotly.newPlot(                        \"eeb7b36f-757a-4036-919a-b2223fc7d2e9\",                        [{\"line\": {\"color\": \"rgba(255, 153, 51, 1.0)\", \"dash\": \"solid\", \"shape\": \"linear\", \"width\": 1.3}, \"marker\": {\"size\": 10, \"symbol\": \"circle\"}, \"mode\": \"markers\", \"name\": \"B\", \"text\": \"\", \"type\": \"scatter\", \"x\": [-2.5270110065280242, 1.6680174651519772, 0.45001559995548196, -0.02045562584354937, -0.04696767175551414, -0.43901181387379545, 1.7070413018056958, 0.08565188696795122, -0.3344293828596582, 0.9500404409209297, -0.21019113833514888, 0.3604224452923828, -1.11216805280219, -1.5604767575486982, 0.28660620043355134, 0.13083296630364566, 0.6822576428639039, -0.4829122357799119, -1.0615796698603883, 1.5279868368772598, 0.7273176523923723, -0.01668581955173972, -0.14431916847878662, -0.6694863923053975, -2.3470302981384954, -1.1661753763114484, -0.027495754023257737, -1.1940607139239843, 1.2022992752144077, -1.2637653296749367, 2.193581276644731, 1.5401952281442286, 1.2435478976767964, 1.1198451524009416, 0.6659197389716871, 0.9129273941343368, -1.6551091407193894, -0.2022455946334687, 1.7466718899342617, -1.0705815568121162, -0.5031411081362345, 1.4354268289538574, 0.35012433605173376, 2.276633138686141, -0.010746264868391347, -0.3368132777335987, -0.42996015575909946, -0.14383787852590885, -0.36458495384677464, 0.886255773590493, 1.2708758764720964, -0.17095937360923044, 1.7962916184698736, 0.7468575618528512, 0.27557541233497135, -0.4293600119498419, 0.39163991626736816, 0.28128110983445603, -0.5827217868530749, -0.8122462897014714, -1.4807240533031878, -1.9499612762391623, -1.0592607140515602, -1.6477046188858, 1.0012645286707358, 0.862565704579482, 0.039131466186083146, 0.6622855462079307, 0.5149700197353527, -0.6940121322135872, 0.15324988368917486, -0.5476656394961759, -0.004292537672022745, 0.7637978366095226, 0.15075134016268965, -1.210306488771418, 1.4986544939320934, 0.9920524382552748, 0.5463758713635003, 1.5976786993787182, -0.47325106610739365, -0.059765588262616895, -0.35657783893539957, 1.0761729057971934, 0.3656428099020587, 1.846283176033301, 0.5930304044860237, 0.29793987221014107, 0.8924446468847728, -0.5099299114197214, 0.917801363350686, -0.5476396165319876, 0.08810377362737165, 0.67716359658272, -1.2866001392254593, 0.3505270777704328, -0.35502740703668406, 0.3198277785003611, -1.2683305733699586, -0.8306454799809649], \"y\": [0.6077342487016018, -0.4731893416109403, -1.3768007323560167, -1.426830575049864, 0.12874988879814375, -0.947733813933697, 0.5238344892217599, 0.4840873187211147, -0.14012108582502, -1.8873437456128668, -0.14026679486783325, 0.4586861028400738, -0.10395573252720713, 0.06140834037940289, -0.3502091575413244, -2.0090925410123672, 0.4364534526441894, 2.1817271426605065, -0.6445403959738393, 0.45419525315091375, -0.5176436627591724, 0.5329488253779412, 0.3411555558959055, 0.1950287322958298, -1.892179875114976, -0.04305897101210228, 1.026946935339796, 1.4848231767312008, -0.6055364169071535, 0.4237220678947114, 0.5388665211938162, -0.6728594434723479, -1.1915342740995833, 0.5941628508263933, -0.863275792769601, 0.047691635733050526, -0.4305545961459695, -2.2342519811712185, -0.5520756194783913, 2.397078675528769, 0.4545527413537645, -1.016763728464053, -0.6026059735096668, 0.5137861018262334, 0.5881748149974206, 1.188626116200059, -0.3169650249940472, 0.6923341698729818, -2.097714086167859, -0.5526867895889804, 0.2120071963811955, -0.6187381387292377, 0.9596534764458649, 0.032236559936918534, -1.8499788850248917, 2.503462048187462, 1.1279064832228873, -1.2725792355196437, 1.121997168063789, -0.4687798848657744, 1.5793951413013747, 2.1816459185106987, 0.46107945737165623, 0.5236098062294923, -1.1596068392298857, 0.24036944442115304, 0.6304058035738712, -1.0185978020522959, -0.15179028153027518, -0.08919393697884163, 0.7714753987146433, -0.5390364543872649, 1.920551168018313, 0.3063838030070926, -0.22397774797668304, -1.0448493502254013, -1.2544416899655373, 0.4892953069810365, 0.697919876015075, 0.6485908307169317, 0.40662451216039197, 0.5765804446501441, -0.44768295089216714, -0.738650617470391, 0.24395544214563125, -1.5275755299976472, -0.23712520374440696, -0.45122748413867386, 0.5496027629689889, 1.5441391625326482, 0.9254372535361087, -0.5676555714360765, 1.7135407953393513, 2.7406862509354215, 0.7133139060010656, -0.1828690990490576, 0.24013813467922385, -1.2477864222587203, 0.6116994227216244, 0.9070783540161795]}],                        {\"legend\": {\"bgcolor\": \"#F5F6F9\", \"font\": {\"color\": \"#4D5663\"}}, \"paper_bgcolor\": \"#F5F6F9\", \"plot_bgcolor\": \"#F5F6F9\", \"template\": {\"data\": {\"bar\": [{\"error_x\": {\"color\": \"#2a3f5f\"}, \"error_y\": {\"color\": \"#2a3f5f\"}, \"marker\": {\"line\": {\"color\": \"#E5ECF6\", \"width\": 0.5}}, \"type\": \"bar\"}], \"barpolar\": [{\"marker\": {\"line\": {\"color\": \"#E5ECF6\", \"width\": 0.5}}, \"type\": \"barpolar\"}], \"carpet\": [{\"aaxis\": {\"endlinecolor\": \"#2a3f5f\", \"gridcolor\": \"white\", \"linecolor\": \"white\", \"minorgridcolor\": \"white\", \"startlinecolor\": \"#2a3f5f\"}, \"baxis\": {\"endlinecolor\": \"#2a3f5f\", \"gridcolor\": \"white\", \"linecolor\": \"white\", \"minorgridcolor\": \"white\", \"startlinecolor\": \"#2a3f5f\"}, \"type\": \"carpet\"}], \"choropleth\": [{\"colorbar\": {\"outlinewidth\": 0, \"ticks\": \"\"}, \"type\": \"choropleth\"}], \"contour\": [{\"colorbar\": {\"outlinewidth\": 0, \"ticks\": \"\"}, \"colorscale\": [[0.0, \"#0d0887\"], [0.1111111111111111, \"#46039f\"], [0.2222222222222222, \"#7201a8\"], [0.3333333333333333, \"#9c179e\"], [0.4444444444444444, \"#bd3786\"], [0.5555555555555556, \"#d8576b\"], [0.6666666666666666, \"#ed7953\"], [0.7777777777777778, \"#fb9f3a\"], [0.8888888888888888, \"#fdca26\"], [1.0, \"#f0f921\"]], \"type\": \"contour\"}], \"contourcarpet\": [{\"colorbar\": {\"outlinewidth\": 0, \"ticks\": \"\"}, \"type\": \"contourcarpet\"}], \"heatmap\": [{\"colorbar\": {\"outlinewidth\": 0, \"ticks\": \"\"}, \"colorscale\": [[0.0, \"#0d0887\"], [0.1111111111111111, \"#46039f\"], [0.2222222222222222, \"#7201a8\"], [0.3333333333333333, \"#9c179e\"], [0.4444444444444444, \"#bd3786\"], [0.5555555555555556, \"#d8576b\"], [0.6666666666666666, \"#ed7953\"], [0.7777777777777778, \"#fb9f3a\"], [0.8888888888888888, \"#fdca26\"], [1.0, \"#f0f921\"]], \"type\": \"heatmap\"}], \"heatmapgl\": [{\"colorbar\": {\"outlinewidth\": 0, \"ticks\": \"\"}, \"colorscale\": [[0.0, \"#0d0887\"], [0.1111111111111111, \"#46039f\"], [0.2222222222222222, \"#7201a8\"], [0.3333333333333333, \"#9c179e\"], [0.4444444444444444, \"#bd3786\"], [0.5555555555555556, \"#d8576b\"], [0.6666666666666666, \"#ed7953\"], [0.7777777777777778, \"#fb9f3a\"], [0.8888888888888888, \"#fdca26\"], [1.0, \"#f0f921\"]], \"type\": \"heatmapgl\"}], \"histogram\": [{\"marker\": {\"colorbar\": {\"outlinewidth\": 0, \"ticks\": \"\"}}, \"type\": \"histogram\"}], \"histogram2d\": [{\"colorbar\": {\"outlinewidth\": 0, \"ticks\": \"\"}, \"colorscale\": [[0.0, \"#0d0887\"], [0.1111111111111111, \"#46039f\"], [0.2222222222222222, \"#7201a8\"], [0.3333333333333333, \"#9c179e\"], [0.4444444444444444, \"#bd3786\"], [0.5555555555555556, \"#d8576b\"], [0.6666666666666666, \"#ed7953\"], [0.7777777777777778, \"#fb9f3a\"], [0.8888888888888888, \"#fdca26\"], [1.0, \"#f0f921\"]], \"type\": \"histogram2d\"}], \"histogram2dcontour\": [{\"colorbar\": {\"outlinewidth\": 0, \"ticks\": \"\"}, \"colorscale\": [[0.0, \"#0d0887\"], [0.1111111111111111, \"#46039f\"], [0.2222222222222222, \"#7201a8\"], [0.3333333333333333, \"#9c179e\"], [0.4444444444444444, \"#bd3786\"], [0.5555555555555556, \"#d8576b\"], [0.6666666666666666, \"#ed7953\"], [0.7777777777777778, \"#fb9f3a\"], [0.8888888888888888, \"#fdca26\"], [1.0, \"#f0f921\"]], \"type\": \"histogram2dcontour\"}], \"mesh3d\": [{\"colorbar\": {\"outlinewidth\": 0, \"ticks\": \"\"}, \"type\": \"mesh3d\"}], \"parcoords\": [{\"line\": {\"colorbar\": {\"outlinewidth\": 0, \"ticks\": \"\"}}, \"type\": \"parcoords\"}], \"pie\": [{\"automargin\": true, \"type\": \"pie\"}], \"scatter\": [{\"marker\": {\"colorbar\": {\"outlinewidth\": 0, \"ticks\": \"\"}}, \"type\": \"scatter\"}], \"scatter3d\": [{\"line\": {\"colorbar\": {\"outlinewidth\": 0, \"ticks\": \"\"}}, \"marker\": {\"colorbar\": {\"outlinewidth\": 0, \"ticks\": \"\"}}, \"type\": \"scatter3d\"}], \"scattercarpet\": [{\"marker\": {\"colorbar\": {\"outlinewidth\": 0, \"ticks\": \"\"}}, \"type\": \"scattercarpet\"}], \"scattergeo\": [{\"marker\": {\"colorbar\": {\"outlinewidth\": 0, \"ticks\": \"\"}}, \"type\": \"scattergeo\"}], \"scattergl\": [{\"marker\": {\"colorbar\": {\"outlinewidth\": 0, \"ticks\": \"\"}}, \"type\": \"scattergl\"}], \"scattermapbox\": [{\"marker\": {\"colorbar\": {\"outlinewidth\": 0, \"ticks\": \"\"}}, \"type\": \"scattermapbox\"}], \"scatterpolar\": [{\"marker\": {\"colorbar\": {\"outlinewidth\": 0, \"ticks\": \"\"}}, \"type\": \"scatterpolar\"}], \"scatterpolargl\": [{\"marker\": {\"colorbar\": {\"outlinewidth\": 0, \"ticks\": \"\"}}, \"type\": \"scatterpolargl\"}], \"scatterternary\": [{\"marker\": {\"colorbar\": {\"outlinewidth\": 0, \"ticks\": \"\"}}, \"type\": \"scatterternary\"}], \"surface\": [{\"colorbar\": {\"outlinewidth\": 0, \"ticks\": \"\"}, \"colorscale\": [[0.0, \"#0d0887\"], [0.1111111111111111, \"#46039f\"], [0.2222222222222222, \"#7201a8\"], [0.3333333333333333, \"#9c179e\"], [0.4444444444444444, \"#bd3786\"], [0.5555555555555556, \"#d8576b\"], [0.6666666666666666, \"#ed7953\"], [0.7777777777777778, \"#fb9f3a\"], [0.8888888888888888, \"#fdca26\"], [1.0, \"#f0f921\"]], \"type\": \"surface\"}], \"table\": [{\"cells\": {\"fill\": {\"color\": \"#EBF0F8\"}, \"line\": {\"color\": \"white\"}}, \"header\": {\"fill\": {\"color\": \"#C8D4E3\"}, \"line\": {\"color\": \"white\"}}, \"type\": \"table\"}]}, \"layout\": {\"annotationdefaults\": {\"arrowcolor\": \"#2a3f5f\", \"arrowhead\": 0, \"arrowwidth\": 1}, \"autotypenumbers\": \"strict\", \"coloraxis\": {\"colorbar\": {\"outlinewidth\": 0, \"ticks\": \"\"}}, \"colorscale\": {\"diverging\": [[0, \"#8e0152\"], [0.1, \"#c51b7d\"], [0.2, \"#de77ae\"], [0.3, \"#f1b6da\"], [0.4, \"#fde0ef\"], [0.5, \"#f7f7f7\"], [0.6, \"#e6f5d0\"], [0.7, \"#b8e186\"], [0.8, \"#7fbc41\"], [0.9, \"#4d9221\"], [1, \"#276419\"]], \"sequential\": [[0.0, \"#0d0887\"], [0.1111111111111111, \"#46039f\"], [0.2222222222222222, \"#7201a8\"], [0.3333333333333333, \"#9c179e\"], [0.4444444444444444, \"#bd3786\"], [0.5555555555555556, \"#d8576b\"], [0.6666666666666666, \"#ed7953\"], [0.7777777777777778, \"#fb9f3a\"], [0.8888888888888888, \"#fdca26\"], [1.0, \"#f0f921\"]], \"sequentialminus\": [[0.0, \"#0d0887\"], [0.1111111111111111, \"#46039f\"], [0.2222222222222222, \"#7201a8\"], [0.3333333333333333, \"#9c179e\"], [0.4444444444444444, \"#bd3786\"], [0.5555555555555556, \"#d8576b\"], [0.6666666666666666, \"#ed7953\"], [0.7777777777777778, \"#fb9f3a\"], [0.8888888888888888, \"#fdca26\"], [1.0, \"#f0f921\"]]}, \"colorway\": [\"#636efa\", \"#EF553B\", \"#00cc96\", \"#ab63fa\", \"#FFA15A\", \"#19d3f3\", \"#FF6692\", \"#B6E880\", \"#FF97FF\", \"#FECB52\"], \"font\": {\"color\": \"#2a3f5f\"}, \"geo\": {\"bgcolor\": \"white\", \"lakecolor\": \"white\", \"landcolor\": \"#E5ECF6\", \"showlakes\": true, \"showland\": true, \"subunitcolor\": \"white\"}, \"hoverlabel\": {\"align\": \"left\"}, \"hovermode\": \"closest\", \"mapbox\": {\"style\": \"light\"}, \"paper_bgcolor\": \"white\", \"plot_bgcolor\": \"#E5ECF6\", \"polar\": {\"angularaxis\": {\"gridcolor\": \"white\", \"linecolor\": \"white\", \"ticks\": \"\"}, \"bgcolor\": \"#E5ECF6\", \"radialaxis\": {\"gridcolor\": \"white\", \"linecolor\": \"white\", \"ticks\": \"\"}}, \"scene\": {\"xaxis\": {\"backgroundcolor\": \"#E5ECF6\", \"gridcolor\": \"white\", \"gridwidth\": 2, \"linecolor\": \"white\", \"showbackground\": true, \"ticks\": \"\", \"zerolinecolor\": \"white\"}, \"yaxis\": {\"backgroundcolor\": \"#E5ECF6\", \"gridcolor\": \"white\", \"gridwidth\": 2, \"linecolor\": \"white\", \"showbackground\": true, \"ticks\": \"\", \"zerolinecolor\": \"white\"}, \"zaxis\": {\"backgroundcolor\": \"#E5ECF6\", \"gridcolor\": \"white\", \"gridwidth\": 2, \"linecolor\": \"white\", \"showbackground\": true, \"ticks\": \"\", \"zerolinecolor\": \"white\"}}, \"shapedefaults\": {\"line\": {\"color\": \"#2a3f5f\"}}, \"ternary\": {\"aaxis\": {\"gridcolor\": \"white\", \"linecolor\": \"white\", \"ticks\": \"\"}, \"baxis\": {\"gridcolor\": \"white\", \"linecolor\": \"white\", \"ticks\": \"\"}, \"bgcolor\": \"#E5ECF6\", \"caxis\": {\"gridcolor\": \"white\", \"linecolor\": \"white\", \"ticks\": \"\"}}, \"title\": {\"x\": 0.05}, \"xaxis\": {\"automargin\": true, \"gridcolor\": \"white\", \"linecolor\": \"white\", \"ticks\": \"\", \"title\": {\"standoff\": 15}, \"zerolinecolor\": \"white\", \"zerolinewidth\": 2}, \"yaxis\": {\"automargin\": true, \"gridcolor\": \"white\", \"linecolor\": \"white\", \"ticks\": \"\", \"title\": {\"standoff\": 15}, \"zerolinecolor\": \"white\", \"zerolinewidth\": 2}}}, \"title\": {\"font\": {\"color\": \"#4D5663\"}}, \"xaxis\": {\"gridcolor\": \"#E1E5ED\", \"showgrid\": true, \"tickfont\": {\"color\": \"#4D5663\"}, \"title\": {\"font\": {\"color\": \"#4D5663\"}, \"text\": \"\"}, \"zerolinecolor\": \"#E1E5ED\"}, \"yaxis\": {\"gridcolor\": \"#E1E5ED\", \"showgrid\": true, \"tickfont\": {\"color\": \"#4D5663\"}, \"title\": {\"font\": {\"color\": \"#4D5663\"}, \"text\": \"\"}, \"zerolinecolor\": \"#E1E5ED\"}},                        {\"showLink\": true, \"linkText\": \"Export to plot.ly\", \"plotlyServerURL\": \"https://plot.ly\", \"responsive\": true}                    ).then(function(){\n",
       "                            \n",
       "var gd = document.getElementById('eeb7b36f-757a-4036-919a-b2223fc7d2e9');\n",
       "var x = new MutationObserver(function (mutations, observer) {{\n",
       "        var display = window.getComputedStyle(gd).display;\n",
       "        if (!display || display === 'none') {{\n",
       "            console.log([gd, 'removed!']);\n",
       "            Plotly.purge(gd);\n",
       "            observer.disconnect();\n",
       "        }}\n",
       "}});\n",
       "\n",
       "// Listen for the removal of the full notebook cells\n",
       "var notebookContainer = gd.closest('#notebook-container');\n",
       "if (notebookContainer) {{\n",
       "    x.observe(notebookContainer, {childList: true});\n",
       "}}\n",
       "\n",
       "// Listen for the clearing of the current output cell\n",
       "var outputEl = gd.closest('.output');\n",
       "if (outputEl) {{\n",
       "    x.observe(outputEl, {childList: true});\n",
       "}}\n",
       "\n",
       "                        })                };                });            </script>        </div>"
      ]
     },
     "metadata": {},
     "output_type": "display_data"
    }
   ],
   "source": [
    "df.iplot(kind='scatter',x='A',y='B',mode='markers',size=10)"
   ]
  },
  {
   "cell_type": "markdown",
   "metadata": {},
   "source": [
    "## Bar Plots"
   ]
  },
  {
   "cell_type": "code",
   "execution_count": 11,
   "metadata": {},
   "outputs": [
    {
     "data": {
      "application/vnd.plotly.v1+json": {
       "config": {
        "linkText": "Export to plot.ly",
        "plotlyServerURL": "https://plot.ly",
        "showLink": true
       },
       "data": [
        {
         "marker": {
          "color": "rgba(255, 153, 51, 0.6)",
          "line": {
           "color": "rgba(255, 153, 51, 1.0)",
           "width": 1
          }
         },
         "name": "Values",
         "orientation": "v",
         "text": "",
         "type": "bar",
         "x": [
          "A",
          "B",
          "C"
         ],
         "y": [
          32,
          43,
          50
         ]
        }
       ],
       "layout": {
        "legend": {
         "bgcolor": "#F5F6F9",
         "font": {
          "color": "#4D5663"
         }
        },
        "paper_bgcolor": "#F5F6F9",
        "plot_bgcolor": "#F5F6F9",
        "template": {
         "data": {
          "bar": [
           {
            "error_x": {
             "color": "#2a3f5f"
            },
            "error_y": {
             "color": "#2a3f5f"
            },
            "marker": {
             "line": {
              "color": "#E5ECF6",
              "width": 0.5
             }
            },
            "type": "bar"
           }
          ],
          "barpolar": [
           {
            "marker": {
             "line": {
              "color": "#E5ECF6",
              "width": 0.5
             }
            },
            "type": "barpolar"
           }
          ],
          "carpet": [
           {
            "aaxis": {
             "endlinecolor": "#2a3f5f",
             "gridcolor": "white",
             "linecolor": "white",
             "minorgridcolor": "white",
             "startlinecolor": "#2a3f5f"
            },
            "baxis": {
             "endlinecolor": "#2a3f5f",
             "gridcolor": "white",
             "linecolor": "white",
             "minorgridcolor": "white",
             "startlinecolor": "#2a3f5f"
            },
            "type": "carpet"
           }
          ],
          "choropleth": [
           {
            "colorbar": {
             "outlinewidth": 0,
             "ticks": ""
            },
            "type": "choropleth"
           }
          ],
          "contour": [
           {
            "colorbar": {
             "outlinewidth": 0,
             "ticks": ""
            },
            "colorscale": [
             [
              0,
              "#0d0887"
             ],
             [
              0.1111111111111111,
              "#46039f"
             ],
             [
              0.2222222222222222,
              "#7201a8"
             ],
             [
              0.3333333333333333,
              "#9c179e"
             ],
             [
              0.4444444444444444,
              "#bd3786"
             ],
             [
              0.5555555555555556,
              "#d8576b"
             ],
             [
              0.6666666666666666,
              "#ed7953"
             ],
             [
              0.7777777777777778,
              "#fb9f3a"
             ],
             [
              0.8888888888888888,
              "#fdca26"
             ],
             [
              1,
              "#f0f921"
             ]
            ],
            "type": "contour"
           }
          ],
          "contourcarpet": [
           {
            "colorbar": {
             "outlinewidth": 0,
             "ticks": ""
            },
            "type": "contourcarpet"
           }
          ],
          "heatmap": [
           {
            "colorbar": {
             "outlinewidth": 0,
             "ticks": ""
            },
            "colorscale": [
             [
              0,
              "#0d0887"
             ],
             [
              0.1111111111111111,
              "#46039f"
             ],
             [
              0.2222222222222222,
              "#7201a8"
             ],
             [
              0.3333333333333333,
              "#9c179e"
             ],
             [
              0.4444444444444444,
              "#bd3786"
             ],
             [
              0.5555555555555556,
              "#d8576b"
             ],
             [
              0.6666666666666666,
              "#ed7953"
             ],
             [
              0.7777777777777778,
              "#fb9f3a"
             ],
             [
              0.8888888888888888,
              "#fdca26"
             ],
             [
              1,
              "#f0f921"
             ]
            ],
            "type": "heatmap"
           }
          ],
          "heatmapgl": [
           {
            "colorbar": {
             "outlinewidth": 0,
             "ticks": ""
            },
            "colorscale": [
             [
              0,
              "#0d0887"
             ],
             [
              0.1111111111111111,
              "#46039f"
             ],
             [
              0.2222222222222222,
              "#7201a8"
             ],
             [
              0.3333333333333333,
              "#9c179e"
             ],
             [
              0.4444444444444444,
              "#bd3786"
             ],
             [
              0.5555555555555556,
              "#d8576b"
             ],
             [
              0.6666666666666666,
              "#ed7953"
             ],
             [
              0.7777777777777778,
              "#fb9f3a"
             ],
             [
              0.8888888888888888,
              "#fdca26"
             ],
             [
              1,
              "#f0f921"
             ]
            ],
            "type": "heatmapgl"
           }
          ],
          "histogram": [
           {
            "marker": {
             "colorbar": {
              "outlinewidth": 0,
              "ticks": ""
             }
            },
            "type": "histogram"
           }
          ],
          "histogram2d": [
           {
            "colorbar": {
             "outlinewidth": 0,
             "ticks": ""
            },
            "colorscale": [
             [
              0,
              "#0d0887"
             ],
             [
              0.1111111111111111,
              "#46039f"
             ],
             [
              0.2222222222222222,
              "#7201a8"
             ],
             [
              0.3333333333333333,
              "#9c179e"
             ],
             [
              0.4444444444444444,
              "#bd3786"
             ],
             [
              0.5555555555555556,
              "#d8576b"
             ],
             [
              0.6666666666666666,
              "#ed7953"
             ],
             [
              0.7777777777777778,
              "#fb9f3a"
             ],
             [
              0.8888888888888888,
              "#fdca26"
             ],
             [
              1,
              "#f0f921"
             ]
            ],
            "type": "histogram2d"
           }
          ],
          "histogram2dcontour": [
           {
            "colorbar": {
             "outlinewidth": 0,
             "ticks": ""
            },
            "colorscale": [
             [
              0,
              "#0d0887"
             ],
             [
              0.1111111111111111,
              "#46039f"
             ],
             [
              0.2222222222222222,
              "#7201a8"
             ],
             [
              0.3333333333333333,
              "#9c179e"
             ],
             [
              0.4444444444444444,
              "#bd3786"
             ],
             [
              0.5555555555555556,
              "#d8576b"
             ],
             [
              0.6666666666666666,
              "#ed7953"
             ],
             [
              0.7777777777777778,
              "#fb9f3a"
             ],
             [
              0.8888888888888888,
              "#fdca26"
             ],
             [
              1,
              "#f0f921"
             ]
            ],
            "type": "histogram2dcontour"
           }
          ],
          "mesh3d": [
           {
            "colorbar": {
             "outlinewidth": 0,
             "ticks": ""
            },
            "type": "mesh3d"
           }
          ],
          "parcoords": [
           {
            "line": {
             "colorbar": {
              "outlinewidth": 0,
              "ticks": ""
             }
            },
            "type": "parcoords"
           }
          ],
          "pie": [
           {
            "automargin": true,
            "type": "pie"
           }
          ],
          "scatter": [
           {
            "marker": {
             "colorbar": {
              "outlinewidth": 0,
              "ticks": ""
             }
            },
            "type": "scatter"
           }
          ],
          "scatter3d": [
           {
            "line": {
             "colorbar": {
              "outlinewidth": 0,
              "ticks": ""
             }
            },
            "marker": {
             "colorbar": {
              "outlinewidth": 0,
              "ticks": ""
             }
            },
            "type": "scatter3d"
           }
          ],
          "scattercarpet": [
           {
            "marker": {
             "colorbar": {
              "outlinewidth": 0,
              "ticks": ""
             }
            },
            "type": "scattercarpet"
           }
          ],
          "scattergeo": [
           {
            "marker": {
             "colorbar": {
              "outlinewidth": 0,
              "ticks": ""
             }
            },
            "type": "scattergeo"
           }
          ],
          "scattergl": [
           {
            "marker": {
             "colorbar": {
              "outlinewidth": 0,
              "ticks": ""
             }
            },
            "type": "scattergl"
           }
          ],
          "scattermapbox": [
           {
            "marker": {
             "colorbar": {
              "outlinewidth": 0,
              "ticks": ""
             }
            },
            "type": "scattermapbox"
           }
          ],
          "scatterpolar": [
           {
            "marker": {
             "colorbar": {
              "outlinewidth": 0,
              "ticks": ""
             }
            },
            "type": "scatterpolar"
           }
          ],
          "scatterpolargl": [
           {
            "marker": {
             "colorbar": {
              "outlinewidth": 0,
              "ticks": ""
             }
            },
            "type": "scatterpolargl"
           }
          ],
          "scatterternary": [
           {
            "marker": {
             "colorbar": {
              "outlinewidth": 0,
              "ticks": ""
             }
            },
            "type": "scatterternary"
           }
          ],
          "surface": [
           {
            "colorbar": {
             "outlinewidth": 0,
             "ticks": ""
            },
            "colorscale": [
             [
              0,
              "#0d0887"
             ],
             [
              0.1111111111111111,
              "#46039f"
             ],
             [
              0.2222222222222222,
              "#7201a8"
             ],
             [
              0.3333333333333333,
              "#9c179e"
             ],
             [
              0.4444444444444444,
              "#bd3786"
             ],
             [
              0.5555555555555556,
              "#d8576b"
             ],
             [
              0.6666666666666666,
              "#ed7953"
             ],
             [
              0.7777777777777778,
              "#fb9f3a"
             ],
             [
              0.8888888888888888,
              "#fdca26"
             ],
             [
              1,
              "#f0f921"
             ]
            ],
            "type": "surface"
           }
          ],
          "table": [
           {
            "cells": {
             "fill": {
              "color": "#EBF0F8"
             },
             "line": {
              "color": "white"
             }
            },
            "header": {
             "fill": {
              "color": "#C8D4E3"
             },
             "line": {
              "color": "white"
             }
            },
            "type": "table"
           }
          ]
         },
         "layout": {
          "annotationdefaults": {
           "arrowcolor": "#2a3f5f",
           "arrowhead": 0,
           "arrowwidth": 1
          },
          "autotypenumbers": "strict",
          "coloraxis": {
           "colorbar": {
            "outlinewidth": 0,
            "ticks": ""
           }
          },
          "colorscale": {
           "diverging": [
            [
             0,
             "#8e0152"
            ],
            [
             0.1,
             "#c51b7d"
            ],
            [
             0.2,
             "#de77ae"
            ],
            [
             0.3,
             "#f1b6da"
            ],
            [
             0.4,
             "#fde0ef"
            ],
            [
             0.5,
             "#f7f7f7"
            ],
            [
             0.6,
             "#e6f5d0"
            ],
            [
             0.7,
             "#b8e186"
            ],
            [
             0.8,
             "#7fbc41"
            ],
            [
             0.9,
             "#4d9221"
            ],
            [
             1,
             "#276419"
            ]
           ],
           "sequential": [
            [
             0,
             "#0d0887"
            ],
            [
             0.1111111111111111,
             "#46039f"
            ],
            [
             0.2222222222222222,
             "#7201a8"
            ],
            [
             0.3333333333333333,
             "#9c179e"
            ],
            [
             0.4444444444444444,
             "#bd3786"
            ],
            [
             0.5555555555555556,
             "#d8576b"
            ],
            [
             0.6666666666666666,
             "#ed7953"
            ],
            [
             0.7777777777777778,
             "#fb9f3a"
            ],
            [
             0.8888888888888888,
             "#fdca26"
            ],
            [
             1,
             "#f0f921"
            ]
           ],
           "sequentialminus": [
            [
             0,
             "#0d0887"
            ],
            [
             0.1111111111111111,
             "#46039f"
            ],
            [
             0.2222222222222222,
             "#7201a8"
            ],
            [
             0.3333333333333333,
             "#9c179e"
            ],
            [
             0.4444444444444444,
             "#bd3786"
            ],
            [
             0.5555555555555556,
             "#d8576b"
            ],
            [
             0.6666666666666666,
             "#ed7953"
            ],
            [
             0.7777777777777778,
             "#fb9f3a"
            ],
            [
             0.8888888888888888,
             "#fdca26"
            ],
            [
             1,
             "#f0f921"
            ]
           ]
          },
          "colorway": [
           "#636efa",
           "#EF553B",
           "#00cc96",
           "#ab63fa",
           "#FFA15A",
           "#19d3f3",
           "#FF6692",
           "#B6E880",
           "#FF97FF",
           "#FECB52"
          ],
          "font": {
           "color": "#2a3f5f"
          },
          "geo": {
           "bgcolor": "white",
           "lakecolor": "white",
           "landcolor": "#E5ECF6",
           "showlakes": true,
           "showland": true,
           "subunitcolor": "white"
          },
          "hoverlabel": {
           "align": "left"
          },
          "hovermode": "closest",
          "mapbox": {
           "style": "light"
          },
          "paper_bgcolor": "white",
          "plot_bgcolor": "#E5ECF6",
          "polar": {
           "angularaxis": {
            "gridcolor": "white",
            "linecolor": "white",
            "ticks": ""
           },
           "bgcolor": "#E5ECF6",
           "radialaxis": {
            "gridcolor": "white",
            "linecolor": "white",
            "ticks": ""
           }
          },
          "scene": {
           "xaxis": {
            "backgroundcolor": "#E5ECF6",
            "gridcolor": "white",
            "gridwidth": 2,
            "linecolor": "white",
            "showbackground": true,
            "ticks": "",
            "zerolinecolor": "white"
           },
           "yaxis": {
            "backgroundcolor": "#E5ECF6",
            "gridcolor": "white",
            "gridwidth": 2,
            "linecolor": "white",
            "showbackground": true,
            "ticks": "",
            "zerolinecolor": "white"
           },
           "zaxis": {
            "backgroundcolor": "#E5ECF6",
            "gridcolor": "white",
            "gridwidth": 2,
            "linecolor": "white",
            "showbackground": true,
            "ticks": "",
            "zerolinecolor": "white"
           }
          },
          "shapedefaults": {
           "line": {
            "color": "#2a3f5f"
           }
          },
          "ternary": {
           "aaxis": {
            "gridcolor": "white",
            "linecolor": "white",
            "ticks": ""
           },
           "baxis": {
            "gridcolor": "white",
            "linecolor": "white",
            "ticks": ""
           },
           "bgcolor": "#E5ECF6",
           "caxis": {
            "gridcolor": "white",
            "linecolor": "white",
            "ticks": ""
           }
          },
          "title": {
           "x": 0.05
          },
          "xaxis": {
           "automargin": true,
           "gridcolor": "white",
           "linecolor": "white",
           "ticks": "",
           "title": {
            "standoff": 15
           },
           "zerolinecolor": "white",
           "zerolinewidth": 2
          },
          "yaxis": {
           "automargin": true,
           "gridcolor": "white",
           "linecolor": "white",
           "ticks": "",
           "title": {
            "standoff": 15
           },
           "zerolinecolor": "white",
           "zerolinewidth": 2
          }
         }
        },
        "title": {
         "font": {
          "color": "#4D5663"
         }
        },
        "xaxis": {
         "gridcolor": "#E1E5ED",
         "showgrid": true,
         "tickfont": {
          "color": "#4D5663"
         },
         "title": {
          "font": {
           "color": "#4D5663"
          },
          "text": ""
         },
         "zerolinecolor": "#E1E5ED"
        },
        "yaxis": {
         "gridcolor": "#E1E5ED",
         "showgrid": true,
         "tickfont": {
          "color": "#4D5663"
         },
         "title": {
          "font": {
           "color": "#4D5663"
          },
          "text": ""
         },
         "zerolinecolor": "#E1E5ED"
        }
       }
      },
      "text/html": [
       "<div>                            <div id=\"99b9770d-44a4-48df-bd24-05221041594f\" class=\"plotly-graph-div\" style=\"height:525px; width:100%;\"></div>            <script type=\"text/javascript\">                require([\"plotly\"], function(Plotly) {                    window.PLOTLYENV=window.PLOTLYENV || {};\n",
       "                    window.PLOTLYENV.BASE_URL='https://plot.ly';                                    if (document.getElementById(\"99b9770d-44a4-48df-bd24-05221041594f\")) {                    Plotly.newPlot(                        \"99b9770d-44a4-48df-bd24-05221041594f\",                        [{\"marker\": {\"color\": \"rgba(255, 153, 51, 0.6)\", \"line\": {\"color\": \"rgba(255, 153, 51, 1.0)\", \"width\": 1}}, \"name\": \"Values\", \"orientation\": \"v\", \"text\": \"\", \"type\": \"bar\", \"x\": [\"A\", \"B\", \"C\"], \"y\": [32, 43, 50]}],                        {\"legend\": {\"bgcolor\": \"#F5F6F9\", \"font\": {\"color\": \"#4D5663\"}}, \"paper_bgcolor\": \"#F5F6F9\", \"plot_bgcolor\": \"#F5F6F9\", \"template\": {\"data\": {\"bar\": [{\"error_x\": {\"color\": \"#2a3f5f\"}, \"error_y\": {\"color\": \"#2a3f5f\"}, \"marker\": {\"line\": {\"color\": \"#E5ECF6\", \"width\": 0.5}}, \"type\": \"bar\"}], \"barpolar\": [{\"marker\": {\"line\": {\"color\": \"#E5ECF6\", \"width\": 0.5}}, \"type\": \"barpolar\"}], \"carpet\": [{\"aaxis\": {\"endlinecolor\": \"#2a3f5f\", \"gridcolor\": \"white\", \"linecolor\": \"white\", \"minorgridcolor\": \"white\", \"startlinecolor\": \"#2a3f5f\"}, \"baxis\": {\"endlinecolor\": \"#2a3f5f\", \"gridcolor\": \"white\", \"linecolor\": \"white\", \"minorgridcolor\": \"white\", \"startlinecolor\": \"#2a3f5f\"}, \"type\": \"carpet\"}], \"choropleth\": [{\"colorbar\": {\"outlinewidth\": 0, \"ticks\": \"\"}, \"type\": \"choropleth\"}], \"contour\": [{\"colorbar\": {\"outlinewidth\": 0, \"ticks\": \"\"}, \"colorscale\": [[0.0, \"#0d0887\"], [0.1111111111111111, \"#46039f\"], [0.2222222222222222, \"#7201a8\"], [0.3333333333333333, \"#9c179e\"], [0.4444444444444444, \"#bd3786\"], [0.5555555555555556, \"#d8576b\"], [0.6666666666666666, \"#ed7953\"], [0.7777777777777778, \"#fb9f3a\"], [0.8888888888888888, \"#fdca26\"], [1.0, \"#f0f921\"]], \"type\": \"contour\"}], \"contourcarpet\": [{\"colorbar\": {\"outlinewidth\": 0, \"ticks\": \"\"}, \"type\": \"contourcarpet\"}], \"heatmap\": [{\"colorbar\": {\"outlinewidth\": 0, \"ticks\": \"\"}, \"colorscale\": [[0.0, \"#0d0887\"], [0.1111111111111111, \"#46039f\"], [0.2222222222222222, \"#7201a8\"], [0.3333333333333333, \"#9c179e\"], [0.4444444444444444, \"#bd3786\"], [0.5555555555555556, \"#d8576b\"], [0.6666666666666666, \"#ed7953\"], [0.7777777777777778, \"#fb9f3a\"], [0.8888888888888888, \"#fdca26\"], [1.0, \"#f0f921\"]], \"type\": \"heatmap\"}], \"heatmapgl\": [{\"colorbar\": {\"outlinewidth\": 0, \"ticks\": \"\"}, \"colorscale\": [[0.0, \"#0d0887\"], [0.1111111111111111, \"#46039f\"], [0.2222222222222222, \"#7201a8\"], [0.3333333333333333, \"#9c179e\"], [0.4444444444444444, \"#bd3786\"], [0.5555555555555556, \"#d8576b\"], [0.6666666666666666, \"#ed7953\"], [0.7777777777777778, \"#fb9f3a\"], [0.8888888888888888, \"#fdca26\"], [1.0, \"#f0f921\"]], \"type\": \"heatmapgl\"}], \"histogram\": [{\"marker\": {\"colorbar\": {\"outlinewidth\": 0, \"ticks\": \"\"}}, \"type\": \"histogram\"}], \"histogram2d\": [{\"colorbar\": {\"outlinewidth\": 0, \"ticks\": \"\"}, \"colorscale\": [[0.0, \"#0d0887\"], [0.1111111111111111, \"#46039f\"], [0.2222222222222222, \"#7201a8\"], [0.3333333333333333, \"#9c179e\"], [0.4444444444444444, \"#bd3786\"], [0.5555555555555556, \"#d8576b\"], [0.6666666666666666, \"#ed7953\"], [0.7777777777777778, \"#fb9f3a\"], [0.8888888888888888, \"#fdca26\"], [1.0, \"#f0f921\"]], \"type\": \"histogram2d\"}], \"histogram2dcontour\": [{\"colorbar\": {\"outlinewidth\": 0, \"ticks\": \"\"}, \"colorscale\": [[0.0, \"#0d0887\"], [0.1111111111111111, \"#46039f\"], [0.2222222222222222, \"#7201a8\"], [0.3333333333333333, \"#9c179e\"], [0.4444444444444444, \"#bd3786\"], [0.5555555555555556, \"#d8576b\"], [0.6666666666666666, \"#ed7953\"], [0.7777777777777778, \"#fb9f3a\"], [0.8888888888888888, \"#fdca26\"], [1.0, \"#f0f921\"]], \"type\": \"histogram2dcontour\"}], \"mesh3d\": [{\"colorbar\": {\"outlinewidth\": 0, \"ticks\": \"\"}, \"type\": \"mesh3d\"}], \"parcoords\": [{\"line\": {\"colorbar\": {\"outlinewidth\": 0, \"ticks\": \"\"}}, \"type\": \"parcoords\"}], \"pie\": [{\"automargin\": true, \"type\": \"pie\"}], \"scatter\": [{\"marker\": {\"colorbar\": {\"outlinewidth\": 0, \"ticks\": \"\"}}, \"type\": \"scatter\"}], \"scatter3d\": [{\"line\": {\"colorbar\": {\"outlinewidth\": 0, \"ticks\": \"\"}}, \"marker\": {\"colorbar\": {\"outlinewidth\": 0, \"ticks\": \"\"}}, \"type\": \"scatter3d\"}], \"scattercarpet\": [{\"marker\": {\"colorbar\": {\"outlinewidth\": 0, \"ticks\": \"\"}}, \"type\": \"scattercarpet\"}], \"scattergeo\": [{\"marker\": {\"colorbar\": {\"outlinewidth\": 0, \"ticks\": \"\"}}, \"type\": \"scattergeo\"}], \"scattergl\": [{\"marker\": {\"colorbar\": {\"outlinewidth\": 0, \"ticks\": \"\"}}, \"type\": \"scattergl\"}], \"scattermapbox\": [{\"marker\": {\"colorbar\": {\"outlinewidth\": 0, \"ticks\": \"\"}}, \"type\": \"scattermapbox\"}], \"scatterpolar\": [{\"marker\": {\"colorbar\": {\"outlinewidth\": 0, \"ticks\": \"\"}}, \"type\": \"scatterpolar\"}], \"scatterpolargl\": [{\"marker\": {\"colorbar\": {\"outlinewidth\": 0, \"ticks\": \"\"}}, \"type\": \"scatterpolargl\"}], \"scatterternary\": [{\"marker\": {\"colorbar\": {\"outlinewidth\": 0, \"ticks\": \"\"}}, \"type\": \"scatterternary\"}], \"surface\": [{\"colorbar\": {\"outlinewidth\": 0, \"ticks\": \"\"}, \"colorscale\": [[0.0, \"#0d0887\"], [0.1111111111111111, \"#46039f\"], [0.2222222222222222, \"#7201a8\"], [0.3333333333333333, \"#9c179e\"], [0.4444444444444444, \"#bd3786\"], [0.5555555555555556, \"#d8576b\"], [0.6666666666666666, \"#ed7953\"], [0.7777777777777778, \"#fb9f3a\"], [0.8888888888888888, \"#fdca26\"], [1.0, \"#f0f921\"]], \"type\": \"surface\"}], \"table\": [{\"cells\": {\"fill\": {\"color\": \"#EBF0F8\"}, \"line\": {\"color\": \"white\"}}, \"header\": {\"fill\": {\"color\": \"#C8D4E3\"}, \"line\": {\"color\": \"white\"}}, \"type\": \"table\"}]}, \"layout\": {\"annotationdefaults\": {\"arrowcolor\": \"#2a3f5f\", \"arrowhead\": 0, \"arrowwidth\": 1}, \"autotypenumbers\": \"strict\", \"coloraxis\": {\"colorbar\": {\"outlinewidth\": 0, \"ticks\": \"\"}}, \"colorscale\": {\"diverging\": [[0, \"#8e0152\"], [0.1, \"#c51b7d\"], [0.2, \"#de77ae\"], [0.3, \"#f1b6da\"], [0.4, \"#fde0ef\"], [0.5, \"#f7f7f7\"], [0.6, \"#e6f5d0\"], [0.7, \"#b8e186\"], [0.8, \"#7fbc41\"], [0.9, \"#4d9221\"], [1, \"#276419\"]], \"sequential\": [[0.0, \"#0d0887\"], [0.1111111111111111, \"#46039f\"], [0.2222222222222222, \"#7201a8\"], [0.3333333333333333, \"#9c179e\"], [0.4444444444444444, \"#bd3786\"], [0.5555555555555556, \"#d8576b\"], [0.6666666666666666, \"#ed7953\"], [0.7777777777777778, \"#fb9f3a\"], [0.8888888888888888, \"#fdca26\"], [1.0, \"#f0f921\"]], \"sequentialminus\": [[0.0, \"#0d0887\"], [0.1111111111111111, \"#46039f\"], [0.2222222222222222, \"#7201a8\"], [0.3333333333333333, \"#9c179e\"], [0.4444444444444444, \"#bd3786\"], [0.5555555555555556, \"#d8576b\"], [0.6666666666666666, \"#ed7953\"], [0.7777777777777778, \"#fb9f3a\"], [0.8888888888888888, \"#fdca26\"], [1.0, \"#f0f921\"]]}, \"colorway\": [\"#636efa\", \"#EF553B\", \"#00cc96\", \"#ab63fa\", \"#FFA15A\", \"#19d3f3\", \"#FF6692\", \"#B6E880\", \"#FF97FF\", \"#FECB52\"], \"font\": {\"color\": \"#2a3f5f\"}, \"geo\": {\"bgcolor\": \"white\", \"lakecolor\": \"white\", \"landcolor\": \"#E5ECF6\", \"showlakes\": true, \"showland\": true, \"subunitcolor\": \"white\"}, \"hoverlabel\": {\"align\": \"left\"}, \"hovermode\": \"closest\", \"mapbox\": {\"style\": \"light\"}, \"paper_bgcolor\": \"white\", \"plot_bgcolor\": \"#E5ECF6\", \"polar\": {\"angularaxis\": {\"gridcolor\": \"white\", \"linecolor\": \"white\", \"ticks\": \"\"}, \"bgcolor\": \"#E5ECF6\", \"radialaxis\": {\"gridcolor\": \"white\", \"linecolor\": \"white\", \"ticks\": \"\"}}, \"scene\": {\"xaxis\": {\"backgroundcolor\": \"#E5ECF6\", \"gridcolor\": \"white\", \"gridwidth\": 2, \"linecolor\": \"white\", \"showbackground\": true, \"ticks\": \"\", \"zerolinecolor\": \"white\"}, \"yaxis\": {\"backgroundcolor\": \"#E5ECF6\", \"gridcolor\": \"white\", \"gridwidth\": 2, \"linecolor\": \"white\", \"showbackground\": true, \"ticks\": \"\", \"zerolinecolor\": \"white\"}, \"zaxis\": {\"backgroundcolor\": \"#E5ECF6\", \"gridcolor\": \"white\", \"gridwidth\": 2, \"linecolor\": \"white\", \"showbackground\": true, \"ticks\": \"\", \"zerolinecolor\": \"white\"}}, \"shapedefaults\": {\"line\": {\"color\": \"#2a3f5f\"}}, \"ternary\": {\"aaxis\": {\"gridcolor\": \"white\", \"linecolor\": \"white\", \"ticks\": \"\"}, \"baxis\": {\"gridcolor\": \"white\", \"linecolor\": \"white\", \"ticks\": \"\"}, \"bgcolor\": \"#E5ECF6\", \"caxis\": {\"gridcolor\": \"white\", \"linecolor\": \"white\", \"ticks\": \"\"}}, \"title\": {\"x\": 0.05}, \"xaxis\": {\"automargin\": true, \"gridcolor\": \"white\", \"linecolor\": \"white\", \"ticks\": \"\", \"title\": {\"standoff\": 15}, \"zerolinecolor\": \"white\", \"zerolinewidth\": 2}, \"yaxis\": {\"automargin\": true, \"gridcolor\": \"white\", \"linecolor\": \"white\", \"ticks\": \"\", \"title\": {\"standoff\": 15}, \"zerolinecolor\": \"white\", \"zerolinewidth\": 2}}}, \"title\": {\"font\": {\"color\": \"#4D5663\"}}, \"xaxis\": {\"gridcolor\": \"#E1E5ED\", \"showgrid\": true, \"tickfont\": {\"color\": \"#4D5663\"}, \"title\": {\"font\": {\"color\": \"#4D5663\"}, \"text\": \"\"}, \"zerolinecolor\": \"#E1E5ED\"}, \"yaxis\": {\"gridcolor\": \"#E1E5ED\", \"showgrid\": true, \"tickfont\": {\"color\": \"#4D5663\"}, \"title\": {\"font\": {\"color\": \"#4D5663\"}, \"text\": \"\"}, \"zerolinecolor\": \"#E1E5ED\"}},                        {\"showLink\": true, \"linkText\": \"Export to plot.ly\", \"plotlyServerURL\": \"https://plot.ly\", \"responsive\": true}                    ).then(function(){\n",
       "                            \n",
       "var gd = document.getElementById('99b9770d-44a4-48df-bd24-05221041594f');\n",
       "var x = new MutationObserver(function (mutations, observer) {{\n",
       "        var display = window.getComputedStyle(gd).display;\n",
       "        if (!display || display === 'none') {{\n",
       "            console.log([gd, 'removed!']);\n",
       "            Plotly.purge(gd);\n",
       "            observer.disconnect();\n",
       "        }}\n",
       "}});\n",
       "\n",
       "// Listen for the removal of the full notebook cells\n",
       "var notebookContainer = gd.closest('#notebook-container');\n",
       "if (notebookContainer) {{\n",
       "    x.observe(notebookContainer, {childList: true});\n",
       "}}\n",
       "\n",
       "// Listen for the clearing of the current output cell\n",
       "var outputEl = gd.closest('.output');\n",
       "if (outputEl) {{\n",
       "    x.observe(outputEl, {childList: true});\n",
       "}}\n",
       "\n",
       "                        })                };                });            </script>        </div>"
      ]
     },
     "metadata": {},
     "output_type": "display_data"
    }
   ],
   "source": [
    "df2.iplot(kind='bar',x='Category',y='Values')"
   ]
  },
  {
   "cell_type": "code",
   "execution_count": 12,
   "metadata": {},
   "outputs": [
    {
     "data": {
      "application/vnd.plotly.v1+json": {
       "config": {
        "linkText": "Export to plot.ly",
        "plotlyServerURL": "https://plot.ly",
        "showLink": true
       },
       "data": [
        {
         "marker": {
          "color": "rgba(255, 153, 51, 0.6)",
          "line": {
           "color": "rgba(255, 153, 51, 1.0)",
           "width": 1
          }
         },
         "name": "None",
         "orientation": "v",
         "text": "",
         "type": "bar",
         "x": [
          "A",
          "B",
          "C",
          "D"
         ],
         "y": [
          100,
          100,
          100,
          100
         ]
        }
       ],
       "layout": {
        "legend": {
         "bgcolor": "#F5F6F9",
         "font": {
          "color": "#4D5663"
         }
        },
        "paper_bgcolor": "#F5F6F9",
        "plot_bgcolor": "#F5F6F9",
        "template": {
         "data": {
          "bar": [
           {
            "error_x": {
             "color": "#2a3f5f"
            },
            "error_y": {
             "color": "#2a3f5f"
            },
            "marker": {
             "line": {
              "color": "#E5ECF6",
              "width": 0.5
             }
            },
            "type": "bar"
           }
          ],
          "barpolar": [
           {
            "marker": {
             "line": {
              "color": "#E5ECF6",
              "width": 0.5
             }
            },
            "type": "barpolar"
           }
          ],
          "carpet": [
           {
            "aaxis": {
             "endlinecolor": "#2a3f5f",
             "gridcolor": "white",
             "linecolor": "white",
             "minorgridcolor": "white",
             "startlinecolor": "#2a3f5f"
            },
            "baxis": {
             "endlinecolor": "#2a3f5f",
             "gridcolor": "white",
             "linecolor": "white",
             "minorgridcolor": "white",
             "startlinecolor": "#2a3f5f"
            },
            "type": "carpet"
           }
          ],
          "choropleth": [
           {
            "colorbar": {
             "outlinewidth": 0,
             "ticks": ""
            },
            "type": "choropleth"
           }
          ],
          "contour": [
           {
            "colorbar": {
             "outlinewidth": 0,
             "ticks": ""
            },
            "colorscale": [
             [
              0,
              "#0d0887"
             ],
             [
              0.1111111111111111,
              "#46039f"
             ],
             [
              0.2222222222222222,
              "#7201a8"
             ],
             [
              0.3333333333333333,
              "#9c179e"
             ],
             [
              0.4444444444444444,
              "#bd3786"
             ],
             [
              0.5555555555555556,
              "#d8576b"
             ],
             [
              0.6666666666666666,
              "#ed7953"
             ],
             [
              0.7777777777777778,
              "#fb9f3a"
             ],
             [
              0.8888888888888888,
              "#fdca26"
             ],
             [
              1,
              "#f0f921"
             ]
            ],
            "type": "contour"
           }
          ],
          "contourcarpet": [
           {
            "colorbar": {
             "outlinewidth": 0,
             "ticks": ""
            },
            "type": "contourcarpet"
           }
          ],
          "heatmap": [
           {
            "colorbar": {
             "outlinewidth": 0,
             "ticks": ""
            },
            "colorscale": [
             [
              0,
              "#0d0887"
             ],
             [
              0.1111111111111111,
              "#46039f"
             ],
             [
              0.2222222222222222,
              "#7201a8"
             ],
             [
              0.3333333333333333,
              "#9c179e"
             ],
             [
              0.4444444444444444,
              "#bd3786"
             ],
             [
              0.5555555555555556,
              "#d8576b"
             ],
             [
              0.6666666666666666,
              "#ed7953"
             ],
             [
              0.7777777777777778,
              "#fb9f3a"
             ],
             [
              0.8888888888888888,
              "#fdca26"
             ],
             [
              1,
              "#f0f921"
             ]
            ],
            "type": "heatmap"
           }
          ],
          "heatmapgl": [
           {
            "colorbar": {
             "outlinewidth": 0,
             "ticks": ""
            },
            "colorscale": [
             [
              0,
              "#0d0887"
             ],
             [
              0.1111111111111111,
              "#46039f"
             ],
             [
              0.2222222222222222,
              "#7201a8"
             ],
             [
              0.3333333333333333,
              "#9c179e"
             ],
             [
              0.4444444444444444,
              "#bd3786"
             ],
             [
              0.5555555555555556,
              "#d8576b"
             ],
             [
              0.6666666666666666,
              "#ed7953"
             ],
             [
              0.7777777777777778,
              "#fb9f3a"
             ],
             [
              0.8888888888888888,
              "#fdca26"
             ],
             [
              1,
              "#f0f921"
             ]
            ],
            "type": "heatmapgl"
           }
          ],
          "histogram": [
           {
            "marker": {
             "colorbar": {
              "outlinewidth": 0,
              "ticks": ""
             }
            },
            "type": "histogram"
           }
          ],
          "histogram2d": [
           {
            "colorbar": {
             "outlinewidth": 0,
             "ticks": ""
            },
            "colorscale": [
             [
              0,
              "#0d0887"
             ],
             [
              0.1111111111111111,
              "#46039f"
             ],
             [
              0.2222222222222222,
              "#7201a8"
             ],
             [
              0.3333333333333333,
              "#9c179e"
             ],
             [
              0.4444444444444444,
              "#bd3786"
             ],
             [
              0.5555555555555556,
              "#d8576b"
             ],
             [
              0.6666666666666666,
              "#ed7953"
             ],
             [
              0.7777777777777778,
              "#fb9f3a"
             ],
             [
              0.8888888888888888,
              "#fdca26"
             ],
             [
              1,
              "#f0f921"
             ]
            ],
            "type": "histogram2d"
           }
          ],
          "histogram2dcontour": [
           {
            "colorbar": {
             "outlinewidth": 0,
             "ticks": ""
            },
            "colorscale": [
             [
              0,
              "#0d0887"
             ],
             [
              0.1111111111111111,
              "#46039f"
             ],
             [
              0.2222222222222222,
              "#7201a8"
             ],
             [
              0.3333333333333333,
              "#9c179e"
             ],
             [
              0.4444444444444444,
              "#bd3786"
             ],
             [
              0.5555555555555556,
              "#d8576b"
             ],
             [
              0.6666666666666666,
              "#ed7953"
             ],
             [
              0.7777777777777778,
              "#fb9f3a"
             ],
             [
              0.8888888888888888,
              "#fdca26"
             ],
             [
              1,
              "#f0f921"
             ]
            ],
            "type": "histogram2dcontour"
           }
          ],
          "mesh3d": [
           {
            "colorbar": {
             "outlinewidth": 0,
             "ticks": ""
            },
            "type": "mesh3d"
           }
          ],
          "parcoords": [
           {
            "line": {
             "colorbar": {
              "outlinewidth": 0,
              "ticks": ""
             }
            },
            "type": "parcoords"
           }
          ],
          "pie": [
           {
            "automargin": true,
            "type": "pie"
           }
          ],
          "scatter": [
           {
            "marker": {
             "colorbar": {
              "outlinewidth": 0,
              "ticks": ""
             }
            },
            "type": "scatter"
           }
          ],
          "scatter3d": [
           {
            "line": {
             "colorbar": {
              "outlinewidth": 0,
              "ticks": ""
             }
            },
            "marker": {
             "colorbar": {
              "outlinewidth": 0,
              "ticks": ""
             }
            },
            "type": "scatter3d"
           }
          ],
          "scattercarpet": [
           {
            "marker": {
             "colorbar": {
              "outlinewidth": 0,
              "ticks": ""
             }
            },
            "type": "scattercarpet"
           }
          ],
          "scattergeo": [
           {
            "marker": {
             "colorbar": {
              "outlinewidth": 0,
              "ticks": ""
             }
            },
            "type": "scattergeo"
           }
          ],
          "scattergl": [
           {
            "marker": {
             "colorbar": {
              "outlinewidth": 0,
              "ticks": ""
             }
            },
            "type": "scattergl"
           }
          ],
          "scattermapbox": [
           {
            "marker": {
             "colorbar": {
              "outlinewidth": 0,
              "ticks": ""
             }
            },
            "type": "scattermapbox"
           }
          ],
          "scatterpolar": [
           {
            "marker": {
             "colorbar": {
              "outlinewidth": 0,
              "ticks": ""
             }
            },
            "type": "scatterpolar"
           }
          ],
          "scatterpolargl": [
           {
            "marker": {
             "colorbar": {
              "outlinewidth": 0,
              "ticks": ""
             }
            },
            "type": "scatterpolargl"
           }
          ],
          "scatterternary": [
           {
            "marker": {
             "colorbar": {
              "outlinewidth": 0,
              "ticks": ""
             }
            },
            "type": "scatterternary"
           }
          ],
          "surface": [
           {
            "colorbar": {
             "outlinewidth": 0,
             "ticks": ""
            },
            "colorscale": [
             [
              0,
              "#0d0887"
             ],
             [
              0.1111111111111111,
              "#46039f"
             ],
             [
              0.2222222222222222,
              "#7201a8"
             ],
             [
              0.3333333333333333,
              "#9c179e"
             ],
             [
              0.4444444444444444,
              "#bd3786"
             ],
             [
              0.5555555555555556,
              "#d8576b"
             ],
             [
              0.6666666666666666,
              "#ed7953"
             ],
             [
              0.7777777777777778,
              "#fb9f3a"
             ],
             [
              0.8888888888888888,
              "#fdca26"
             ],
             [
              1,
              "#f0f921"
             ]
            ],
            "type": "surface"
           }
          ],
          "table": [
           {
            "cells": {
             "fill": {
              "color": "#EBF0F8"
             },
             "line": {
              "color": "white"
             }
            },
            "header": {
             "fill": {
              "color": "#C8D4E3"
             },
             "line": {
              "color": "white"
             }
            },
            "type": "table"
           }
          ]
         },
         "layout": {
          "annotationdefaults": {
           "arrowcolor": "#2a3f5f",
           "arrowhead": 0,
           "arrowwidth": 1
          },
          "autotypenumbers": "strict",
          "coloraxis": {
           "colorbar": {
            "outlinewidth": 0,
            "ticks": ""
           }
          },
          "colorscale": {
           "diverging": [
            [
             0,
             "#8e0152"
            ],
            [
             0.1,
             "#c51b7d"
            ],
            [
             0.2,
             "#de77ae"
            ],
            [
             0.3,
             "#f1b6da"
            ],
            [
             0.4,
             "#fde0ef"
            ],
            [
             0.5,
             "#f7f7f7"
            ],
            [
             0.6,
             "#e6f5d0"
            ],
            [
             0.7,
             "#b8e186"
            ],
            [
             0.8,
             "#7fbc41"
            ],
            [
             0.9,
             "#4d9221"
            ],
            [
             1,
             "#276419"
            ]
           ],
           "sequential": [
            [
             0,
             "#0d0887"
            ],
            [
             0.1111111111111111,
             "#46039f"
            ],
            [
             0.2222222222222222,
             "#7201a8"
            ],
            [
             0.3333333333333333,
             "#9c179e"
            ],
            [
             0.4444444444444444,
             "#bd3786"
            ],
            [
             0.5555555555555556,
             "#d8576b"
            ],
            [
             0.6666666666666666,
             "#ed7953"
            ],
            [
             0.7777777777777778,
             "#fb9f3a"
            ],
            [
             0.8888888888888888,
             "#fdca26"
            ],
            [
             1,
             "#f0f921"
            ]
           ],
           "sequentialminus": [
            [
             0,
             "#0d0887"
            ],
            [
             0.1111111111111111,
             "#46039f"
            ],
            [
             0.2222222222222222,
             "#7201a8"
            ],
            [
             0.3333333333333333,
             "#9c179e"
            ],
            [
             0.4444444444444444,
             "#bd3786"
            ],
            [
             0.5555555555555556,
             "#d8576b"
            ],
            [
             0.6666666666666666,
             "#ed7953"
            ],
            [
             0.7777777777777778,
             "#fb9f3a"
            ],
            [
             0.8888888888888888,
             "#fdca26"
            ],
            [
             1,
             "#f0f921"
            ]
           ]
          },
          "colorway": [
           "#636efa",
           "#EF553B",
           "#00cc96",
           "#ab63fa",
           "#FFA15A",
           "#19d3f3",
           "#FF6692",
           "#B6E880",
           "#FF97FF",
           "#FECB52"
          ],
          "font": {
           "color": "#2a3f5f"
          },
          "geo": {
           "bgcolor": "white",
           "lakecolor": "white",
           "landcolor": "#E5ECF6",
           "showlakes": true,
           "showland": true,
           "subunitcolor": "white"
          },
          "hoverlabel": {
           "align": "left"
          },
          "hovermode": "closest",
          "mapbox": {
           "style": "light"
          },
          "paper_bgcolor": "white",
          "plot_bgcolor": "#E5ECF6",
          "polar": {
           "angularaxis": {
            "gridcolor": "white",
            "linecolor": "white",
            "ticks": ""
           },
           "bgcolor": "#E5ECF6",
           "radialaxis": {
            "gridcolor": "white",
            "linecolor": "white",
            "ticks": ""
           }
          },
          "scene": {
           "xaxis": {
            "backgroundcolor": "#E5ECF6",
            "gridcolor": "white",
            "gridwidth": 2,
            "linecolor": "white",
            "showbackground": true,
            "ticks": "",
            "zerolinecolor": "white"
           },
           "yaxis": {
            "backgroundcolor": "#E5ECF6",
            "gridcolor": "white",
            "gridwidth": 2,
            "linecolor": "white",
            "showbackground": true,
            "ticks": "",
            "zerolinecolor": "white"
           },
           "zaxis": {
            "backgroundcolor": "#E5ECF6",
            "gridcolor": "white",
            "gridwidth": 2,
            "linecolor": "white",
            "showbackground": true,
            "ticks": "",
            "zerolinecolor": "white"
           }
          },
          "shapedefaults": {
           "line": {
            "color": "#2a3f5f"
           }
          },
          "ternary": {
           "aaxis": {
            "gridcolor": "white",
            "linecolor": "white",
            "ticks": ""
           },
           "baxis": {
            "gridcolor": "white",
            "linecolor": "white",
            "ticks": ""
           },
           "bgcolor": "#E5ECF6",
           "caxis": {
            "gridcolor": "white",
            "linecolor": "white",
            "ticks": ""
           }
          },
          "title": {
           "x": 0.05
          },
          "xaxis": {
           "automargin": true,
           "gridcolor": "white",
           "linecolor": "white",
           "ticks": "",
           "title": {
            "standoff": 15
           },
           "zerolinecolor": "white",
           "zerolinewidth": 2
          },
          "yaxis": {
           "automargin": true,
           "gridcolor": "white",
           "linecolor": "white",
           "ticks": "",
           "title": {
            "standoff": 15
           },
           "zerolinecolor": "white",
           "zerolinewidth": 2
          }
         }
        },
        "title": {
         "font": {
          "color": "#4D5663"
         }
        },
        "xaxis": {
         "gridcolor": "#E1E5ED",
         "showgrid": true,
         "tickfont": {
          "color": "#4D5663"
         },
         "title": {
          "font": {
           "color": "#4D5663"
          },
          "text": ""
         },
         "zerolinecolor": "#E1E5ED"
        },
        "yaxis": {
         "gridcolor": "#E1E5ED",
         "showgrid": true,
         "tickfont": {
          "color": "#4D5663"
         },
         "title": {
          "font": {
           "color": "#4D5663"
          },
          "text": ""
         },
         "zerolinecolor": "#E1E5ED"
        }
       }
      },
      "text/html": [
       "<div>                            <div id=\"0a740bdf-6da1-49f3-9018-892e7ada4af8\" class=\"plotly-graph-div\" style=\"height:525px; width:100%;\"></div>            <script type=\"text/javascript\">                require([\"plotly\"], function(Plotly) {                    window.PLOTLYENV=window.PLOTLYENV || {};\n",
       "                    window.PLOTLYENV.BASE_URL='https://plot.ly';                                    if (document.getElementById(\"0a740bdf-6da1-49f3-9018-892e7ada4af8\")) {                    Plotly.newPlot(                        \"0a740bdf-6da1-49f3-9018-892e7ada4af8\",                        [{\"marker\": {\"color\": \"rgba(255, 153, 51, 0.6)\", \"line\": {\"color\": \"rgba(255, 153, 51, 1.0)\", \"width\": 1}}, \"name\": \"None\", \"orientation\": \"v\", \"text\": \"\", \"type\": \"bar\", \"x\": [\"A\", \"B\", \"C\", \"D\"], \"y\": [100, 100, 100, 100]}],                        {\"legend\": {\"bgcolor\": \"#F5F6F9\", \"font\": {\"color\": \"#4D5663\"}}, \"paper_bgcolor\": \"#F5F6F9\", \"plot_bgcolor\": \"#F5F6F9\", \"template\": {\"data\": {\"bar\": [{\"error_x\": {\"color\": \"#2a3f5f\"}, \"error_y\": {\"color\": \"#2a3f5f\"}, \"marker\": {\"line\": {\"color\": \"#E5ECF6\", \"width\": 0.5}}, \"type\": \"bar\"}], \"barpolar\": [{\"marker\": {\"line\": {\"color\": \"#E5ECF6\", \"width\": 0.5}}, \"type\": \"barpolar\"}], \"carpet\": [{\"aaxis\": {\"endlinecolor\": \"#2a3f5f\", \"gridcolor\": \"white\", \"linecolor\": \"white\", \"minorgridcolor\": \"white\", \"startlinecolor\": \"#2a3f5f\"}, \"baxis\": {\"endlinecolor\": \"#2a3f5f\", \"gridcolor\": \"white\", \"linecolor\": \"white\", \"minorgridcolor\": \"white\", \"startlinecolor\": \"#2a3f5f\"}, \"type\": \"carpet\"}], \"choropleth\": [{\"colorbar\": {\"outlinewidth\": 0, \"ticks\": \"\"}, \"type\": \"choropleth\"}], \"contour\": [{\"colorbar\": {\"outlinewidth\": 0, \"ticks\": \"\"}, \"colorscale\": [[0.0, \"#0d0887\"], [0.1111111111111111, \"#46039f\"], [0.2222222222222222, \"#7201a8\"], [0.3333333333333333, \"#9c179e\"], [0.4444444444444444, \"#bd3786\"], [0.5555555555555556, \"#d8576b\"], [0.6666666666666666, \"#ed7953\"], [0.7777777777777778, \"#fb9f3a\"], [0.8888888888888888, \"#fdca26\"], [1.0, \"#f0f921\"]], \"type\": \"contour\"}], \"contourcarpet\": [{\"colorbar\": {\"outlinewidth\": 0, \"ticks\": \"\"}, \"type\": \"contourcarpet\"}], \"heatmap\": [{\"colorbar\": {\"outlinewidth\": 0, \"ticks\": \"\"}, \"colorscale\": [[0.0, \"#0d0887\"], [0.1111111111111111, \"#46039f\"], [0.2222222222222222, \"#7201a8\"], [0.3333333333333333, \"#9c179e\"], [0.4444444444444444, \"#bd3786\"], [0.5555555555555556, \"#d8576b\"], [0.6666666666666666, \"#ed7953\"], [0.7777777777777778, \"#fb9f3a\"], [0.8888888888888888, \"#fdca26\"], [1.0, \"#f0f921\"]], \"type\": \"heatmap\"}], \"heatmapgl\": [{\"colorbar\": {\"outlinewidth\": 0, \"ticks\": \"\"}, \"colorscale\": [[0.0, \"#0d0887\"], [0.1111111111111111, \"#46039f\"], [0.2222222222222222, \"#7201a8\"], [0.3333333333333333, \"#9c179e\"], [0.4444444444444444, \"#bd3786\"], [0.5555555555555556, \"#d8576b\"], [0.6666666666666666, \"#ed7953\"], [0.7777777777777778, \"#fb9f3a\"], [0.8888888888888888, \"#fdca26\"], [1.0, \"#f0f921\"]], \"type\": \"heatmapgl\"}], \"histogram\": [{\"marker\": {\"colorbar\": {\"outlinewidth\": 0, \"ticks\": \"\"}}, \"type\": \"histogram\"}], \"histogram2d\": [{\"colorbar\": {\"outlinewidth\": 0, \"ticks\": \"\"}, \"colorscale\": [[0.0, \"#0d0887\"], [0.1111111111111111, \"#46039f\"], [0.2222222222222222, \"#7201a8\"], [0.3333333333333333, \"#9c179e\"], [0.4444444444444444, \"#bd3786\"], [0.5555555555555556, \"#d8576b\"], [0.6666666666666666, \"#ed7953\"], [0.7777777777777778, \"#fb9f3a\"], [0.8888888888888888, \"#fdca26\"], [1.0, \"#f0f921\"]], \"type\": \"histogram2d\"}], \"histogram2dcontour\": [{\"colorbar\": {\"outlinewidth\": 0, \"ticks\": \"\"}, \"colorscale\": [[0.0, \"#0d0887\"], [0.1111111111111111, \"#46039f\"], [0.2222222222222222, \"#7201a8\"], [0.3333333333333333, \"#9c179e\"], [0.4444444444444444, \"#bd3786\"], [0.5555555555555556, \"#d8576b\"], [0.6666666666666666, \"#ed7953\"], [0.7777777777777778, \"#fb9f3a\"], [0.8888888888888888, \"#fdca26\"], [1.0, \"#f0f921\"]], \"type\": \"histogram2dcontour\"}], \"mesh3d\": [{\"colorbar\": {\"outlinewidth\": 0, \"ticks\": \"\"}, \"type\": \"mesh3d\"}], \"parcoords\": [{\"line\": {\"colorbar\": {\"outlinewidth\": 0, \"ticks\": \"\"}}, \"type\": \"parcoords\"}], \"pie\": [{\"automargin\": true, \"type\": \"pie\"}], \"scatter\": [{\"marker\": {\"colorbar\": {\"outlinewidth\": 0, \"ticks\": \"\"}}, \"type\": \"scatter\"}], \"scatter3d\": [{\"line\": {\"colorbar\": {\"outlinewidth\": 0, \"ticks\": \"\"}}, \"marker\": {\"colorbar\": {\"outlinewidth\": 0, \"ticks\": \"\"}}, \"type\": \"scatter3d\"}], \"scattercarpet\": [{\"marker\": {\"colorbar\": {\"outlinewidth\": 0, \"ticks\": \"\"}}, \"type\": \"scattercarpet\"}], \"scattergeo\": [{\"marker\": {\"colorbar\": {\"outlinewidth\": 0, \"ticks\": \"\"}}, \"type\": \"scattergeo\"}], \"scattergl\": [{\"marker\": {\"colorbar\": {\"outlinewidth\": 0, \"ticks\": \"\"}}, \"type\": \"scattergl\"}], \"scattermapbox\": [{\"marker\": {\"colorbar\": {\"outlinewidth\": 0, \"ticks\": \"\"}}, \"type\": \"scattermapbox\"}], \"scatterpolar\": [{\"marker\": {\"colorbar\": {\"outlinewidth\": 0, \"ticks\": \"\"}}, \"type\": \"scatterpolar\"}], \"scatterpolargl\": [{\"marker\": {\"colorbar\": {\"outlinewidth\": 0, \"ticks\": \"\"}}, \"type\": \"scatterpolargl\"}], \"scatterternary\": [{\"marker\": {\"colorbar\": {\"outlinewidth\": 0, \"ticks\": \"\"}}, \"type\": \"scatterternary\"}], \"surface\": [{\"colorbar\": {\"outlinewidth\": 0, \"ticks\": \"\"}, \"colorscale\": [[0.0, \"#0d0887\"], [0.1111111111111111, \"#46039f\"], [0.2222222222222222, \"#7201a8\"], [0.3333333333333333, \"#9c179e\"], [0.4444444444444444, \"#bd3786\"], [0.5555555555555556, \"#d8576b\"], [0.6666666666666666, \"#ed7953\"], [0.7777777777777778, \"#fb9f3a\"], [0.8888888888888888, \"#fdca26\"], [1.0, \"#f0f921\"]], \"type\": \"surface\"}], \"table\": [{\"cells\": {\"fill\": {\"color\": \"#EBF0F8\"}, \"line\": {\"color\": \"white\"}}, \"header\": {\"fill\": {\"color\": \"#C8D4E3\"}, \"line\": {\"color\": \"white\"}}, \"type\": \"table\"}]}, \"layout\": {\"annotationdefaults\": {\"arrowcolor\": \"#2a3f5f\", \"arrowhead\": 0, \"arrowwidth\": 1}, \"autotypenumbers\": \"strict\", \"coloraxis\": {\"colorbar\": {\"outlinewidth\": 0, \"ticks\": \"\"}}, \"colorscale\": {\"diverging\": [[0, \"#8e0152\"], [0.1, \"#c51b7d\"], [0.2, \"#de77ae\"], [0.3, \"#f1b6da\"], [0.4, \"#fde0ef\"], [0.5, \"#f7f7f7\"], [0.6, \"#e6f5d0\"], [0.7, \"#b8e186\"], [0.8, \"#7fbc41\"], [0.9, \"#4d9221\"], [1, \"#276419\"]], \"sequential\": [[0.0, \"#0d0887\"], [0.1111111111111111, \"#46039f\"], [0.2222222222222222, \"#7201a8\"], [0.3333333333333333, \"#9c179e\"], [0.4444444444444444, \"#bd3786\"], [0.5555555555555556, \"#d8576b\"], [0.6666666666666666, \"#ed7953\"], [0.7777777777777778, \"#fb9f3a\"], [0.8888888888888888, \"#fdca26\"], [1.0, \"#f0f921\"]], \"sequentialminus\": [[0.0, \"#0d0887\"], [0.1111111111111111, \"#46039f\"], [0.2222222222222222, \"#7201a8\"], [0.3333333333333333, \"#9c179e\"], [0.4444444444444444, \"#bd3786\"], [0.5555555555555556, \"#d8576b\"], [0.6666666666666666, \"#ed7953\"], [0.7777777777777778, \"#fb9f3a\"], [0.8888888888888888, \"#fdca26\"], [1.0, \"#f0f921\"]]}, \"colorway\": [\"#636efa\", \"#EF553B\", \"#00cc96\", \"#ab63fa\", \"#FFA15A\", \"#19d3f3\", \"#FF6692\", \"#B6E880\", \"#FF97FF\", \"#FECB52\"], \"font\": {\"color\": \"#2a3f5f\"}, \"geo\": {\"bgcolor\": \"white\", \"lakecolor\": \"white\", \"landcolor\": \"#E5ECF6\", \"showlakes\": true, \"showland\": true, \"subunitcolor\": \"white\"}, \"hoverlabel\": {\"align\": \"left\"}, \"hovermode\": \"closest\", \"mapbox\": {\"style\": \"light\"}, \"paper_bgcolor\": \"white\", \"plot_bgcolor\": \"#E5ECF6\", \"polar\": {\"angularaxis\": {\"gridcolor\": \"white\", \"linecolor\": \"white\", \"ticks\": \"\"}, \"bgcolor\": \"#E5ECF6\", \"radialaxis\": {\"gridcolor\": \"white\", \"linecolor\": \"white\", \"ticks\": \"\"}}, \"scene\": {\"xaxis\": {\"backgroundcolor\": \"#E5ECF6\", \"gridcolor\": \"white\", \"gridwidth\": 2, \"linecolor\": \"white\", \"showbackground\": true, \"ticks\": \"\", \"zerolinecolor\": \"white\"}, \"yaxis\": {\"backgroundcolor\": \"#E5ECF6\", \"gridcolor\": \"white\", \"gridwidth\": 2, \"linecolor\": \"white\", \"showbackground\": true, \"ticks\": \"\", \"zerolinecolor\": \"white\"}, \"zaxis\": {\"backgroundcolor\": \"#E5ECF6\", \"gridcolor\": \"white\", \"gridwidth\": 2, \"linecolor\": \"white\", \"showbackground\": true, \"ticks\": \"\", \"zerolinecolor\": \"white\"}}, \"shapedefaults\": {\"line\": {\"color\": \"#2a3f5f\"}}, \"ternary\": {\"aaxis\": {\"gridcolor\": \"white\", \"linecolor\": \"white\", \"ticks\": \"\"}, \"baxis\": {\"gridcolor\": \"white\", \"linecolor\": \"white\", \"ticks\": \"\"}, \"bgcolor\": \"#E5ECF6\", \"caxis\": {\"gridcolor\": \"white\", \"linecolor\": \"white\", \"ticks\": \"\"}}, \"title\": {\"x\": 0.05}, \"xaxis\": {\"automargin\": true, \"gridcolor\": \"white\", \"linecolor\": \"white\", \"ticks\": \"\", \"title\": {\"standoff\": 15}, \"zerolinecolor\": \"white\", \"zerolinewidth\": 2}, \"yaxis\": {\"automargin\": true, \"gridcolor\": \"white\", \"linecolor\": \"white\", \"ticks\": \"\", \"title\": {\"standoff\": 15}, \"zerolinecolor\": \"white\", \"zerolinewidth\": 2}}}, \"title\": {\"font\": {\"color\": \"#4D5663\"}}, \"xaxis\": {\"gridcolor\": \"#E1E5ED\", \"showgrid\": true, \"tickfont\": {\"color\": \"#4D5663\"}, \"title\": {\"font\": {\"color\": \"#4D5663\"}, \"text\": \"\"}, \"zerolinecolor\": \"#E1E5ED\"}, \"yaxis\": {\"gridcolor\": \"#E1E5ED\", \"showgrid\": true, \"tickfont\": {\"color\": \"#4D5663\"}, \"title\": {\"font\": {\"color\": \"#4D5663\"}, \"text\": \"\"}, \"zerolinecolor\": \"#E1E5ED\"}},                        {\"showLink\": true, \"linkText\": \"Export to plot.ly\", \"plotlyServerURL\": \"https://plot.ly\", \"responsive\": true}                    ).then(function(){\n",
       "                            \n",
       "var gd = document.getElementById('0a740bdf-6da1-49f3-9018-892e7ada4af8');\n",
       "var x = new MutationObserver(function (mutations, observer) {{\n",
       "        var display = window.getComputedStyle(gd).display;\n",
       "        if (!display || display === 'none') {{\n",
       "            console.log([gd, 'removed!']);\n",
       "            Plotly.purge(gd);\n",
       "            observer.disconnect();\n",
       "        }}\n",
       "}});\n",
       "\n",
       "// Listen for the removal of the full notebook cells\n",
       "var notebookContainer = gd.closest('#notebook-container');\n",
       "if (notebookContainer) {{\n",
       "    x.observe(notebookContainer, {childList: true});\n",
       "}}\n",
       "\n",
       "// Listen for the clearing of the current output cell\n",
       "var outputEl = gd.closest('.output');\n",
       "if (outputEl) {{\n",
       "    x.observe(outputEl, {childList: true});\n",
       "}}\n",
       "\n",
       "                        })                };                });            </script>        </div>"
      ]
     },
     "metadata": {},
     "output_type": "display_data"
    }
   ],
   "source": [
    "df.count().iplot(kind='bar')"
   ]
  },
  {
   "cell_type": "markdown",
   "metadata": {},
   "source": [
    "## Boxplots"
   ]
  },
  {
   "cell_type": "code",
   "execution_count": 13,
   "metadata": {},
   "outputs": [
    {
     "data": {
      "application/vnd.plotly.v1+json": {
       "config": {
        "linkText": "Export to plot.ly",
        "plotlyServerURL": "https://plot.ly",
        "showLink": true
       },
       "data": [
        {
         "boxpoints": false,
         "line": {
          "width": 1.3
         },
         "marker": {
          "color": "rgba(255, 153, 51, 1.0)"
         },
         "name": "A",
         "orientation": "v",
         "type": "box",
         "y": [
          -2.5270110065280242,
          1.6680174651519772,
          0.45001559995548196,
          -0.02045562584354937,
          -0.04696767175551414,
          -0.43901181387379545,
          1.7070413018056958,
          0.08565188696795122,
          -0.3344293828596582,
          0.9500404409209297,
          -0.21019113833514888,
          0.3604224452923828,
          -1.11216805280219,
          -1.5604767575486982,
          0.28660620043355134,
          0.13083296630364566,
          0.6822576428639039,
          -0.4829122357799119,
          -1.0615796698603883,
          1.5279868368772598,
          0.7273176523923723,
          -0.01668581955173972,
          -0.14431916847878662,
          -0.6694863923053975,
          -2.3470302981384954,
          -1.1661753763114484,
          -0.027495754023257737,
          -1.1940607139239843,
          1.2022992752144077,
          -1.2637653296749367,
          2.193581276644731,
          1.5401952281442286,
          1.2435478976767964,
          1.1198451524009416,
          0.6659197389716871,
          0.9129273941343368,
          -1.6551091407193894,
          -0.2022455946334687,
          1.7466718899342617,
          -1.0705815568121162,
          -0.5031411081362345,
          1.4354268289538574,
          0.35012433605173376,
          2.276633138686141,
          -0.010746264868391347,
          -0.3368132777335987,
          -0.42996015575909946,
          -0.14383787852590885,
          -0.36458495384677464,
          0.886255773590493,
          1.2708758764720964,
          -0.17095937360923044,
          1.7962916184698736,
          0.7468575618528512,
          0.27557541233497135,
          -0.4293600119498419,
          0.39163991626736816,
          0.28128110983445603,
          -0.5827217868530749,
          -0.8122462897014714,
          -1.4807240533031878,
          -1.9499612762391623,
          -1.0592607140515602,
          -1.6477046188858,
          1.0012645286707358,
          0.862565704579482,
          0.039131466186083146,
          0.6622855462079307,
          0.5149700197353527,
          -0.6940121322135872,
          0.15324988368917486,
          -0.5476656394961759,
          -0.004292537672022745,
          0.7637978366095226,
          0.15075134016268965,
          -1.210306488771418,
          1.4986544939320934,
          0.9920524382552748,
          0.5463758713635003,
          1.5976786993787182,
          -0.47325106610739365,
          -0.059765588262616895,
          -0.35657783893539957,
          1.0761729057971934,
          0.3656428099020587,
          1.846283176033301,
          0.5930304044860237,
          0.29793987221014107,
          0.8924446468847728,
          -0.5099299114197214,
          0.917801363350686,
          -0.5476396165319876,
          0.08810377362737165,
          0.67716359658272,
          -1.2866001392254593,
          0.3505270777704328,
          -0.35502740703668406,
          0.3198277785003611,
          -1.2683305733699586,
          -0.8306454799809649
         ]
        },
        {
         "boxpoints": false,
         "line": {
          "width": 1.3
         },
         "marker": {
          "color": "rgba(55, 128, 191, 1.0)"
         },
         "name": "B",
         "orientation": "v",
         "type": "box",
         "y": [
          0.6077342487016018,
          -0.4731893416109403,
          -1.3768007323560167,
          -1.426830575049864,
          0.12874988879814375,
          -0.947733813933697,
          0.5238344892217599,
          0.4840873187211147,
          -0.14012108582502,
          -1.8873437456128668,
          -0.14026679486783325,
          0.4586861028400738,
          -0.10395573252720713,
          0.06140834037940289,
          -0.3502091575413244,
          -2.0090925410123672,
          0.4364534526441894,
          2.1817271426605065,
          -0.6445403959738393,
          0.45419525315091375,
          -0.5176436627591724,
          0.5329488253779412,
          0.3411555558959055,
          0.1950287322958298,
          -1.892179875114976,
          -0.04305897101210228,
          1.026946935339796,
          1.4848231767312008,
          -0.6055364169071535,
          0.4237220678947114,
          0.5388665211938162,
          -0.6728594434723479,
          -1.1915342740995833,
          0.5941628508263933,
          -0.863275792769601,
          0.047691635733050526,
          -0.4305545961459695,
          -2.2342519811712185,
          -0.5520756194783913,
          2.397078675528769,
          0.4545527413537645,
          -1.016763728464053,
          -0.6026059735096668,
          0.5137861018262334,
          0.5881748149974206,
          1.188626116200059,
          -0.3169650249940472,
          0.6923341698729818,
          -2.097714086167859,
          -0.5526867895889804,
          0.2120071963811955,
          -0.6187381387292377,
          0.9596534764458649,
          0.032236559936918534,
          -1.8499788850248917,
          2.503462048187462,
          1.1279064832228873,
          -1.2725792355196437,
          1.121997168063789,
          -0.4687798848657744,
          1.5793951413013747,
          2.1816459185106987,
          0.46107945737165623,
          0.5236098062294923,
          -1.1596068392298857,
          0.24036944442115304,
          0.6304058035738712,
          -1.0185978020522959,
          -0.15179028153027518,
          -0.08919393697884163,
          0.7714753987146433,
          -0.5390364543872649,
          1.920551168018313,
          0.3063838030070926,
          -0.22397774797668304,
          -1.0448493502254013,
          -1.2544416899655373,
          0.4892953069810365,
          0.697919876015075,
          0.6485908307169317,
          0.40662451216039197,
          0.5765804446501441,
          -0.44768295089216714,
          -0.738650617470391,
          0.24395544214563125,
          -1.5275755299976472,
          -0.23712520374440696,
          -0.45122748413867386,
          0.5496027629689889,
          1.5441391625326482,
          0.9254372535361087,
          -0.5676555714360765,
          1.7135407953393513,
          2.7406862509354215,
          0.7133139060010656,
          -0.1828690990490576,
          0.24013813467922385,
          -1.2477864222587203,
          0.6116994227216244,
          0.9070783540161795
         ]
        },
        {
         "boxpoints": false,
         "line": {
          "width": 1.3
         },
         "marker": {
          "color": "rgba(50, 171, 96, 1.0)"
         },
         "name": "C",
         "orientation": "v",
         "type": "box",
         "y": [
          -0.02492284918056258,
          -0.785885414293277,
          -0.447229482546522,
          -1.6298304748926844,
          0.6876000537914739,
          -0.749689963784534,
          0.9704678601740873,
          -1.7337017277345714,
          0.7373206301508844,
          -0.3437410268666627,
          -0.35762179688757945,
          1.6322614742165158,
          -0.6525220193174637,
          0.35403222987831917,
          1.2678106373747828,
          0.29191268386959235,
          -0.02921807293193676,
          -0.6706873197551385,
          1.9524141182982033,
          0.6948717069327361,
          -1.980328499134693,
          2.101839314514126,
          -0.6193057251619556,
          0.525430772262155,
          1.3186037030791116,
          0.8841393660263471,
          0.36215175945543854,
          0.9365116377516586,
          1.0541664066448242,
          0.22659643518750247,
          -0.39626263652063987,
          -0.8130745851655512,
          0.6107395943910803,
          -0.564996329346102,
          0.5372034452606061,
          0.3994888927388636,
          -0.655969115122046,
          -0.41395228963748426,
          0.5030972184697315,
          1.6436972767347295,
          2.259717250202777,
          1.4678478036901408,
          -0.7372553149733171,
          1.309642380097827,
          0.5504669366195879,
          -1.5765610100084129,
          0.29404125013268295,
          -1.416100641829991,
          0.669027294488854,
          1.776246473907867,
          -1.3256562548303101,
          -0.08739898929387825,
          1.361702586056903,
          -1.2196014729434574,
          0.5654916409046004,
          -0.8729915405430029,
          -0.10793303117085971,
          -0.8374428855918272,
          0.16970141537157785,
          -0.20932435081978626,
          0.986152638141033,
          -1.4000278631050525,
          0.8579515821935914,
          0.7553179434242713,
          1.1446813630227082,
          -0.07234403671841592,
          -1.5027951228313337,
          -2.5795719674925066,
          -0.03146470679473467,
          2.105159750957102,
          0.4480068244381329,
          -0.7735884868584423,
          0.7925044443949859,
          -0.2966469904715457,
          -0.04191030285426025,
          -0.3998131385257116,
          -0.3419672765803134,
          -0.7590982509812559,
          0.3977956961409181,
          -0.12667280976923959,
          0.6785429992091369,
          -1.158746917724156,
          -1.6111634122601697,
          -0.025936575661406166,
          -1.5689785986134264,
          -1.3081674233603606,
          -0.21812424767131966,
          -0.37845267202672445,
          0.13310520317550179,
          0.29362048908465244,
          0.9077074095476576,
          0.4155632538250987,
          -0.8037841833084913,
          -0.46914642334271417,
          0.3955242551946375,
          -0.7106748074397333,
          -0.8495205167994131,
          0.04779134775621538,
          -0.8979601094652576,
          1.5415262408384887
         ]
        },
        {
         "boxpoints": false,
         "line": {
          "width": 1.3
         },
         "marker": {
          "color": "rgba(128, 0, 128, 1.0)"
         },
         "name": "D",
         "orientation": "v",
         "type": "box",
         "y": [
          -0.7227635303048442,
          -0.030580047913744548,
          -0.7786250871897227,
          -0.07002289387692275,
          -1.6503143009114278,
          -0.6019503568033155,
          0.689367224972717,
          -0.3877280867564857,
          -0.015288321546338423,
          -0.5796264603315621,
          0.8737467827441685,
          0.344085650230088,
          1.5200893065484695,
          0.8435124810167771,
          0.4904691044047342,
          0.4499014043870365,
          -0.3667676153770925,
          0.06310571872616824,
          -0.9911360291876661,
          0.7287371614113567,
          -1.1489813712453352,
          1.4805816518545971,
          -0.055427879222772564,
          -0.6703690072744609,
          2.2129297634784098,
          0.13269001550477982,
          -0.059211221133715485,
          0.6695006437104821,
          -0.21119595592938,
          0.5963572619382754,
          0.6172415393239765,
          -0.3626507455852367,
          -1.5351632003837845,
          0.5935232687518087,
          -0.4134200825043699,
          0.6093343916517958,
          0.9905684369974627,
          -0.7784670260629231,
          0.0006860441181422818,
          1.0637100577304208,
          -0.7957845232156112,
          -1.3720971642495983,
          0.11887873486826661,
          1.0193379646066532,
          0.27400071154764105,
          -0.688248946870881,
          0.07779762427772996,
          1.6162557931269943,
          -0.5123287853786016,
          -0.7272057862823779,
          0.7184153328238415,
          -0.7779604328036454,
          1.3550171043138244,
          -0.8126305806786144,
          0.9538396283965909,
          0.4767895654831986,
          0.08373612172610065,
          -1.858855927033377,
          -0.7145361377375852,
          0.6310449796254276,
          -0.6710056881714914,
          0.49394243311422453,
          -0.6578062688574469,
          -0.2980022738270043,
          0.7314520119135556,
          0.49893085913738244,
          -0.49831832883898947,
          2.6348125556443893,
          1.1167186149274897,
          -0.9971330714182465,
          0.18102522667426926,
          -0.5062412236688921,
          0.5752646963201515,
          1.5530067376116647,
          0.22563496666074,
          -1.9050058515269435,
          -0.9641135499209897,
          -0.37506502089516414,
          -1.936170792374123,
          -0.4545813060907563,
          0.2785330127367757,
          -2.1468314274100706,
          -0.004939236418855568,
          -0.37863524303675955,
          -0.1455415176587356,
          1.1065197520828338,
          0.6190207410502039,
          -0.4074570589292243,
          -1.0307080391496815,
          2.744791289260376,
          -0.13608064953886567,
          0.11011507530831016,
          0.5568764690248106,
          0.4580131321612788,
          -1.39486763933591,
          -0.06823944857408382,
          -0.6401313597409217,
          -0.8076390953648548,
          0.18809203651840606,
          -1.718618261435087
         ]
        }
       ],
       "layout": {
        "legend": {
         "bgcolor": "#F5F6F9",
         "font": {
          "color": "#4D5663"
         }
        },
        "paper_bgcolor": "#F5F6F9",
        "plot_bgcolor": "#F5F6F9",
        "template": {
         "data": {
          "bar": [
           {
            "error_x": {
             "color": "#2a3f5f"
            },
            "error_y": {
             "color": "#2a3f5f"
            },
            "marker": {
             "line": {
              "color": "#E5ECF6",
              "width": 0.5
             }
            },
            "type": "bar"
           }
          ],
          "barpolar": [
           {
            "marker": {
             "line": {
              "color": "#E5ECF6",
              "width": 0.5
             }
            },
            "type": "barpolar"
           }
          ],
          "carpet": [
           {
            "aaxis": {
             "endlinecolor": "#2a3f5f",
             "gridcolor": "white",
             "linecolor": "white",
             "minorgridcolor": "white",
             "startlinecolor": "#2a3f5f"
            },
            "baxis": {
             "endlinecolor": "#2a3f5f",
             "gridcolor": "white",
             "linecolor": "white",
             "minorgridcolor": "white",
             "startlinecolor": "#2a3f5f"
            },
            "type": "carpet"
           }
          ],
          "choropleth": [
           {
            "colorbar": {
             "outlinewidth": 0,
             "ticks": ""
            },
            "type": "choropleth"
           }
          ],
          "contour": [
           {
            "colorbar": {
             "outlinewidth": 0,
             "ticks": ""
            },
            "colorscale": [
             [
              0,
              "#0d0887"
             ],
             [
              0.1111111111111111,
              "#46039f"
             ],
             [
              0.2222222222222222,
              "#7201a8"
             ],
             [
              0.3333333333333333,
              "#9c179e"
             ],
             [
              0.4444444444444444,
              "#bd3786"
             ],
             [
              0.5555555555555556,
              "#d8576b"
             ],
             [
              0.6666666666666666,
              "#ed7953"
             ],
             [
              0.7777777777777778,
              "#fb9f3a"
             ],
             [
              0.8888888888888888,
              "#fdca26"
             ],
             [
              1,
              "#f0f921"
             ]
            ],
            "type": "contour"
           }
          ],
          "contourcarpet": [
           {
            "colorbar": {
             "outlinewidth": 0,
             "ticks": ""
            },
            "type": "contourcarpet"
           }
          ],
          "heatmap": [
           {
            "colorbar": {
             "outlinewidth": 0,
             "ticks": ""
            },
            "colorscale": [
             [
              0,
              "#0d0887"
             ],
             [
              0.1111111111111111,
              "#46039f"
             ],
             [
              0.2222222222222222,
              "#7201a8"
             ],
             [
              0.3333333333333333,
              "#9c179e"
             ],
             [
              0.4444444444444444,
              "#bd3786"
             ],
             [
              0.5555555555555556,
              "#d8576b"
             ],
             [
              0.6666666666666666,
              "#ed7953"
             ],
             [
              0.7777777777777778,
              "#fb9f3a"
             ],
             [
              0.8888888888888888,
              "#fdca26"
             ],
             [
              1,
              "#f0f921"
             ]
            ],
            "type": "heatmap"
           }
          ],
          "heatmapgl": [
           {
            "colorbar": {
             "outlinewidth": 0,
             "ticks": ""
            },
            "colorscale": [
             [
              0,
              "#0d0887"
             ],
             [
              0.1111111111111111,
              "#46039f"
             ],
             [
              0.2222222222222222,
              "#7201a8"
             ],
             [
              0.3333333333333333,
              "#9c179e"
             ],
             [
              0.4444444444444444,
              "#bd3786"
             ],
             [
              0.5555555555555556,
              "#d8576b"
             ],
             [
              0.6666666666666666,
              "#ed7953"
             ],
             [
              0.7777777777777778,
              "#fb9f3a"
             ],
             [
              0.8888888888888888,
              "#fdca26"
             ],
             [
              1,
              "#f0f921"
             ]
            ],
            "type": "heatmapgl"
           }
          ],
          "histogram": [
           {
            "marker": {
             "colorbar": {
              "outlinewidth": 0,
              "ticks": ""
             }
            },
            "type": "histogram"
           }
          ],
          "histogram2d": [
           {
            "colorbar": {
             "outlinewidth": 0,
             "ticks": ""
            },
            "colorscale": [
             [
              0,
              "#0d0887"
             ],
             [
              0.1111111111111111,
              "#46039f"
             ],
             [
              0.2222222222222222,
              "#7201a8"
             ],
             [
              0.3333333333333333,
              "#9c179e"
             ],
             [
              0.4444444444444444,
              "#bd3786"
             ],
             [
              0.5555555555555556,
              "#d8576b"
             ],
             [
              0.6666666666666666,
              "#ed7953"
             ],
             [
              0.7777777777777778,
              "#fb9f3a"
             ],
             [
              0.8888888888888888,
              "#fdca26"
             ],
             [
              1,
              "#f0f921"
             ]
            ],
            "type": "histogram2d"
           }
          ],
          "histogram2dcontour": [
           {
            "colorbar": {
             "outlinewidth": 0,
             "ticks": ""
            },
            "colorscale": [
             [
              0,
              "#0d0887"
             ],
             [
              0.1111111111111111,
              "#46039f"
             ],
             [
              0.2222222222222222,
              "#7201a8"
             ],
             [
              0.3333333333333333,
              "#9c179e"
             ],
             [
              0.4444444444444444,
              "#bd3786"
             ],
             [
              0.5555555555555556,
              "#d8576b"
             ],
             [
              0.6666666666666666,
              "#ed7953"
             ],
             [
              0.7777777777777778,
              "#fb9f3a"
             ],
             [
              0.8888888888888888,
              "#fdca26"
             ],
             [
              1,
              "#f0f921"
             ]
            ],
            "type": "histogram2dcontour"
           }
          ],
          "mesh3d": [
           {
            "colorbar": {
             "outlinewidth": 0,
             "ticks": ""
            },
            "type": "mesh3d"
           }
          ],
          "parcoords": [
           {
            "line": {
             "colorbar": {
              "outlinewidth": 0,
              "ticks": ""
             }
            },
            "type": "parcoords"
           }
          ],
          "pie": [
           {
            "automargin": true,
            "type": "pie"
           }
          ],
          "scatter": [
           {
            "marker": {
             "colorbar": {
              "outlinewidth": 0,
              "ticks": ""
             }
            },
            "type": "scatter"
           }
          ],
          "scatter3d": [
           {
            "line": {
             "colorbar": {
              "outlinewidth": 0,
              "ticks": ""
             }
            },
            "marker": {
             "colorbar": {
              "outlinewidth": 0,
              "ticks": ""
             }
            },
            "type": "scatter3d"
           }
          ],
          "scattercarpet": [
           {
            "marker": {
             "colorbar": {
              "outlinewidth": 0,
              "ticks": ""
             }
            },
            "type": "scattercarpet"
           }
          ],
          "scattergeo": [
           {
            "marker": {
             "colorbar": {
              "outlinewidth": 0,
              "ticks": ""
             }
            },
            "type": "scattergeo"
           }
          ],
          "scattergl": [
           {
            "marker": {
             "colorbar": {
              "outlinewidth": 0,
              "ticks": ""
             }
            },
            "type": "scattergl"
           }
          ],
          "scattermapbox": [
           {
            "marker": {
             "colorbar": {
              "outlinewidth": 0,
              "ticks": ""
             }
            },
            "type": "scattermapbox"
           }
          ],
          "scatterpolar": [
           {
            "marker": {
             "colorbar": {
              "outlinewidth": 0,
              "ticks": ""
             }
            },
            "type": "scatterpolar"
           }
          ],
          "scatterpolargl": [
           {
            "marker": {
             "colorbar": {
              "outlinewidth": 0,
              "ticks": ""
             }
            },
            "type": "scatterpolargl"
           }
          ],
          "scatterternary": [
           {
            "marker": {
             "colorbar": {
              "outlinewidth": 0,
              "ticks": ""
             }
            },
            "type": "scatterternary"
           }
          ],
          "surface": [
           {
            "colorbar": {
             "outlinewidth": 0,
             "ticks": ""
            },
            "colorscale": [
             [
              0,
              "#0d0887"
             ],
             [
              0.1111111111111111,
              "#46039f"
             ],
             [
              0.2222222222222222,
              "#7201a8"
             ],
             [
              0.3333333333333333,
              "#9c179e"
             ],
             [
              0.4444444444444444,
              "#bd3786"
             ],
             [
              0.5555555555555556,
              "#d8576b"
             ],
             [
              0.6666666666666666,
              "#ed7953"
             ],
             [
              0.7777777777777778,
              "#fb9f3a"
             ],
             [
              0.8888888888888888,
              "#fdca26"
             ],
             [
              1,
              "#f0f921"
             ]
            ],
            "type": "surface"
           }
          ],
          "table": [
           {
            "cells": {
             "fill": {
              "color": "#EBF0F8"
             },
             "line": {
              "color": "white"
             }
            },
            "header": {
             "fill": {
              "color": "#C8D4E3"
             },
             "line": {
              "color": "white"
             }
            },
            "type": "table"
           }
          ]
         },
         "layout": {
          "annotationdefaults": {
           "arrowcolor": "#2a3f5f",
           "arrowhead": 0,
           "arrowwidth": 1
          },
          "autotypenumbers": "strict",
          "coloraxis": {
           "colorbar": {
            "outlinewidth": 0,
            "ticks": ""
           }
          },
          "colorscale": {
           "diverging": [
            [
             0,
             "#8e0152"
            ],
            [
             0.1,
             "#c51b7d"
            ],
            [
             0.2,
             "#de77ae"
            ],
            [
             0.3,
             "#f1b6da"
            ],
            [
             0.4,
             "#fde0ef"
            ],
            [
             0.5,
             "#f7f7f7"
            ],
            [
             0.6,
             "#e6f5d0"
            ],
            [
             0.7,
             "#b8e186"
            ],
            [
             0.8,
             "#7fbc41"
            ],
            [
             0.9,
             "#4d9221"
            ],
            [
             1,
             "#276419"
            ]
           ],
           "sequential": [
            [
             0,
             "#0d0887"
            ],
            [
             0.1111111111111111,
             "#46039f"
            ],
            [
             0.2222222222222222,
             "#7201a8"
            ],
            [
             0.3333333333333333,
             "#9c179e"
            ],
            [
             0.4444444444444444,
             "#bd3786"
            ],
            [
             0.5555555555555556,
             "#d8576b"
            ],
            [
             0.6666666666666666,
             "#ed7953"
            ],
            [
             0.7777777777777778,
             "#fb9f3a"
            ],
            [
             0.8888888888888888,
             "#fdca26"
            ],
            [
             1,
             "#f0f921"
            ]
           ],
           "sequentialminus": [
            [
             0,
             "#0d0887"
            ],
            [
             0.1111111111111111,
             "#46039f"
            ],
            [
             0.2222222222222222,
             "#7201a8"
            ],
            [
             0.3333333333333333,
             "#9c179e"
            ],
            [
             0.4444444444444444,
             "#bd3786"
            ],
            [
             0.5555555555555556,
             "#d8576b"
            ],
            [
             0.6666666666666666,
             "#ed7953"
            ],
            [
             0.7777777777777778,
             "#fb9f3a"
            ],
            [
             0.8888888888888888,
             "#fdca26"
            ],
            [
             1,
             "#f0f921"
            ]
           ]
          },
          "colorway": [
           "#636efa",
           "#EF553B",
           "#00cc96",
           "#ab63fa",
           "#FFA15A",
           "#19d3f3",
           "#FF6692",
           "#B6E880",
           "#FF97FF",
           "#FECB52"
          ],
          "font": {
           "color": "#2a3f5f"
          },
          "geo": {
           "bgcolor": "white",
           "lakecolor": "white",
           "landcolor": "#E5ECF6",
           "showlakes": true,
           "showland": true,
           "subunitcolor": "white"
          },
          "hoverlabel": {
           "align": "left"
          },
          "hovermode": "closest",
          "mapbox": {
           "style": "light"
          },
          "paper_bgcolor": "white",
          "plot_bgcolor": "#E5ECF6",
          "polar": {
           "angularaxis": {
            "gridcolor": "white",
            "linecolor": "white",
            "ticks": ""
           },
           "bgcolor": "#E5ECF6",
           "radialaxis": {
            "gridcolor": "white",
            "linecolor": "white",
            "ticks": ""
           }
          },
          "scene": {
           "xaxis": {
            "backgroundcolor": "#E5ECF6",
            "gridcolor": "white",
            "gridwidth": 2,
            "linecolor": "white",
            "showbackground": true,
            "ticks": "",
            "zerolinecolor": "white"
           },
           "yaxis": {
            "backgroundcolor": "#E5ECF6",
            "gridcolor": "white",
            "gridwidth": 2,
            "linecolor": "white",
            "showbackground": true,
            "ticks": "",
            "zerolinecolor": "white"
           },
           "zaxis": {
            "backgroundcolor": "#E5ECF6",
            "gridcolor": "white",
            "gridwidth": 2,
            "linecolor": "white",
            "showbackground": true,
            "ticks": "",
            "zerolinecolor": "white"
           }
          },
          "shapedefaults": {
           "line": {
            "color": "#2a3f5f"
           }
          },
          "ternary": {
           "aaxis": {
            "gridcolor": "white",
            "linecolor": "white",
            "ticks": ""
           },
           "baxis": {
            "gridcolor": "white",
            "linecolor": "white",
            "ticks": ""
           },
           "bgcolor": "#E5ECF6",
           "caxis": {
            "gridcolor": "white",
            "linecolor": "white",
            "ticks": ""
           }
          },
          "title": {
           "x": 0.05
          },
          "xaxis": {
           "automargin": true,
           "gridcolor": "white",
           "linecolor": "white",
           "ticks": "",
           "title": {
            "standoff": 15
           },
           "zerolinecolor": "white",
           "zerolinewidth": 2
          },
          "yaxis": {
           "automargin": true,
           "gridcolor": "white",
           "linecolor": "white",
           "ticks": "",
           "title": {
            "standoff": 15
           },
           "zerolinecolor": "white",
           "zerolinewidth": 2
          }
         }
        },
        "title": {
         "font": {
          "color": "#4D5663"
         }
        },
        "xaxis": {
         "gridcolor": "#E1E5ED",
         "showgrid": true,
         "tickfont": {
          "color": "#4D5663"
         },
         "title": {
          "font": {
           "color": "#4D5663"
          },
          "text": ""
         },
         "zerolinecolor": "#E1E5ED"
        },
        "yaxis": {
         "gridcolor": "#E1E5ED",
         "showgrid": true,
         "tickfont": {
          "color": "#4D5663"
         },
         "title": {
          "font": {
           "color": "#4D5663"
          },
          "text": ""
         },
         "zerolinecolor": "#E1E5ED"
        }
       }
      },
      "text/html": [
       "<div>                            <div id=\"391559d4-a53b-4ba0-a4d7-9a7bccad5387\" class=\"plotly-graph-div\" style=\"height:525px; width:100%;\"></div>            <script type=\"text/javascript\">                require([\"plotly\"], function(Plotly) {                    window.PLOTLYENV=window.PLOTLYENV || {};\n",
       "                    window.PLOTLYENV.BASE_URL='https://plot.ly';                                    if (document.getElementById(\"391559d4-a53b-4ba0-a4d7-9a7bccad5387\")) {                    Plotly.newPlot(                        \"391559d4-a53b-4ba0-a4d7-9a7bccad5387\",                        [{\"boxpoints\": false, \"line\": {\"width\": 1.3}, \"marker\": {\"color\": \"rgba(255, 153, 51, 1.0)\"}, \"name\": \"A\", \"orientation\": \"v\", \"type\": \"box\", \"y\": [-2.5270110065280242, 1.6680174651519772, 0.45001559995548196, -0.02045562584354937, -0.04696767175551414, -0.43901181387379545, 1.7070413018056958, 0.08565188696795122, -0.3344293828596582, 0.9500404409209297, -0.21019113833514888, 0.3604224452923828, -1.11216805280219, -1.5604767575486982, 0.28660620043355134, 0.13083296630364566, 0.6822576428639039, -0.4829122357799119, -1.0615796698603883, 1.5279868368772598, 0.7273176523923723, -0.01668581955173972, -0.14431916847878662, -0.6694863923053975, -2.3470302981384954, -1.1661753763114484, -0.027495754023257737, -1.1940607139239843, 1.2022992752144077, -1.2637653296749367, 2.193581276644731, 1.5401952281442286, 1.2435478976767964, 1.1198451524009416, 0.6659197389716871, 0.9129273941343368, -1.6551091407193894, -0.2022455946334687, 1.7466718899342617, -1.0705815568121162, -0.5031411081362345, 1.4354268289538574, 0.35012433605173376, 2.276633138686141, -0.010746264868391347, -0.3368132777335987, -0.42996015575909946, -0.14383787852590885, -0.36458495384677464, 0.886255773590493, 1.2708758764720964, -0.17095937360923044, 1.7962916184698736, 0.7468575618528512, 0.27557541233497135, -0.4293600119498419, 0.39163991626736816, 0.28128110983445603, -0.5827217868530749, -0.8122462897014714, -1.4807240533031878, -1.9499612762391623, -1.0592607140515602, -1.6477046188858, 1.0012645286707358, 0.862565704579482, 0.039131466186083146, 0.6622855462079307, 0.5149700197353527, -0.6940121322135872, 0.15324988368917486, -0.5476656394961759, -0.004292537672022745, 0.7637978366095226, 0.15075134016268965, -1.210306488771418, 1.4986544939320934, 0.9920524382552748, 0.5463758713635003, 1.5976786993787182, -0.47325106610739365, -0.059765588262616895, -0.35657783893539957, 1.0761729057971934, 0.3656428099020587, 1.846283176033301, 0.5930304044860237, 0.29793987221014107, 0.8924446468847728, -0.5099299114197214, 0.917801363350686, -0.5476396165319876, 0.08810377362737165, 0.67716359658272, -1.2866001392254593, 0.3505270777704328, -0.35502740703668406, 0.3198277785003611, -1.2683305733699586, -0.8306454799809649]}, {\"boxpoints\": false, \"line\": {\"width\": 1.3}, \"marker\": {\"color\": \"rgba(55, 128, 191, 1.0)\"}, \"name\": \"B\", \"orientation\": \"v\", \"type\": \"box\", \"y\": [0.6077342487016018, -0.4731893416109403, -1.3768007323560167, -1.426830575049864, 0.12874988879814375, -0.947733813933697, 0.5238344892217599, 0.4840873187211147, -0.14012108582502, -1.8873437456128668, -0.14026679486783325, 0.4586861028400738, -0.10395573252720713, 0.06140834037940289, -0.3502091575413244, -2.0090925410123672, 0.4364534526441894, 2.1817271426605065, -0.6445403959738393, 0.45419525315091375, -0.5176436627591724, 0.5329488253779412, 0.3411555558959055, 0.1950287322958298, -1.892179875114976, -0.04305897101210228, 1.026946935339796, 1.4848231767312008, -0.6055364169071535, 0.4237220678947114, 0.5388665211938162, -0.6728594434723479, -1.1915342740995833, 0.5941628508263933, -0.863275792769601, 0.047691635733050526, -0.4305545961459695, -2.2342519811712185, -0.5520756194783913, 2.397078675528769, 0.4545527413537645, -1.016763728464053, -0.6026059735096668, 0.5137861018262334, 0.5881748149974206, 1.188626116200059, -0.3169650249940472, 0.6923341698729818, -2.097714086167859, -0.5526867895889804, 0.2120071963811955, -0.6187381387292377, 0.9596534764458649, 0.032236559936918534, -1.8499788850248917, 2.503462048187462, 1.1279064832228873, -1.2725792355196437, 1.121997168063789, -0.4687798848657744, 1.5793951413013747, 2.1816459185106987, 0.46107945737165623, 0.5236098062294923, -1.1596068392298857, 0.24036944442115304, 0.6304058035738712, -1.0185978020522959, -0.15179028153027518, -0.08919393697884163, 0.7714753987146433, -0.5390364543872649, 1.920551168018313, 0.3063838030070926, -0.22397774797668304, -1.0448493502254013, -1.2544416899655373, 0.4892953069810365, 0.697919876015075, 0.6485908307169317, 0.40662451216039197, 0.5765804446501441, -0.44768295089216714, -0.738650617470391, 0.24395544214563125, -1.5275755299976472, -0.23712520374440696, -0.45122748413867386, 0.5496027629689889, 1.5441391625326482, 0.9254372535361087, -0.5676555714360765, 1.7135407953393513, 2.7406862509354215, 0.7133139060010656, -0.1828690990490576, 0.24013813467922385, -1.2477864222587203, 0.6116994227216244, 0.9070783540161795]}, {\"boxpoints\": false, \"line\": {\"width\": 1.3}, \"marker\": {\"color\": \"rgba(50, 171, 96, 1.0)\"}, \"name\": \"C\", \"orientation\": \"v\", \"type\": \"box\", \"y\": [-0.02492284918056258, -0.785885414293277, -0.447229482546522, -1.6298304748926844, 0.6876000537914739, -0.749689963784534, 0.9704678601740873, -1.7337017277345714, 0.7373206301508844, -0.3437410268666627, -0.35762179688757945, 1.6322614742165158, -0.6525220193174637, 0.35403222987831917, 1.2678106373747828, 0.29191268386959235, -0.02921807293193676, -0.6706873197551385, 1.9524141182982033, 0.6948717069327361, -1.980328499134693, 2.101839314514126, -0.6193057251619556, 0.525430772262155, 1.3186037030791116, 0.8841393660263471, 0.36215175945543854, 0.9365116377516586, 1.0541664066448242, 0.22659643518750247, -0.39626263652063987, -0.8130745851655512, 0.6107395943910803, -0.564996329346102, 0.5372034452606061, 0.3994888927388636, -0.655969115122046, -0.41395228963748426, 0.5030972184697315, 1.6436972767347295, 2.259717250202777, 1.4678478036901408, -0.7372553149733171, 1.309642380097827, 0.5504669366195879, -1.5765610100084129, 0.29404125013268295, -1.416100641829991, 0.669027294488854, 1.776246473907867, -1.3256562548303101, -0.08739898929387825, 1.361702586056903, -1.2196014729434574, 0.5654916409046004, -0.8729915405430029, -0.10793303117085971, -0.8374428855918272, 0.16970141537157785, -0.20932435081978626, 0.986152638141033, -1.4000278631050525, 0.8579515821935914, 0.7553179434242713, 1.1446813630227082, -0.07234403671841592, -1.5027951228313337, -2.5795719674925066, -0.03146470679473467, 2.105159750957102, 0.4480068244381329, -0.7735884868584423, 0.7925044443949859, -0.2966469904715457, -0.04191030285426025, -0.3998131385257116, -0.3419672765803134, -0.7590982509812559, 0.3977956961409181, -0.12667280976923959, 0.6785429992091369, -1.158746917724156, -1.6111634122601697, -0.025936575661406166, -1.5689785986134264, -1.3081674233603606, -0.21812424767131966, -0.37845267202672445, 0.13310520317550179, 0.29362048908465244, 0.9077074095476576, 0.4155632538250987, -0.8037841833084913, -0.46914642334271417, 0.3955242551946375, -0.7106748074397333, -0.8495205167994131, 0.04779134775621538, -0.8979601094652576, 1.5415262408384887]}, {\"boxpoints\": false, \"line\": {\"width\": 1.3}, \"marker\": {\"color\": \"rgba(128, 0, 128, 1.0)\"}, \"name\": \"D\", \"orientation\": \"v\", \"type\": \"box\", \"y\": [-0.7227635303048442, -0.030580047913744548, -0.7786250871897227, -0.07002289387692275, -1.6503143009114278, -0.6019503568033155, 0.689367224972717, -0.3877280867564857, -0.015288321546338423, -0.5796264603315621, 0.8737467827441685, 0.344085650230088, 1.5200893065484695, 0.8435124810167771, 0.4904691044047342, 0.4499014043870365, -0.3667676153770925, 0.06310571872616824, -0.9911360291876661, 0.7287371614113567, -1.1489813712453352, 1.4805816518545971, -0.055427879222772564, -0.6703690072744609, 2.2129297634784098, 0.13269001550477982, -0.059211221133715485, 0.6695006437104821, -0.21119595592938, 0.5963572619382754, 0.6172415393239765, -0.3626507455852367, -1.5351632003837845, 0.5935232687518087, -0.4134200825043699, 0.6093343916517958, 0.9905684369974627, -0.7784670260629231, 0.0006860441181422818, 1.0637100577304208, -0.7957845232156112, -1.3720971642495983, 0.11887873486826661, 1.0193379646066532, 0.27400071154764105, -0.688248946870881, 0.07779762427772996, 1.6162557931269943, -0.5123287853786016, -0.7272057862823779, 0.7184153328238415, -0.7779604328036454, 1.3550171043138244, -0.8126305806786144, 0.9538396283965909, 0.4767895654831986, 0.08373612172610065, -1.858855927033377, -0.7145361377375852, 0.6310449796254276, -0.6710056881714914, 0.49394243311422453, -0.6578062688574469, -0.2980022738270043, 0.7314520119135556, 0.49893085913738244, -0.49831832883898947, 2.6348125556443893, 1.1167186149274897, -0.9971330714182465, 0.18102522667426926, -0.5062412236688921, 0.5752646963201515, 1.5530067376116647, 0.22563496666074, -1.9050058515269435, -0.9641135499209897, -0.37506502089516414, -1.936170792374123, -0.4545813060907563, 0.2785330127367757, -2.1468314274100706, -0.004939236418855568, -0.37863524303675955, -0.1455415176587356, 1.1065197520828338, 0.6190207410502039, -0.4074570589292243, -1.0307080391496815, 2.744791289260376, -0.13608064953886567, 0.11011507530831016, 0.5568764690248106, 0.4580131321612788, -1.39486763933591, -0.06823944857408382, -0.6401313597409217, -0.8076390953648548, 0.18809203651840606, -1.718618261435087]}],                        {\"legend\": {\"bgcolor\": \"#F5F6F9\", \"font\": {\"color\": \"#4D5663\"}}, \"paper_bgcolor\": \"#F5F6F9\", \"plot_bgcolor\": \"#F5F6F9\", \"template\": {\"data\": {\"bar\": [{\"error_x\": {\"color\": \"#2a3f5f\"}, \"error_y\": {\"color\": \"#2a3f5f\"}, \"marker\": {\"line\": {\"color\": \"#E5ECF6\", \"width\": 0.5}}, \"type\": \"bar\"}], \"barpolar\": [{\"marker\": {\"line\": {\"color\": \"#E5ECF6\", \"width\": 0.5}}, \"type\": \"barpolar\"}], \"carpet\": [{\"aaxis\": {\"endlinecolor\": \"#2a3f5f\", \"gridcolor\": \"white\", \"linecolor\": \"white\", \"minorgridcolor\": \"white\", \"startlinecolor\": \"#2a3f5f\"}, \"baxis\": {\"endlinecolor\": \"#2a3f5f\", \"gridcolor\": \"white\", \"linecolor\": \"white\", \"minorgridcolor\": \"white\", \"startlinecolor\": \"#2a3f5f\"}, \"type\": \"carpet\"}], \"choropleth\": [{\"colorbar\": {\"outlinewidth\": 0, \"ticks\": \"\"}, \"type\": \"choropleth\"}], \"contour\": [{\"colorbar\": {\"outlinewidth\": 0, \"ticks\": \"\"}, \"colorscale\": [[0.0, \"#0d0887\"], [0.1111111111111111, \"#46039f\"], [0.2222222222222222, \"#7201a8\"], [0.3333333333333333, \"#9c179e\"], [0.4444444444444444, \"#bd3786\"], [0.5555555555555556, \"#d8576b\"], [0.6666666666666666, \"#ed7953\"], [0.7777777777777778, \"#fb9f3a\"], [0.8888888888888888, \"#fdca26\"], [1.0, \"#f0f921\"]], \"type\": \"contour\"}], \"contourcarpet\": [{\"colorbar\": {\"outlinewidth\": 0, \"ticks\": \"\"}, \"type\": \"contourcarpet\"}], \"heatmap\": [{\"colorbar\": {\"outlinewidth\": 0, \"ticks\": \"\"}, \"colorscale\": [[0.0, \"#0d0887\"], [0.1111111111111111, \"#46039f\"], [0.2222222222222222, \"#7201a8\"], [0.3333333333333333, \"#9c179e\"], [0.4444444444444444, \"#bd3786\"], [0.5555555555555556, \"#d8576b\"], [0.6666666666666666, \"#ed7953\"], [0.7777777777777778, \"#fb9f3a\"], [0.8888888888888888, \"#fdca26\"], [1.0, \"#f0f921\"]], \"type\": \"heatmap\"}], \"heatmapgl\": [{\"colorbar\": {\"outlinewidth\": 0, \"ticks\": \"\"}, \"colorscale\": [[0.0, \"#0d0887\"], [0.1111111111111111, \"#46039f\"], [0.2222222222222222, \"#7201a8\"], [0.3333333333333333, \"#9c179e\"], [0.4444444444444444, \"#bd3786\"], [0.5555555555555556, \"#d8576b\"], [0.6666666666666666, \"#ed7953\"], [0.7777777777777778, \"#fb9f3a\"], [0.8888888888888888, \"#fdca26\"], [1.0, \"#f0f921\"]], \"type\": \"heatmapgl\"}], \"histogram\": [{\"marker\": {\"colorbar\": {\"outlinewidth\": 0, \"ticks\": \"\"}}, \"type\": \"histogram\"}], \"histogram2d\": [{\"colorbar\": {\"outlinewidth\": 0, \"ticks\": \"\"}, \"colorscale\": [[0.0, \"#0d0887\"], [0.1111111111111111, \"#46039f\"], [0.2222222222222222, \"#7201a8\"], [0.3333333333333333, \"#9c179e\"], [0.4444444444444444, \"#bd3786\"], [0.5555555555555556, \"#d8576b\"], [0.6666666666666666, \"#ed7953\"], [0.7777777777777778, \"#fb9f3a\"], [0.8888888888888888, \"#fdca26\"], [1.0, \"#f0f921\"]], \"type\": \"histogram2d\"}], \"histogram2dcontour\": [{\"colorbar\": {\"outlinewidth\": 0, \"ticks\": \"\"}, \"colorscale\": [[0.0, \"#0d0887\"], [0.1111111111111111, \"#46039f\"], [0.2222222222222222, \"#7201a8\"], [0.3333333333333333, \"#9c179e\"], [0.4444444444444444, \"#bd3786\"], [0.5555555555555556, \"#d8576b\"], [0.6666666666666666, \"#ed7953\"], [0.7777777777777778, \"#fb9f3a\"], [0.8888888888888888, \"#fdca26\"], [1.0, \"#f0f921\"]], \"type\": \"histogram2dcontour\"}], \"mesh3d\": [{\"colorbar\": {\"outlinewidth\": 0, \"ticks\": \"\"}, \"type\": \"mesh3d\"}], \"parcoords\": [{\"line\": {\"colorbar\": {\"outlinewidth\": 0, \"ticks\": \"\"}}, \"type\": \"parcoords\"}], \"pie\": [{\"automargin\": true, \"type\": \"pie\"}], \"scatter\": [{\"marker\": {\"colorbar\": {\"outlinewidth\": 0, \"ticks\": \"\"}}, \"type\": \"scatter\"}], \"scatter3d\": [{\"line\": {\"colorbar\": {\"outlinewidth\": 0, \"ticks\": \"\"}}, \"marker\": {\"colorbar\": {\"outlinewidth\": 0, \"ticks\": \"\"}}, \"type\": \"scatter3d\"}], \"scattercarpet\": [{\"marker\": {\"colorbar\": {\"outlinewidth\": 0, \"ticks\": \"\"}}, \"type\": \"scattercarpet\"}], \"scattergeo\": [{\"marker\": {\"colorbar\": {\"outlinewidth\": 0, \"ticks\": \"\"}}, \"type\": \"scattergeo\"}], \"scattergl\": [{\"marker\": {\"colorbar\": {\"outlinewidth\": 0, \"ticks\": \"\"}}, \"type\": \"scattergl\"}], \"scattermapbox\": [{\"marker\": {\"colorbar\": {\"outlinewidth\": 0, \"ticks\": \"\"}}, \"type\": \"scattermapbox\"}], \"scatterpolar\": [{\"marker\": {\"colorbar\": {\"outlinewidth\": 0, \"ticks\": \"\"}}, \"type\": \"scatterpolar\"}], \"scatterpolargl\": [{\"marker\": {\"colorbar\": {\"outlinewidth\": 0, \"ticks\": \"\"}}, \"type\": \"scatterpolargl\"}], \"scatterternary\": [{\"marker\": {\"colorbar\": {\"outlinewidth\": 0, \"ticks\": \"\"}}, \"type\": \"scatterternary\"}], \"surface\": [{\"colorbar\": {\"outlinewidth\": 0, \"ticks\": \"\"}, \"colorscale\": [[0.0, \"#0d0887\"], [0.1111111111111111, \"#46039f\"], [0.2222222222222222, \"#7201a8\"], [0.3333333333333333, \"#9c179e\"], [0.4444444444444444, \"#bd3786\"], [0.5555555555555556, \"#d8576b\"], [0.6666666666666666, \"#ed7953\"], [0.7777777777777778, \"#fb9f3a\"], [0.8888888888888888, \"#fdca26\"], [1.0, \"#f0f921\"]], \"type\": \"surface\"}], \"table\": [{\"cells\": {\"fill\": {\"color\": \"#EBF0F8\"}, \"line\": {\"color\": \"white\"}}, \"header\": {\"fill\": {\"color\": \"#C8D4E3\"}, \"line\": {\"color\": \"white\"}}, \"type\": \"table\"}]}, \"layout\": {\"annotationdefaults\": {\"arrowcolor\": \"#2a3f5f\", \"arrowhead\": 0, \"arrowwidth\": 1}, \"autotypenumbers\": \"strict\", \"coloraxis\": {\"colorbar\": {\"outlinewidth\": 0, \"ticks\": \"\"}}, \"colorscale\": {\"diverging\": [[0, \"#8e0152\"], [0.1, \"#c51b7d\"], [0.2, \"#de77ae\"], [0.3, \"#f1b6da\"], [0.4, \"#fde0ef\"], [0.5, \"#f7f7f7\"], [0.6, \"#e6f5d0\"], [0.7, \"#b8e186\"], [0.8, \"#7fbc41\"], [0.9, \"#4d9221\"], [1, \"#276419\"]], \"sequential\": [[0.0, \"#0d0887\"], [0.1111111111111111, \"#46039f\"], [0.2222222222222222, \"#7201a8\"], [0.3333333333333333, \"#9c179e\"], [0.4444444444444444, \"#bd3786\"], [0.5555555555555556, \"#d8576b\"], [0.6666666666666666, \"#ed7953\"], [0.7777777777777778, \"#fb9f3a\"], [0.8888888888888888, \"#fdca26\"], [1.0, \"#f0f921\"]], \"sequentialminus\": [[0.0, \"#0d0887\"], [0.1111111111111111, \"#46039f\"], [0.2222222222222222, \"#7201a8\"], [0.3333333333333333, \"#9c179e\"], [0.4444444444444444, \"#bd3786\"], [0.5555555555555556, \"#d8576b\"], [0.6666666666666666, \"#ed7953\"], [0.7777777777777778, \"#fb9f3a\"], [0.8888888888888888, \"#fdca26\"], [1.0, \"#f0f921\"]]}, \"colorway\": [\"#636efa\", \"#EF553B\", \"#00cc96\", \"#ab63fa\", \"#FFA15A\", \"#19d3f3\", \"#FF6692\", \"#B6E880\", \"#FF97FF\", \"#FECB52\"], \"font\": {\"color\": \"#2a3f5f\"}, \"geo\": {\"bgcolor\": \"white\", \"lakecolor\": \"white\", \"landcolor\": \"#E5ECF6\", \"showlakes\": true, \"showland\": true, \"subunitcolor\": \"white\"}, \"hoverlabel\": {\"align\": \"left\"}, \"hovermode\": \"closest\", \"mapbox\": {\"style\": \"light\"}, \"paper_bgcolor\": \"white\", \"plot_bgcolor\": \"#E5ECF6\", \"polar\": {\"angularaxis\": {\"gridcolor\": \"white\", \"linecolor\": \"white\", \"ticks\": \"\"}, \"bgcolor\": \"#E5ECF6\", \"radialaxis\": {\"gridcolor\": \"white\", \"linecolor\": \"white\", \"ticks\": \"\"}}, \"scene\": {\"xaxis\": {\"backgroundcolor\": \"#E5ECF6\", \"gridcolor\": \"white\", \"gridwidth\": 2, \"linecolor\": \"white\", \"showbackground\": true, \"ticks\": \"\", \"zerolinecolor\": \"white\"}, \"yaxis\": {\"backgroundcolor\": \"#E5ECF6\", \"gridcolor\": \"white\", \"gridwidth\": 2, \"linecolor\": \"white\", \"showbackground\": true, \"ticks\": \"\", \"zerolinecolor\": \"white\"}, \"zaxis\": {\"backgroundcolor\": \"#E5ECF6\", \"gridcolor\": \"white\", \"gridwidth\": 2, \"linecolor\": \"white\", \"showbackground\": true, \"ticks\": \"\", \"zerolinecolor\": \"white\"}}, \"shapedefaults\": {\"line\": {\"color\": \"#2a3f5f\"}}, \"ternary\": {\"aaxis\": {\"gridcolor\": \"white\", \"linecolor\": \"white\", \"ticks\": \"\"}, \"baxis\": {\"gridcolor\": \"white\", \"linecolor\": \"white\", \"ticks\": \"\"}, \"bgcolor\": \"#E5ECF6\", \"caxis\": {\"gridcolor\": \"white\", \"linecolor\": \"white\", \"ticks\": \"\"}}, \"title\": {\"x\": 0.05}, \"xaxis\": {\"automargin\": true, \"gridcolor\": \"white\", \"linecolor\": \"white\", \"ticks\": \"\", \"title\": {\"standoff\": 15}, \"zerolinecolor\": \"white\", \"zerolinewidth\": 2}, \"yaxis\": {\"automargin\": true, \"gridcolor\": \"white\", \"linecolor\": \"white\", \"ticks\": \"\", \"title\": {\"standoff\": 15}, \"zerolinecolor\": \"white\", \"zerolinewidth\": 2}}}, \"title\": {\"font\": {\"color\": \"#4D5663\"}}, \"xaxis\": {\"gridcolor\": \"#E1E5ED\", \"showgrid\": true, \"tickfont\": {\"color\": \"#4D5663\"}, \"title\": {\"font\": {\"color\": \"#4D5663\"}, \"text\": \"\"}, \"zerolinecolor\": \"#E1E5ED\"}, \"yaxis\": {\"gridcolor\": \"#E1E5ED\", \"showgrid\": true, \"tickfont\": {\"color\": \"#4D5663\"}, \"title\": {\"font\": {\"color\": \"#4D5663\"}, \"text\": \"\"}, \"zerolinecolor\": \"#E1E5ED\"}},                        {\"showLink\": true, \"linkText\": \"Export to plot.ly\", \"plotlyServerURL\": \"https://plot.ly\", \"responsive\": true}                    ).then(function(){\n",
       "                            \n",
       "var gd = document.getElementById('391559d4-a53b-4ba0-a4d7-9a7bccad5387');\n",
       "var x = new MutationObserver(function (mutations, observer) {{\n",
       "        var display = window.getComputedStyle(gd).display;\n",
       "        if (!display || display === 'none') {{\n",
       "            console.log([gd, 'removed!']);\n",
       "            Plotly.purge(gd);\n",
       "            observer.disconnect();\n",
       "        }}\n",
       "}});\n",
       "\n",
       "// Listen for the removal of the full notebook cells\n",
       "var notebookContainer = gd.closest('#notebook-container');\n",
       "if (notebookContainer) {{\n",
       "    x.observe(notebookContainer, {childList: true});\n",
       "}}\n",
       "\n",
       "// Listen for the clearing of the current output cell\n",
       "var outputEl = gd.closest('.output');\n",
       "if (outputEl) {{\n",
       "    x.observe(outputEl, {childList: true});\n",
       "}}\n",
       "\n",
       "                        })                };                });            </script>        </div>"
      ]
     },
     "metadata": {},
     "output_type": "display_data"
    }
   ],
   "source": [
    "df.iplot(kind='box')"
   ]
  },
  {
   "cell_type": "markdown",
   "metadata": {},
   "source": [
    "## 3d Surface"
   ]
  },
  {
   "cell_type": "code",
   "execution_count": 14,
   "metadata": {},
   "outputs": [
    {
     "data": {
      "application/vnd.plotly.v1+json": {
       "config": {
        "linkText": "Export to plot.ly",
        "plotlyServerURL": "https://plot.ly",
        "showLink": true
       },
       "data": [
        {
         "colorscale": [
          [
           0,
           "rgb(165,0,38)"
          ],
          [
           0.1,
           "rgb(215,48,39)"
          ],
          [
           0.2,
           "rgb(244,109,67)"
          ],
          [
           0.3,
           "rgb(253,174,97)"
          ],
          [
           0.4,
           "rgb(254,224,144)"
          ],
          [
           0.5,
           "rgb(255,255,191)"
          ],
          [
           0.6,
           "rgb(224,243,248)"
          ],
          [
           0.7,
           "rgb(171,217,233)"
          ],
          [
           0.8,
           "rgb(116,173,209)"
          ],
          [
           0.9,
           "rgb(69,117,180)"
          ],
          [
           1,
           "rgb(49,54,149)"
          ]
         ],
         "type": "surface",
         "x": [
          0,
          1,
          2,
          3,
          4
         ],
         "y": [
          "x",
          "y",
          "z"
         ],
         "z": [
          [
           1,
           2,
           3,
           4,
           5
          ],
          [
           10,
           20,
           30,
           20,
           10
          ],
          [
           5,
           4,
           3,
           2,
           1
          ]
         ]
        }
       ],
       "layout": {
        "legend": {
         "bgcolor": "#F5F6F9",
         "font": {
          "color": "#4D5663"
         }
        },
        "paper_bgcolor": "#F5F6F9",
        "plot_bgcolor": "#F5F6F9",
        "template": {
         "data": {
          "bar": [
           {
            "error_x": {
             "color": "#2a3f5f"
            },
            "error_y": {
             "color": "#2a3f5f"
            },
            "marker": {
             "line": {
              "color": "#E5ECF6",
              "width": 0.5
             }
            },
            "type": "bar"
           }
          ],
          "barpolar": [
           {
            "marker": {
             "line": {
              "color": "#E5ECF6",
              "width": 0.5
             }
            },
            "type": "barpolar"
           }
          ],
          "carpet": [
           {
            "aaxis": {
             "endlinecolor": "#2a3f5f",
             "gridcolor": "white",
             "linecolor": "white",
             "minorgridcolor": "white",
             "startlinecolor": "#2a3f5f"
            },
            "baxis": {
             "endlinecolor": "#2a3f5f",
             "gridcolor": "white",
             "linecolor": "white",
             "minorgridcolor": "white",
             "startlinecolor": "#2a3f5f"
            },
            "type": "carpet"
           }
          ],
          "choropleth": [
           {
            "colorbar": {
             "outlinewidth": 0,
             "ticks": ""
            },
            "type": "choropleth"
           }
          ],
          "contour": [
           {
            "colorbar": {
             "outlinewidth": 0,
             "ticks": ""
            },
            "colorscale": [
             [
              0,
              "#0d0887"
             ],
             [
              0.1111111111111111,
              "#46039f"
             ],
             [
              0.2222222222222222,
              "#7201a8"
             ],
             [
              0.3333333333333333,
              "#9c179e"
             ],
             [
              0.4444444444444444,
              "#bd3786"
             ],
             [
              0.5555555555555556,
              "#d8576b"
             ],
             [
              0.6666666666666666,
              "#ed7953"
             ],
             [
              0.7777777777777778,
              "#fb9f3a"
             ],
             [
              0.8888888888888888,
              "#fdca26"
             ],
             [
              1,
              "#f0f921"
             ]
            ],
            "type": "contour"
           }
          ],
          "contourcarpet": [
           {
            "colorbar": {
             "outlinewidth": 0,
             "ticks": ""
            },
            "type": "contourcarpet"
           }
          ],
          "heatmap": [
           {
            "colorbar": {
             "outlinewidth": 0,
             "ticks": ""
            },
            "colorscale": [
             [
              0,
              "#0d0887"
             ],
             [
              0.1111111111111111,
              "#46039f"
             ],
             [
              0.2222222222222222,
              "#7201a8"
             ],
             [
              0.3333333333333333,
              "#9c179e"
             ],
             [
              0.4444444444444444,
              "#bd3786"
             ],
             [
              0.5555555555555556,
              "#d8576b"
             ],
             [
              0.6666666666666666,
              "#ed7953"
             ],
             [
              0.7777777777777778,
              "#fb9f3a"
             ],
             [
              0.8888888888888888,
              "#fdca26"
             ],
             [
              1,
              "#f0f921"
             ]
            ],
            "type": "heatmap"
           }
          ],
          "heatmapgl": [
           {
            "colorbar": {
             "outlinewidth": 0,
             "ticks": ""
            },
            "colorscale": [
             [
              0,
              "#0d0887"
             ],
             [
              0.1111111111111111,
              "#46039f"
             ],
             [
              0.2222222222222222,
              "#7201a8"
             ],
             [
              0.3333333333333333,
              "#9c179e"
             ],
             [
              0.4444444444444444,
              "#bd3786"
             ],
             [
              0.5555555555555556,
              "#d8576b"
             ],
             [
              0.6666666666666666,
              "#ed7953"
             ],
             [
              0.7777777777777778,
              "#fb9f3a"
             ],
             [
              0.8888888888888888,
              "#fdca26"
             ],
             [
              1,
              "#f0f921"
             ]
            ],
            "type": "heatmapgl"
           }
          ],
          "histogram": [
           {
            "marker": {
             "colorbar": {
              "outlinewidth": 0,
              "ticks": ""
             }
            },
            "type": "histogram"
           }
          ],
          "histogram2d": [
           {
            "colorbar": {
             "outlinewidth": 0,
             "ticks": ""
            },
            "colorscale": [
             [
              0,
              "#0d0887"
             ],
             [
              0.1111111111111111,
              "#46039f"
             ],
             [
              0.2222222222222222,
              "#7201a8"
             ],
             [
              0.3333333333333333,
              "#9c179e"
             ],
             [
              0.4444444444444444,
              "#bd3786"
             ],
             [
              0.5555555555555556,
              "#d8576b"
             ],
             [
              0.6666666666666666,
              "#ed7953"
             ],
             [
              0.7777777777777778,
              "#fb9f3a"
             ],
             [
              0.8888888888888888,
              "#fdca26"
             ],
             [
              1,
              "#f0f921"
             ]
            ],
            "type": "histogram2d"
           }
          ],
          "histogram2dcontour": [
           {
            "colorbar": {
             "outlinewidth": 0,
             "ticks": ""
            },
            "colorscale": [
             [
              0,
              "#0d0887"
             ],
             [
              0.1111111111111111,
              "#46039f"
             ],
             [
              0.2222222222222222,
              "#7201a8"
             ],
             [
              0.3333333333333333,
              "#9c179e"
             ],
             [
              0.4444444444444444,
              "#bd3786"
             ],
             [
              0.5555555555555556,
              "#d8576b"
             ],
             [
              0.6666666666666666,
              "#ed7953"
             ],
             [
              0.7777777777777778,
              "#fb9f3a"
             ],
             [
              0.8888888888888888,
              "#fdca26"
             ],
             [
              1,
              "#f0f921"
             ]
            ],
            "type": "histogram2dcontour"
           }
          ],
          "mesh3d": [
           {
            "colorbar": {
             "outlinewidth": 0,
             "ticks": ""
            },
            "type": "mesh3d"
           }
          ],
          "parcoords": [
           {
            "line": {
             "colorbar": {
              "outlinewidth": 0,
              "ticks": ""
             }
            },
            "type": "parcoords"
           }
          ],
          "pie": [
           {
            "automargin": true,
            "type": "pie"
           }
          ],
          "scatter": [
           {
            "marker": {
             "colorbar": {
              "outlinewidth": 0,
              "ticks": ""
             }
            },
            "type": "scatter"
           }
          ],
          "scatter3d": [
           {
            "line": {
             "colorbar": {
              "outlinewidth": 0,
              "ticks": ""
             }
            },
            "marker": {
             "colorbar": {
              "outlinewidth": 0,
              "ticks": ""
             }
            },
            "type": "scatter3d"
           }
          ],
          "scattercarpet": [
           {
            "marker": {
             "colorbar": {
              "outlinewidth": 0,
              "ticks": ""
             }
            },
            "type": "scattercarpet"
           }
          ],
          "scattergeo": [
           {
            "marker": {
             "colorbar": {
              "outlinewidth": 0,
              "ticks": ""
             }
            },
            "type": "scattergeo"
           }
          ],
          "scattergl": [
           {
            "marker": {
             "colorbar": {
              "outlinewidth": 0,
              "ticks": ""
             }
            },
            "type": "scattergl"
           }
          ],
          "scattermapbox": [
           {
            "marker": {
             "colorbar": {
              "outlinewidth": 0,
              "ticks": ""
             }
            },
            "type": "scattermapbox"
           }
          ],
          "scatterpolar": [
           {
            "marker": {
             "colorbar": {
              "outlinewidth": 0,
              "ticks": ""
             }
            },
            "type": "scatterpolar"
           }
          ],
          "scatterpolargl": [
           {
            "marker": {
             "colorbar": {
              "outlinewidth": 0,
              "ticks": ""
             }
            },
            "type": "scatterpolargl"
           }
          ],
          "scatterternary": [
           {
            "marker": {
             "colorbar": {
              "outlinewidth": 0,
              "ticks": ""
             }
            },
            "type": "scatterternary"
           }
          ],
          "surface": [
           {
            "colorbar": {
             "outlinewidth": 0,
             "ticks": ""
            },
            "colorscale": [
             [
              0,
              "#0d0887"
             ],
             [
              0.1111111111111111,
              "#46039f"
             ],
             [
              0.2222222222222222,
              "#7201a8"
             ],
             [
              0.3333333333333333,
              "#9c179e"
             ],
             [
              0.4444444444444444,
              "#bd3786"
             ],
             [
              0.5555555555555556,
              "#d8576b"
             ],
             [
              0.6666666666666666,
              "#ed7953"
             ],
             [
              0.7777777777777778,
              "#fb9f3a"
             ],
             [
              0.8888888888888888,
              "#fdca26"
             ],
             [
              1,
              "#f0f921"
             ]
            ],
            "type": "surface"
           }
          ],
          "table": [
           {
            "cells": {
             "fill": {
              "color": "#EBF0F8"
             },
             "line": {
              "color": "white"
             }
            },
            "header": {
             "fill": {
              "color": "#C8D4E3"
             },
             "line": {
              "color": "white"
             }
            },
            "type": "table"
           }
          ]
         },
         "layout": {
          "annotationdefaults": {
           "arrowcolor": "#2a3f5f",
           "arrowhead": 0,
           "arrowwidth": 1
          },
          "autotypenumbers": "strict",
          "coloraxis": {
           "colorbar": {
            "outlinewidth": 0,
            "ticks": ""
           }
          },
          "colorscale": {
           "diverging": [
            [
             0,
             "#8e0152"
            ],
            [
             0.1,
             "#c51b7d"
            ],
            [
             0.2,
             "#de77ae"
            ],
            [
             0.3,
             "#f1b6da"
            ],
            [
             0.4,
             "#fde0ef"
            ],
            [
             0.5,
             "#f7f7f7"
            ],
            [
             0.6,
             "#e6f5d0"
            ],
            [
             0.7,
             "#b8e186"
            ],
            [
             0.8,
             "#7fbc41"
            ],
            [
             0.9,
             "#4d9221"
            ],
            [
             1,
             "#276419"
            ]
           ],
           "sequential": [
            [
             0,
             "#0d0887"
            ],
            [
             0.1111111111111111,
             "#46039f"
            ],
            [
             0.2222222222222222,
             "#7201a8"
            ],
            [
             0.3333333333333333,
             "#9c179e"
            ],
            [
             0.4444444444444444,
             "#bd3786"
            ],
            [
             0.5555555555555556,
             "#d8576b"
            ],
            [
             0.6666666666666666,
             "#ed7953"
            ],
            [
             0.7777777777777778,
             "#fb9f3a"
            ],
            [
             0.8888888888888888,
             "#fdca26"
            ],
            [
             1,
             "#f0f921"
            ]
           ],
           "sequentialminus": [
            [
             0,
             "#0d0887"
            ],
            [
             0.1111111111111111,
             "#46039f"
            ],
            [
             0.2222222222222222,
             "#7201a8"
            ],
            [
             0.3333333333333333,
             "#9c179e"
            ],
            [
             0.4444444444444444,
             "#bd3786"
            ],
            [
             0.5555555555555556,
             "#d8576b"
            ],
            [
             0.6666666666666666,
             "#ed7953"
            ],
            [
             0.7777777777777778,
             "#fb9f3a"
            ],
            [
             0.8888888888888888,
             "#fdca26"
            ],
            [
             1,
             "#f0f921"
            ]
           ]
          },
          "colorway": [
           "#636efa",
           "#EF553B",
           "#00cc96",
           "#ab63fa",
           "#FFA15A",
           "#19d3f3",
           "#FF6692",
           "#B6E880",
           "#FF97FF",
           "#FECB52"
          ],
          "font": {
           "color": "#2a3f5f"
          },
          "geo": {
           "bgcolor": "white",
           "lakecolor": "white",
           "landcolor": "#E5ECF6",
           "showlakes": true,
           "showland": true,
           "subunitcolor": "white"
          },
          "hoverlabel": {
           "align": "left"
          },
          "hovermode": "closest",
          "mapbox": {
           "style": "light"
          },
          "paper_bgcolor": "white",
          "plot_bgcolor": "#E5ECF6",
          "polar": {
           "angularaxis": {
            "gridcolor": "white",
            "linecolor": "white",
            "ticks": ""
           },
           "bgcolor": "#E5ECF6",
           "radialaxis": {
            "gridcolor": "white",
            "linecolor": "white",
            "ticks": ""
           }
          },
          "scene": {
           "xaxis": {
            "backgroundcolor": "#E5ECF6",
            "gridcolor": "white",
            "gridwidth": 2,
            "linecolor": "white",
            "showbackground": true,
            "ticks": "",
            "zerolinecolor": "white"
           },
           "yaxis": {
            "backgroundcolor": "#E5ECF6",
            "gridcolor": "white",
            "gridwidth": 2,
            "linecolor": "white",
            "showbackground": true,
            "ticks": "",
            "zerolinecolor": "white"
           },
           "zaxis": {
            "backgroundcolor": "#E5ECF6",
            "gridcolor": "white",
            "gridwidth": 2,
            "linecolor": "white",
            "showbackground": true,
            "ticks": "",
            "zerolinecolor": "white"
           }
          },
          "shapedefaults": {
           "line": {
            "color": "#2a3f5f"
           }
          },
          "ternary": {
           "aaxis": {
            "gridcolor": "white",
            "linecolor": "white",
            "ticks": ""
           },
           "baxis": {
            "gridcolor": "white",
            "linecolor": "white",
            "ticks": ""
           },
           "bgcolor": "#E5ECF6",
           "caxis": {
            "gridcolor": "white",
            "linecolor": "white",
            "ticks": ""
           }
          },
          "title": {
           "x": 0.05
          },
          "xaxis": {
           "automargin": true,
           "gridcolor": "white",
           "linecolor": "white",
           "ticks": "",
           "title": {
            "standoff": 15
           },
           "zerolinecolor": "white",
           "zerolinewidth": 2
          },
          "yaxis": {
           "automargin": true,
           "gridcolor": "white",
           "linecolor": "white",
           "ticks": "",
           "title": {
            "standoff": 15
           },
           "zerolinecolor": "white",
           "zerolinewidth": 2
          }
         }
        },
        "title": {
         "font": {
          "color": "#4D5663"
         }
        },
        "xaxis": {
         "gridcolor": "#E1E5ED",
         "showgrid": true,
         "tickfont": {
          "color": "#4D5663"
         },
         "title": {
          "font": {
           "color": "#4D5663"
          },
          "text": ""
         },
         "zerolinecolor": "#E1E5ED"
        },
        "yaxis": {
         "gridcolor": "#E1E5ED",
         "showgrid": true,
         "tickfont": {
          "color": "#4D5663"
         },
         "title": {
          "font": {
           "color": "#4D5663"
          },
          "text": ""
         },
         "zerolinecolor": "#E1E5ED"
        }
       }
      },
      "text/html": [
       "<div>                            <div id=\"a5a33500-6e91-4e60-8486-234a9fefe38f\" class=\"plotly-graph-div\" style=\"height:525px; width:100%;\"></div>            <script type=\"text/javascript\">                require([\"plotly\"], function(Plotly) {                    window.PLOTLYENV=window.PLOTLYENV || {};\n",
       "                    window.PLOTLYENV.BASE_URL='https://plot.ly';                                    if (document.getElementById(\"a5a33500-6e91-4e60-8486-234a9fefe38f\")) {                    Plotly.newPlot(                        \"a5a33500-6e91-4e60-8486-234a9fefe38f\",                        [{\"colorscale\": [[0.0, \"rgb(165,0,38)\"], [0.1, \"rgb(215,48,39)\"], [0.2, \"rgb(244,109,67)\"], [0.3, \"rgb(253,174,97)\"], [0.4, \"rgb(254,224,144)\"], [0.5, \"rgb(255,255,191)\"], [0.6, \"rgb(224,243,248)\"], [0.7, \"rgb(171,217,233)\"], [0.8, \"rgb(116,173,209)\"], [0.9, \"rgb(69,117,180)\"], [1.0, \"rgb(49,54,149)\"]], \"type\": \"surface\", \"x\": [0, 1, 2, 3, 4], \"y\": [\"x\", \"y\", \"z\"], \"z\": [[1, 2, 3, 4, 5], [10, 20, 30, 20, 10], [5, 4, 3, 2, 1]]}],                        {\"legend\": {\"bgcolor\": \"#F5F6F9\", \"font\": {\"color\": \"#4D5663\"}}, \"paper_bgcolor\": \"#F5F6F9\", \"plot_bgcolor\": \"#F5F6F9\", \"template\": {\"data\": {\"bar\": [{\"error_x\": {\"color\": \"#2a3f5f\"}, \"error_y\": {\"color\": \"#2a3f5f\"}, \"marker\": {\"line\": {\"color\": \"#E5ECF6\", \"width\": 0.5}}, \"type\": \"bar\"}], \"barpolar\": [{\"marker\": {\"line\": {\"color\": \"#E5ECF6\", \"width\": 0.5}}, \"type\": \"barpolar\"}], \"carpet\": [{\"aaxis\": {\"endlinecolor\": \"#2a3f5f\", \"gridcolor\": \"white\", \"linecolor\": \"white\", \"minorgridcolor\": \"white\", \"startlinecolor\": \"#2a3f5f\"}, \"baxis\": {\"endlinecolor\": \"#2a3f5f\", \"gridcolor\": \"white\", \"linecolor\": \"white\", \"minorgridcolor\": \"white\", \"startlinecolor\": \"#2a3f5f\"}, \"type\": \"carpet\"}], \"choropleth\": [{\"colorbar\": {\"outlinewidth\": 0, \"ticks\": \"\"}, \"type\": \"choropleth\"}], \"contour\": [{\"colorbar\": {\"outlinewidth\": 0, \"ticks\": \"\"}, \"colorscale\": [[0.0, \"#0d0887\"], [0.1111111111111111, \"#46039f\"], [0.2222222222222222, \"#7201a8\"], [0.3333333333333333, \"#9c179e\"], [0.4444444444444444, \"#bd3786\"], [0.5555555555555556, \"#d8576b\"], [0.6666666666666666, \"#ed7953\"], [0.7777777777777778, \"#fb9f3a\"], [0.8888888888888888, \"#fdca26\"], [1.0, \"#f0f921\"]], \"type\": \"contour\"}], \"contourcarpet\": [{\"colorbar\": {\"outlinewidth\": 0, \"ticks\": \"\"}, \"type\": \"contourcarpet\"}], \"heatmap\": [{\"colorbar\": {\"outlinewidth\": 0, \"ticks\": \"\"}, \"colorscale\": [[0.0, \"#0d0887\"], [0.1111111111111111, \"#46039f\"], [0.2222222222222222, \"#7201a8\"], [0.3333333333333333, \"#9c179e\"], [0.4444444444444444, \"#bd3786\"], [0.5555555555555556, \"#d8576b\"], [0.6666666666666666, \"#ed7953\"], [0.7777777777777778, \"#fb9f3a\"], [0.8888888888888888, \"#fdca26\"], [1.0, \"#f0f921\"]], \"type\": \"heatmap\"}], \"heatmapgl\": [{\"colorbar\": {\"outlinewidth\": 0, \"ticks\": \"\"}, \"colorscale\": [[0.0, \"#0d0887\"], [0.1111111111111111, \"#46039f\"], [0.2222222222222222, \"#7201a8\"], [0.3333333333333333, \"#9c179e\"], [0.4444444444444444, \"#bd3786\"], [0.5555555555555556, \"#d8576b\"], [0.6666666666666666, \"#ed7953\"], [0.7777777777777778, \"#fb9f3a\"], [0.8888888888888888, \"#fdca26\"], [1.0, \"#f0f921\"]], \"type\": \"heatmapgl\"}], \"histogram\": [{\"marker\": {\"colorbar\": {\"outlinewidth\": 0, \"ticks\": \"\"}}, \"type\": \"histogram\"}], \"histogram2d\": [{\"colorbar\": {\"outlinewidth\": 0, \"ticks\": \"\"}, \"colorscale\": [[0.0, \"#0d0887\"], [0.1111111111111111, \"#46039f\"], [0.2222222222222222, \"#7201a8\"], [0.3333333333333333, \"#9c179e\"], [0.4444444444444444, \"#bd3786\"], [0.5555555555555556, \"#d8576b\"], [0.6666666666666666, \"#ed7953\"], [0.7777777777777778, \"#fb9f3a\"], [0.8888888888888888, \"#fdca26\"], [1.0, \"#f0f921\"]], \"type\": \"histogram2d\"}], \"histogram2dcontour\": [{\"colorbar\": {\"outlinewidth\": 0, \"ticks\": \"\"}, \"colorscale\": [[0.0, \"#0d0887\"], [0.1111111111111111, \"#46039f\"], [0.2222222222222222, \"#7201a8\"], [0.3333333333333333, \"#9c179e\"], [0.4444444444444444, \"#bd3786\"], [0.5555555555555556, \"#d8576b\"], [0.6666666666666666, \"#ed7953\"], [0.7777777777777778, \"#fb9f3a\"], [0.8888888888888888, \"#fdca26\"], [1.0, \"#f0f921\"]], \"type\": \"histogram2dcontour\"}], \"mesh3d\": [{\"colorbar\": {\"outlinewidth\": 0, \"ticks\": \"\"}, \"type\": \"mesh3d\"}], \"parcoords\": [{\"line\": {\"colorbar\": {\"outlinewidth\": 0, \"ticks\": \"\"}}, \"type\": \"parcoords\"}], \"pie\": [{\"automargin\": true, \"type\": \"pie\"}], \"scatter\": [{\"marker\": {\"colorbar\": {\"outlinewidth\": 0, \"ticks\": \"\"}}, \"type\": \"scatter\"}], \"scatter3d\": [{\"line\": {\"colorbar\": {\"outlinewidth\": 0, \"ticks\": \"\"}}, \"marker\": {\"colorbar\": {\"outlinewidth\": 0, \"ticks\": \"\"}}, \"type\": \"scatter3d\"}], \"scattercarpet\": [{\"marker\": {\"colorbar\": {\"outlinewidth\": 0, \"ticks\": \"\"}}, \"type\": \"scattercarpet\"}], \"scattergeo\": [{\"marker\": {\"colorbar\": {\"outlinewidth\": 0, \"ticks\": \"\"}}, \"type\": \"scattergeo\"}], \"scattergl\": [{\"marker\": {\"colorbar\": {\"outlinewidth\": 0, \"ticks\": \"\"}}, \"type\": \"scattergl\"}], \"scattermapbox\": [{\"marker\": {\"colorbar\": {\"outlinewidth\": 0, \"ticks\": \"\"}}, \"type\": \"scattermapbox\"}], \"scatterpolar\": [{\"marker\": {\"colorbar\": {\"outlinewidth\": 0, \"ticks\": \"\"}}, \"type\": \"scatterpolar\"}], \"scatterpolargl\": [{\"marker\": {\"colorbar\": {\"outlinewidth\": 0, \"ticks\": \"\"}}, \"type\": \"scatterpolargl\"}], \"scatterternary\": [{\"marker\": {\"colorbar\": {\"outlinewidth\": 0, \"ticks\": \"\"}}, \"type\": \"scatterternary\"}], \"surface\": [{\"colorbar\": {\"outlinewidth\": 0, \"ticks\": \"\"}, \"colorscale\": [[0.0, \"#0d0887\"], [0.1111111111111111, \"#46039f\"], [0.2222222222222222, \"#7201a8\"], [0.3333333333333333, \"#9c179e\"], [0.4444444444444444, \"#bd3786\"], [0.5555555555555556, \"#d8576b\"], [0.6666666666666666, \"#ed7953\"], [0.7777777777777778, \"#fb9f3a\"], [0.8888888888888888, \"#fdca26\"], [1.0, \"#f0f921\"]], \"type\": \"surface\"}], \"table\": [{\"cells\": {\"fill\": {\"color\": \"#EBF0F8\"}, \"line\": {\"color\": \"white\"}}, \"header\": {\"fill\": {\"color\": \"#C8D4E3\"}, \"line\": {\"color\": \"white\"}}, \"type\": \"table\"}]}, \"layout\": {\"annotationdefaults\": {\"arrowcolor\": \"#2a3f5f\", \"arrowhead\": 0, \"arrowwidth\": 1}, \"autotypenumbers\": \"strict\", \"coloraxis\": {\"colorbar\": {\"outlinewidth\": 0, \"ticks\": \"\"}}, \"colorscale\": {\"diverging\": [[0, \"#8e0152\"], [0.1, \"#c51b7d\"], [0.2, \"#de77ae\"], [0.3, \"#f1b6da\"], [0.4, \"#fde0ef\"], [0.5, \"#f7f7f7\"], [0.6, \"#e6f5d0\"], [0.7, \"#b8e186\"], [0.8, \"#7fbc41\"], [0.9, \"#4d9221\"], [1, \"#276419\"]], \"sequential\": [[0.0, \"#0d0887\"], [0.1111111111111111, \"#46039f\"], [0.2222222222222222, \"#7201a8\"], [0.3333333333333333, \"#9c179e\"], [0.4444444444444444, \"#bd3786\"], [0.5555555555555556, \"#d8576b\"], [0.6666666666666666, \"#ed7953\"], [0.7777777777777778, \"#fb9f3a\"], [0.8888888888888888, \"#fdca26\"], [1.0, \"#f0f921\"]], \"sequentialminus\": [[0.0, \"#0d0887\"], [0.1111111111111111, \"#46039f\"], [0.2222222222222222, \"#7201a8\"], [0.3333333333333333, \"#9c179e\"], [0.4444444444444444, \"#bd3786\"], [0.5555555555555556, \"#d8576b\"], [0.6666666666666666, \"#ed7953\"], [0.7777777777777778, \"#fb9f3a\"], [0.8888888888888888, \"#fdca26\"], [1.0, \"#f0f921\"]]}, \"colorway\": [\"#636efa\", \"#EF553B\", \"#00cc96\", \"#ab63fa\", \"#FFA15A\", \"#19d3f3\", \"#FF6692\", \"#B6E880\", \"#FF97FF\", \"#FECB52\"], \"font\": {\"color\": \"#2a3f5f\"}, \"geo\": {\"bgcolor\": \"white\", \"lakecolor\": \"white\", \"landcolor\": \"#E5ECF6\", \"showlakes\": true, \"showland\": true, \"subunitcolor\": \"white\"}, \"hoverlabel\": {\"align\": \"left\"}, \"hovermode\": \"closest\", \"mapbox\": {\"style\": \"light\"}, \"paper_bgcolor\": \"white\", \"plot_bgcolor\": \"#E5ECF6\", \"polar\": {\"angularaxis\": {\"gridcolor\": \"white\", \"linecolor\": \"white\", \"ticks\": \"\"}, \"bgcolor\": \"#E5ECF6\", \"radialaxis\": {\"gridcolor\": \"white\", \"linecolor\": \"white\", \"ticks\": \"\"}}, \"scene\": {\"xaxis\": {\"backgroundcolor\": \"#E5ECF6\", \"gridcolor\": \"white\", \"gridwidth\": 2, \"linecolor\": \"white\", \"showbackground\": true, \"ticks\": \"\", \"zerolinecolor\": \"white\"}, \"yaxis\": {\"backgroundcolor\": \"#E5ECF6\", \"gridcolor\": \"white\", \"gridwidth\": 2, \"linecolor\": \"white\", \"showbackground\": true, \"ticks\": \"\", \"zerolinecolor\": \"white\"}, \"zaxis\": {\"backgroundcolor\": \"#E5ECF6\", \"gridcolor\": \"white\", \"gridwidth\": 2, \"linecolor\": \"white\", \"showbackground\": true, \"ticks\": \"\", \"zerolinecolor\": \"white\"}}, \"shapedefaults\": {\"line\": {\"color\": \"#2a3f5f\"}}, \"ternary\": {\"aaxis\": {\"gridcolor\": \"white\", \"linecolor\": \"white\", \"ticks\": \"\"}, \"baxis\": {\"gridcolor\": \"white\", \"linecolor\": \"white\", \"ticks\": \"\"}, \"bgcolor\": \"#E5ECF6\", \"caxis\": {\"gridcolor\": \"white\", \"linecolor\": \"white\", \"ticks\": \"\"}}, \"title\": {\"x\": 0.05}, \"xaxis\": {\"automargin\": true, \"gridcolor\": \"white\", \"linecolor\": \"white\", \"ticks\": \"\", \"title\": {\"standoff\": 15}, \"zerolinecolor\": \"white\", \"zerolinewidth\": 2}, \"yaxis\": {\"automargin\": true, \"gridcolor\": \"white\", \"linecolor\": \"white\", \"ticks\": \"\", \"title\": {\"standoff\": 15}, \"zerolinecolor\": \"white\", \"zerolinewidth\": 2}}}, \"title\": {\"font\": {\"color\": \"#4D5663\"}}, \"xaxis\": {\"gridcolor\": \"#E1E5ED\", \"showgrid\": true, \"tickfont\": {\"color\": \"#4D5663\"}, \"title\": {\"font\": {\"color\": \"#4D5663\"}, \"text\": \"\"}, \"zerolinecolor\": \"#E1E5ED\"}, \"yaxis\": {\"gridcolor\": \"#E1E5ED\", \"showgrid\": true, \"tickfont\": {\"color\": \"#4D5663\"}, \"title\": {\"font\": {\"color\": \"#4D5663\"}, \"text\": \"\"}, \"zerolinecolor\": \"#E1E5ED\"}},                        {\"showLink\": true, \"linkText\": \"Export to plot.ly\", \"plotlyServerURL\": \"https://plot.ly\", \"responsive\": true}                    ).then(function(){\n",
       "                            \n",
       "var gd = document.getElementById('a5a33500-6e91-4e60-8486-234a9fefe38f');\n",
       "var x = new MutationObserver(function (mutations, observer) {{\n",
       "        var display = window.getComputedStyle(gd).display;\n",
       "        if (!display || display === 'none') {{\n",
       "            console.log([gd, 'removed!']);\n",
       "            Plotly.purge(gd);\n",
       "            observer.disconnect();\n",
       "        }}\n",
       "}});\n",
       "\n",
       "// Listen for the removal of the full notebook cells\n",
       "var notebookContainer = gd.closest('#notebook-container');\n",
       "if (notebookContainer) {{\n",
       "    x.observe(notebookContainer, {childList: true});\n",
       "}}\n",
       "\n",
       "// Listen for the clearing of the current output cell\n",
       "var outputEl = gd.closest('.output');\n",
       "if (outputEl) {{\n",
       "    x.observe(outputEl, {childList: true});\n",
       "}}\n",
       "\n",
       "                        })                };                });            </script>        </div>"
      ]
     },
     "metadata": {},
     "output_type": "display_data"
    }
   ],
   "source": [
    "df3 = pd.DataFrame({'x':[1,2,3,4,5],'y':[10,20,30,20,10],'z':[5,4,3,2,1]})\n",
    "df3.iplot(kind='surface',colorscale='rdylbu')"
   ]
  },
  {
   "cell_type": "markdown",
   "metadata": {},
   "source": [
    "## Spread"
   ]
  },
  {
   "cell_type": "code",
   "execution_count": 15,
   "metadata": {},
   "outputs": [
    {
     "name": "stderr",
     "output_type": "stream",
     "text": [
      "C:\\Users\\Aarnav\\anaconda3\\lib\\site-packages\\cufflinks\\plotlytools.py:849: FutureWarning:\n",
      "\n",
      "The pandas.np module is deprecated and will be removed from pandas in a future version. Import numpy directly instead\n",
      "\n",
      "C:\\Users\\Aarnav\\anaconda3\\lib\\site-packages\\cufflinks\\plotlytools.py:850: FutureWarning:\n",
      "\n",
      "The pandas.np module is deprecated and will be removed from pandas in a future version. Import numpy directly instead\n",
      "\n"
     ]
    },
    {
     "data": {
      "application/vnd.plotly.v1+json": {
       "config": {
        "linkText": "Export to plot.ly",
        "plotlyServerURL": "https://plot.ly",
        "showLink": true
       },
       "data": [
        {
         "line": {
          "color": "rgba(255, 153, 51, 1.0)",
          "dash": "solid",
          "shape": "linear",
          "width": 1.3
         },
         "mode": "lines",
         "name": "A",
         "text": "",
         "type": "scatter",
         "x": [
          0,
          1,
          2,
          3,
          4,
          5,
          6,
          7,
          8,
          9,
          10,
          11,
          12,
          13,
          14,
          15,
          16,
          17,
          18,
          19,
          20,
          21,
          22,
          23,
          24,
          25,
          26,
          27,
          28,
          29,
          30,
          31,
          32,
          33,
          34,
          35,
          36,
          37,
          38,
          39,
          40,
          41,
          42,
          43,
          44,
          45,
          46,
          47,
          48,
          49,
          50,
          51,
          52,
          53,
          54,
          55,
          56,
          57,
          58,
          59,
          60,
          61,
          62,
          63,
          64,
          65,
          66,
          67,
          68,
          69,
          70,
          71,
          72,
          73,
          74,
          75,
          76,
          77,
          78,
          79,
          80,
          81,
          82,
          83,
          84,
          85,
          86,
          87,
          88,
          89,
          90,
          91,
          92,
          93,
          94,
          95,
          96,
          97,
          98,
          99
         ],
         "y": [
          -2.5270110065280242,
          1.6680174651519772,
          0.45001559995548196,
          -0.02045562584354937,
          -0.04696767175551414,
          -0.43901181387379545,
          1.7070413018056958,
          0.08565188696795122,
          -0.3344293828596582,
          0.9500404409209297,
          -0.21019113833514888,
          0.3604224452923828,
          -1.11216805280219,
          -1.5604767575486982,
          0.28660620043355134,
          0.13083296630364566,
          0.6822576428639039,
          -0.4829122357799119,
          -1.0615796698603883,
          1.5279868368772598,
          0.7273176523923723,
          -0.01668581955173972,
          -0.14431916847878662,
          -0.6694863923053975,
          -2.3470302981384954,
          -1.1661753763114484,
          -0.027495754023257737,
          -1.1940607139239843,
          1.2022992752144077,
          -1.2637653296749367,
          2.193581276644731,
          1.5401952281442286,
          1.2435478976767964,
          1.1198451524009416,
          0.6659197389716871,
          0.9129273941343368,
          -1.6551091407193894,
          -0.2022455946334687,
          1.7466718899342617,
          -1.0705815568121162,
          -0.5031411081362345,
          1.4354268289538574,
          0.35012433605173376,
          2.276633138686141,
          -0.010746264868391347,
          -0.3368132777335987,
          -0.42996015575909946,
          -0.14383787852590885,
          -0.36458495384677464,
          0.886255773590493,
          1.2708758764720964,
          -0.17095937360923044,
          1.7962916184698736,
          0.7468575618528512,
          0.27557541233497135,
          -0.4293600119498419,
          0.39163991626736816,
          0.28128110983445603,
          -0.5827217868530749,
          -0.8122462897014714,
          -1.4807240533031878,
          -1.9499612762391623,
          -1.0592607140515602,
          -1.6477046188858,
          1.0012645286707358,
          0.862565704579482,
          0.039131466186083146,
          0.6622855462079307,
          0.5149700197353527,
          -0.6940121322135872,
          0.15324988368917486,
          -0.5476656394961759,
          -0.004292537672022745,
          0.7637978366095226,
          0.15075134016268965,
          -1.210306488771418,
          1.4986544939320934,
          0.9920524382552748,
          0.5463758713635003,
          1.5976786993787182,
          -0.47325106610739365,
          -0.059765588262616895,
          -0.35657783893539957,
          1.0761729057971934,
          0.3656428099020587,
          1.846283176033301,
          0.5930304044860237,
          0.29793987221014107,
          0.8924446468847728,
          -0.5099299114197214,
          0.917801363350686,
          -0.5476396165319876,
          0.08810377362737165,
          0.67716359658272,
          -1.2866001392254593,
          0.3505270777704328,
          -0.35502740703668406,
          0.3198277785003611,
          -1.2683305733699586,
          -0.8306454799809649
         ]
        },
        {
         "line": {
          "color": "rgba(55, 128, 191, 1.0)",
          "dash": "solid",
          "shape": "linear",
          "width": 1.3
         },
         "mode": "lines",
         "name": "B",
         "text": "",
         "type": "scatter",
         "x": [
          0,
          1,
          2,
          3,
          4,
          5,
          6,
          7,
          8,
          9,
          10,
          11,
          12,
          13,
          14,
          15,
          16,
          17,
          18,
          19,
          20,
          21,
          22,
          23,
          24,
          25,
          26,
          27,
          28,
          29,
          30,
          31,
          32,
          33,
          34,
          35,
          36,
          37,
          38,
          39,
          40,
          41,
          42,
          43,
          44,
          45,
          46,
          47,
          48,
          49,
          50,
          51,
          52,
          53,
          54,
          55,
          56,
          57,
          58,
          59,
          60,
          61,
          62,
          63,
          64,
          65,
          66,
          67,
          68,
          69,
          70,
          71,
          72,
          73,
          74,
          75,
          76,
          77,
          78,
          79,
          80,
          81,
          82,
          83,
          84,
          85,
          86,
          87,
          88,
          89,
          90,
          91,
          92,
          93,
          94,
          95,
          96,
          97,
          98,
          99
         ],
         "y": [
          0.6077342487016018,
          -0.4731893416109403,
          -1.3768007323560167,
          -1.426830575049864,
          0.12874988879814375,
          -0.947733813933697,
          0.5238344892217599,
          0.4840873187211147,
          -0.14012108582502,
          -1.8873437456128668,
          -0.14026679486783325,
          0.4586861028400738,
          -0.10395573252720713,
          0.06140834037940289,
          -0.3502091575413244,
          -2.0090925410123672,
          0.4364534526441894,
          2.1817271426605065,
          -0.6445403959738393,
          0.45419525315091375,
          -0.5176436627591724,
          0.5329488253779412,
          0.3411555558959055,
          0.1950287322958298,
          -1.892179875114976,
          -0.04305897101210228,
          1.026946935339796,
          1.4848231767312008,
          -0.6055364169071535,
          0.4237220678947114,
          0.5388665211938162,
          -0.6728594434723479,
          -1.1915342740995833,
          0.5941628508263933,
          -0.863275792769601,
          0.047691635733050526,
          -0.4305545961459695,
          -2.2342519811712185,
          -0.5520756194783913,
          2.397078675528769,
          0.4545527413537645,
          -1.016763728464053,
          -0.6026059735096668,
          0.5137861018262334,
          0.5881748149974206,
          1.188626116200059,
          -0.3169650249940472,
          0.6923341698729818,
          -2.097714086167859,
          -0.5526867895889804,
          0.2120071963811955,
          -0.6187381387292377,
          0.9596534764458649,
          0.032236559936918534,
          -1.8499788850248917,
          2.503462048187462,
          1.1279064832228873,
          -1.2725792355196437,
          1.121997168063789,
          -0.4687798848657744,
          1.5793951413013747,
          2.1816459185106987,
          0.46107945737165623,
          0.5236098062294923,
          -1.1596068392298857,
          0.24036944442115304,
          0.6304058035738712,
          -1.0185978020522959,
          -0.15179028153027518,
          -0.08919393697884163,
          0.7714753987146433,
          -0.5390364543872649,
          1.920551168018313,
          0.3063838030070926,
          -0.22397774797668304,
          -1.0448493502254013,
          -1.2544416899655373,
          0.4892953069810365,
          0.697919876015075,
          0.6485908307169317,
          0.40662451216039197,
          0.5765804446501441,
          -0.44768295089216714,
          -0.738650617470391,
          0.24395544214563125,
          -1.5275755299976472,
          -0.23712520374440696,
          -0.45122748413867386,
          0.5496027629689889,
          1.5441391625326482,
          0.9254372535361087,
          -0.5676555714360765,
          1.7135407953393513,
          2.7406862509354215,
          0.7133139060010656,
          -0.1828690990490576,
          0.24013813467922385,
          -1.2477864222587203,
          0.6116994227216244,
          0.9070783540161795
         ]
        },
        {
         "connectgaps": false,
         "fill": "tozeroy",
         "line": {
          "color": "green",
          "dash": "solid",
          "shape": "linear",
          "width": 0.5
         },
         "mode": "lines",
         "name": "Spread",
         "showlegend": false,
         "type": "scatter",
         "x": [
          0,
          1,
          2,
          3,
          4,
          5,
          6,
          7,
          8,
          9,
          10,
          11,
          12,
          13,
          14,
          15,
          16,
          17,
          18,
          19,
          20,
          21,
          22,
          23,
          24,
          25,
          26,
          27,
          28,
          29,
          30,
          31,
          32,
          33,
          34,
          35,
          36,
          37,
          38,
          39,
          40,
          41,
          42,
          43,
          44,
          45,
          46,
          47,
          48,
          49,
          50,
          51,
          52,
          53,
          54,
          55,
          56,
          57,
          58,
          59,
          60,
          61,
          62,
          63,
          64,
          65,
          66,
          67,
          68,
          69,
          70,
          71,
          72,
          73,
          74,
          75,
          76,
          77,
          78,
          79,
          80,
          81,
          82,
          83,
          84,
          85,
          86,
          87,
          88,
          89,
          90,
          91,
          92,
          93,
          94,
          95,
          96,
          97,
          98,
          99
         ],
         "xaxis": "x2",
         "y": [
          "",
          2.1412068067629173,
          1.8268163323114988,
          1.4063749492063147,
          "",
          0.5087220000599015,
          1.183206812583936,
          "",
          "",
          2.8373841865337965,
          "",
          "",
          "",
          "",
          0.6368153579748758,
          2.139925507316013,
          0.2458041902197145,
          "",
          "",
          1.073791583726346,
          1.2449613151515448,
          "",
          "",
          "",
          "",
          "",
          "",
          "",
          1.8078356921215613,
          "",
          1.654714755450915,
          2.2130546716165767,
          2.4350821717763798,
          0.5256823015745483,
          1.529195531741288,
          0.8652357584012862,
          "",
          2.03200638653775,
          2.298747509412653,
          "",
          "",
          2.4521905574179104,
          0.9527303095614006,
          1.7628470368599078,
          "",
          "",
          "",
          "",
          1.7331291323210842,
          1.4389425631794734,
          1.0588686800909008,
          0.44777876512000725,
          0.8366381420240088,
          0.7146210019159327,
          2.125554297359863,
          "",
          "",
          1.5538603453540998,
          "",
          "",
          "",
          "",
          "",
          "",
          2.1608713679006213,
          0.622196260158329,
          "",
          1.6808833482602266,
          0.6667603012656279,
          "",
          "",
          "",
          "",
          0.45741403360243,
          0.37472908813937267,
          "",
          2.7530961838976307,
          0.5027571312742383,
          "",
          0.9490878686617865,
          "",
          "",
          0.09110511195676757,
          1.8148235232675844,
          0.12168736775642747,
          3.373858706030948,
          0.8301556082304307,
          0.7491673563488149,
          0.34284188391578385,
          "",
          "",
          0.020015954904088917,
          "",
          "",
          "",
          0.5333961768194904,
          "",
          1.5676142007590814,
          "",
          ""
         ],
         "yaxis": "y2"
        },
        {
         "connectgaps": false,
         "fill": "tozeroy",
         "line": {
          "color": "red",
          "dash": "solid",
          "shape": "linear",
          "width": 0.5
         },
         "mode": "lines",
         "name": "Spread",
         "showlegend": false,
         "type": "scatter",
         "x": [
          0,
          1,
          2,
          3,
          4,
          5,
          6,
          7,
          8,
          9,
          10,
          11,
          12,
          13,
          14,
          15,
          16,
          17,
          18,
          19,
          20,
          21,
          22,
          23,
          24,
          25,
          26,
          27,
          28,
          29,
          30,
          31,
          32,
          33,
          34,
          35,
          36,
          37,
          38,
          39,
          40,
          41,
          42,
          43,
          44,
          45,
          46,
          47,
          48,
          49,
          50,
          51,
          52,
          53,
          54,
          55,
          56,
          57,
          58,
          59,
          60,
          61,
          62,
          63,
          64,
          65,
          66,
          67,
          68,
          69,
          70,
          71,
          72,
          73,
          74,
          75,
          76,
          77,
          78,
          79,
          80,
          81,
          82,
          83,
          84,
          85,
          86,
          87,
          88,
          89,
          90,
          91,
          92,
          93,
          94,
          95,
          96,
          97,
          98,
          99
         ],
         "xaxis": "x2",
         "y": [
          -3.134745255229626,
          "",
          "",
          "",
          -0.1757175605536579,
          "",
          "",
          -0.3984354317531635,
          -0.19430829703463817,
          "",
          -0.06992434346731563,
          -0.09826365754769095,
          -1.0082123202749829,
          -1.621885097928101,
          "",
          "",
          "",
          -2.6646393784404183,
          -0.41703927388654904,
          "",
          "",
          -0.549634644929681,
          -0.48547472437469213,
          -0.8645151246012273,
          -0.4548504230235193,
          -1.123116405299346,
          -1.0544426893630536,
          -2.678883890655185,
          "",
          -1.687487397569648,
          "",
          "",
          "",
          "",
          "",
          "",
          -1.2245545445734198,
          "",
          "",
          -3.467660232340885,
          -0.9576938494899989,
          "",
          "",
          "",
          -0.598921079865812,
          -1.5254393939336577,
          -0.11299513076505224,
          -0.8361720483988906,
          "",
          "",
          "",
          "",
          "",
          "",
          "",
          -2.932822060137304,
          -0.7362665669555192,
          "",
          -1.704718954916864,
          -0.343466404835697,
          -3.0601191946045625,
          -4.131607194749861,
          -1.5203401714232165,
          -2.171314425115292,
          "",
          "",
          -0.5912743373877881,
          "",
          "",
          -0.6048181952347456,
          -0.6182255150254685,
          -0.008629185108910975,
          -1.9248437056903356,
          "",
          "",
          -0.16545713854601685,
          "",
          "",
          -0.1515440046515747,
          "",
          -0.8798755782677856,
          -0.636346032912761,
          "",
          "",
          "",
          "",
          "",
          "",
          "",
          -2.0540690739523697,
          -0.007635890185422767,
          "",
          -1.6254370217119796,
          -2.0635226543527017,
          -1.999914045226525,
          "",
          -0.5951655417159079,
          "",
          -1.880029996091583,
          -1.7377238339971446
         ],
         "yaxis": "y2"
        }
       ],
       "layout": {
        "hovermode": "x",
        "legend": {
         "bgcolor": "#F5F6F9",
         "font": {
          "color": "#4D5663"
         }
        },
        "paper_bgcolor": "#F5F6F9",
        "plot_bgcolor": "#F5F6F9",
        "template": {
         "data": {
          "bar": [
           {
            "error_x": {
             "color": "#2a3f5f"
            },
            "error_y": {
             "color": "#2a3f5f"
            },
            "marker": {
             "line": {
              "color": "#E5ECF6",
              "width": 0.5
             }
            },
            "type": "bar"
           }
          ],
          "barpolar": [
           {
            "marker": {
             "line": {
              "color": "#E5ECF6",
              "width": 0.5
             }
            },
            "type": "barpolar"
           }
          ],
          "carpet": [
           {
            "aaxis": {
             "endlinecolor": "#2a3f5f",
             "gridcolor": "white",
             "linecolor": "white",
             "minorgridcolor": "white",
             "startlinecolor": "#2a3f5f"
            },
            "baxis": {
             "endlinecolor": "#2a3f5f",
             "gridcolor": "white",
             "linecolor": "white",
             "minorgridcolor": "white",
             "startlinecolor": "#2a3f5f"
            },
            "type": "carpet"
           }
          ],
          "choropleth": [
           {
            "colorbar": {
             "outlinewidth": 0,
             "ticks": ""
            },
            "type": "choropleth"
           }
          ],
          "contour": [
           {
            "colorbar": {
             "outlinewidth": 0,
             "ticks": ""
            },
            "colorscale": [
             [
              0,
              "#0d0887"
             ],
             [
              0.1111111111111111,
              "#46039f"
             ],
             [
              0.2222222222222222,
              "#7201a8"
             ],
             [
              0.3333333333333333,
              "#9c179e"
             ],
             [
              0.4444444444444444,
              "#bd3786"
             ],
             [
              0.5555555555555556,
              "#d8576b"
             ],
             [
              0.6666666666666666,
              "#ed7953"
             ],
             [
              0.7777777777777778,
              "#fb9f3a"
             ],
             [
              0.8888888888888888,
              "#fdca26"
             ],
             [
              1,
              "#f0f921"
             ]
            ],
            "type": "contour"
           }
          ],
          "contourcarpet": [
           {
            "colorbar": {
             "outlinewidth": 0,
             "ticks": ""
            },
            "type": "contourcarpet"
           }
          ],
          "heatmap": [
           {
            "colorbar": {
             "outlinewidth": 0,
             "ticks": ""
            },
            "colorscale": [
             [
              0,
              "#0d0887"
             ],
             [
              0.1111111111111111,
              "#46039f"
             ],
             [
              0.2222222222222222,
              "#7201a8"
             ],
             [
              0.3333333333333333,
              "#9c179e"
             ],
             [
              0.4444444444444444,
              "#bd3786"
             ],
             [
              0.5555555555555556,
              "#d8576b"
             ],
             [
              0.6666666666666666,
              "#ed7953"
             ],
             [
              0.7777777777777778,
              "#fb9f3a"
             ],
             [
              0.8888888888888888,
              "#fdca26"
             ],
             [
              1,
              "#f0f921"
             ]
            ],
            "type": "heatmap"
           }
          ],
          "heatmapgl": [
           {
            "colorbar": {
             "outlinewidth": 0,
             "ticks": ""
            },
            "colorscale": [
             [
              0,
              "#0d0887"
             ],
             [
              0.1111111111111111,
              "#46039f"
             ],
             [
              0.2222222222222222,
              "#7201a8"
             ],
             [
              0.3333333333333333,
              "#9c179e"
             ],
             [
              0.4444444444444444,
              "#bd3786"
             ],
             [
              0.5555555555555556,
              "#d8576b"
             ],
             [
              0.6666666666666666,
              "#ed7953"
             ],
             [
              0.7777777777777778,
              "#fb9f3a"
             ],
             [
              0.8888888888888888,
              "#fdca26"
             ],
             [
              1,
              "#f0f921"
             ]
            ],
            "type": "heatmapgl"
           }
          ],
          "histogram": [
           {
            "marker": {
             "colorbar": {
              "outlinewidth": 0,
              "ticks": ""
             }
            },
            "type": "histogram"
           }
          ],
          "histogram2d": [
           {
            "colorbar": {
             "outlinewidth": 0,
             "ticks": ""
            },
            "colorscale": [
             [
              0,
              "#0d0887"
             ],
             [
              0.1111111111111111,
              "#46039f"
             ],
             [
              0.2222222222222222,
              "#7201a8"
             ],
             [
              0.3333333333333333,
              "#9c179e"
             ],
             [
              0.4444444444444444,
              "#bd3786"
             ],
             [
              0.5555555555555556,
              "#d8576b"
             ],
             [
              0.6666666666666666,
              "#ed7953"
             ],
             [
              0.7777777777777778,
              "#fb9f3a"
             ],
             [
              0.8888888888888888,
              "#fdca26"
             ],
             [
              1,
              "#f0f921"
             ]
            ],
            "type": "histogram2d"
           }
          ],
          "histogram2dcontour": [
           {
            "colorbar": {
             "outlinewidth": 0,
             "ticks": ""
            },
            "colorscale": [
             [
              0,
              "#0d0887"
             ],
             [
              0.1111111111111111,
              "#46039f"
             ],
             [
              0.2222222222222222,
              "#7201a8"
             ],
             [
              0.3333333333333333,
              "#9c179e"
             ],
             [
              0.4444444444444444,
              "#bd3786"
             ],
             [
              0.5555555555555556,
              "#d8576b"
             ],
             [
              0.6666666666666666,
              "#ed7953"
             ],
             [
              0.7777777777777778,
              "#fb9f3a"
             ],
             [
              0.8888888888888888,
              "#fdca26"
             ],
             [
              1,
              "#f0f921"
             ]
            ],
            "type": "histogram2dcontour"
           }
          ],
          "mesh3d": [
           {
            "colorbar": {
             "outlinewidth": 0,
             "ticks": ""
            },
            "type": "mesh3d"
           }
          ],
          "parcoords": [
           {
            "line": {
             "colorbar": {
              "outlinewidth": 0,
              "ticks": ""
             }
            },
            "type": "parcoords"
           }
          ],
          "pie": [
           {
            "automargin": true,
            "type": "pie"
           }
          ],
          "scatter": [
           {
            "marker": {
             "colorbar": {
              "outlinewidth": 0,
              "ticks": ""
             }
            },
            "type": "scatter"
           }
          ],
          "scatter3d": [
           {
            "line": {
             "colorbar": {
              "outlinewidth": 0,
              "ticks": ""
             }
            },
            "marker": {
             "colorbar": {
              "outlinewidth": 0,
              "ticks": ""
             }
            },
            "type": "scatter3d"
           }
          ],
          "scattercarpet": [
           {
            "marker": {
             "colorbar": {
              "outlinewidth": 0,
              "ticks": ""
             }
            },
            "type": "scattercarpet"
           }
          ],
          "scattergeo": [
           {
            "marker": {
             "colorbar": {
              "outlinewidth": 0,
              "ticks": ""
             }
            },
            "type": "scattergeo"
           }
          ],
          "scattergl": [
           {
            "marker": {
             "colorbar": {
              "outlinewidth": 0,
              "ticks": ""
             }
            },
            "type": "scattergl"
           }
          ],
          "scattermapbox": [
           {
            "marker": {
             "colorbar": {
              "outlinewidth": 0,
              "ticks": ""
             }
            },
            "type": "scattermapbox"
           }
          ],
          "scatterpolar": [
           {
            "marker": {
             "colorbar": {
              "outlinewidth": 0,
              "ticks": ""
             }
            },
            "type": "scatterpolar"
           }
          ],
          "scatterpolargl": [
           {
            "marker": {
             "colorbar": {
              "outlinewidth": 0,
              "ticks": ""
             }
            },
            "type": "scatterpolargl"
           }
          ],
          "scatterternary": [
           {
            "marker": {
             "colorbar": {
              "outlinewidth": 0,
              "ticks": ""
             }
            },
            "type": "scatterternary"
           }
          ],
          "surface": [
           {
            "colorbar": {
             "outlinewidth": 0,
             "ticks": ""
            },
            "colorscale": [
             [
              0,
              "#0d0887"
             ],
             [
              0.1111111111111111,
              "#46039f"
             ],
             [
              0.2222222222222222,
              "#7201a8"
             ],
             [
              0.3333333333333333,
              "#9c179e"
             ],
             [
              0.4444444444444444,
              "#bd3786"
             ],
             [
              0.5555555555555556,
              "#d8576b"
             ],
             [
              0.6666666666666666,
              "#ed7953"
             ],
             [
              0.7777777777777778,
              "#fb9f3a"
             ],
             [
              0.8888888888888888,
              "#fdca26"
             ],
             [
              1,
              "#f0f921"
             ]
            ],
            "type": "surface"
           }
          ],
          "table": [
           {
            "cells": {
             "fill": {
              "color": "#EBF0F8"
             },
             "line": {
              "color": "white"
             }
            },
            "header": {
             "fill": {
              "color": "#C8D4E3"
             },
             "line": {
              "color": "white"
             }
            },
            "type": "table"
           }
          ]
         },
         "layout": {
          "annotationdefaults": {
           "arrowcolor": "#2a3f5f",
           "arrowhead": 0,
           "arrowwidth": 1
          },
          "autotypenumbers": "strict",
          "coloraxis": {
           "colorbar": {
            "outlinewidth": 0,
            "ticks": ""
           }
          },
          "colorscale": {
           "diverging": [
            [
             0,
             "#8e0152"
            ],
            [
             0.1,
             "#c51b7d"
            ],
            [
             0.2,
             "#de77ae"
            ],
            [
             0.3,
             "#f1b6da"
            ],
            [
             0.4,
             "#fde0ef"
            ],
            [
             0.5,
             "#f7f7f7"
            ],
            [
             0.6,
             "#e6f5d0"
            ],
            [
             0.7,
             "#b8e186"
            ],
            [
             0.8,
             "#7fbc41"
            ],
            [
             0.9,
             "#4d9221"
            ],
            [
             1,
             "#276419"
            ]
           ],
           "sequential": [
            [
             0,
             "#0d0887"
            ],
            [
             0.1111111111111111,
             "#46039f"
            ],
            [
             0.2222222222222222,
             "#7201a8"
            ],
            [
             0.3333333333333333,
             "#9c179e"
            ],
            [
             0.4444444444444444,
             "#bd3786"
            ],
            [
             0.5555555555555556,
             "#d8576b"
            ],
            [
             0.6666666666666666,
             "#ed7953"
            ],
            [
             0.7777777777777778,
             "#fb9f3a"
            ],
            [
             0.8888888888888888,
             "#fdca26"
            ],
            [
             1,
             "#f0f921"
            ]
           ],
           "sequentialminus": [
            [
             0,
             "#0d0887"
            ],
            [
             0.1111111111111111,
             "#46039f"
            ],
            [
             0.2222222222222222,
             "#7201a8"
            ],
            [
             0.3333333333333333,
             "#9c179e"
            ],
            [
             0.4444444444444444,
             "#bd3786"
            ],
            [
             0.5555555555555556,
             "#d8576b"
            ],
            [
             0.6666666666666666,
             "#ed7953"
            ],
            [
             0.7777777777777778,
             "#fb9f3a"
            ],
            [
             0.8888888888888888,
             "#fdca26"
            ],
            [
             1,
             "#f0f921"
            ]
           ]
          },
          "colorway": [
           "#636efa",
           "#EF553B",
           "#00cc96",
           "#ab63fa",
           "#FFA15A",
           "#19d3f3",
           "#FF6692",
           "#B6E880",
           "#FF97FF",
           "#FECB52"
          ],
          "font": {
           "color": "#2a3f5f"
          },
          "geo": {
           "bgcolor": "white",
           "lakecolor": "white",
           "landcolor": "#E5ECF6",
           "showlakes": true,
           "showland": true,
           "subunitcolor": "white"
          },
          "hoverlabel": {
           "align": "left"
          },
          "hovermode": "closest",
          "mapbox": {
           "style": "light"
          },
          "paper_bgcolor": "white",
          "plot_bgcolor": "#E5ECF6",
          "polar": {
           "angularaxis": {
            "gridcolor": "white",
            "linecolor": "white",
            "ticks": ""
           },
           "bgcolor": "#E5ECF6",
           "radialaxis": {
            "gridcolor": "white",
            "linecolor": "white",
            "ticks": ""
           }
          },
          "scene": {
           "xaxis": {
            "backgroundcolor": "#E5ECF6",
            "gridcolor": "white",
            "gridwidth": 2,
            "linecolor": "white",
            "showbackground": true,
            "ticks": "",
            "zerolinecolor": "white"
           },
           "yaxis": {
            "backgroundcolor": "#E5ECF6",
            "gridcolor": "white",
            "gridwidth": 2,
            "linecolor": "white",
            "showbackground": true,
            "ticks": "",
            "zerolinecolor": "white"
           },
           "zaxis": {
            "backgroundcolor": "#E5ECF6",
            "gridcolor": "white",
            "gridwidth": 2,
            "linecolor": "white",
            "showbackground": true,
            "ticks": "",
            "zerolinecolor": "white"
           }
          },
          "shapedefaults": {
           "line": {
            "color": "#2a3f5f"
           }
          },
          "ternary": {
           "aaxis": {
            "gridcolor": "white",
            "linecolor": "white",
            "ticks": ""
           },
           "baxis": {
            "gridcolor": "white",
            "linecolor": "white",
            "ticks": ""
           },
           "bgcolor": "#E5ECF6",
           "caxis": {
            "gridcolor": "white",
            "linecolor": "white",
            "ticks": ""
           }
          },
          "title": {
           "x": 0.05
          },
          "xaxis": {
           "automargin": true,
           "gridcolor": "white",
           "linecolor": "white",
           "ticks": "",
           "title": {
            "standoff": 15
           },
           "zerolinecolor": "white",
           "zerolinewidth": 2
          },
          "yaxis": {
           "automargin": true,
           "gridcolor": "white",
           "linecolor": "white",
           "ticks": "",
           "title": {
            "standoff": 15
           },
           "zerolinecolor": "white",
           "zerolinewidth": 2
          }
         }
        },
        "title": {
         "font": {
          "color": "#4D5663"
         }
        },
        "xaxis": {
         "gridcolor": "#E1E5ED",
         "showgrid": true,
         "tickfont": {
          "color": "#4D5663"
         },
         "title": {
          "font": {
           "color": "#4D5663"
          },
          "text": ""
         },
         "zerolinecolor": "#E1E5ED"
        },
        "xaxis2": {
         "anchor": "y2",
         "gridcolor": "#E1E5ED",
         "showgrid": true,
         "showticklabels": false,
         "tickfont": {
          "color": "#4D5663"
         },
         "title": {
          "font": {
           "color": "#4D5663"
          },
          "text": ""
         },
         "zerolinecolor": "#E1E5ED"
        },
        "yaxis": {
         "domain": [
          0.3,
          1
         ],
         "gridcolor": "#E1E5ED",
         "showgrid": true,
         "tickfont": {
          "color": "#4D5663"
         },
         "title": {
          "font": {
           "color": "#4D5663"
          },
          "text": ""
         },
         "zerolinecolor": "#E1E5ED"
        },
        "yaxis2": {
         "domain": [
          0,
          0.25
         ],
         "gridcolor": "#E1E5ED",
         "showgrid": true,
         "tickfont": {
          "color": "#4D5663"
         },
         "title": {
          "font": {
           "color": "#4D5663"
          },
          "text": "Spread"
         },
         "zerolinecolor": "#E1E5ED"
        }
       }
      },
      "text/html": [
       "<div>                            <div id=\"bc4c0de0-a44b-4293-9c7c-e767e8350d65\" class=\"plotly-graph-div\" style=\"height:525px; width:100%;\"></div>            <script type=\"text/javascript\">                require([\"plotly\"], function(Plotly) {                    window.PLOTLYENV=window.PLOTLYENV || {};\n",
       "                    window.PLOTLYENV.BASE_URL='https://plot.ly';                                    if (document.getElementById(\"bc4c0de0-a44b-4293-9c7c-e767e8350d65\")) {                    Plotly.newPlot(                        \"bc4c0de0-a44b-4293-9c7c-e767e8350d65\",                        [{\"line\": {\"color\": \"rgba(255, 153, 51, 1.0)\", \"dash\": \"solid\", \"shape\": \"linear\", \"width\": 1.3}, \"mode\": \"lines\", \"name\": \"A\", \"text\": \"\", \"type\": \"scatter\", \"x\": [0, 1, 2, 3, 4, 5, 6, 7, 8, 9, 10, 11, 12, 13, 14, 15, 16, 17, 18, 19, 20, 21, 22, 23, 24, 25, 26, 27, 28, 29, 30, 31, 32, 33, 34, 35, 36, 37, 38, 39, 40, 41, 42, 43, 44, 45, 46, 47, 48, 49, 50, 51, 52, 53, 54, 55, 56, 57, 58, 59, 60, 61, 62, 63, 64, 65, 66, 67, 68, 69, 70, 71, 72, 73, 74, 75, 76, 77, 78, 79, 80, 81, 82, 83, 84, 85, 86, 87, 88, 89, 90, 91, 92, 93, 94, 95, 96, 97, 98, 99], \"y\": [-2.5270110065280242, 1.6680174651519772, 0.45001559995548196, -0.02045562584354937, -0.04696767175551414, -0.43901181387379545, 1.7070413018056958, 0.08565188696795122, -0.3344293828596582, 0.9500404409209297, -0.21019113833514888, 0.3604224452923828, -1.11216805280219, -1.5604767575486982, 0.28660620043355134, 0.13083296630364566, 0.6822576428639039, -0.4829122357799119, -1.0615796698603883, 1.5279868368772598, 0.7273176523923723, -0.01668581955173972, -0.14431916847878662, -0.6694863923053975, -2.3470302981384954, -1.1661753763114484, -0.027495754023257737, -1.1940607139239843, 1.2022992752144077, -1.2637653296749367, 2.193581276644731, 1.5401952281442286, 1.2435478976767964, 1.1198451524009416, 0.6659197389716871, 0.9129273941343368, -1.6551091407193894, -0.2022455946334687, 1.7466718899342617, -1.0705815568121162, -0.5031411081362345, 1.4354268289538574, 0.35012433605173376, 2.276633138686141, -0.010746264868391347, -0.3368132777335987, -0.42996015575909946, -0.14383787852590885, -0.36458495384677464, 0.886255773590493, 1.2708758764720964, -0.17095937360923044, 1.7962916184698736, 0.7468575618528512, 0.27557541233497135, -0.4293600119498419, 0.39163991626736816, 0.28128110983445603, -0.5827217868530749, -0.8122462897014714, -1.4807240533031878, -1.9499612762391623, -1.0592607140515602, -1.6477046188858, 1.0012645286707358, 0.862565704579482, 0.039131466186083146, 0.6622855462079307, 0.5149700197353527, -0.6940121322135872, 0.15324988368917486, -0.5476656394961759, -0.004292537672022745, 0.7637978366095226, 0.15075134016268965, -1.210306488771418, 1.4986544939320934, 0.9920524382552748, 0.5463758713635003, 1.5976786993787182, -0.47325106610739365, -0.059765588262616895, -0.35657783893539957, 1.0761729057971934, 0.3656428099020587, 1.846283176033301, 0.5930304044860237, 0.29793987221014107, 0.8924446468847728, -0.5099299114197214, 0.917801363350686, -0.5476396165319876, 0.08810377362737165, 0.67716359658272, -1.2866001392254593, 0.3505270777704328, -0.35502740703668406, 0.3198277785003611, -1.2683305733699586, -0.8306454799809649]}, {\"line\": {\"color\": \"rgba(55, 128, 191, 1.0)\", \"dash\": \"solid\", \"shape\": \"linear\", \"width\": 1.3}, \"mode\": \"lines\", \"name\": \"B\", \"text\": \"\", \"type\": \"scatter\", \"x\": [0, 1, 2, 3, 4, 5, 6, 7, 8, 9, 10, 11, 12, 13, 14, 15, 16, 17, 18, 19, 20, 21, 22, 23, 24, 25, 26, 27, 28, 29, 30, 31, 32, 33, 34, 35, 36, 37, 38, 39, 40, 41, 42, 43, 44, 45, 46, 47, 48, 49, 50, 51, 52, 53, 54, 55, 56, 57, 58, 59, 60, 61, 62, 63, 64, 65, 66, 67, 68, 69, 70, 71, 72, 73, 74, 75, 76, 77, 78, 79, 80, 81, 82, 83, 84, 85, 86, 87, 88, 89, 90, 91, 92, 93, 94, 95, 96, 97, 98, 99], \"y\": [0.6077342487016018, -0.4731893416109403, -1.3768007323560167, -1.426830575049864, 0.12874988879814375, -0.947733813933697, 0.5238344892217599, 0.4840873187211147, -0.14012108582502, -1.8873437456128668, -0.14026679486783325, 0.4586861028400738, -0.10395573252720713, 0.06140834037940289, -0.3502091575413244, -2.0090925410123672, 0.4364534526441894, 2.1817271426605065, -0.6445403959738393, 0.45419525315091375, -0.5176436627591724, 0.5329488253779412, 0.3411555558959055, 0.1950287322958298, -1.892179875114976, -0.04305897101210228, 1.026946935339796, 1.4848231767312008, -0.6055364169071535, 0.4237220678947114, 0.5388665211938162, -0.6728594434723479, -1.1915342740995833, 0.5941628508263933, -0.863275792769601, 0.047691635733050526, -0.4305545961459695, -2.2342519811712185, -0.5520756194783913, 2.397078675528769, 0.4545527413537645, -1.016763728464053, -0.6026059735096668, 0.5137861018262334, 0.5881748149974206, 1.188626116200059, -0.3169650249940472, 0.6923341698729818, -2.097714086167859, -0.5526867895889804, 0.2120071963811955, -0.6187381387292377, 0.9596534764458649, 0.032236559936918534, -1.8499788850248917, 2.503462048187462, 1.1279064832228873, -1.2725792355196437, 1.121997168063789, -0.4687798848657744, 1.5793951413013747, 2.1816459185106987, 0.46107945737165623, 0.5236098062294923, -1.1596068392298857, 0.24036944442115304, 0.6304058035738712, -1.0185978020522959, -0.15179028153027518, -0.08919393697884163, 0.7714753987146433, -0.5390364543872649, 1.920551168018313, 0.3063838030070926, -0.22397774797668304, -1.0448493502254013, -1.2544416899655373, 0.4892953069810365, 0.697919876015075, 0.6485908307169317, 0.40662451216039197, 0.5765804446501441, -0.44768295089216714, -0.738650617470391, 0.24395544214563125, -1.5275755299976472, -0.23712520374440696, -0.45122748413867386, 0.5496027629689889, 1.5441391625326482, 0.9254372535361087, -0.5676555714360765, 1.7135407953393513, 2.7406862509354215, 0.7133139060010656, -0.1828690990490576, 0.24013813467922385, -1.2477864222587203, 0.6116994227216244, 0.9070783540161795]}, {\"connectgaps\": false, \"fill\": \"tozeroy\", \"line\": {\"color\": \"green\", \"dash\": \"solid\", \"shape\": \"linear\", \"width\": 0.5}, \"mode\": \"lines\", \"name\": \"Spread\", \"showlegend\": false, \"type\": \"scatter\", \"x\": [0, 1, 2, 3, 4, 5, 6, 7, 8, 9, 10, 11, 12, 13, 14, 15, 16, 17, 18, 19, 20, 21, 22, 23, 24, 25, 26, 27, 28, 29, 30, 31, 32, 33, 34, 35, 36, 37, 38, 39, 40, 41, 42, 43, 44, 45, 46, 47, 48, 49, 50, 51, 52, 53, 54, 55, 56, 57, 58, 59, 60, 61, 62, 63, 64, 65, 66, 67, 68, 69, 70, 71, 72, 73, 74, 75, 76, 77, 78, 79, 80, 81, 82, 83, 84, 85, 86, 87, 88, 89, 90, 91, 92, 93, 94, 95, 96, 97, 98, 99], \"xaxis\": \"x2\", \"y\": [\"\", 2.1412068067629173, 1.8268163323114988, 1.4063749492063147, \"\", 0.5087220000599015, 1.183206812583936, \"\", \"\", 2.8373841865337965, \"\", \"\", \"\", \"\", 0.6368153579748758, 2.139925507316013, 0.2458041902197145, \"\", \"\", 1.073791583726346, 1.2449613151515448, \"\", \"\", \"\", \"\", \"\", \"\", \"\", 1.8078356921215613, \"\", 1.654714755450915, 2.2130546716165767, 2.4350821717763798, 0.5256823015745483, 1.529195531741288, 0.8652357584012862, \"\", 2.03200638653775, 2.298747509412653, \"\", \"\", 2.4521905574179104, 0.9527303095614006, 1.7628470368599078, \"\", \"\", \"\", \"\", 1.7331291323210842, 1.4389425631794734, 1.0588686800909008, 0.44777876512000725, 0.8366381420240088, 0.7146210019159327, 2.125554297359863, \"\", \"\", 1.5538603453540998, \"\", \"\", \"\", \"\", \"\", \"\", 2.1608713679006213, 0.622196260158329, \"\", 1.6808833482602266, 0.6667603012656279, \"\", \"\", \"\", \"\", 0.45741403360243, 0.37472908813937267, \"\", 2.7530961838976307, 0.5027571312742383, \"\", 0.9490878686617865, \"\", \"\", 0.09110511195676757, 1.8148235232675844, 0.12168736775642747, 3.373858706030948, 0.8301556082304307, 0.7491673563488149, 0.34284188391578385, \"\", \"\", 0.020015954904088917, \"\", \"\", \"\", 0.5333961768194904, \"\", 1.5676142007590814, \"\", \"\"], \"yaxis\": \"y2\"}, {\"connectgaps\": false, \"fill\": \"tozeroy\", \"line\": {\"color\": \"red\", \"dash\": \"solid\", \"shape\": \"linear\", \"width\": 0.5}, \"mode\": \"lines\", \"name\": \"Spread\", \"showlegend\": false, \"type\": \"scatter\", \"x\": [0, 1, 2, 3, 4, 5, 6, 7, 8, 9, 10, 11, 12, 13, 14, 15, 16, 17, 18, 19, 20, 21, 22, 23, 24, 25, 26, 27, 28, 29, 30, 31, 32, 33, 34, 35, 36, 37, 38, 39, 40, 41, 42, 43, 44, 45, 46, 47, 48, 49, 50, 51, 52, 53, 54, 55, 56, 57, 58, 59, 60, 61, 62, 63, 64, 65, 66, 67, 68, 69, 70, 71, 72, 73, 74, 75, 76, 77, 78, 79, 80, 81, 82, 83, 84, 85, 86, 87, 88, 89, 90, 91, 92, 93, 94, 95, 96, 97, 98, 99], \"xaxis\": \"x2\", \"y\": [-3.134745255229626, \"\", \"\", \"\", -0.1757175605536579, \"\", \"\", -0.3984354317531635, -0.19430829703463817, \"\", -0.06992434346731563, -0.09826365754769095, -1.0082123202749829, -1.621885097928101, \"\", \"\", \"\", -2.6646393784404183, -0.41703927388654904, \"\", \"\", -0.549634644929681, -0.48547472437469213, -0.8645151246012273, -0.4548504230235193, -1.123116405299346, -1.0544426893630536, -2.678883890655185, \"\", -1.687487397569648, \"\", \"\", \"\", \"\", \"\", \"\", -1.2245545445734198, \"\", \"\", -3.467660232340885, -0.9576938494899989, \"\", \"\", \"\", -0.598921079865812, -1.5254393939336577, -0.11299513076505224, -0.8361720483988906, \"\", \"\", \"\", \"\", \"\", \"\", \"\", -2.932822060137304, -0.7362665669555192, \"\", -1.704718954916864, -0.343466404835697, -3.0601191946045625, -4.131607194749861, -1.5203401714232165, -2.171314425115292, \"\", \"\", -0.5912743373877881, \"\", \"\", -0.6048181952347456, -0.6182255150254685, -0.008629185108910975, -1.9248437056903356, \"\", \"\", -0.16545713854601685, \"\", \"\", -0.1515440046515747, \"\", -0.8798755782677856, -0.636346032912761, \"\", \"\", \"\", \"\", \"\", \"\", \"\", -2.0540690739523697, -0.007635890185422767, \"\", -1.6254370217119796, -2.0635226543527017, -1.999914045226525, \"\", -0.5951655417159079, \"\", -1.880029996091583, -1.7377238339971446], \"yaxis\": \"y2\"}],                        {\"hovermode\": \"x\", \"legend\": {\"bgcolor\": \"#F5F6F9\", \"font\": {\"color\": \"#4D5663\"}}, \"paper_bgcolor\": \"#F5F6F9\", \"plot_bgcolor\": \"#F5F6F9\", \"template\": {\"data\": {\"bar\": [{\"error_x\": {\"color\": \"#2a3f5f\"}, \"error_y\": {\"color\": \"#2a3f5f\"}, \"marker\": {\"line\": {\"color\": \"#E5ECF6\", \"width\": 0.5}}, \"type\": \"bar\"}], \"barpolar\": [{\"marker\": {\"line\": {\"color\": \"#E5ECF6\", \"width\": 0.5}}, \"type\": \"barpolar\"}], \"carpet\": [{\"aaxis\": {\"endlinecolor\": \"#2a3f5f\", \"gridcolor\": \"white\", \"linecolor\": \"white\", \"minorgridcolor\": \"white\", \"startlinecolor\": \"#2a3f5f\"}, \"baxis\": {\"endlinecolor\": \"#2a3f5f\", \"gridcolor\": \"white\", \"linecolor\": \"white\", \"minorgridcolor\": \"white\", \"startlinecolor\": \"#2a3f5f\"}, \"type\": \"carpet\"}], \"choropleth\": [{\"colorbar\": {\"outlinewidth\": 0, \"ticks\": \"\"}, \"type\": \"choropleth\"}], \"contour\": [{\"colorbar\": {\"outlinewidth\": 0, \"ticks\": \"\"}, \"colorscale\": [[0.0, \"#0d0887\"], [0.1111111111111111, \"#46039f\"], [0.2222222222222222, \"#7201a8\"], [0.3333333333333333, \"#9c179e\"], [0.4444444444444444, \"#bd3786\"], [0.5555555555555556, \"#d8576b\"], [0.6666666666666666, \"#ed7953\"], [0.7777777777777778, \"#fb9f3a\"], [0.8888888888888888, \"#fdca26\"], [1.0, \"#f0f921\"]], \"type\": \"contour\"}], \"contourcarpet\": [{\"colorbar\": {\"outlinewidth\": 0, \"ticks\": \"\"}, \"type\": \"contourcarpet\"}], \"heatmap\": [{\"colorbar\": {\"outlinewidth\": 0, \"ticks\": \"\"}, \"colorscale\": [[0.0, \"#0d0887\"], [0.1111111111111111, \"#46039f\"], [0.2222222222222222, \"#7201a8\"], [0.3333333333333333, \"#9c179e\"], [0.4444444444444444, \"#bd3786\"], [0.5555555555555556, \"#d8576b\"], [0.6666666666666666, \"#ed7953\"], [0.7777777777777778, \"#fb9f3a\"], [0.8888888888888888, \"#fdca26\"], [1.0, \"#f0f921\"]], \"type\": \"heatmap\"}], \"heatmapgl\": [{\"colorbar\": {\"outlinewidth\": 0, \"ticks\": \"\"}, \"colorscale\": [[0.0, \"#0d0887\"], [0.1111111111111111, \"#46039f\"], [0.2222222222222222, \"#7201a8\"], [0.3333333333333333, \"#9c179e\"], [0.4444444444444444, \"#bd3786\"], [0.5555555555555556, \"#d8576b\"], [0.6666666666666666, \"#ed7953\"], [0.7777777777777778, \"#fb9f3a\"], [0.8888888888888888, \"#fdca26\"], [1.0, \"#f0f921\"]], \"type\": \"heatmapgl\"}], \"histogram\": [{\"marker\": {\"colorbar\": {\"outlinewidth\": 0, \"ticks\": \"\"}}, \"type\": \"histogram\"}], \"histogram2d\": [{\"colorbar\": {\"outlinewidth\": 0, \"ticks\": \"\"}, \"colorscale\": [[0.0, \"#0d0887\"], [0.1111111111111111, \"#46039f\"], [0.2222222222222222, \"#7201a8\"], [0.3333333333333333, \"#9c179e\"], [0.4444444444444444, \"#bd3786\"], [0.5555555555555556, \"#d8576b\"], [0.6666666666666666, \"#ed7953\"], [0.7777777777777778, \"#fb9f3a\"], [0.8888888888888888, \"#fdca26\"], [1.0, \"#f0f921\"]], \"type\": \"histogram2d\"}], \"histogram2dcontour\": [{\"colorbar\": {\"outlinewidth\": 0, \"ticks\": \"\"}, \"colorscale\": [[0.0, \"#0d0887\"], [0.1111111111111111, \"#46039f\"], [0.2222222222222222, \"#7201a8\"], [0.3333333333333333, \"#9c179e\"], [0.4444444444444444, \"#bd3786\"], [0.5555555555555556, \"#d8576b\"], [0.6666666666666666, \"#ed7953\"], [0.7777777777777778, \"#fb9f3a\"], [0.8888888888888888, \"#fdca26\"], [1.0, \"#f0f921\"]], \"type\": \"histogram2dcontour\"}], \"mesh3d\": [{\"colorbar\": {\"outlinewidth\": 0, \"ticks\": \"\"}, \"type\": \"mesh3d\"}], \"parcoords\": [{\"line\": {\"colorbar\": {\"outlinewidth\": 0, \"ticks\": \"\"}}, \"type\": \"parcoords\"}], \"pie\": [{\"automargin\": true, \"type\": \"pie\"}], \"scatter\": [{\"marker\": {\"colorbar\": {\"outlinewidth\": 0, \"ticks\": \"\"}}, \"type\": \"scatter\"}], \"scatter3d\": [{\"line\": {\"colorbar\": {\"outlinewidth\": 0, \"ticks\": \"\"}}, \"marker\": {\"colorbar\": {\"outlinewidth\": 0, \"ticks\": \"\"}}, \"type\": \"scatter3d\"}], \"scattercarpet\": [{\"marker\": {\"colorbar\": {\"outlinewidth\": 0, \"ticks\": \"\"}}, \"type\": \"scattercarpet\"}], \"scattergeo\": [{\"marker\": {\"colorbar\": {\"outlinewidth\": 0, \"ticks\": \"\"}}, \"type\": \"scattergeo\"}], \"scattergl\": [{\"marker\": {\"colorbar\": {\"outlinewidth\": 0, \"ticks\": \"\"}}, \"type\": \"scattergl\"}], \"scattermapbox\": [{\"marker\": {\"colorbar\": {\"outlinewidth\": 0, \"ticks\": \"\"}}, \"type\": \"scattermapbox\"}], \"scatterpolar\": [{\"marker\": {\"colorbar\": {\"outlinewidth\": 0, \"ticks\": \"\"}}, \"type\": \"scatterpolar\"}], \"scatterpolargl\": [{\"marker\": {\"colorbar\": {\"outlinewidth\": 0, \"ticks\": \"\"}}, \"type\": \"scatterpolargl\"}], \"scatterternary\": [{\"marker\": {\"colorbar\": {\"outlinewidth\": 0, \"ticks\": \"\"}}, \"type\": \"scatterternary\"}], \"surface\": [{\"colorbar\": {\"outlinewidth\": 0, \"ticks\": \"\"}, \"colorscale\": [[0.0, \"#0d0887\"], [0.1111111111111111, \"#46039f\"], [0.2222222222222222, \"#7201a8\"], [0.3333333333333333, \"#9c179e\"], [0.4444444444444444, \"#bd3786\"], [0.5555555555555556, \"#d8576b\"], [0.6666666666666666, \"#ed7953\"], [0.7777777777777778, \"#fb9f3a\"], [0.8888888888888888, \"#fdca26\"], [1.0, \"#f0f921\"]], \"type\": \"surface\"}], \"table\": [{\"cells\": {\"fill\": {\"color\": \"#EBF0F8\"}, \"line\": {\"color\": \"white\"}}, \"header\": {\"fill\": {\"color\": \"#C8D4E3\"}, \"line\": {\"color\": \"white\"}}, \"type\": \"table\"}]}, \"layout\": {\"annotationdefaults\": {\"arrowcolor\": \"#2a3f5f\", \"arrowhead\": 0, \"arrowwidth\": 1}, \"autotypenumbers\": \"strict\", \"coloraxis\": {\"colorbar\": {\"outlinewidth\": 0, \"ticks\": \"\"}}, \"colorscale\": {\"diverging\": [[0, \"#8e0152\"], [0.1, \"#c51b7d\"], [0.2, \"#de77ae\"], [0.3, \"#f1b6da\"], [0.4, \"#fde0ef\"], [0.5, \"#f7f7f7\"], [0.6, \"#e6f5d0\"], [0.7, \"#b8e186\"], [0.8, \"#7fbc41\"], [0.9, \"#4d9221\"], [1, \"#276419\"]], \"sequential\": [[0.0, \"#0d0887\"], [0.1111111111111111, \"#46039f\"], [0.2222222222222222, \"#7201a8\"], [0.3333333333333333, \"#9c179e\"], [0.4444444444444444, \"#bd3786\"], [0.5555555555555556, \"#d8576b\"], [0.6666666666666666, \"#ed7953\"], [0.7777777777777778, \"#fb9f3a\"], [0.8888888888888888, \"#fdca26\"], [1.0, \"#f0f921\"]], \"sequentialminus\": [[0.0, \"#0d0887\"], [0.1111111111111111, \"#46039f\"], [0.2222222222222222, \"#7201a8\"], [0.3333333333333333, \"#9c179e\"], [0.4444444444444444, \"#bd3786\"], [0.5555555555555556, \"#d8576b\"], [0.6666666666666666, \"#ed7953\"], [0.7777777777777778, \"#fb9f3a\"], [0.8888888888888888, \"#fdca26\"], [1.0, \"#f0f921\"]]}, \"colorway\": [\"#636efa\", \"#EF553B\", \"#00cc96\", \"#ab63fa\", \"#FFA15A\", \"#19d3f3\", \"#FF6692\", \"#B6E880\", \"#FF97FF\", \"#FECB52\"], \"font\": {\"color\": \"#2a3f5f\"}, \"geo\": {\"bgcolor\": \"white\", \"lakecolor\": \"white\", \"landcolor\": \"#E5ECF6\", \"showlakes\": true, \"showland\": true, \"subunitcolor\": \"white\"}, \"hoverlabel\": {\"align\": \"left\"}, \"hovermode\": \"closest\", \"mapbox\": {\"style\": \"light\"}, \"paper_bgcolor\": \"white\", \"plot_bgcolor\": \"#E5ECF6\", \"polar\": {\"angularaxis\": {\"gridcolor\": \"white\", \"linecolor\": \"white\", \"ticks\": \"\"}, \"bgcolor\": \"#E5ECF6\", \"radialaxis\": {\"gridcolor\": \"white\", \"linecolor\": \"white\", \"ticks\": \"\"}}, \"scene\": {\"xaxis\": {\"backgroundcolor\": \"#E5ECF6\", \"gridcolor\": \"white\", \"gridwidth\": 2, \"linecolor\": \"white\", \"showbackground\": true, \"ticks\": \"\", \"zerolinecolor\": \"white\"}, \"yaxis\": {\"backgroundcolor\": \"#E5ECF6\", \"gridcolor\": \"white\", \"gridwidth\": 2, \"linecolor\": \"white\", \"showbackground\": true, \"ticks\": \"\", \"zerolinecolor\": \"white\"}, \"zaxis\": {\"backgroundcolor\": \"#E5ECF6\", \"gridcolor\": \"white\", \"gridwidth\": 2, \"linecolor\": \"white\", \"showbackground\": true, \"ticks\": \"\", \"zerolinecolor\": \"white\"}}, \"shapedefaults\": {\"line\": {\"color\": \"#2a3f5f\"}}, \"ternary\": {\"aaxis\": {\"gridcolor\": \"white\", \"linecolor\": \"white\", \"ticks\": \"\"}, \"baxis\": {\"gridcolor\": \"white\", \"linecolor\": \"white\", \"ticks\": \"\"}, \"bgcolor\": \"#E5ECF6\", \"caxis\": {\"gridcolor\": \"white\", \"linecolor\": \"white\", \"ticks\": \"\"}}, \"title\": {\"x\": 0.05}, \"xaxis\": {\"automargin\": true, \"gridcolor\": \"white\", \"linecolor\": \"white\", \"ticks\": \"\", \"title\": {\"standoff\": 15}, \"zerolinecolor\": \"white\", \"zerolinewidth\": 2}, \"yaxis\": {\"automargin\": true, \"gridcolor\": \"white\", \"linecolor\": \"white\", \"ticks\": \"\", \"title\": {\"standoff\": 15}, \"zerolinecolor\": \"white\", \"zerolinewidth\": 2}}}, \"title\": {\"font\": {\"color\": \"#4D5663\"}}, \"xaxis\": {\"gridcolor\": \"#E1E5ED\", \"showgrid\": true, \"tickfont\": {\"color\": \"#4D5663\"}, \"title\": {\"font\": {\"color\": \"#4D5663\"}, \"text\": \"\"}, \"zerolinecolor\": \"#E1E5ED\"}, \"xaxis2\": {\"anchor\": \"y2\", \"gridcolor\": \"#E1E5ED\", \"showgrid\": true, \"showticklabels\": false, \"tickfont\": {\"color\": \"#4D5663\"}, \"title\": {\"font\": {\"color\": \"#4D5663\"}, \"text\": \"\"}, \"zerolinecolor\": \"#E1E5ED\"}, \"yaxis\": {\"domain\": [0.3, 1], \"gridcolor\": \"#E1E5ED\", \"showgrid\": true, \"tickfont\": {\"color\": \"#4D5663\"}, \"title\": {\"font\": {\"color\": \"#4D5663\"}, \"text\": \"\"}, \"zerolinecolor\": \"#E1E5ED\"}, \"yaxis2\": {\"domain\": [0, 0.25], \"gridcolor\": \"#E1E5ED\", \"showgrid\": true, \"tickfont\": {\"color\": \"#4D5663\"}, \"title\": {\"font\": {\"color\": \"#4D5663\"}, \"text\": \"Spread\"}, \"zerolinecolor\": \"#E1E5ED\"}},                        {\"showLink\": true, \"linkText\": \"Export to plot.ly\", \"plotlyServerURL\": \"https://plot.ly\", \"responsive\": true}                    ).then(function(){\n",
       "                            \n",
       "var gd = document.getElementById('bc4c0de0-a44b-4293-9c7c-e767e8350d65');\n",
       "var x = new MutationObserver(function (mutations, observer) {{\n",
       "        var display = window.getComputedStyle(gd).display;\n",
       "        if (!display || display === 'none') {{\n",
       "            console.log([gd, 'removed!']);\n",
       "            Plotly.purge(gd);\n",
       "            observer.disconnect();\n",
       "        }}\n",
       "}});\n",
       "\n",
       "// Listen for the removal of the full notebook cells\n",
       "var notebookContainer = gd.closest('#notebook-container');\n",
       "if (notebookContainer) {{\n",
       "    x.observe(notebookContainer, {childList: true});\n",
       "}}\n",
       "\n",
       "// Listen for the clearing of the current output cell\n",
       "var outputEl = gd.closest('.output');\n",
       "if (outputEl) {{\n",
       "    x.observe(outputEl, {childList: true});\n",
       "}}\n",
       "\n",
       "                        })                };                });            </script>        </div>"
      ]
     },
     "metadata": {},
     "output_type": "display_data"
    }
   ],
   "source": [
    "df[['A','B']].iplot(kind='spread')"
   ]
  },
  {
   "cell_type": "markdown",
   "metadata": {},
   "source": [
    "## histogram"
   ]
  },
  {
   "cell_type": "code",
   "execution_count": 16,
   "metadata": {},
   "outputs": [
    {
     "data": {
      "application/vnd.plotly.v1+json": {
       "config": {
        "linkText": "Export to plot.ly",
        "plotlyServerURL": "https://plot.ly",
        "showLink": true
       },
       "data": [
        {
         "histfunc": "count",
         "histnorm": "",
         "marker": {
          "color": "rgba(255, 153, 51, 1.0)",
          "line": {
           "color": "#4D5663",
           "width": 1.3
          }
         },
         "name": "A",
         "nbinsx": 25,
         "opacity": 0.8,
         "orientation": "v",
         "type": "histogram",
         "x": [
          -2.5270110065280242,
          1.6680174651519772,
          0.45001559995548196,
          -0.02045562584354937,
          -0.04696767175551414,
          -0.43901181387379545,
          1.7070413018056958,
          0.08565188696795122,
          -0.3344293828596582,
          0.9500404409209297,
          -0.21019113833514888,
          0.3604224452923828,
          -1.11216805280219,
          -1.5604767575486982,
          0.28660620043355134,
          0.13083296630364566,
          0.6822576428639039,
          -0.4829122357799119,
          -1.0615796698603883,
          1.5279868368772598,
          0.7273176523923723,
          -0.01668581955173972,
          -0.14431916847878662,
          -0.6694863923053975,
          -2.3470302981384954,
          -1.1661753763114484,
          -0.027495754023257737,
          -1.1940607139239843,
          1.2022992752144077,
          -1.2637653296749367,
          2.193581276644731,
          1.5401952281442286,
          1.2435478976767964,
          1.1198451524009416,
          0.6659197389716871,
          0.9129273941343368,
          -1.6551091407193894,
          -0.2022455946334687,
          1.7466718899342617,
          -1.0705815568121162,
          -0.5031411081362345,
          1.4354268289538574,
          0.35012433605173376,
          2.276633138686141,
          -0.010746264868391347,
          -0.3368132777335987,
          -0.42996015575909946,
          -0.14383787852590885,
          -0.36458495384677464,
          0.886255773590493,
          1.2708758764720964,
          -0.17095937360923044,
          1.7962916184698736,
          0.7468575618528512,
          0.27557541233497135,
          -0.4293600119498419,
          0.39163991626736816,
          0.28128110983445603,
          -0.5827217868530749,
          -0.8122462897014714,
          -1.4807240533031878,
          -1.9499612762391623,
          -1.0592607140515602,
          -1.6477046188858,
          1.0012645286707358,
          0.862565704579482,
          0.039131466186083146,
          0.6622855462079307,
          0.5149700197353527,
          -0.6940121322135872,
          0.15324988368917486,
          -0.5476656394961759,
          -0.004292537672022745,
          0.7637978366095226,
          0.15075134016268965,
          -1.210306488771418,
          1.4986544939320934,
          0.9920524382552748,
          0.5463758713635003,
          1.5976786993787182,
          -0.47325106610739365,
          -0.059765588262616895,
          -0.35657783893539957,
          1.0761729057971934,
          0.3656428099020587,
          1.846283176033301,
          0.5930304044860237,
          0.29793987221014107,
          0.8924446468847728,
          -0.5099299114197214,
          0.917801363350686,
          -0.5476396165319876,
          0.08810377362737165,
          0.67716359658272,
          -1.2866001392254593,
          0.3505270777704328,
          -0.35502740703668406,
          0.3198277785003611,
          -1.2683305733699586,
          -0.8306454799809649
         ]
        }
       ],
       "layout": {
        "barmode": "overlay",
        "legend": {
         "bgcolor": "#F5F6F9",
         "font": {
          "color": "#4D5663"
         }
        },
        "paper_bgcolor": "#F5F6F9",
        "plot_bgcolor": "#F5F6F9",
        "template": {
         "data": {
          "bar": [
           {
            "error_x": {
             "color": "#2a3f5f"
            },
            "error_y": {
             "color": "#2a3f5f"
            },
            "marker": {
             "line": {
              "color": "#E5ECF6",
              "width": 0.5
             }
            },
            "type": "bar"
           }
          ],
          "barpolar": [
           {
            "marker": {
             "line": {
              "color": "#E5ECF6",
              "width": 0.5
             }
            },
            "type": "barpolar"
           }
          ],
          "carpet": [
           {
            "aaxis": {
             "endlinecolor": "#2a3f5f",
             "gridcolor": "white",
             "linecolor": "white",
             "minorgridcolor": "white",
             "startlinecolor": "#2a3f5f"
            },
            "baxis": {
             "endlinecolor": "#2a3f5f",
             "gridcolor": "white",
             "linecolor": "white",
             "minorgridcolor": "white",
             "startlinecolor": "#2a3f5f"
            },
            "type": "carpet"
           }
          ],
          "choropleth": [
           {
            "colorbar": {
             "outlinewidth": 0,
             "ticks": ""
            },
            "type": "choropleth"
           }
          ],
          "contour": [
           {
            "colorbar": {
             "outlinewidth": 0,
             "ticks": ""
            },
            "colorscale": [
             [
              0,
              "#0d0887"
             ],
             [
              0.1111111111111111,
              "#46039f"
             ],
             [
              0.2222222222222222,
              "#7201a8"
             ],
             [
              0.3333333333333333,
              "#9c179e"
             ],
             [
              0.4444444444444444,
              "#bd3786"
             ],
             [
              0.5555555555555556,
              "#d8576b"
             ],
             [
              0.6666666666666666,
              "#ed7953"
             ],
             [
              0.7777777777777778,
              "#fb9f3a"
             ],
             [
              0.8888888888888888,
              "#fdca26"
             ],
             [
              1,
              "#f0f921"
             ]
            ],
            "type": "contour"
           }
          ],
          "contourcarpet": [
           {
            "colorbar": {
             "outlinewidth": 0,
             "ticks": ""
            },
            "type": "contourcarpet"
           }
          ],
          "heatmap": [
           {
            "colorbar": {
             "outlinewidth": 0,
             "ticks": ""
            },
            "colorscale": [
             [
              0,
              "#0d0887"
             ],
             [
              0.1111111111111111,
              "#46039f"
             ],
             [
              0.2222222222222222,
              "#7201a8"
             ],
             [
              0.3333333333333333,
              "#9c179e"
             ],
             [
              0.4444444444444444,
              "#bd3786"
             ],
             [
              0.5555555555555556,
              "#d8576b"
             ],
             [
              0.6666666666666666,
              "#ed7953"
             ],
             [
              0.7777777777777778,
              "#fb9f3a"
             ],
             [
              0.8888888888888888,
              "#fdca26"
             ],
             [
              1,
              "#f0f921"
             ]
            ],
            "type": "heatmap"
           }
          ],
          "heatmapgl": [
           {
            "colorbar": {
             "outlinewidth": 0,
             "ticks": ""
            },
            "colorscale": [
             [
              0,
              "#0d0887"
             ],
             [
              0.1111111111111111,
              "#46039f"
             ],
             [
              0.2222222222222222,
              "#7201a8"
             ],
             [
              0.3333333333333333,
              "#9c179e"
             ],
             [
              0.4444444444444444,
              "#bd3786"
             ],
             [
              0.5555555555555556,
              "#d8576b"
             ],
             [
              0.6666666666666666,
              "#ed7953"
             ],
             [
              0.7777777777777778,
              "#fb9f3a"
             ],
             [
              0.8888888888888888,
              "#fdca26"
             ],
             [
              1,
              "#f0f921"
             ]
            ],
            "type": "heatmapgl"
           }
          ],
          "histogram": [
           {
            "marker": {
             "colorbar": {
              "outlinewidth": 0,
              "ticks": ""
             }
            },
            "type": "histogram"
           }
          ],
          "histogram2d": [
           {
            "colorbar": {
             "outlinewidth": 0,
             "ticks": ""
            },
            "colorscale": [
             [
              0,
              "#0d0887"
             ],
             [
              0.1111111111111111,
              "#46039f"
             ],
             [
              0.2222222222222222,
              "#7201a8"
             ],
             [
              0.3333333333333333,
              "#9c179e"
             ],
             [
              0.4444444444444444,
              "#bd3786"
             ],
             [
              0.5555555555555556,
              "#d8576b"
             ],
             [
              0.6666666666666666,
              "#ed7953"
             ],
             [
              0.7777777777777778,
              "#fb9f3a"
             ],
             [
              0.8888888888888888,
              "#fdca26"
             ],
             [
              1,
              "#f0f921"
             ]
            ],
            "type": "histogram2d"
           }
          ],
          "histogram2dcontour": [
           {
            "colorbar": {
             "outlinewidth": 0,
             "ticks": ""
            },
            "colorscale": [
             [
              0,
              "#0d0887"
             ],
             [
              0.1111111111111111,
              "#46039f"
             ],
             [
              0.2222222222222222,
              "#7201a8"
             ],
             [
              0.3333333333333333,
              "#9c179e"
             ],
             [
              0.4444444444444444,
              "#bd3786"
             ],
             [
              0.5555555555555556,
              "#d8576b"
             ],
             [
              0.6666666666666666,
              "#ed7953"
             ],
             [
              0.7777777777777778,
              "#fb9f3a"
             ],
             [
              0.8888888888888888,
              "#fdca26"
             ],
             [
              1,
              "#f0f921"
             ]
            ],
            "type": "histogram2dcontour"
           }
          ],
          "mesh3d": [
           {
            "colorbar": {
             "outlinewidth": 0,
             "ticks": ""
            },
            "type": "mesh3d"
           }
          ],
          "parcoords": [
           {
            "line": {
             "colorbar": {
              "outlinewidth": 0,
              "ticks": ""
             }
            },
            "type": "parcoords"
           }
          ],
          "pie": [
           {
            "automargin": true,
            "type": "pie"
           }
          ],
          "scatter": [
           {
            "marker": {
             "colorbar": {
              "outlinewidth": 0,
              "ticks": ""
             }
            },
            "type": "scatter"
           }
          ],
          "scatter3d": [
           {
            "line": {
             "colorbar": {
              "outlinewidth": 0,
              "ticks": ""
             }
            },
            "marker": {
             "colorbar": {
              "outlinewidth": 0,
              "ticks": ""
             }
            },
            "type": "scatter3d"
           }
          ],
          "scattercarpet": [
           {
            "marker": {
             "colorbar": {
              "outlinewidth": 0,
              "ticks": ""
             }
            },
            "type": "scattercarpet"
           }
          ],
          "scattergeo": [
           {
            "marker": {
             "colorbar": {
              "outlinewidth": 0,
              "ticks": ""
             }
            },
            "type": "scattergeo"
           }
          ],
          "scattergl": [
           {
            "marker": {
             "colorbar": {
              "outlinewidth": 0,
              "ticks": ""
             }
            },
            "type": "scattergl"
           }
          ],
          "scattermapbox": [
           {
            "marker": {
             "colorbar": {
              "outlinewidth": 0,
              "ticks": ""
             }
            },
            "type": "scattermapbox"
           }
          ],
          "scatterpolar": [
           {
            "marker": {
             "colorbar": {
              "outlinewidth": 0,
              "ticks": ""
             }
            },
            "type": "scatterpolar"
           }
          ],
          "scatterpolargl": [
           {
            "marker": {
             "colorbar": {
              "outlinewidth": 0,
              "ticks": ""
             }
            },
            "type": "scatterpolargl"
           }
          ],
          "scatterternary": [
           {
            "marker": {
             "colorbar": {
              "outlinewidth": 0,
              "ticks": ""
             }
            },
            "type": "scatterternary"
           }
          ],
          "surface": [
           {
            "colorbar": {
             "outlinewidth": 0,
             "ticks": ""
            },
            "colorscale": [
             [
              0,
              "#0d0887"
             ],
             [
              0.1111111111111111,
              "#46039f"
             ],
             [
              0.2222222222222222,
              "#7201a8"
             ],
             [
              0.3333333333333333,
              "#9c179e"
             ],
             [
              0.4444444444444444,
              "#bd3786"
             ],
             [
              0.5555555555555556,
              "#d8576b"
             ],
             [
              0.6666666666666666,
              "#ed7953"
             ],
             [
              0.7777777777777778,
              "#fb9f3a"
             ],
             [
              0.8888888888888888,
              "#fdca26"
             ],
             [
              1,
              "#f0f921"
             ]
            ],
            "type": "surface"
           }
          ],
          "table": [
           {
            "cells": {
             "fill": {
              "color": "#EBF0F8"
             },
             "line": {
              "color": "white"
             }
            },
            "header": {
             "fill": {
              "color": "#C8D4E3"
             },
             "line": {
              "color": "white"
             }
            },
            "type": "table"
           }
          ]
         },
         "layout": {
          "annotationdefaults": {
           "arrowcolor": "#2a3f5f",
           "arrowhead": 0,
           "arrowwidth": 1
          },
          "autotypenumbers": "strict",
          "coloraxis": {
           "colorbar": {
            "outlinewidth": 0,
            "ticks": ""
           }
          },
          "colorscale": {
           "diverging": [
            [
             0,
             "#8e0152"
            ],
            [
             0.1,
             "#c51b7d"
            ],
            [
             0.2,
             "#de77ae"
            ],
            [
             0.3,
             "#f1b6da"
            ],
            [
             0.4,
             "#fde0ef"
            ],
            [
             0.5,
             "#f7f7f7"
            ],
            [
             0.6,
             "#e6f5d0"
            ],
            [
             0.7,
             "#b8e186"
            ],
            [
             0.8,
             "#7fbc41"
            ],
            [
             0.9,
             "#4d9221"
            ],
            [
             1,
             "#276419"
            ]
           ],
           "sequential": [
            [
             0,
             "#0d0887"
            ],
            [
             0.1111111111111111,
             "#46039f"
            ],
            [
             0.2222222222222222,
             "#7201a8"
            ],
            [
             0.3333333333333333,
             "#9c179e"
            ],
            [
             0.4444444444444444,
             "#bd3786"
            ],
            [
             0.5555555555555556,
             "#d8576b"
            ],
            [
             0.6666666666666666,
             "#ed7953"
            ],
            [
             0.7777777777777778,
             "#fb9f3a"
            ],
            [
             0.8888888888888888,
             "#fdca26"
            ],
            [
             1,
             "#f0f921"
            ]
           ],
           "sequentialminus": [
            [
             0,
             "#0d0887"
            ],
            [
             0.1111111111111111,
             "#46039f"
            ],
            [
             0.2222222222222222,
             "#7201a8"
            ],
            [
             0.3333333333333333,
             "#9c179e"
            ],
            [
             0.4444444444444444,
             "#bd3786"
            ],
            [
             0.5555555555555556,
             "#d8576b"
            ],
            [
             0.6666666666666666,
             "#ed7953"
            ],
            [
             0.7777777777777778,
             "#fb9f3a"
            ],
            [
             0.8888888888888888,
             "#fdca26"
            ],
            [
             1,
             "#f0f921"
            ]
           ]
          },
          "colorway": [
           "#636efa",
           "#EF553B",
           "#00cc96",
           "#ab63fa",
           "#FFA15A",
           "#19d3f3",
           "#FF6692",
           "#B6E880",
           "#FF97FF",
           "#FECB52"
          ],
          "font": {
           "color": "#2a3f5f"
          },
          "geo": {
           "bgcolor": "white",
           "lakecolor": "white",
           "landcolor": "#E5ECF6",
           "showlakes": true,
           "showland": true,
           "subunitcolor": "white"
          },
          "hoverlabel": {
           "align": "left"
          },
          "hovermode": "closest",
          "mapbox": {
           "style": "light"
          },
          "paper_bgcolor": "white",
          "plot_bgcolor": "#E5ECF6",
          "polar": {
           "angularaxis": {
            "gridcolor": "white",
            "linecolor": "white",
            "ticks": ""
           },
           "bgcolor": "#E5ECF6",
           "radialaxis": {
            "gridcolor": "white",
            "linecolor": "white",
            "ticks": ""
           }
          },
          "scene": {
           "xaxis": {
            "backgroundcolor": "#E5ECF6",
            "gridcolor": "white",
            "gridwidth": 2,
            "linecolor": "white",
            "showbackground": true,
            "ticks": "",
            "zerolinecolor": "white"
           },
           "yaxis": {
            "backgroundcolor": "#E5ECF6",
            "gridcolor": "white",
            "gridwidth": 2,
            "linecolor": "white",
            "showbackground": true,
            "ticks": "",
            "zerolinecolor": "white"
           },
           "zaxis": {
            "backgroundcolor": "#E5ECF6",
            "gridcolor": "white",
            "gridwidth": 2,
            "linecolor": "white",
            "showbackground": true,
            "ticks": "",
            "zerolinecolor": "white"
           }
          },
          "shapedefaults": {
           "line": {
            "color": "#2a3f5f"
           }
          },
          "ternary": {
           "aaxis": {
            "gridcolor": "white",
            "linecolor": "white",
            "ticks": ""
           },
           "baxis": {
            "gridcolor": "white",
            "linecolor": "white",
            "ticks": ""
           },
           "bgcolor": "#E5ECF6",
           "caxis": {
            "gridcolor": "white",
            "linecolor": "white",
            "ticks": ""
           }
          },
          "title": {
           "x": 0.05
          },
          "xaxis": {
           "automargin": true,
           "gridcolor": "white",
           "linecolor": "white",
           "ticks": "",
           "title": {
            "standoff": 15
           },
           "zerolinecolor": "white",
           "zerolinewidth": 2
          },
          "yaxis": {
           "automargin": true,
           "gridcolor": "white",
           "linecolor": "white",
           "ticks": "",
           "title": {
            "standoff": 15
           },
           "zerolinecolor": "white",
           "zerolinewidth": 2
          }
         }
        },
        "title": {
         "font": {
          "color": "#4D5663"
         }
        },
        "xaxis": {
         "gridcolor": "#E1E5ED",
         "showgrid": true,
         "tickfont": {
          "color": "#4D5663"
         },
         "title": {
          "font": {
           "color": "#4D5663"
          },
          "text": ""
         },
         "zerolinecolor": "#E1E5ED"
        },
        "yaxis": {
         "gridcolor": "#E1E5ED",
         "showgrid": true,
         "tickfont": {
          "color": "#4D5663"
         },
         "title": {
          "font": {
           "color": "#4D5663"
          },
          "text": ""
         },
         "zerolinecolor": "#E1E5ED"
        }
       }
      },
      "text/html": [
       "<div>                            <div id=\"e43385d1-7518-4cd2-b5aa-fe8b17cf6e8e\" class=\"plotly-graph-div\" style=\"height:525px; width:100%;\"></div>            <script type=\"text/javascript\">                require([\"plotly\"], function(Plotly) {                    window.PLOTLYENV=window.PLOTLYENV || {};\n",
       "                    window.PLOTLYENV.BASE_URL='https://plot.ly';                                    if (document.getElementById(\"e43385d1-7518-4cd2-b5aa-fe8b17cf6e8e\")) {                    Plotly.newPlot(                        \"e43385d1-7518-4cd2-b5aa-fe8b17cf6e8e\",                        [{\"histfunc\": \"count\", \"histnorm\": \"\", \"marker\": {\"color\": \"rgba(255, 153, 51, 1.0)\", \"line\": {\"color\": \"#4D5663\", \"width\": 1.3}}, \"name\": \"A\", \"nbinsx\": 25, \"opacity\": 0.8, \"orientation\": \"v\", \"type\": \"histogram\", \"x\": [-2.5270110065280242, 1.6680174651519772, 0.45001559995548196, -0.02045562584354937, -0.04696767175551414, -0.43901181387379545, 1.7070413018056958, 0.08565188696795122, -0.3344293828596582, 0.9500404409209297, -0.21019113833514888, 0.3604224452923828, -1.11216805280219, -1.5604767575486982, 0.28660620043355134, 0.13083296630364566, 0.6822576428639039, -0.4829122357799119, -1.0615796698603883, 1.5279868368772598, 0.7273176523923723, -0.01668581955173972, -0.14431916847878662, -0.6694863923053975, -2.3470302981384954, -1.1661753763114484, -0.027495754023257737, -1.1940607139239843, 1.2022992752144077, -1.2637653296749367, 2.193581276644731, 1.5401952281442286, 1.2435478976767964, 1.1198451524009416, 0.6659197389716871, 0.9129273941343368, -1.6551091407193894, -0.2022455946334687, 1.7466718899342617, -1.0705815568121162, -0.5031411081362345, 1.4354268289538574, 0.35012433605173376, 2.276633138686141, -0.010746264868391347, -0.3368132777335987, -0.42996015575909946, -0.14383787852590885, -0.36458495384677464, 0.886255773590493, 1.2708758764720964, -0.17095937360923044, 1.7962916184698736, 0.7468575618528512, 0.27557541233497135, -0.4293600119498419, 0.39163991626736816, 0.28128110983445603, -0.5827217868530749, -0.8122462897014714, -1.4807240533031878, -1.9499612762391623, -1.0592607140515602, -1.6477046188858, 1.0012645286707358, 0.862565704579482, 0.039131466186083146, 0.6622855462079307, 0.5149700197353527, -0.6940121322135872, 0.15324988368917486, -0.5476656394961759, -0.004292537672022745, 0.7637978366095226, 0.15075134016268965, -1.210306488771418, 1.4986544939320934, 0.9920524382552748, 0.5463758713635003, 1.5976786993787182, -0.47325106610739365, -0.059765588262616895, -0.35657783893539957, 1.0761729057971934, 0.3656428099020587, 1.846283176033301, 0.5930304044860237, 0.29793987221014107, 0.8924446468847728, -0.5099299114197214, 0.917801363350686, -0.5476396165319876, 0.08810377362737165, 0.67716359658272, -1.2866001392254593, 0.3505270777704328, -0.35502740703668406, 0.3198277785003611, -1.2683305733699586, -0.8306454799809649]}],                        {\"barmode\": \"overlay\", \"legend\": {\"bgcolor\": \"#F5F6F9\", \"font\": {\"color\": \"#4D5663\"}}, \"paper_bgcolor\": \"#F5F6F9\", \"plot_bgcolor\": \"#F5F6F9\", \"template\": {\"data\": {\"bar\": [{\"error_x\": {\"color\": \"#2a3f5f\"}, \"error_y\": {\"color\": \"#2a3f5f\"}, \"marker\": {\"line\": {\"color\": \"#E5ECF6\", \"width\": 0.5}}, \"type\": \"bar\"}], \"barpolar\": [{\"marker\": {\"line\": {\"color\": \"#E5ECF6\", \"width\": 0.5}}, \"type\": \"barpolar\"}], \"carpet\": [{\"aaxis\": {\"endlinecolor\": \"#2a3f5f\", \"gridcolor\": \"white\", \"linecolor\": \"white\", \"minorgridcolor\": \"white\", \"startlinecolor\": \"#2a3f5f\"}, \"baxis\": {\"endlinecolor\": \"#2a3f5f\", \"gridcolor\": \"white\", \"linecolor\": \"white\", \"minorgridcolor\": \"white\", \"startlinecolor\": \"#2a3f5f\"}, \"type\": \"carpet\"}], \"choropleth\": [{\"colorbar\": {\"outlinewidth\": 0, \"ticks\": \"\"}, \"type\": \"choropleth\"}], \"contour\": [{\"colorbar\": {\"outlinewidth\": 0, \"ticks\": \"\"}, \"colorscale\": [[0.0, \"#0d0887\"], [0.1111111111111111, \"#46039f\"], [0.2222222222222222, \"#7201a8\"], [0.3333333333333333, \"#9c179e\"], [0.4444444444444444, \"#bd3786\"], [0.5555555555555556, \"#d8576b\"], [0.6666666666666666, \"#ed7953\"], [0.7777777777777778, \"#fb9f3a\"], [0.8888888888888888, \"#fdca26\"], [1.0, \"#f0f921\"]], \"type\": \"contour\"}], \"contourcarpet\": [{\"colorbar\": {\"outlinewidth\": 0, \"ticks\": \"\"}, \"type\": \"contourcarpet\"}], \"heatmap\": [{\"colorbar\": {\"outlinewidth\": 0, \"ticks\": \"\"}, \"colorscale\": [[0.0, \"#0d0887\"], [0.1111111111111111, \"#46039f\"], [0.2222222222222222, \"#7201a8\"], [0.3333333333333333, \"#9c179e\"], [0.4444444444444444, \"#bd3786\"], [0.5555555555555556, \"#d8576b\"], [0.6666666666666666, \"#ed7953\"], [0.7777777777777778, \"#fb9f3a\"], [0.8888888888888888, \"#fdca26\"], [1.0, \"#f0f921\"]], \"type\": \"heatmap\"}], \"heatmapgl\": [{\"colorbar\": {\"outlinewidth\": 0, \"ticks\": \"\"}, \"colorscale\": [[0.0, \"#0d0887\"], [0.1111111111111111, \"#46039f\"], [0.2222222222222222, \"#7201a8\"], [0.3333333333333333, \"#9c179e\"], [0.4444444444444444, \"#bd3786\"], [0.5555555555555556, \"#d8576b\"], [0.6666666666666666, \"#ed7953\"], [0.7777777777777778, \"#fb9f3a\"], [0.8888888888888888, \"#fdca26\"], [1.0, \"#f0f921\"]], \"type\": \"heatmapgl\"}], \"histogram\": [{\"marker\": {\"colorbar\": {\"outlinewidth\": 0, \"ticks\": \"\"}}, \"type\": \"histogram\"}], \"histogram2d\": [{\"colorbar\": {\"outlinewidth\": 0, \"ticks\": \"\"}, \"colorscale\": [[0.0, \"#0d0887\"], [0.1111111111111111, \"#46039f\"], [0.2222222222222222, \"#7201a8\"], [0.3333333333333333, \"#9c179e\"], [0.4444444444444444, \"#bd3786\"], [0.5555555555555556, \"#d8576b\"], [0.6666666666666666, \"#ed7953\"], [0.7777777777777778, \"#fb9f3a\"], [0.8888888888888888, \"#fdca26\"], [1.0, \"#f0f921\"]], \"type\": \"histogram2d\"}], \"histogram2dcontour\": [{\"colorbar\": {\"outlinewidth\": 0, \"ticks\": \"\"}, \"colorscale\": [[0.0, \"#0d0887\"], [0.1111111111111111, \"#46039f\"], [0.2222222222222222, \"#7201a8\"], [0.3333333333333333, \"#9c179e\"], [0.4444444444444444, \"#bd3786\"], [0.5555555555555556, \"#d8576b\"], [0.6666666666666666, \"#ed7953\"], [0.7777777777777778, \"#fb9f3a\"], [0.8888888888888888, \"#fdca26\"], [1.0, \"#f0f921\"]], \"type\": \"histogram2dcontour\"}], \"mesh3d\": [{\"colorbar\": {\"outlinewidth\": 0, \"ticks\": \"\"}, \"type\": \"mesh3d\"}], \"parcoords\": [{\"line\": {\"colorbar\": {\"outlinewidth\": 0, \"ticks\": \"\"}}, \"type\": \"parcoords\"}], \"pie\": [{\"automargin\": true, \"type\": \"pie\"}], \"scatter\": [{\"marker\": {\"colorbar\": {\"outlinewidth\": 0, \"ticks\": \"\"}}, \"type\": \"scatter\"}], \"scatter3d\": [{\"line\": {\"colorbar\": {\"outlinewidth\": 0, \"ticks\": \"\"}}, \"marker\": {\"colorbar\": {\"outlinewidth\": 0, \"ticks\": \"\"}}, \"type\": \"scatter3d\"}], \"scattercarpet\": [{\"marker\": {\"colorbar\": {\"outlinewidth\": 0, \"ticks\": \"\"}}, \"type\": \"scattercarpet\"}], \"scattergeo\": [{\"marker\": {\"colorbar\": {\"outlinewidth\": 0, \"ticks\": \"\"}}, \"type\": \"scattergeo\"}], \"scattergl\": [{\"marker\": {\"colorbar\": {\"outlinewidth\": 0, \"ticks\": \"\"}}, \"type\": \"scattergl\"}], \"scattermapbox\": [{\"marker\": {\"colorbar\": {\"outlinewidth\": 0, \"ticks\": \"\"}}, \"type\": \"scattermapbox\"}], \"scatterpolar\": [{\"marker\": {\"colorbar\": {\"outlinewidth\": 0, \"ticks\": \"\"}}, \"type\": \"scatterpolar\"}], \"scatterpolargl\": [{\"marker\": {\"colorbar\": {\"outlinewidth\": 0, \"ticks\": \"\"}}, \"type\": \"scatterpolargl\"}], \"scatterternary\": [{\"marker\": {\"colorbar\": {\"outlinewidth\": 0, \"ticks\": \"\"}}, \"type\": \"scatterternary\"}], \"surface\": [{\"colorbar\": {\"outlinewidth\": 0, \"ticks\": \"\"}, \"colorscale\": [[0.0, \"#0d0887\"], [0.1111111111111111, \"#46039f\"], [0.2222222222222222, \"#7201a8\"], [0.3333333333333333, \"#9c179e\"], [0.4444444444444444, \"#bd3786\"], [0.5555555555555556, \"#d8576b\"], [0.6666666666666666, \"#ed7953\"], [0.7777777777777778, \"#fb9f3a\"], [0.8888888888888888, \"#fdca26\"], [1.0, \"#f0f921\"]], \"type\": \"surface\"}], \"table\": [{\"cells\": {\"fill\": {\"color\": \"#EBF0F8\"}, \"line\": {\"color\": \"white\"}}, \"header\": {\"fill\": {\"color\": \"#C8D4E3\"}, \"line\": {\"color\": \"white\"}}, \"type\": \"table\"}]}, \"layout\": {\"annotationdefaults\": {\"arrowcolor\": \"#2a3f5f\", \"arrowhead\": 0, \"arrowwidth\": 1}, \"autotypenumbers\": \"strict\", \"coloraxis\": {\"colorbar\": {\"outlinewidth\": 0, \"ticks\": \"\"}}, \"colorscale\": {\"diverging\": [[0, \"#8e0152\"], [0.1, \"#c51b7d\"], [0.2, \"#de77ae\"], [0.3, \"#f1b6da\"], [0.4, \"#fde0ef\"], [0.5, \"#f7f7f7\"], [0.6, \"#e6f5d0\"], [0.7, \"#b8e186\"], [0.8, \"#7fbc41\"], [0.9, \"#4d9221\"], [1, \"#276419\"]], \"sequential\": [[0.0, \"#0d0887\"], [0.1111111111111111, \"#46039f\"], [0.2222222222222222, \"#7201a8\"], [0.3333333333333333, \"#9c179e\"], [0.4444444444444444, \"#bd3786\"], [0.5555555555555556, \"#d8576b\"], [0.6666666666666666, \"#ed7953\"], [0.7777777777777778, \"#fb9f3a\"], [0.8888888888888888, \"#fdca26\"], [1.0, \"#f0f921\"]], \"sequentialminus\": [[0.0, \"#0d0887\"], [0.1111111111111111, \"#46039f\"], [0.2222222222222222, \"#7201a8\"], [0.3333333333333333, \"#9c179e\"], [0.4444444444444444, \"#bd3786\"], [0.5555555555555556, \"#d8576b\"], [0.6666666666666666, \"#ed7953\"], [0.7777777777777778, \"#fb9f3a\"], [0.8888888888888888, \"#fdca26\"], [1.0, \"#f0f921\"]]}, \"colorway\": [\"#636efa\", \"#EF553B\", \"#00cc96\", \"#ab63fa\", \"#FFA15A\", \"#19d3f3\", \"#FF6692\", \"#B6E880\", \"#FF97FF\", \"#FECB52\"], \"font\": {\"color\": \"#2a3f5f\"}, \"geo\": {\"bgcolor\": \"white\", \"lakecolor\": \"white\", \"landcolor\": \"#E5ECF6\", \"showlakes\": true, \"showland\": true, \"subunitcolor\": \"white\"}, \"hoverlabel\": {\"align\": \"left\"}, \"hovermode\": \"closest\", \"mapbox\": {\"style\": \"light\"}, \"paper_bgcolor\": \"white\", \"plot_bgcolor\": \"#E5ECF6\", \"polar\": {\"angularaxis\": {\"gridcolor\": \"white\", \"linecolor\": \"white\", \"ticks\": \"\"}, \"bgcolor\": \"#E5ECF6\", \"radialaxis\": {\"gridcolor\": \"white\", \"linecolor\": \"white\", \"ticks\": \"\"}}, \"scene\": {\"xaxis\": {\"backgroundcolor\": \"#E5ECF6\", \"gridcolor\": \"white\", \"gridwidth\": 2, \"linecolor\": \"white\", \"showbackground\": true, \"ticks\": \"\", \"zerolinecolor\": \"white\"}, \"yaxis\": {\"backgroundcolor\": \"#E5ECF6\", \"gridcolor\": \"white\", \"gridwidth\": 2, \"linecolor\": \"white\", \"showbackground\": true, \"ticks\": \"\", \"zerolinecolor\": \"white\"}, \"zaxis\": {\"backgroundcolor\": \"#E5ECF6\", \"gridcolor\": \"white\", \"gridwidth\": 2, \"linecolor\": \"white\", \"showbackground\": true, \"ticks\": \"\", \"zerolinecolor\": \"white\"}}, \"shapedefaults\": {\"line\": {\"color\": \"#2a3f5f\"}}, \"ternary\": {\"aaxis\": {\"gridcolor\": \"white\", \"linecolor\": \"white\", \"ticks\": \"\"}, \"baxis\": {\"gridcolor\": \"white\", \"linecolor\": \"white\", \"ticks\": \"\"}, \"bgcolor\": \"#E5ECF6\", \"caxis\": {\"gridcolor\": \"white\", \"linecolor\": \"white\", \"ticks\": \"\"}}, \"title\": {\"x\": 0.05}, \"xaxis\": {\"automargin\": true, \"gridcolor\": \"white\", \"linecolor\": \"white\", \"ticks\": \"\", \"title\": {\"standoff\": 15}, \"zerolinecolor\": \"white\", \"zerolinewidth\": 2}, \"yaxis\": {\"automargin\": true, \"gridcolor\": \"white\", \"linecolor\": \"white\", \"ticks\": \"\", \"title\": {\"standoff\": 15}, \"zerolinecolor\": \"white\", \"zerolinewidth\": 2}}}, \"title\": {\"font\": {\"color\": \"#4D5663\"}}, \"xaxis\": {\"gridcolor\": \"#E1E5ED\", \"showgrid\": true, \"tickfont\": {\"color\": \"#4D5663\"}, \"title\": {\"font\": {\"color\": \"#4D5663\"}, \"text\": \"\"}, \"zerolinecolor\": \"#E1E5ED\"}, \"yaxis\": {\"gridcolor\": \"#E1E5ED\", \"showgrid\": true, \"tickfont\": {\"color\": \"#4D5663\"}, \"title\": {\"font\": {\"color\": \"#4D5663\"}, \"text\": \"\"}, \"zerolinecolor\": \"#E1E5ED\"}},                        {\"showLink\": true, \"linkText\": \"Export to plot.ly\", \"plotlyServerURL\": \"https://plot.ly\", \"responsive\": true}                    ).then(function(){\n",
       "                            \n",
       "var gd = document.getElementById('e43385d1-7518-4cd2-b5aa-fe8b17cf6e8e');\n",
       "var x = new MutationObserver(function (mutations, observer) {{\n",
       "        var display = window.getComputedStyle(gd).display;\n",
       "        if (!display || display === 'none') {{\n",
       "            console.log([gd, 'removed!']);\n",
       "            Plotly.purge(gd);\n",
       "            observer.disconnect();\n",
       "        }}\n",
       "}});\n",
       "\n",
       "// Listen for the removal of the full notebook cells\n",
       "var notebookContainer = gd.closest('#notebook-container');\n",
       "if (notebookContainer) {{\n",
       "    x.observe(notebookContainer, {childList: true});\n",
       "}}\n",
       "\n",
       "// Listen for the clearing of the current output cell\n",
       "var outputEl = gd.closest('.output');\n",
       "if (outputEl) {{\n",
       "    x.observe(outputEl, {childList: true});\n",
       "}}\n",
       "\n",
       "                        })                };                });            </script>        </div>"
      ]
     },
     "metadata": {},
     "output_type": "display_data"
    }
   ],
   "source": [
    "df['A'].iplot(kind='hist',bins=25)"
   ]
  },
  {
   "cell_type": "code",
   "execution_count": 17,
   "metadata": {},
   "outputs": [
    {
     "data": {
      "application/vnd.plotly.v1+json": {
       "config": {
        "linkText": "Export to plot.ly",
        "plotlyServerURL": "https://plot.ly",
        "showLink": true
       },
       "data": [
        {
         "marker": {
          "color": [
           "rgb(255, 153, 51)",
           "rgb(55, 128, 191)",
           "rgb(50, 171, 96)",
           "rgb(128, 0, 128)",
           "rgb(219, 64, 82)",
           "rgb(0, 128, 128)",
           "rgb(255, 255, 51)",
           "rgb(128, 128, 0)",
           "rgb(251, 128, 114)",
           "rgb(128, 177, 211)"
          ],
          "line": {
           "width": 1.3
          },
          "size": [
           64,
           49,
           56,
           31,
           79,
           49,
           85,
           29,
           80,
           58,
           57,
           99,
           51,
           72,
           91,
           71,
           64,
           51,
           105,
           79,
           24,
           108,
           52,
           76,
           92,
           83,
           72,
           84,
           87,
           69,
           57,
           48,
           77,
           53,
           76,
           73,
           51,
           56,
           75,
           99,
           112,
           95,
           50,
           92,
           76,
           32,
           71,
           36,
           79,
           102,
           37,
           63,
           93,
           40,
           76,
           47,
           63,
           47,
           68,
           60,
           85,
           36,
           83,
           80,
           88,
           63,
           34,
           12,
           64,
           108,
           74,
           49,
           81,
           59,
           64,
           57,
           58,
           49,
           73,
           62,
           79,
           41,
           32,
           64,
           32,
           38,
           60,
           57,
           68,
           71,
           84,
           73,
           48,
           55,
           73,
           50,
           47,
           66,
           46,
           97
          ],
          "symbol": "circle"
         },
         "mode": "markers",
         "text": "",
         "type": "scatter",
         "x": [
          -2.5270110065280242,
          1.6680174651519772,
          0.45001559995548196,
          -0.02045562584354937,
          -0.04696767175551414,
          -0.43901181387379545,
          1.7070413018056958,
          0.08565188696795122,
          -0.3344293828596582,
          0.9500404409209297,
          -0.21019113833514888,
          0.3604224452923828,
          -1.11216805280219,
          -1.5604767575486982,
          0.28660620043355134,
          0.13083296630364566,
          0.6822576428639039,
          -0.4829122357799119,
          -1.0615796698603883,
          1.5279868368772598,
          0.7273176523923723,
          -0.01668581955173972,
          -0.14431916847878662,
          -0.6694863923053975,
          -2.3470302981384954,
          -1.1661753763114484,
          -0.027495754023257737,
          -1.1940607139239843,
          1.2022992752144077,
          -1.2637653296749367,
          2.193581276644731,
          1.5401952281442286,
          1.2435478976767964,
          1.1198451524009416,
          0.6659197389716871,
          0.9129273941343368,
          -1.6551091407193894,
          -0.2022455946334687,
          1.7466718899342617,
          -1.0705815568121162,
          -0.5031411081362345,
          1.4354268289538574,
          0.35012433605173376,
          2.276633138686141,
          -0.010746264868391347,
          -0.3368132777335987,
          -0.42996015575909946,
          -0.14383787852590885,
          -0.36458495384677464,
          0.886255773590493,
          1.2708758764720964,
          -0.17095937360923044,
          1.7962916184698736,
          0.7468575618528512,
          0.27557541233497135,
          -0.4293600119498419,
          0.39163991626736816,
          0.28128110983445603,
          -0.5827217868530749,
          -0.8122462897014714,
          -1.4807240533031878,
          -1.9499612762391623,
          -1.0592607140515602,
          -1.6477046188858,
          1.0012645286707358,
          0.862565704579482,
          0.039131466186083146,
          0.6622855462079307,
          0.5149700197353527,
          -0.6940121322135872,
          0.15324988368917486,
          -0.5476656394961759,
          -0.004292537672022745,
          0.7637978366095226,
          0.15075134016268965,
          -1.210306488771418,
          1.4986544939320934,
          0.9920524382552748,
          0.5463758713635003,
          1.5976786993787182,
          -0.47325106610739365,
          -0.059765588262616895,
          -0.35657783893539957,
          1.0761729057971934,
          0.3656428099020587,
          1.846283176033301,
          0.5930304044860237,
          0.29793987221014107,
          0.8924446468847728,
          -0.5099299114197214,
          0.917801363350686,
          -0.5476396165319876,
          0.08810377362737165,
          0.67716359658272,
          -1.2866001392254593,
          0.3505270777704328,
          -0.35502740703668406,
          0.3198277785003611,
          -1.2683305733699586,
          -0.8306454799809649
         ],
         "y": [
          0.6077342487016018,
          -0.4731893416109403,
          -1.3768007323560167,
          -1.426830575049864,
          0.12874988879814375,
          -0.947733813933697,
          0.5238344892217599,
          0.4840873187211147,
          -0.14012108582502,
          -1.8873437456128668,
          -0.14026679486783325,
          0.4586861028400738,
          -0.10395573252720713,
          0.06140834037940289,
          -0.3502091575413244,
          -2.0090925410123672,
          0.4364534526441894,
          2.1817271426605065,
          -0.6445403959738393,
          0.45419525315091375,
          -0.5176436627591724,
          0.5329488253779412,
          0.3411555558959055,
          0.1950287322958298,
          -1.892179875114976,
          -0.04305897101210228,
          1.026946935339796,
          1.4848231767312008,
          -0.6055364169071535,
          0.4237220678947114,
          0.5388665211938162,
          -0.6728594434723479,
          -1.1915342740995833,
          0.5941628508263933,
          -0.863275792769601,
          0.047691635733050526,
          -0.4305545961459695,
          -2.2342519811712185,
          -0.5520756194783913,
          2.397078675528769,
          0.4545527413537645,
          -1.016763728464053,
          -0.6026059735096668,
          0.5137861018262334,
          0.5881748149974206,
          1.188626116200059,
          -0.3169650249940472,
          0.6923341698729818,
          -2.097714086167859,
          -0.5526867895889804,
          0.2120071963811955,
          -0.6187381387292377,
          0.9596534764458649,
          0.032236559936918534,
          -1.8499788850248917,
          2.503462048187462,
          1.1279064832228873,
          -1.2725792355196437,
          1.121997168063789,
          -0.4687798848657744,
          1.5793951413013747,
          2.1816459185106987,
          0.46107945737165623,
          0.5236098062294923,
          -1.1596068392298857,
          0.24036944442115304,
          0.6304058035738712,
          -1.0185978020522959,
          -0.15179028153027518,
          -0.08919393697884163,
          0.7714753987146433,
          -0.5390364543872649,
          1.920551168018313,
          0.3063838030070926,
          -0.22397774797668304,
          -1.0448493502254013,
          -1.2544416899655373,
          0.4892953069810365,
          0.697919876015075,
          0.6485908307169317,
          0.40662451216039197,
          0.5765804446501441,
          -0.44768295089216714,
          -0.738650617470391,
          0.24395544214563125,
          -1.5275755299976472,
          -0.23712520374440696,
          -0.45122748413867386,
          0.5496027629689889,
          1.5441391625326482,
          0.9254372535361087,
          -0.5676555714360765,
          1.7135407953393513,
          2.7406862509354215,
          0.7133139060010656,
          -0.1828690990490576,
          0.24013813467922385,
          -1.2477864222587203,
          0.6116994227216244,
          0.9070783540161795
         ]
        }
       ],
       "layout": {
        "legend": {
         "bgcolor": "#F5F6F9",
         "font": {
          "color": "#4D5663"
         }
        },
        "paper_bgcolor": "#F5F6F9",
        "plot_bgcolor": "#F5F6F9",
        "template": {
         "data": {
          "bar": [
           {
            "error_x": {
             "color": "#2a3f5f"
            },
            "error_y": {
             "color": "#2a3f5f"
            },
            "marker": {
             "line": {
              "color": "#E5ECF6",
              "width": 0.5
             }
            },
            "type": "bar"
           }
          ],
          "barpolar": [
           {
            "marker": {
             "line": {
              "color": "#E5ECF6",
              "width": 0.5
             }
            },
            "type": "barpolar"
           }
          ],
          "carpet": [
           {
            "aaxis": {
             "endlinecolor": "#2a3f5f",
             "gridcolor": "white",
             "linecolor": "white",
             "minorgridcolor": "white",
             "startlinecolor": "#2a3f5f"
            },
            "baxis": {
             "endlinecolor": "#2a3f5f",
             "gridcolor": "white",
             "linecolor": "white",
             "minorgridcolor": "white",
             "startlinecolor": "#2a3f5f"
            },
            "type": "carpet"
           }
          ],
          "choropleth": [
           {
            "colorbar": {
             "outlinewidth": 0,
             "ticks": ""
            },
            "type": "choropleth"
           }
          ],
          "contour": [
           {
            "colorbar": {
             "outlinewidth": 0,
             "ticks": ""
            },
            "colorscale": [
             [
              0,
              "#0d0887"
             ],
             [
              0.1111111111111111,
              "#46039f"
             ],
             [
              0.2222222222222222,
              "#7201a8"
             ],
             [
              0.3333333333333333,
              "#9c179e"
             ],
             [
              0.4444444444444444,
              "#bd3786"
             ],
             [
              0.5555555555555556,
              "#d8576b"
             ],
             [
              0.6666666666666666,
              "#ed7953"
             ],
             [
              0.7777777777777778,
              "#fb9f3a"
             ],
             [
              0.8888888888888888,
              "#fdca26"
             ],
             [
              1,
              "#f0f921"
             ]
            ],
            "type": "contour"
           }
          ],
          "contourcarpet": [
           {
            "colorbar": {
             "outlinewidth": 0,
             "ticks": ""
            },
            "type": "contourcarpet"
           }
          ],
          "heatmap": [
           {
            "colorbar": {
             "outlinewidth": 0,
             "ticks": ""
            },
            "colorscale": [
             [
              0,
              "#0d0887"
             ],
             [
              0.1111111111111111,
              "#46039f"
             ],
             [
              0.2222222222222222,
              "#7201a8"
             ],
             [
              0.3333333333333333,
              "#9c179e"
             ],
             [
              0.4444444444444444,
              "#bd3786"
             ],
             [
              0.5555555555555556,
              "#d8576b"
             ],
             [
              0.6666666666666666,
              "#ed7953"
             ],
             [
              0.7777777777777778,
              "#fb9f3a"
             ],
             [
              0.8888888888888888,
              "#fdca26"
             ],
             [
              1,
              "#f0f921"
             ]
            ],
            "type": "heatmap"
           }
          ],
          "heatmapgl": [
           {
            "colorbar": {
             "outlinewidth": 0,
             "ticks": ""
            },
            "colorscale": [
             [
              0,
              "#0d0887"
             ],
             [
              0.1111111111111111,
              "#46039f"
             ],
             [
              0.2222222222222222,
              "#7201a8"
             ],
             [
              0.3333333333333333,
              "#9c179e"
             ],
             [
              0.4444444444444444,
              "#bd3786"
             ],
             [
              0.5555555555555556,
              "#d8576b"
             ],
             [
              0.6666666666666666,
              "#ed7953"
             ],
             [
              0.7777777777777778,
              "#fb9f3a"
             ],
             [
              0.8888888888888888,
              "#fdca26"
             ],
             [
              1,
              "#f0f921"
             ]
            ],
            "type": "heatmapgl"
           }
          ],
          "histogram": [
           {
            "marker": {
             "colorbar": {
              "outlinewidth": 0,
              "ticks": ""
             }
            },
            "type": "histogram"
           }
          ],
          "histogram2d": [
           {
            "colorbar": {
             "outlinewidth": 0,
             "ticks": ""
            },
            "colorscale": [
             [
              0,
              "#0d0887"
             ],
             [
              0.1111111111111111,
              "#46039f"
             ],
             [
              0.2222222222222222,
              "#7201a8"
             ],
             [
              0.3333333333333333,
              "#9c179e"
             ],
             [
              0.4444444444444444,
              "#bd3786"
             ],
             [
              0.5555555555555556,
              "#d8576b"
             ],
             [
              0.6666666666666666,
              "#ed7953"
             ],
             [
              0.7777777777777778,
              "#fb9f3a"
             ],
             [
              0.8888888888888888,
              "#fdca26"
             ],
             [
              1,
              "#f0f921"
             ]
            ],
            "type": "histogram2d"
           }
          ],
          "histogram2dcontour": [
           {
            "colorbar": {
             "outlinewidth": 0,
             "ticks": ""
            },
            "colorscale": [
             [
              0,
              "#0d0887"
             ],
             [
              0.1111111111111111,
              "#46039f"
             ],
             [
              0.2222222222222222,
              "#7201a8"
             ],
             [
              0.3333333333333333,
              "#9c179e"
             ],
             [
              0.4444444444444444,
              "#bd3786"
             ],
             [
              0.5555555555555556,
              "#d8576b"
             ],
             [
              0.6666666666666666,
              "#ed7953"
             ],
             [
              0.7777777777777778,
              "#fb9f3a"
             ],
             [
              0.8888888888888888,
              "#fdca26"
             ],
             [
              1,
              "#f0f921"
             ]
            ],
            "type": "histogram2dcontour"
           }
          ],
          "mesh3d": [
           {
            "colorbar": {
             "outlinewidth": 0,
             "ticks": ""
            },
            "type": "mesh3d"
           }
          ],
          "parcoords": [
           {
            "line": {
             "colorbar": {
              "outlinewidth": 0,
              "ticks": ""
             }
            },
            "type": "parcoords"
           }
          ],
          "pie": [
           {
            "automargin": true,
            "type": "pie"
           }
          ],
          "scatter": [
           {
            "marker": {
             "colorbar": {
              "outlinewidth": 0,
              "ticks": ""
             }
            },
            "type": "scatter"
           }
          ],
          "scatter3d": [
           {
            "line": {
             "colorbar": {
              "outlinewidth": 0,
              "ticks": ""
             }
            },
            "marker": {
             "colorbar": {
              "outlinewidth": 0,
              "ticks": ""
             }
            },
            "type": "scatter3d"
           }
          ],
          "scattercarpet": [
           {
            "marker": {
             "colorbar": {
              "outlinewidth": 0,
              "ticks": ""
             }
            },
            "type": "scattercarpet"
           }
          ],
          "scattergeo": [
           {
            "marker": {
             "colorbar": {
              "outlinewidth": 0,
              "ticks": ""
             }
            },
            "type": "scattergeo"
           }
          ],
          "scattergl": [
           {
            "marker": {
             "colorbar": {
              "outlinewidth": 0,
              "ticks": ""
             }
            },
            "type": "scattergl"
           }
          ],
          "scattermapbox": [
           {
            "marker": {
             "colorbar": {
              "outlinewidth": 0,
              "ticks": ""
             }
            },
            "type": "scattermapbox"
           }
          ],
          "scatterpolar": [
           {
            "marker": {
             "colorbar": {
              "outlinewidth": 0,
              "ticks": ""
             }
            },
            "type": "scatterpolar"
           }
          ],
          "scatterpolargl": [
           {
            "marker": {
             "colorbar": {
              "outlinewidth": 0,
              "ticks": ""
             }
            },
            "type": "scatterpolargl"
           }
          ],
          "scatterternary": [
           {
            "marker": {
             "colorbar": {
              "outlinewidth": 0,
              "ticks": ""
             }
            },
            "type": "scatterternary"
           }
          ],
          "surface": [
           {
            "colorbar": {
             "outlinewidth": 0,
             "ticks": ""
            },
            "colorscale": [
             [
              0,
              "#0d0887"
             ],
             [
              0.1111111111111111,
              "#46039f"
             ],
             [
              0.2222222222222222,
              "#7201a8"
             ],
             [
              0.3333333333333333,
              "#9c179e"
             ],
             [
              0.4444444444444444,
              "#bd3786"
             ],
             [
              0.5555555555555556,
              "#d8576b"
             ],
             [
              0.6666666666666666,
              "#ed7953"
             ],
             [
              0.7777777777777778,
              "#fb9f3a"
             ],
             [
              0.8888888888888888,
              "#fdca26"
             ],
             [
              1,
              "#f0f921"
             ]
            ],
            "type": "surface"
           }
          ],
          "table": [
           {
            "cells": {
             "fill": {
              "color": "#EBF0F8"
             },
             "line": {
              "color": "white"
             }
            },
            "header": {
             "fill": {
              "color": "#C8D4E3"
             },
             "line": {
              "color": "white"
             }
            },
            "type": "table"
           }
          ]
         },
         "layout": {
          "annotationdefaults": {
           "arrowcolor": "#2a3f5f",
           "arrowhead": 0,
           "arrowwidth": 1
          },
          "autotypenumbers": "strict",
          "coloraxis": {
           "colorbar": {
            "outlinewidth": 0,
            "ticks": ""
           }
          },
          "colorscale": {
           "diverging": [
            [
             0,
             "#8e0152"
            ],
            [
             0.1,
             "#c51b7d"
            ],
            [
             0.2,
             "#de77ae"
            ],
            [
             0.3,
             "#f1b6da"
            ],
            [
             0.4,
             "#fde0ef"
            ],
            [
             0.5,
             "#f7f7f7"
            ],
            [
             0.6,
             "#e6f5d0"
            ],
            [
             0.7,
             "#b8e186"
            ],
            [
             0.8,
             "#7fbc41"
            ],
            [
             0.9,
             "#4d9221"
            ],
            [
             1,
             "#276419"
            ]
           ],
           "sequential": [
            [
             0,
             "#0d0887"
            ],
            [
             0.1111111111111111,
             "#46039f"
            ],
            [
             0.2222222222222222,
             "#7201a8"
            ],
            [
             0.3333333333333333,
             "#9c179e"
            ],
            [
             0.4444444444444444,
             "#bd3786"
            ],
            [
             0.5555555555555556,
             "#d8576b"
            ],
            [
             0.6666666666666666,
             "#ed7953"
            ],
            [
             0.7777777777777778,
             "#fb9f3a"
            ],
            [
             0.8888888888888888,
             "#fdca26"
            ],
            [
             1,
             "#f0f921"
            ]
           ],
           "sequentialminus": [
            [
             0,
             "#0d0887"
            ],
            [
             0.1111111111111111,
             "#46039f"
            ],
            [
             0.2222222222222222,
             "#7201a8"
            ],
            [
             0.3333333333333333,
             "#9c179e"
            ],
            [
             0.4444444444444444,
             "#bd3786"
            ],
            [
             0.5555555555555556,
             "#d8576b"
            ],
            [
             0.6666666666666666,
             "#ed7953"
            ],
            [
             0.7777777777777778,
             "#fb9f3a"
            ],
            [
             0.8888888888888888,
             "#fdca26"
            ],
            [
             1,
             "#f0f921"
            ]
           ]
          },
          "colorway": [
           "#636efa",
           "#EF553B",
           "#00cc96",
           "#ab63fa",
           "#FFA15A",
           "#19d3f3",
           "#FF6692",
           "#B6E880",
           "#FF97FF",
           "#FECB52"
          ],
          "font": {
           "color": "#2a3f5f"
          },
          "geo": {
           "bgcolor": "white",
           "lakecolor": "white",
           "landcolor": "#E5ECF6",
           "showlakes": true,
           "showland": true,
           "subunitcolor": "white"
          },
          "hoverlabel": {
           "align": "left"
          },
          "hovermode": "closest",
          "mapbox": {
           "style": "light"
          },
          "paper_bgcolor": "white",
          "plot_bgcolor": "#E5ECF6",
          "polar": {
           "angularaxis": {
            "gridcolor": "white",
            "linecolor": "white",
            "ticks": ""
           },
           "bgcolor": "#E5ECF6",
           "radialaxis": {
            "gridcolor": "white",
            "linecolor": "white",
            "ticks": ""
           }
          },
          "scene": {
           "xaxis": {
            "backgroundcolor": "#E5ECF6",
            "gridcolor": "white",
            "gridwidth": 2,
            "linecolor": "white",
            "showbackground": true,
            "ticks": "",
            "zerolinecolor": "white"
           },
           "yaxis": {
            "backgroundcolor": "#E5ECF6",
            "gridcolor": "white",
            "gridwidth": 2,
            "linecolor": "white",
            "showbackground": true,
            "ticks": "",
            "zerolinecolor": "white"
           },
           "zaxis": {
            "backgroundcolor": "#E5ECF6",
            "gridcolor": "white",
            "gridwidth": 2,
            "linecolor": "white",
            "showbackground": true,
            "ticks": "",
            "zerolinecolor": "white"
           }
          },
          "shapedefaults": {
           "line": {
            "color": "#2a3f5f"
           }
          },
          "ternary": {
           "aaxis": {
            "gridcolor": "white",
            "linecolor": "white",
            "ticks": ""
           },
           "baxis": {
            "gridcolor": "white",
            "linecolor": "white",
            "ticks": ""
           },
           "bgcolor": "#E5ECF6",
           "caxis": {
            "gridcolor": "white",
            "linecolor": "white",
            "ticks": ""
           }
          },
          "title": {
           "x": 0.05
          },
          "xaxis": {
           "automargin": true,
           "gridcolor": "white",
           "linecolor": "white",
           "ticks": "",
           "title": {
            "standoff": 15
           },
           "zerolinecolor": "white",
           "zerolinewidth": 2
          },
          "yaxis": {
           "automargin": true,
           "gridcolor": "white",
           "linecolor": "white",
           "ticks": "",
           "title": {
            "standoff": 15
           },
           "zerolinecolor": "white",
           "zerolinewidth": 2
          }
         }
        },
        "title": {
         "font": {
          "color": "#4D5663"
         }
        },
        "xaxis": {
         "gridcolor": "#E1E5ED",
         "showgrid": true,
         "tickfont": {
          "color": "#4D5663"
         },
         "title": {
          "font": {
           "color": "#4D5663"
          },
          "text": ""
         },
         "zerolinecolor": "#E1E5ED"
        },
        "yaxis": {
         "gridcolor": "#E1E5ED",
         "showgrid": true,
         "tickfont": {
          "color": "#4D5663"
         },
         "title": {
          "font": {
           "color": "#4D5663"
          },
          "text": ""
         },
         "zerolinecolor": "#E1E5ED"
        }
       }
      },
      "text/html": [
       "<div>                            <div id=\"2dae232c-b0f9-4b7d-b0ca-283b7b6f056c\" class=\"plotly-graph-div\" style=\"height:525px; width:100%;\"></div>            <script type=\"text/javascript\">                require([\"plotly\"], function(Plotly) {                    window.PLOTLYENV=window.PLOTLYENV || {};\n",
       "                    window.PLOTLYENV.BASE_URL='https://plot.ly';                                    if (document.getElementById(\"2dae232c-b0f9-4b7d-b0ca-283b7b6f056c\")) {                    Plotly.newPlot(                        \"2dae232c-b0f9-4b7d-b0ca-283b7b6f056c\",                        [{\"marker\": {\"color\": [\"rgb(255, 153, 51)\", \"rgb(55, 128, 191)\", \"rgb(50, 171, 96)\", \"rgb(128, 0, 128)\", \"rgb(219, 64, 82)\", \"rgb(0, 128, 128)\", \"rgb(255, 255, 51)\", \"rgb(128, 128, 0)\", \"rgb(251, 128, 114)\", \"rgb(128, 177, 211)\"], \"line\": {\"width\": 1.3}, \"size\": [64, 49, 56, 31, 79, 49, 85, 29, 80, 58, 57, 99, 51, 72, 91, 71, 64, 51, 105, 79, 24, 108, 52, 76, 92, 83, 72, 84, 87, 69, 57, 48, 77, 53, 76, 73, 51, 56, 75, 99, 112, 95, 50, 92, 76, 32, 71, 36, 79, 102, 37, 63, 93, 40, 76, 47, 63, 47, 68, 60, 85, 36, 83, 80, 88, 63, 34, 12, 64, 108, 74, 49, 81, 59, 64, 57, 58, 49, 73, 62, 79, 41, 32, 64, 32, 38, 60, 57, 68, 71, 84, 73, 48, 55, 73, 50, 47, 66, 46, 97], \"symbol\": \"circle\"}, \"mode\": \"markers\", \"text\": \"\", \"type\": \"scatter\", \"x\": [-2.5270110065280242, 1.6680174651519772, 0.45001559995548196, -0.02045562584354937, -0.04696767175551414, -0.43901181387379545, 1.7070413018056958, 0.08565188696795122, -0.3344293828596582, 0.9500404409209297, -0.21019113833514888, 0.3604224452923828, -1.11216805280219, -1.5604767575486982, 0.28660620043355134, 0.13083296630364566, 0.6822576428639039, -0.4829122357799119, -1.0615796698603883, 1.5279868368772598, 0.7273176523923723, -0.01668581955173972, -0.14431916847878662, -0.6694863923053975, -2.3470302981384954, -1.1661753763114484, -0.027495754023257737, -1.1940607139239843, 1.2022992752144077, -1.2637653296749367, 2.193581276644731, 1.5401952281442286, 1.2435478976767964, 1.1198451524009416, 0.6659197389716871, 0.9129273941343368, -1.6551091407193894, -0.2022455946334687, 1.7466718899342617, -1.0705815568121162, -0.5031411081362345, 1.4354268289538574, 0.35012433605173376, 2.276633138686141, -0.010746264868391347, -0.3368132777335987, -0.42996015575909946, -0.14383787852590885, -0.36458495384677464, 0.886255773590493, 1.2708758764720964, -0.17095937360923044, 1.7962916184698736, 0.7468575618528512, 0.27557541233497135, -0.4293600119498419, 0.39163991626736816, 0.28128110983445603, -0.5827217868530749, -0.8122462897014714, -1.4807240533031878, -1.9499612762391623, -1.0592607140515602, -1.6477046188858, 1.0012645286707358, 0.862565704579482, 0.039131466186083146, 0.6622855462079307, 0.5149700197353527, -0.6940121322135872, 0.15324988368917486, -0.5476656394961759, -0.004292537672022745, 0.7637978366095226, 0.15075134016268965, -1.210306488771418, 1.4986544939320934, 0.9920524382552748, 0.5463758713635003, 1.5976786993787182, -0.47325106610739365, -0.059765588262616895, -0.35657783893539957, 1.0761729057971934, 0.3656428099020587, 1.846283176033301, 0.5930304044860237, 0.29793987221014107, 0.8924446468847728, -0.5099299114197214, 0.917801363350686, -0.5476396165319876, 0.08810377362737165, 0.67716359658272, -1.2866001392254593, 0.3505270777704328, -0.35502740703668406, 0.3198277785003611, -1.2683305733699586, -0.8306454799809649], \"y\": [0.6077342487016018, -0.4731893416109403, -1.3768007323560167, -1.426830575049864, 0.12874988879814375, -0.947733813933697, 0.5238344892217599, 0.4840873187211147, -0.14012108582502, -1.8873437456128668, -0.14026679486783325, 0.4586861028400738, -0.10395573252720713, 0.06140834037940289, -0.3502091575413244, -2.0090925410123672, 0.4364534526441894, 2.1817271426605065, -0.6445403959738393, 0.45419525315091375, -0.5176436627591724, 0.5329488253779412, 0.3411555558959055, 0.1950287322958298, -1.892179875114976, -0.04305897101210228, 1.026946935339796, 1.4848231767312008, -0.6055364169071535, 0.4237220678947114, 0.5388665211938162, -0.6728594434723479, -1.1915342740995833, 0.5941628508263933, -0.863275792769601, 0.047691635733050526, -0.4305545961459695, -2.2342519811712185, -0.5520756194783913, 2.397078675528769, 0.4545527413537645, -1.016763728464053, -0.6026059735096668, 0.5137861018262334, 0.5881748149974206, 1.188626116200059, -0.3169650249940472, 0.6923341698729818, -2.097714086167859, -0.5526867895889804, 0.2120071963811955, -0.6187381387292377, 0.9596534764458649, 0.032236559936918534, -1.8499788850248917, 2.503462048187462, 1.1279064832228873, -1.2725792355196437, 1.121997168063789, -0.4687798848657744, 1.5793951413013747, 2.1816459185106987, 0.46107945737165623, 0.5236098062294923, -1.1596068392298857, 0.24036944442115304, 0.6304058035738712, -1.0185978020522959, -0.15179028153027518, -0.08919393697884163, 0.7714753987146433, -0.5390364543872649, 1.920551168018313, 0.3063838030070926, -0.22397774797668304, -1.0448493502254013, -1.2544416899655373, 0.4892953069810365, 0.697919876015075, 0.6485908307169317, 0.40662451216039197, 0.5765804446501441, -0.44768295089216714, -0.738650617470391, 0.24395544214563125, -1.5275755299976472, -0.23712520374440696, -0.45122748413867386, 0.5496027629689889, 1.5441391625326482, 0.9254372535361087, -0.5676555714360765, 1.7135407953393513, 2.7406862509354215, 0.7133139060010656, -0.1828690990490576, 0.24013813467922385, -1.2477864222587203, 0.6116994227216244, 0.9070783540161795]}],                        {\"legend\": {\"bgcolor\": \"#F5F6F9\", \"font\": {\"color\": \"#4D5663\"}}, \"paper_bgcolor\": \"#F5F6F9\", \"plot_bgcolor\": \"#F5F6F9\", \"template\": {\"data\": {\"bar\": [{\"error_x\": {\"color\": \"#2a3f5f\"}, \"error_y\": {\"color\": \"#2a3f5f\"}, \"marker\": {\"line\": {\"color\": \"#E5ECF6\", \"width\": 0.5}}, \"type\": \"bar\"}], \"barpolar\": [{\"marker\": {\"line\": {\"color\": \"#E5ECF6\", \"width\": 0.5}}, \"type\": \"barpolar\"}], \"carpet\": [{\"aaxis\": {\"endlinecolor\": \"#2a3f5f\", \"gridcolor\": \"white\", \"linecolor\": \"white\", \"minorgridcolor\": \"white\", \"startlinecolor\": \"#2a3f5f\"}, \"baxis\": {\"endlinecolor\": \"#2a3f5f\", \"gridcolor\": \"white\", \"linecolor\": \"white\", \"minorgridcolor\": \"white\", \"startlinecolor\": \"#2a3f5f\"}, \"type\": \"carpet\"}], \"choropleth\": [{\"colorbar\": {\"outlinewidth\": 0, \"ticks\": \"\"}, \"type\": \"choropleth\"}], \"contour\": [{\"colorbar\": {\"outlinewidth\": 0, \"ticks\": \"\"}, \"colorscale\": [[0.0, \"#0d0887\"], [0.1111111111111111, \"#46039f\"], [0.2222222222222222, \"#7201a8\"], [0.3333333333333333, \"#9c179e\"], [0.4444444444444444, \"#bd3786\"], [0.5555555555555556, \"#d8576b\"], [0.6666666666666666, \"#ed7953\"], [0.7777777777777778, \"#fb9f3a\"], [0.8888888888888888, \"#fdca26\"], [1.0, \"#f0f921\"]], \"type\": \"contour\"}], \"contourcarpet\": [{\"colorbar\": {\"outlinewidth\": 0, \"ticks\": \"\"}, \"type\": \"contourcarpet\"}], \"heatmap\": [{\"colorbar\": {\"outlinewidth\": 0, \"ticks\": \"\"}, \"colorscale\": [[0.0, \"#0d0887\"], [0.1111111111111111, \"#46039f\"], [0.2222222222222222, \"#7201a8\"], [0.3333333333333333, \"#9c179e\"], [0.4444444444444444, \"#bd3786\"], [0.5555555555555556, \"#d8576b\"], [0.6666666666666666, \"#ed7953\"], [0.7777777777777778, \"#fb9f3a\"], [0.8888888888888888, \"#fdca26\"], [1.0, \"#f0f921\"]], \"type\": \"heatmap\"}], \"heatmapgl\": [{\"colorbar\": {\"outlinewidth\": 0, \"ticks\": \"\"}, \"colorscale\": [[0.0, \"#0d0887\"], [0.1111111111111111, \"#46039f\"], [0.2222222222222222, \"#7201a8\"], [0.3333333333333333, \"#9c179e\"], [0.4444444444444444, \"#bd3786\"], [0.5555555555555556, \"#d8576b\"], [0.6666666666666666, \"#ed7953\"], [0.7777777777777778, \"#fb9f3a\"], [0.8888888888888888, \"#fdca26\"], [1.0, \"#f0f921\"]], \"type\": \"heatmapgl\"}], \"histogram\": [{\"marker\": {\"colorbar\": {\"outlinewidth\": 0, \"ticks\": \"\"}}, \"type\": \"histogram\"}], \"histogram2d\": [{\"colorbar\": {\"outlinewidth\": 0, \"ticks\": \"\"}, \"colorscale\": [[0.0, \"#0d0887\"], [0.1111111111111111, \"#46039f\"], [0.2222222222222222, \"#7201a8\"], [0.3333333333333333, \"#9c179e\"], [0.4444444444444444, \"#bd3786\"], [0.5555555555555556, \"#d8576b\"], [0.6666666666666666, \"#ed7953\"], [0.7777777777777778, \"#fb9f3a\"], [0.8888888888888888, \"#fdca26\"], [1.0, \"#f0f921\"]], \"type\": \"histogram2d\"}], \"histogram2dcontour\": [{\"colorbar\": {\"outlinewidth\": 0, \"ticks\": \"\"}, \"colorscale\": [[0.0, \"#0d0887\"], [0.1111111111111111, \"#46039f\"], [0.2222222222222222, \"#7201a8\"], [0.3333333333333333, \"#9c179e\"], [0.4444444444444444, \"#bd3786\"], [0.5555555555555556, \"#d8576b\"], [0.6666666666666666, \"#ed7953\"], [0.7777777777777778, \"#fb9f3a\"], [0.8888888888888888, \"#fdca26\"], [1.0, \"#f0f921\"]], \"type\": \"histogram2dcontour\"}], \"mesh3d\": [{\"colorbar\": {\"outlinewidth\": 0, \"ticks\": \"\"}, \"type\": \"mesh3d\"}], \"parcoords\": [{\"line\": {\"colorbar\": {\"outlinewidth\": 0, \"ticks\": \"\"}}, \"type\": \"parcoords\"}], \"pie\": [{\"automargin\": true, \"type\": \"pie\"}], \"scatter\": [{\"marker\": {\"colorbar\": {\"outlinewidth\": 0, \"ticks\": \"\"}}, \"type\": \"scatter\"}], \"scatter3d\": [{\"line\": {\"colorbar\": {\"outlinewidth\": 0, \"ticks\": \"\"}}, \"marker\": {\"colorbar\": {\"outlinewidth\": 0, \"ticks\": \"\"}}, \"type\": \"scatter3d\"}], \"scattercarpet\": [{\"marker\": {\"colorbar\": {\"outlinewidth\": 0, \"ticks\": \"\"}}, \"type\": \"scattercarpet\"}], \"scattergeo\": [{\"marker\": {\"colorbar\": {\"outlinewidth\": 0, \"ticks\": \"\"}}, \"type\": \"scattergeo\"}], \"scattergl\": [{\"marker\": {\"colorbar\": {\"outlinewidth\": 0, \"ticks\": \"\"}}, \"type\": \"scattergl\"}], \"scattermapbox\": [{\"marker\": {\"colorbar\": {\"outlinewidth\": 0, \"ticks\": \"\"}}, \"type\": \"scattermapbox\"}], \"scatterpolar\": [{\"marker\": {\"colorbar\": {\"outlinewidth\": 0, \"ticks\": \"\"}}, \"type\": \"scatterpolar\"}], \"scatterpolargl\": [{\"marker\": {\"colorbar\": {\"outlinewidth\": 0, \"ticks\": \"\"}}, \"type\": \"scatterpolargl\"}], \"scatterternary\": [{\"marker\": {\"colorbar\": {\"outlinewidth\": 0, \"ticks\": \"\"}}, \"type\": \"scatterternary\"}], \"surface\": [{\"colorbar\": {\"outlinewidth\": 0, \"ticks\": \"\"}, \"colorscale\": [[0.0, \"#0d0887\"], [0.1111111111111111, \"#46039f\"], [0.2222222222222222, \"#7201a8\"], [0.3333333333333333, \"#9c179e\"], [0.4444444444444444, \"#bd3786\"], [0.5555555555555556, \"#d8576b\"], [0.6666666666666666, \"#ed7953\"], [0.7777777777777778, \"#fb9f3a\"], [0.8888888888888888, \"#fdca26\"], [1.0, \"#f0f921\"]], \"type\": \"surface\"}], \"table\": [{\"cells\": {\"fill\": {\"color\": \"#EBF0F8\"}, \"line\": {\"color\": \"white\"}}, \"header\": {\"fill\": {\"color\": \"#C8D4E3\"}, \"line\": {\"color\": \"white\"}}, \"type\": \"table\"}]}, \"layout\": {\"annotationdefaults\": {\"arrowcolor\": \"#2a3f5f\", \"arrowhead\": 0, \"arrowwidth\": 1}, \"autotypenumbers\": \"strict\", \"coloraxis\": {\"colorbar\": {\"outlinewidth\": 0, \"ticks\": \"\"}}, \"colorscale\": {\"diverging\": [[0, \"#8e0152\"], [0.1, \"#c51b7d\"], [0.2, \"#de77ae\"], [0.3, \"#f1b6da\"], [0.4, \"#fde0ef\"], [0.5, \"#f7f7f7\"], [0.6, \"#e6f5d0\"], [0.7, \"#b8e186\"], [0.8, \"#7fbc41\"], [0.9, \"#4d9221\"], [1, \"#276419\"]], \"sequential\": [[0.0, \"#0d0887\"], [0.1111111111111111, \"#46039f\"], [0.2222222222222222, \"#7201a8\"], [0.3333333333333333, \"#9c179e\"], [0.4444444444444444, \"#bd3786\"], [0.5555555555555556, \"#d8576b\"], [0.6666666666666666, \"#ed7953\"], [0.7777777777777778, \"#fb9f3a\"], [0.8888888888888888, \"#fdca26\"], [1.0, \"#f0f921\"]], \"sequentialminus\": [[0.0, \"#0d0887\"], [0.1111111111111111, \"#46039f\"], [0.2222222222222222, \"#7201a8\"], [0.3333333333333333, \"#9c179e\"], [0.4444444444444444, \"#bd3786\"], [0.5555555555555556, \"#d8576b\"], [0.6666666666666666, \"#ed7953\"], [0.7777777777777778, \"#fb9f3a\"], [0.8888888888888888, \"#fdca26\"], [1.0, \"#f0f921\"]]}, \"colorway\": [\"#636efa\", \"#EF553B\", \"#00cc96\", \"#ab63fa\", \"#FFA15A\", \"#19d3f3\", \"#FF6692\", \"#B6E880\", \"#FF97FF\", \"#FECB52\"], \"font\": {\"color\": \"#2a3f5f\"}, \"geo\": {\"bgcolor\": \"white\", \"lakecolor\": \"white\", \"landcolor\": \"#E5ECF6\", \"showlakes\": true, \"showland\": true, \"subunitcolor\": \"white\"}, \"hoverlabel\": {\"align\": \"left\"}, \"hovermode\": \"closest\", \"mapbox\": {\"style\": \"light\"}, \"paper_bgcolor\": \"white\", \"plot_bgcolor\": \"#E5ECF6\", \"polar\": {\"angularaxis\": {\"gridcolor\": \"white\", \"linecolor\": \"white\", \"ticks\": \"\"}, \"bgcolor\": \"#E5ECF6\", \"radialaxis\": {\"gridcolor\": \"white\", \"linecolor\": \"white\", \"ticks\": \"\"}}, \"scene\": {\"xaxis\": {\"backgroundcolor\": \"#E5ECF6\", \"gridcolor\": \"white\", \"gridwidth\": 2, \"linecolor\": \"white\", \"showbackground\": true, \"ticks\": \"\", \"zerolinecolor\": \"white\"}, \"yaxis\": {\"backgroundcolor\": \"#E5ECF6\", \"gridcolor\": \"white\", \"gridwidth\": 2, \"linecolor\": \"white\", \"showbackground\": true, \"ticks\": \"\", \"zerolinecolor\": \"white\"}, \"zaxis\": {\"backgroundcolor\": \"#E5ECF6\", \"gridcolor\": \"white\", \"gridwidth\": 2, \"linecolor\": \"white\", \"showbackground\": true, \"ticks\": \"\", \"zerolinecolor\": \"white\"}}, \"shapedefaults\": {\"line\": {\"color\": \"#2a3f5f\"}}, \"ternary\": {\"aaxis\": {\"gridcolor\": \"white\", \"linecolor\": \"white\", \"ticks\": \"\"}, \"baxis\": {\"gridcolor\": \"white\", \"linecolor\": \"white\", \"ticks\": \"\"}, \"bgcolor\": \"#E5ECF6\", \"caxis\": {\"gridcolor\": \"white\", \"linecolor\": \"white\", \"ticks\": \"\"}}, \"title\": {\"x\": 0.05}, \"xaxis\": {\"automargin\": true, \"gridcolor\": \"white\", \"linecolor\": \"white\", \"ticks\": \"\", \"title\": {\"standoff\": 15}, \"zerolinecolor\": \"white\", \"zerolinewidth\": 2}, \"yaxis\": {\"automargin\": true, \"gridcolor\": \"white\", \"linecolor\": \"white\", \"ticks\": \"\", \"title\": {\"standoff\": 15}, \"zerolinecolor\": \"white\", \"zerolinewidth\": 2}}}, \"title\": {\"font\": {\"color\": \"#4D5663\"}}, \"xaxis\": {\"gridcolor\": \"#E1E5ED\", \"showgrid\": true, \"tickfont\": {\"color\": \"#4D5663\"}, \"title\": {\"font\": {\"color\": \"#4D5663\"}, \"text\": \"\"}, \"zerolinecolor\": \"#E1E5ED\"}, \"yaxis\": {\"gridcolor\": \"#E1E5ED\", \"showgrid\": true, \"tickfont\": {\"color\": \"#4D5663\"}, \"title\": {\"font\": {\"color\": \"#4D5663\"}, \"text\": \"\"}, \"zerolinecolor\": \"#E1E5ED\"}},                        {\"showLink\": true, \"linkText\": \"Export to plot.ly\", \"plotlyServerURL\": \"https://plot.ly\", \"responsive\": true}                    ).then(function(){\n",
       "                            \n",
       "var gd = document.getElementById('2dae232c-b0f9-4b7d-b0ca-283b7b6f056c');\n",
       "var x = new MutationObserver(function (mutations, observer) {{\n",
       "        var display = window.getComputedStyle(gd).display;\n",
       "        if (!display || display === 'none') {{\n",
       "            console.log([gd, 'removed!']);\n",
       "            Plotly.purge(gd);\n",
       "            observer.disconnect();\n",
       "        }}\n",
       "}});\n",
       "\n",
       "// Listen for the removal of the full notebook cells\n",
       "var notebookContainer = gd.closest('#notebook-container');\n",
       "if (notebookContainer) {{\n",
       "    x.observe(notebookContainer, {childList: true});\n",
       "}}\n",
       "\n",
       "// Listen for the clearing of the current output cell\n",
       "var outputEl = gd.closest('.output');\n",
       "if (outputEl) {{\n",
       "    x.observe(outputEl, {childList: true});\n",
       "}}\n",
       "\n",
       "                        })                };                });            </script>        </div>"
      ]
     },
     "metadata": {},
     "output_type": "display_data"
    }
   ],
   "source": [
    "df.iplot(kind='bubble',x='A',y='B',size='C')"
   ]
  },
  {
   "cell_type": "markdown",
   "metadata": {},
   "source": [
    "## scatter_matrix()\n",
    "\n",
    "Similar to sns.pairplot()"
   ]
  },
  {
   "cell_type": "code",
   "execution_count": 18,
   "metadata": {},
   "outputs": [
    {
     "data": {
      "application/vnd.plotly.v1+json": {
       "config": {
        "linkText": "Export to plot.ly",
        "plotlyServerURL": "https://plot.ly",
        "showLink": true
       },
       "data": [
        {
         "histfunc": "count",
         "histnorm": "",
         "marker": {
          "color": "rgba(255, 153, 51, 1.0)",
          "line": {
           "color": "#4D5663",
           "width": 1.3
          }
         },
         "name": "A",
         "nbinsx": 10,
         "opacity": 0.8,
         "orientation": "v",
         "type": "histogram",
         "x": [
          -2.5270110065280242,
          1.6680174651519772,
          0.45001559995548196,
          -0.02045562584354937,
          -0.04696767175551414,
          -0.43901181387379545,
          1.7070413018056958,
          0.08565188696795122,
          -0.3344293828596582,
          0.9500404409209297,
          -0.21019113833514888,
          0.3604224452923828,
          -1.11216805280219,
          -1.5604767575486982,
          0.28660620043355134,
          0.13083296630364566,
          0.6822576428639039,
          -0.4829122357799119,
          -1.0615796698603883,
          1.5279868368772598,
          0.7273176523923723,
          -0.01668581955173972,
          -0.14431916847878662,
          -0.6694863923053975,
          -2.3470302981384954,
          -1.1661753763114484,
          -0.027495754023257737,
          -1.1940607139239843,
          1.2022992752144077,
          -1.2637653296749367,
          2.193581276644731,
          1.5401952281442286,
          1.2435478976767964,
          1.1198451524009416,
          0.6659197389716871,
          0.9129273941343368,
          -1.6551091407193894,
          -0.2022455946334687,
          1.7466718899342617,
          -1.0705815568121162,
          -0.5031411081362345,
          1.4354268289538574,
          0.35012433605173376,
          2.276633138686141,
          -0.010746264868391347,
          -0.3368132777335987,
          -0.42996015575909946,
          -0.14383787852590885,
          -0.36458495384677464,
          0.886255773590493,
          1.2708758764720964,
          -0.17095937360923044,
          1.7962916184698736,
          0.7468575618528512,
          0.27557541233497135,
          -0.4293600119498419,
          0.39163991626736816,
          0.28128110983445603,
          -0.5827217868530749,
          -0.8122462897014714,
          -1.4807240533031878,
          -1.9499612762391623,
          -1.0592607140515602,
          -1.6477046188858,
          1.0012645286707358,
          0.862565704579482,
          0.039131466186083146,
          0.6622855462079307,
          0.5149700197353527,
          -0.6940121322135872,
          0.15324988368917486,
          -0.5476656394961759,
          -0.004292537672022745,
          0.7637978366095226,
          0.15075134016268965,
          -1.210306488771418,
          1.4986544939320934,
          0.9920524382552748,
          0.5463758713635003,
          1.5976786993787182,
          -0.47325106610739365,
          -0.059765588262616895,
          -0.35657783893539957,
          1.0761729057971934,
          0.3656428099020587,
          1.846283176033301,
          0.5930304044860237,
          0.29793987221014107,
          0.8924446468847728,
          -0.5099299114197214,
          0.917801363350686,
          -0.5476396165319876,
          0.08810377362737165,
          0.67716359658272,
          -1.2866001392254593,
          0.3505270777704328,
          -0.35502740703668406,
          0.3198277785003611,
          -1.2683305733699586,
          -0.8306454799809649
         ],
         "xaxis": "x",
         "yaxis": "y"
        },
        {
         "line": {
          "color": "rgba(128, 128, 128, 1.0)",
          "dash": "solid",
          "shape": "linear",
          "width": 1.3
         },
         "marker": {
          "size": 2,
          "symbol": "circle"
         },
         "mode": "markers",
         "name": "A",
         "text": "",
         "type": "scatter",
         "x": [
          0.6077342487016018,
          -0.4731893416109403,
          -1.3768007323560167,
          -1.426830575049864,
          0.12874988879814375,
          -0.947733813933697,
          0.5238344892217599,
          0.4840873187211147,
          -0.14012108582502,
          -1.8873437456128668,
          -0.14026679486783325,
          0.4586861028400738,
          -0.10395573252720713,
          0.06140834037940289,
          -0.3502091575413244,
          -2.0090925410123672,
          0.4364534526441894,
          2.1817271426605065,
          -0.6445403959738393,
          0.45419525315091375,
          -0.5176436627591724,
          0.5329488253779412,
          0.3411555558959055,
          0.1950287322958298,
          -1.892179875114976,
          -0.04305897101210228,
          1.026946935339796,
          1.4848231767312008,
          -0.6055364169071535,
          0.4237220678947114,
          0.5388665211938162,
          -0.6728594434723479,
          -1.1915342740995833,
          0.5941628508263933,
          -0.863275792769601,
          0.047691635733050526,
          -0.4305545961459695,
          -2.2342519811712185,
          -0.5520756194783913,
          2.397078675528769,
          0.4545527413537645,
          -1.016763728464053,
          -0.6026059735096668,
          0.5137861018262334,
          0.5881748149974206,
          1.188626116200059,
          -0.3169650249940472,
          0.6923341698729818,
          -2.097714086167859,
          -0.5526867895889804,
          0.2120071963811955,
          -0.6187381387292377,
          0.9596534764458649,
          0.032236559936918534,
          -1.8499788850248917,
          2.503462048187462,
          1.1279064832228873,
          -1.2725792355196437,
          1.121997168063789,
          -0.4687798848657744,
          1.5793951413013747,
          2.1816459185106987,
          0.46107945737165623,
          0.5236098062294923,
          -1.1596068392298857,
          0.24036944442115304,
          0.6304058035738712,
          -1.0185978020522959,
          -0.15179028153027518,
          -0.08919393697884163,
          0.7714753987146433,
          -0.5390364543872649,
          1.920551168018313,
          0.3063838030070926,
          -0.22397774797668304,
          -1.0448493502254013,
          -1.2544416899655373,
          0.4892953069810365,
          0.697919876015075,
          0.6485908307169317,
          0.40662451216039197,
          0.5765804446501441,
          -0.44768295089216714,
          -0.738650617470391,
          0.24395544214563125,
          -1.5275755299976472,
          -0.23712520374440696,
          -0.45122748413867386,
          0.5496027629689889,
          1.5441391625326482,
          0.9254372535361087,
          -0.5676555714360765,
          1.7135407953393513,
          2.7406862509354215,
          0.7133139060010656,
          -0.1828690990490576,
          0.24013813467922385,
          -1.2477864222587203,
          0.6116994227216244,
          0.9070783540161795
         ],
         "xaxis": "x2",
         "y": [
          -2.5270110065280242,
          1.6680174651519772,
          0.45001559995548196,
          -0.02045562584354937,
          -0.04696767175551414,
          -0.43901181387379545,
          1.7070413018056958,
          0.08565188696795122,
          -0.3344293828596582,
          0.9500404409209297,
          -0.21019113833514888,
          0.3604224452923828,
          -1.11216805280219,
          -1.5604767575486982,
          0.28660620043355134,
          0.13083296630364566,
          0.6822576428639039,
          -0.4829122357799119,
          -1.0615796698603883,
          1.5279868368772598,
          0.7273176523923723,
          -0.01668581955173972,
          -0.14431916847878662,
          -0.6694863923053975,
          -2.3470302981384954,
          -1.1661753763114484,
          -0.027495754023257737,
          -1.1940607139239843,
          1.2022992752144077,
          -1.2637653296749367,
          2.193581276644731,
          1.5401952281442286,
          1.2435478976767964,
          1.1198451524009416,
          0.6659197389716871,
          0.9129273941343368,
          -1.6551091407193894,
          -0.2022455946334687,
          1.7466718899342617,
          -1.0705815568121162,
          -0.5031411081362345,
          1.4354268289538574,
          0.35012433605173376,
          2.276633138686141,
          -0.010746264868391347,
          -0.3368132777335987,
          -0.42996015575909946,
          -0.14383787852590885,
          -0.36458495384677464,
          0.886255773590493,
          1.2708758764720964,
          -0.17095937360923044,
          1.7962916184698736,
          0.7468575618528512,
          0.27557541233497135,
          -0.4293600119498419,
          0.39163991626736816,
          0.28128110983445603,
          -0.5827217868530749,
          -0.8122462897014714,
          -1.4807240533031878,
          -1.9499612762391623,
          -1.0592607140515602,
          -1.6477046188858,
          1.0012645286707358,
          0.862565704579482,
          0.039131466186083146,
          0.6622855462079307,
          0.5149700197353527,
          -0.6940121322135872,
          0.15324988368917486,
          -0.5476656394961759,
          -0.004292537672022745,
          0.7637978366095226,
          0.15075134016268965,
          -1.210306488771418,
          1.4986544939320934,
          0.9920524382552748,
          0.5463758713635003,
          1.5976786993787182,
          -0.47325106610739365,
          -0.059765588262616895,
          -0.35657783893539957,
          1.0761729057971934,
          0.3656428099020587,
          1.846283176033301,
          0.5930304044860237,
          0.29793987221014107,
          0.8924446468847728,
          -0.5099299114197214,
          0.917801363350686,
          -0.5476396165319876,
          0.08810377362737165,
          0.67716359658272,
          -1.2866001392254593,
          0.3505270777704328,
          -0.35502740703668406,
          0.3198277785003611,
          -1.2683305733699586,
          -0.8306454799809649
         ],
         "yaxis": "y2"
        },
        {
         "line": {
          "color": "rgba(128, 128, 128, 1.0)",
          "dash": "solid",
          "shape": "linear",
          "width": 1.3
         },
         "marker": {
          "size": 2,
          "symbol": "circle"
         },
         "mode": "markers",
         "name": "A",
         "text": "",
         "type": "scatter",
         "x": [
          -0.02492284918056258,
          -0.785885414293277,
          -0.447229482546522,
          -1.6298304748926844,
          0.6876000537914739,
          -0.749689963784534,
          0.9704678601740873,
          -1.7337017277345714,
          0.7373206301508844,
          -0.3437410268666627,
          -0.35762179688757945,
          1.6322614742165158,
          -0.6525220193174637,
          0.35403222987831917,
          1.2678106373747828,
          0.29191268386959235,
          -0.02921807293193676,
          -0.6706873197551385,
          1.9524141182982033,
          0.6948717069327361,
          -1.980328499134693,
          2.101839314514126,
          -0.6193057251619556,
          0.525430772262155,
          1.3186037030791116,
          0.8841393660263471,
          0.36215175945543854,
          0.9365116377516586,
          1.0541664066448242,
          0.22659643518750247,
          -0.39626263652063987,
          -0.8130745851655512,
          0.6107395943910803,
          -0.564996329346102,
          0.5372034452606061,
          0.3994888927388636,
          -0.655969115122046,
          -0.41395228963748426,
          0.5030972184697315,
          1.6436972767347295,
          2.259717250202777,
          1.4678478036901408,
          -0.7372553149733171,
          1.309642380097827,
          0.5504669366195879,
          -1.5765610100084129,
          0.29404125013268295,
          -1.416100641829991,
          0.669027294488854,
          1.776246473907867,
          -1.3256562548303101,
          -0.08739898929387825,
          1.361702586056903,
          -1.2196014729434574,
          0.5654916409046004,
          -0.8729915405430029,
          -0.10793303117085971,
          -0.8374428855918272,
          0.16970141537157785,
          -0.20932435081978626,
          0.986152638141033,
          -1.4000278631050525,
          0.8579515821935914,
          0.7553179434242713,
          1.1446813630227082,
          -0.07234403671841592,
          -1.5027951228313337,
          -2.5795719674925066,
          -0.03146470679473467,
          2.105159750957102,
          0.4480068244381329,
          -0.7735884868584423,
          0.7925044443949859,
          -0.2966469904715457,
          -0.04191030285426025,
          -0.3998131385257116,
          -0.3419672765803134,
          -0.7590982509812559,
          0.3977956961409181,
          -0.12667280976923959,
          0.6785429992091369,
          -1.158746917724156,
          -1.6111634122601697,
          -0.025936575661406166,
          -1.5689785986134264,
          -1.3081674233603606,
          -0.21812424767131966,
          -0.37845267202672445,
          0.13310520317550179,
          0.29362048908465244,
          0.9077074095476576,
          0.4155632538250987,
          -0.8037841833084913,
          -0.46914642334271417,
          0.3955242551946375,
          -0.7106748074397333,
          -0.8495205167994131,
          0.04779134775621538,
          -0.8979601094652576,
          1.5415262408384887
         ],
         "xaxis": "x3",
         "y": [
          -2.5270110065280242,
          1.6680174651519772,
          0.45001559995548196,
          -0.02045562584354937,
          -0.04696767175551414,
          -0.43901181387379545,
          1.7070413018056958,
          0.08565188696795122,
          -0.3344293828596582,
          0.9500404409209297,
          -0.21019113833514888,
          0.3604224452923828,
          -1.11216805280219,
          -1.5604767575486982,
          0.28660620043355134,
          0.13083296630364566,
          0.6822576428639039,
          -0.4829122357799119,
          -1.0615796698603883,
          1.5279868368772598,
          0.7273176523923723,
          -0.01668581955173972,
          -0.14431916847878662,
          -0.6694863923053975,
          -2.3470302981384954,
          -1.1661753763114484,
          -0.027495754023257737,
          -1.1940607139239843,
          1.2022992752144077,
          -1.2637653296749367,
          2.193581276644731,
          1.5401952281442286,
          1.2435478976767964,
          1.1198451524009416,
          0.6659197389716871,
          0.9129273941343368,
          -1.6551091407193894,
          -0.2022455946334687,
          1.7466718899342617,
          -1.0705815568121162,
          -0.5031411081362345,
          1.4354268289538574,
          0.35012433605173376,
          2.276633138686141,
          -0.010746264868391347,
          -0.3368132777335987,
          -0.42996015575909946,
          -0.14383787852590885,
          -0.36458495384677464,
          0.886255773590493,
          1.2708758764720964,
          -0.17095937360923044,
          1.7962916184698736,
          0.7468575618528512,
          0.27557541233497135,
          -0.4293600119498419,
          0.39163991626736816,
          0.28128110983445603,
          -0.5827217868530749,
          -0.8122462897014714,
          -1.4807240533031878,
          -1.9499612762391623,
          -1.0592607140515602,
          -1.6477046188858,
          1.0012645286707358,
          0.862565704579482,
          0.039131466186083146,
          0.6622855462079307,
          0.5149700197353527,
          -0.6940121322135872,
          0.15324988368917486,
          -0.5476656394961759,
          -0.004292537672022745,
          0.7637978366095226,
          0.15075134016268965,
          -1.210306488771418,
          1.4986544939320934,
          0.9920524382552748,
          0.5463758713635003,
          1.5976786993787182,
          -0.47325106610739365,
          -0.059765588262616895,
          -0.35657783893539957,
          1.0761729057971934,
          0.3656428099020587,
          1.846283176033301,
          0.5930304044860237,
          0.29793987221014107,
          0.8924446468847728,
          -0.5099299114197214,
          0.917801363350686,
          -0.5476396165319876,
          0.08810377362737165,
          0.67716359658272,
          -1.2866001392254593,
          0.3505270777704328,
          -0.35502740703668406,
          0.3198277785003611,
          -1.2683305733699586,
          -0.8306454799809649
         ],
         "yaxis": "y3"
        },
        {
         "line": {
          "color": "rgba(128, 128, 128, 1.0)",
          "dash": "solid",
          "shape": "linear",
          "width": 1.3
         },
         "marker": {
          "size": 2,
          "symbol": "circle"
         },
         "mode": "markers",
         "name": "A",
         "text": "",
         "type": "scatter",
         "x": [
          -0.7227635303048442,
          -0.030580047913744548,
          -0.7786250871897227,
          -0.07002289387692275,
          -1.6503143009114278,
          -0.6019503568033155,
          0.689367224972717,
          -0.3877280867564857,
          -0.015288321546338423,
          -0.5796264603315621,
          0.8737467827441685,
          0.344085650230088,
          1.5200893065484695,
          0.8435124810167771,
          0.4904691044047342,
          0.4499014043870365,
          -0.3667676153770925,
          0.06310571872616824,
          -0.9911360291876661,
          0.7287371614113567,
          -1.1489813712453352,
          1.4805816518545971,
          -0.055427879222772564,
          -0.6703690072744609,
          2.2129297634784098,
          0.13269001550477982,
          -0.059211221133715485,
          0.6695006437104821,
          -0.21119595592938,
          0.5963572619382754,
          0.6172415393239765,
          -0.3626507455852367,
          -1.5351632003837845,
          0.5935232687518087,
          -0.4134200825043699,
          0.6093343916517958,
          0.9905684369974627,
          -0.7784670260629231,
          0.0006860441181422818,
          1.0637100577304208,
          -0.7957845232156112,
          -1.3720971642495983,
          0.11887873486826661,
          1.0193379646066532,
          0.27400071154764105,
          -0.688248946870881,
          0.07779762427772996,
          1.6162557931269943,
          -0.5123287853786016,
          -0.7272057862823779,
          0.7184153328238415,
          -0.7779604328036454,
          1.3550171043138244,
          -0.8126305806786144,
          0.9538396283965909,
          0.4767895654831986,
          0.08373612172610065,
          -1.858855927033377,
          -0.7145361377375852,
          0.6310449796254276,
          -0.6710056881714914,
          0.49394243311422453,
          -0.6578062688574469,
          -0.2980022738270043,
          0.7314520119135556,
          0.49893085913738244,
          -0.49831832883898947,
          2.6348125556443893,
          1.1167186149274897,
          -0.9971330714182465,
          0.18102522667426926,
          -0.5062412236688921,
          0.5752646963201515,
          1.5530067376116647,
          0.22563496666074,
          -1.9050058515269435,
          -0.9641135499209897,
          -0.37506502089516414,
          -1.936170792374123,
          -0.4545813060907563,
          0.2785330127367757,
          -2.1468314274100706,
          -0.004939236418855568,
          -0.37863524303675955,
          -0.1455415176587356,
          1.1065197520828338,
          0.6190207410502039,
          -0.4074570589292243,
          -1.0307080391496815,
          2.744791289260376,
          -0.13608064953886567,
          0.11011507530831016,
          0.5568764690248106,
          0.4580131321612788,
          -1.39486763933591,
          -0.06823944857408382,
          -0.6401313597409217,
          -0.8076390953648548,
          0.18809203651840606,
          -1.718618261435087
         ],
         "xaxis": "x4",
         "y": [
          -2.5270110065280242,
          1.6680174651519772,
          0.45001559995548196,
          -0.02045562584354937,
          -0.04696767175551414,
          -0.43901181387379545,
          1.7070413018056958,
          0.08565188696795122,
          -0.3344293828596582,
          0.9500404409209297,
          -0.21019113833514888,
          0.3604224452923828,
          -1.11216805280219,
          -1.5604767575486982,
          0.28660620043355134,
          0.13083296630364566,
          0.6822576428639039,
          -0.4829122357799119,
          -1.0615796698603883,
          1.5279868368772598,
          0.7273176523923723,
          -0.01668581955173972,
          -0.14431916847878662,
          -0.6694863923053975,
          -2.3470302981384954,
          -1.1661753763114484,
          -0.027495754023257737,
          -1.1940607139239843,
          1.2022992752144077,
          -1.2637653296749367,
          2.193581276644731,
          1.5401952281442286,
          1.2435478976767964,
          1.1198451524009416,
          0.6659197389716871,
          0.9129273941343368,
          -1.6551091407193894,
          -0.2022455946334687,
          1.7466718899342617,
          -1.0705815568121162,
          -0.5031411081362345,
          1.4354268289538574,
          0.35012433605173376,
          2.276633138686141,
          -0.010746264868391347,
          -0.3368132777335987,
          -0.42996015575909946,
          -0.14383787852590885,
          -0.36458495384677464,
          0.886255773590493,
          1.2708758764720964,
          -0.17095937360923044,
          1.7962916184698736,
          0.7468575618528512,
          0.27557541233497135,
          -0.4293600119498419,
          0.39163991626736816,
          0.28128110983445603,
          -0.5827217868530749,
          -0.8122462897014714,
          -1.4807240533031878,
          -1.9499612762391623,
          -1.0592607140515602,
          -1.6477046188858,
          1.0012645286707358,
          0.862565704579482,
          0.039131466186083146,
          0.6622855462079307,
          0.5149700197353527,
          -0.6940121322135872,
          0.15324988368917486,
          -0.5476656394961759,
          -0.004292537672022745,
          0.7637978366095226,
          0.15075134016268965,
          -1.210306488771418,
          1.4986544939320934,
          0.9920524382552748,
          0.5463758713635003,
          1.5976786993787182,
          -0.47325106610739365,
          -0.059765588262616895,
          -0.35657783893539957,
          1.0761729057971934,
          0.3656428099020587,
          1.846283176033301,
          0.5930304044860237,
          0.29793987221014107,
          0.8924446468847728,
          -0.5099299114197214,
          0.917801363350686,
          -0.5476396165319876,
          0.08810377362737165,
          0.67716359658272,
          -1.2866001392254593,
          0.3505270777704328,
          -0.35502740703668406,
          0.3198277785003611,
          -1.2683305733699586,
          -0.8306454799809649
         ],
         "yaxis": "y4"
        },
        {
         "line": {
          "color": "rgba(128, 128, 128, 1.0)",
          "dash": "solid",
          "shape": "linear",
          "width": 1.3
         },
         "marker": {
          "size": 2,
          "symbol": "circle"
         },
         "mode": "markers",
         "name": "B",
         "text": "",
         "type": "scatter",
         "x": [
          -2.5270110065280242,
          1.6680174651519772,
          0.45001559995548196,
          -0.02045562584354937,
          -0.04696767175551414,
          -0.43901181387379545,
          1.7070413018056958,
          0.08565188696795122,
          -0.3344293828596582,
          0.9500404409209297,
          -0.21019113833514888,
          0.3604224452923828,
          -1.11216805280219,
          -1.5604767575486982,
          0.28660620043355134,
          0.13083296630364566,
          0.6822576428639039,
          -0.4829122357799119,
          -1.0615796698603883,
          1.5279868368772598,
          0.7273176523923723,
          -0.01668581955173972,
          -0.14431916847878662,
          -0.6694863923053975,
          -2.3470302981384954,
          -1.1661753763114484,
          -0.027495754023257737,
          -1.1940607139239843,
          1.2022992752144077,
          -1.2637653296749367,
          2.193581276644731,
          1.5401952281442286,
          1.2435478976767964,
          1.1198451524009416,
          0.6659197389716871,
          0.9129273941343368,
          -1.6551091407193894,
          -0.2022455946334687,
          1.7466718899342617,
          -1.0705815568121162,
          -0.5031411081362345,
          1.4354268289538574,
          0.35012433605173376,
          2.276633138686141,
          -0.010746264868391347,
          -0.3368132777335987,
          -0.42996015575909946,
          -0.14383787852590885,
          -0.36458495384677464,
          0.886255773590493,
          1.2708758764720964,
          -0.17095937360923044,
          1.7962916184698736,
          0.7468575618528512,
          0.27557541233497135,
          -0.4293600119498419,
          0.39163991626736816,
          0.28128110983445603,
          -0.5827217868530749,
          -0.8122462897014714,
          -1.4807240533031878,
          -1.9499612762391623,
          -1.0592607140515602,
          -1.6477046188858,
          1.0012645286707358,
          0.862565704579482,
          0.039131466186083146,
          0.6622855462079307,
          0.5149700197353527,
          -0.6940121322135872,
          0.15324988368917486,
          -0.5476656394961759,
          -0.004292537672022745,
          0.7637978366095226,
          0.15075134016268965,
          -1.210306488771418,
          1.4986544939320934,
          0.9920524382552748,
          0.5463758713635003,
          1.5976786993787182,
          -0.47325106610739365,
          -0.059765588262616895,
          -0.35657783893539957,
          1.0761729057971934,
          0.3656428099020587,
          1.846283176033301,
          0.5930304044860237,
          0.29793987221014107,
          0.8924446468847728,
          -0.5099299114197214,
          0.917801363350686,
          -0.5476396165319876,
          0.08810377362737165,
          0.67716359658272,
          -1.2866001392254593,
          0.3505270777704328,
          -0.35502740703668406,
          0.3198277785003611,
          -1.2683305733699586,
          -0.8306454799809649
         ],
         "xaxis": "x5",
         "y": [
          0.6077342487016018,
          -0.4731893416109403,
          -1.3768007323560167,
          -1.426830575049864,
          0.12874988879814375,
          -0.947733813933697,
          0.5238344892217599,
          0.4840873187211147,
          -0.14012108582502,
          -1.8873437456128668,
          -0.14026679486783325,
          0.4586861028400738,
          -0.10395573252720713,
          0.06140834037940289,
          -0.3502091575413244,
          -2.0090925410123672,
          0.4364534526441894,
          2.1817271426605065,
          -0.6445403959738393,
          0.45419525315091375,
          -0.5176436627591724,
          0.5329488253779412,
          0.3411555558959055,
          0.1950287322958298,
          -1.892179875114976,
          -0.04305897101210228,
          1.026946935339796,
          1.4848231767312008,
          -0.6055364169071535,
          0.4237220678947114,
          0.5388665211938162,
          -0.6728594434723479,
          -1.1915342740995833,
          0.5941628508263933,
          -0.863275792769601,
          0.047691635733050526,
          -0.4305545961459695,
          -2.2342519811712185,
          -0.5520756194783913,
          2.397078675528769,
          0.4545527413537645,
          -1.016763728464053,
          -0.6026059735096668,
          0.5137861018262334,
          0.5881748149974206,
          1.188626116200059,
          -0.3169650249940472,
          0.6923341698729818,
          -2.097714086167859,
          -0.5526867895889804,
          0.2120071963811955,
          -0.6187381387292377,
          0.9596534764458649,
          0.032236559936918534,
          -1.8499788850248917,
          2.503462048187462,
          1.1279064832228873,
          -1.2725792355196437,
          1.121997168063789,
          -0.4687798848657744,
          1.5793951413013747,
          2.1816459185106987,
          0.46107945737165623,
          0.5236098062294923,
          -1.1596068392298857,
          0.24036944442115304,
          0.6304058035738712,
          -1.0185978020522959,
          -0.15179028153027518,
          -0.08919393697884163,
          0.7714753987146433,
          -0.5390364543872649,
          1.920551168018313,
          0.3063838030070926,
          -0.22397774797668304,
          -1.0448493502254013,
          -1.2544416899655373,
          0.4892953069810365,
          0.697919876015075,
          0.6485908307169317,
          0.40662451216039197,
          0.5765804446501441,
          -0.44768295089216714,
          -0.738650617470391,
          0.24395544214563125,
          -1.5275755299976472,
          -0.23712520374440696,
          -0.45122748413867386,
          0.5496027629689889,
          1.5441391625326482,
          0.9254372535361087,
          -0.5676555714360765,
          1.7135407953393513,
          2.7406862509354215,
          0.7133139060010656,
          -0.1828690990490576,
          0.24013813467922385,
          -1.2477864222587203,
          0.6116994227216244,
          0.9070783540161795
         ],
         "yaxis": "y5"
        },
        {
         "histfunc": "count",
         "histnorm": "",
         "marker": {
          "color": "rgba(55, 128, 191, 1.0)",
          "line": {
           "color": "#4D5663",
           "width": 1.3
          }
         },
         "name": "B",
         "nbinsx": 10,
         "opacity": 0.8,
         "orientation": "v",
         "type": "histogram",
         "x": [
          0.6077342487016018,
          -0.4731893416109403,
          -1.3768007323560167,
          -1.426830575049864,
          0.12874988879814375,
          -0.947733813933697,
          0.5238344892217599,
          0.4840873187211147,
          -0.14012108582502,
          -1.8873437456128668,
          -0.14026679486783325,
          0.4586861028400738,
          -0.10395573252720713,
          0.06140834037940289,
          -0.3502091575413244,
          -2.0090925410123672,
          0.4364534526441894,
          2.1817271426605065,
          -0.6445403959738393,
          0.45419525315091375,
          -0.5176436627591724,
          0.5329488253779412,
          0.3411555558959055,
          0.1950287322958298,
          -1.892179875114976,
          -0.04305897101210228,
          1.026946935339796,
          1.4848231767312008,
          -0.6055364169071535,
          0.4237220678947114,
          0.5388665211938162,
          -0.6728594434723479,
          -1.1915342740995833,
          0.5941628508263933,
          -0.863275792769601,
          0.047691635733050526,
          -0.4305545961459695,
          -2.2342519811712185,
          -0.5520756194783913,
          2.397078675528769,
          0.4545527413537645,
          -1.016763728464053,
          -0.6026059735096668,
          0.5137861018262334,
          0.5881748149974206,
          1.188626116200059,
          -0.3169650249940472,
          0.6923341698729818,
          -2.097714086167859,
          -0.5526867895889804,
          0.2120071963811955,
          -0.6187381387292377,
          0.9596534764458649,
          0.032236559936918534,
          -1.8499788850248917,
          2.503462048187462,
          1.1279064832228873,
          -1.2725792355196437,
          1.121997168063789,
          -0.4687798848657744,
          1.5793951413013747,
          2.1816459185106987,
          0.46107945737165623,
          0.5236098062294923,
          -1.1596068392298857,
          0.24036944442115304,
          0.6304058035738712,
          -1.0185978020522959,
          -0.15179028153027518,
          -0.08919393697884163,
          0.7714753987146433,
          -0.5390364543872649,
          1.920551168018313,
          0.3063838030070926,
          -0.22397774797668304,
          -1.0448493502254013,
          -1.2544416899655373,
          0.4892953069810365,
          0.697919876015075,
          0.6485908307169317,
          0.40662451216039197,
          0.5765804446501441,
          -0.44768295089216714,
          -0.738650617470391,
          0.24395544214563125,
          -1.5275755299976472,
          -0.23712520374440696,
          -0.45122748413867386,
          0.5496027629689889,
          1.5441391625326482,
          0.9254372535361087,
          -0.5676555714360765,
          1.7135407953393513,
          2.7406862509354215,
          0.7133139060010656,
          -0.1828690990490576,
          0.24013813467922385,
          -1.2477864222587203,
          0.6116994227216244,
          0.9070783540161795
         ],
         "xaxis": "x6",
         "yaxis": "y6"
        },
        {
         "line": {
          "color": "rgba(128, 128, 128, 1.0)",
          "dash": "solid",
          "shape": "linear",
          "width": 1.3
         },
         "marker": {
          "size": 2,
          "symbol": "circle"
         },
         "mode": "markers",
         "name": "B",
         "text": "",
         "type": "scatter",
         "x": [
          -0.02492284918056258,
          -0.785885414293277,
          -0.447229482546522,
          -1.6298304748926844,
          0.6876000537914739,
          -0.749689963784534,
          0.9704678601740873,
          -1.7337017277345714,
          0.7373206301508844,
          -0.3437410268666627,
          -0.35762179688757945,
          1.6322614742165158,
          -0.6525220193174637,
          0.35403222987831917,
          1.2678106373747828,
          0.29191268386959235,
          -0.02921807293193676,
          -0.6706873197551385,
          1.9524141182982033,
          0.6948717069327361,
          -1.980328499134693,
          2.101839314514126,
          -0.6193057251619556,
          0.525430772262155,
          1.3186037030791116,
          0.8841393660263471,
          0.36215175945543854,
          0.9365116377516586,
          1.0541664066448242,
          0.22659643518750247,
          -0.39626263652063987,
          -0.8130745851655512,
          0.6107395943910803,
          -0.564996329346102,
          0.5372034452606061,
          0.3994888927388636,
          -0.655969115122046,
          -0.41395228963748426,
          0.5030972184697315,
          1.6436972767347295,
          2.259717250202777,
          1.4678478036901408,
          -0.7372553149733171,
          1.309642380097827,
          0.5504669366195879,
          -1.5765610100084129,
          0.29404125013268295,
          -1.416100641829991,
          0.669027294488854,
          1.776246473907867,
          -1.3256562548303101,
          -0.08739898929387825,
          1.361702586056903,
          -1.2196014729434574,
          0.5654916409046004,
          -0.8729915405430029,
          -0.10793303117085971,
          -0.8374428855918272,
          0.16970141537157785,
          -0.20932435081978626,
          0.986152638141033,
          -1.4000278631050525,
          0.8579515821935914,
          0.7553179434242713,
          1.1446813630227082,
          -0.07234403671841592,
          -1.5027951228313337,
          -2.5795719674925066,
          -0.03146470679473467,
          2.105159750957102,
          0.4480068244381329,
          -0.7735884868584423,
          0.7925044443949859,
          -0.2966469904715457,
          -0.04191030285426025,
          -0.3998131385257116,
          -0.3419672765803134,
          -0.7590982509812559,
          0.3977956961409181,
          -0.12667280976923959,
          0.6785429992091369,
          -1.158746917724156,
          -1.6111634122601697,
          -0.025936575661406166,
          -1.5689785986134264,
          -1.3081674233603606,
          -0.21812424767131966,
          -0.37845267202672445,
          0.13310520317550179,
          0.29362048908465244,
          0.9077074095476576,
          0.4155632538250987,
          -0.8037841833084913,
          -0.46914642334271417,
          0.3955242551946375,
          -0.7106748074397333,
          -0.8495205167994131,
          0.04779134775621538,
          -0.8979601094652576,
          1.5415262408384887
         ],
         "xaxis": "x7",
         "y": [
          0.6077342487016018,
          -0.4731893416109403,
          -1.3768007323560167,
          -1.426830575049864,
          0.12874988879814375,
          -0.947733813933697,
          0.5238344892217599,
          0.4840873187211147,
          -0.14012108582502,
          -1.8873437456128668,
          -0.14026679486783325,
          0.4586861028400738,
          -0.10395573252720713,
          0.06140834037940289,
          -0.3502091575413244,
          -2.0090925410123672,
          0.4364534526441894,
          2.1817271426605065,
          -0.6445403959738393,
          0.45419525315091375,
          -0.5176436627591724,
          0.5329488253779412,
          0.3411555558959055,
          0.1950287322958298,
          -1.892179875114976,
          -0.04305897101210228,
          1.026946935339796,
          1.4848231767312008,
          -0.6055364169071535,
          0.4237220678947114,
          0.5388665211938162,
          -0.6728594434723479,
          -1.1915342740995833,
          0.5941628508263933,
          -0.863275792769601,
          0.047691635733050526,
          -0.4305545961459695,
          -2.2342519811712185,
          -0.5520756194783913,
          2.397078675528769,
          0.4545527413537645,
          -1.016763728464053,
          -0.6026059735096668,
          0.5137861018262334,
          0.5881748149974206,
          1.188626116200059,
          -0.3169650249940472,
          0.6923341698729818,
          -2.097714086167859,
          -0.5526867895889804,
          0.2120071963811955,
          -0.6187381387292377,
          0.9596534764458649,
          0.032236559936918534,
          -1.8499788850248917,
          2.503462048187462,
          1.1279064832228873,
          -1.2725792355196437,
          1.121997168063789,
          -0.4687798848657744,
          1.5793951413013747,
          2.1816459185106987,
          0.46107945737165623,
          0.5236098062294923,
          -1.1596068392298857,
          0.24036944442115304,
          0.6304058035738712,
          -1.0185978020522959,
          -0.15179028153027518,
          -0.08919393697884163,
          0.7714753987146433,
          -0.5390364543872649,
          1.920551168018313,
          0.3063838030070926,
          -0.22397774797668304,
          -1.0448493502254013,
          -1.2544416899655373,
          0.4892953069810365,
          0.697919876015075,
          0.6485908307169317,
          0.40662451216039197,
          0.5765804446501441,
          -0.44768295089216714,
          -0.738650617470391,
          0.24395544214563125,
          -1.5275755299976472,
          -0.23712520374440696,
          -0.45122748413867386,
          0.5496027629689889,
          1.5441391625326482,
          0.9254372535361087,
          -0.5676555714360765,
          1.7135407953393513,
          2.7406862509354215,
          0.7133139060010656,
          -0.1828690990490576,
          0.24013813467922385,
          -1.2477864222587203,
          0.6116994227216244,
          0.9070783540161795
         ],
         "yaxis": "y7"
        },
        {
         "line": {
          "color": "rgba(128, 128, 128, 1.0)",
          "dash": "solid",
          "shape": "linear",
          "width": 1.3
         },
         "marker": {
          "size": 2,
          "symbol": "circle"
         },
         "mode": "markers",
         "name": "B",
         "text": "",
         "type": "scatter",
         "x": [
          -0.7227635303048442,
          -0.030580047913744548,
          -0.7786250871897227,
          -0.07002289387692275,
          -1.6503143009114278,
          -0.6019503568033155,
          0.689367224972717,
          -0.3877280867564857,
          -0.015288321546338423,
          -0.5796264603315621,
          0.8737467827441685,
          0.344085650230088,
          1.5200893065484695,
          0.8435124810167771,
          0.4904691044047342,
          0.4499014043870365,
          -0.3667676153770925,
          0.06310571872616824,
          -0.9911360291876661,
          0.7287371614113567,
          -1.1489813712453352,
          1.4805816518545971,
          -0.055427879222772564,
          -0.6703690072744609,
          2.2129297634784098,
          0.13269001550477982,
          -0.059211221133715485,
          0.6695006437104821,
          -0.21119595592938,
          0.5963572619382754,
          0.6172415393239765,
          -0.3626507455852367,
          -1.5351632003837845,
          0.5935232687518087,
          -0.4134200825043699,
          0.6093343916517958,
          0.9905684369974627,
          -0.7784670260629231,
          0.0006860441181422818,
          1.0637100577304208,
          -0.7957845232156112,
          -1.3720971642495983,
          0.11887873486826661,
          1.0193379646066532,
          0.27400071154764105,
          -0.688248946870881,
          0.07779762427772996,
          1.6162557931269943,
          -0.5123287853786016,
          -0.7272057862823779,
          0.7184153328238415,
          -0.7779604328036454,
          1.3550171043138244,
          -0.8126305806786144,
          0.9538396283965909,
          0.4767895654831986,
          0.08373612172610065,
          -1.858855927033377,
          -0.7145361377375852,
          0.6310449796254276,
          -0.6710056881714914,
          0.49394243311422453,
          -0.6578062688574469,
          -0.2980022738270043,
          0.7314520119135556,
          0.49893085913738244,
          -0.49831832883898947,
          2.6348125556443893,
          1.1167186149274897,
          -0.9971330714182465,
          0.18102522667426926,
          -0.5062412236688921,
          0.5752646963201515,
          1.5530067376116647,
          0.22563496666074,
          -1.9050058515269435,
          -0.9641135499209897,
          -0.37506502089516414,
          -1.936170792374123,
          -0.4545813060907563,
          0.2785330127367757,
          -2.1468314274100706,
          -0.004939236418855568,
          -0.37863524303675955,
          -0.1455415176587356,
          1.1065197520828338,
          0.6190207410502039,
          -0.4074570589292243,
          -1.0307080391496815,
          2.744791289260376,
          -0.13608064953886567,
          0.11011507530831016,
          0.5568764690248106,
          0.4580131321612788,
          -1.39486763933591,
          -0.06823944857408382,
          -0.6401313597409217,
          -0.8076390953648548,
          0.18809203651840606,
          -1.718618261435087
         ],
         "xaxis": "x8",
         "y": [
          0.6077342487016018,
          -0.4731893416109403,
          -1.3768007323560167,
          -1.426830575049864,
          0.12874988879814375,
          -0.947733813933697,
          0.5238344892217599,
          0.4840873187211147,
          -0.14012108582502,
          -1.8873437456128668,
          -0.14026679486783325,
          0.4586861028400738,
          -0.10395573252720713,
          0.06140834037940289,
          -0.3502091575413244,
          -2.0090925410123672,
          0.4364534526441894,
          2.1817271426605065,
          -0.6445403959738393,
          0.45419525315091375,
          -0.5176436627591724,
          0.5329488253779412,
          0.3411555558959055,
          0.1950287322958298,
          -1.892179875114976,
          -0.04305897101210228,
          1.026946935339796,
          1.4848231767312008,
          -0.6055364169071535,
          0.4237220678947114,
          0.5388665211938162,
          -0.6728594434723479,
          -1.1915342740995833,
          0.5941628508263933,
          -0.863275792769601,
          0.047691635733050526,
          -0.4305545961459695,
          -2.2342519811712185,
          -0.5520756194783913,
          2.397078675528769,
          0.4545527413537645,
          -1.016763728464053,
          -0.6026059735096668,
          0.5137861018262334,
          0.5881748149974206,
          1.188626116200059,
          -0.3169650249940472,
          0.6923341698729818,
          -2.097714086167859,
          -0.5526867895889804,
          0.2120071963811955,
          -0.6187381387292377,
          0.9596534764458649,
          0.032236559936918534,
          -1.8499788850248917,
          2.503462048187462,
          1.1279064832228873,
          -1.2725792355196437,
          1.121997168063789,
          -0.4687798848657744,
          1.5793951413013747,
          2.1816459185106987,
          0.46107945737165623,
          0.5236098062294923,
          -1.1596068392298857,
          0.24036944442115304,
          0.6304058035738712,
          -1.0185978020522959,
          -0.15179028153027518,
          -0.08919393697884163,
          0.7714753987146433,
          -0.5390364543872649,
          1.920551168018313,
          0.3063838030070926,
          -0.22397774797668304,
          -1.0448493502254013,
          -1.2544416899655373,
          0.4892953069810365,
          0.697919876015075,
          0.6485908307169317,
          0.40662451216039197,
          0.5765804446501441,
          -0.44768295089216714,
          -0.738650617470391,
          0.24395544214563125,
          -1.5275755299976472,
          -0.23712520374440696,
          -0.45122748413867386,
          0.5496027629689889,
          1.5441391625326482,
          0.9254372535361087,
          -0.5676555714360765,
          1.7135407953393513,
          2.7406862509354215,
          0.7133139060010656,
          -0.1828690990490576,
          0.24013813467922385,
          -1.2477864222587203,
          0.6116994227216244,
          0.9070783540161795
         ],
         "yaxis": "y8"
        },
        {
         "line": {
          "color": "rgba(128, 128, 128, 1.0)",
          "dash": "solid",
          "shape": "linear",
          "width": 1.3
         },
         "marker": {
          "size": 2,
          "symbol": "circle"
         },
         "mode": "markers",
         "name": "C",
         "text": "",
         "type": "scatter",
         "x": [
          -2.5270110065280242,
          1.6680174651519772,
          0.45001559995548196,
          -0.02045562584354937,
          -0.04696767175551414,
          -0.43901181387379545,
          1.7070413018056958,
          0.08565188696795122,
          -0.3344293828596582,
          0.9500404409209297,
          -0.21019113833514888,
          0.3604224452923828,
          -1.11216805280219,
          -1.5604767575486982,
          0.28660620043355134,
          0.13083296630364566,
          0.6822576428639039,
          -0.4829122357799119,
          -1.0615796698603883,
          1.5279868368772598,
          0.7273176523923723,
          -0.01668581955173972,
          -0.14431916847878662,
          -0.6694863923053975,
          -2.3470302981384954,
          -1.1661753763114484,
          -0.027495754023257737,
          -1.1940607139239843,
          1.2022992752144077,
          -1.2637653296749367,
          2.193581276644731,
          1.5401952281442286,
          1.2435478976767964,
          1.1198451524009416,
          0.6659197389716871,
          0.9129273941343368,
          -1.6551091407193894,
          -0.2022455946334687,
          1.7466718899342617,
          -1.0705815568121162,
          -0.5031411081362345,
          1.4354268289538574,
          0.35012433605173376,
          2.276633138686141,
          -0.010746264868391347,
          -0.3368132777335987,
          -0.42996015575909946,
          -0.14383787852590885,
          -0.36458495384677464,
          0.886255773590493,
          1.2708758764720964,
          -0.17095937360923044,
          1.7962916184698736,
          0.7468575618528512,
          0.27557541233497135,
          -0.4293600119498419,
          0.39163991626736816,
          0.28128110983445603,
          -0.5827217868530749,
          -0.8122462897014714,
          -1.4807240533031878,
          -1.9499612762391623,
          -1.0592607140515602,
          -1.6477046188858,
          1.0012645286707358,
          0.862565704579482,
          0.039131466186083146,
          0.6622855462079307,
          0.5149700197353527,
          -0.6940121322135872,
          0.15324988368917486,
          -0.5476656394961759,
          -0.004292537672022745,
          0.7637978366095226,
          0.15075134016268965,
          -1.210306488771418,
          1.4986544939320934,
          0.9920524382552748,
          0.5463758713635003,
          1.5976786993787182,
          -0.47325106610739365,
          -0.059765588262616895,
          -0.35657783893539957,
          1.0761729057971934,
          0.3656428099020587,
          1.846283176033301,
          0.5930304044860237,
          0.29793987221014107,
          0.8924446468847728,
          -0.5099299114197214,
          0.917801363350686,
          -0.5476396165319876,
          0.08810377362737165,
          0.67716359658272,
          -1.2866001392254593,
          0.3505270777704328,
          -0.35502740703668406,
          0.3198277785003611,
          -1.2683305733699586,
          -0.8306454799809649
         ],
         "xaxis": "x9",
         "y": [
          -0.02492284918056258,
          -0.785885414293277,
          -0.447229482546522,
          -1.6298304748926844,
          0.6876000537914739,
          -0.749689963784534,
          0.9704678601740873,
          -1.7337017277345714,
          0.7373206301508844,
          -0.3437410268666627,
          -0.35762179688757945,
          1.6322614742165158,
          -0.6525220193174637,
          0.35403222987831917,
          1.2678106373747828,
          0.29191268386959235,
          -0.02921807293193676,
          -0.6706873197551385,
          1.9524141182982033,
          0.6948717069327361,
          -1.980328499134693,
          2.101839314514126,
          -0.6193057251619556,
          0.525430772262155,
          1.3186037030791116,
          0.8841393660263471,
          0.36215175945543854,
          0.9365116377516586,
          1.0541664066448242,
          0.22659643518750247,
          -0.39626263652063987,
          -0.8130745851655512,
          0.6107395943910803,
          -0.564996329346102,
          0.5372034452606061,
          0.3994888927388636,
          -0.655969115122046,
          -0.41395228963748426,
          0.5030972184697315,
          1.6436972767347295,
          2.259717250202777,
          1.4678478036901408,
          -0.7372553149733171,
          1.309642380097827,
          0.5504669366195879,
          -1.5765610100084129,
          0.29404125013268295,
          -1.416100641829991,
          0.669027294488854,
          1.776246473907867,
          -1.3256562548303101,
          -0.08739898929387825,
          1.361702586056903,
          -1.2196014729434574,
          0.5654916409046004,
          -0.8729915405430029,
          -0.10793303117085971,
          -0.8374428855918272,
          0.16970141537157785,
          -0.20932435081978626,
          0.986152638141033,
          -1.4000278631050525,
          0.8579515821935914,
          0.7553179434242713,
          1.1446813630227082,
          -0.07234403671841592,
          -1.5027951228313337,
          -2.5795719674925066,
          -0.03146470679473467,
          2.105159750957102,
          0.4480068244381329,
          -0.7735884868584423,
          0.7925044443949859,
          -0.2966469904715457,
          -0.04191030285426025,
          -0.3998131385257116,
          -0.3419672765803134,
          -0.7590982509812559,
          0.3977956961409181,
          -0.12667280976923959,
          0.6785429992091369,
          -1.158746917724156,
          -1.6111634122601697,
          -0.025936575661406166,
          -1.5689785986134264,
          -1.3081674233603606,
          -0.21812424767131966,
          -0.37845267202672445,
          0.13310520317550179,
          0.29362048908465244,
          0.9077074095476576,
          0.4155632538250987,
          -0.8037841833084913,
          -0.46914642334271417,
          0.3955242551946375,
          -0.7106748074397333,
          -0.8495205167994131,
          0.04779134775621538,
          -0.8979601094652576,
          1.5415262408384887
         ],
         "yaxis": "y9"
        },
        {
         "line": {
          "color": "rgba(128, 128, 128, 1.0)",
          "dash": "solid",
          "shape": "linear",
          "width": 1.3
         },
         "marker": {
          "size": 2,
          "symbol": "circle"
         },
         "mode": "markers",
         "name": "C",
         "text": "",
         "type": "scatter",
         "x": [
          0.6077342487016018,
          -0.4731893416109403,
          -1.3768007323560167,
          -1.426830575049864,
          0.12874988879814375,
          -0.947733813933697,
          0.5238344892217599,
          0.4840873187211147,
          -0.14012108582502,
          -1.8873437456128668,
          -0.14026679486783325,
          0.4586861028400738,
          -0.10395573252720713,
          0.06140834037940289,
          -0.3502091575413244,
          -2.0090925410123672,
          0.4364534526441894,
          2.1817271426605065,
          -0.6445403959738393,
          0.45419525315091375,
          -0.5176436627591724,
          0.5329488253779412,
          0.3411555558959055,
          0.1950287322958298,
          -1.892179875114976,
          -0.04305897101210228,
          1.026946935339796,
          1.4848231767312008,
          -0.6055364169071535,
          0.4237220678947114,
          0.5388665211938162,
          -0.6728594434723479,
          -1.1915342740995833,
          0.5941628508263933,
          -0.863275792769601,
          0.047691635733050526,
          -0.4305545961459695,
          -2.2342519811712185,
          -0.5520756194783913,
          2.397078675528769,
          0.4545527413537645,
          -1.016763728464053,
          -0.6026059735096668,
          0.5137861018262334,
          0.5881748149974206,
          1.188626116200059,
          -0.3169650249940472,
          0.6923341698729818,
          -2.097714086167859,
          -0.5526867895889804,
          0.2120071963811955,
          -0.6187381387292377,
          0.9596534764458649,
          0.032236559936918534,
          -1.8499788850248917,
          2.503462048187462,
          1.1279064832228873,
          -1.2725792355196437,
          1.121997168063789,
          -0.4687798848657744,
          1.5793951413013747,
          2.1816459185106987,
          0.46107945737165623,
          0.5236098062294923,
          -1.1596068392298857,
          0.24036944442115304,
          0.6304058035738712,
          -1.0185978020522959,
          -0.15179028153027518,
          -0.08919393697884163,
          0.7714753987146433,
          -0.5390364543872649,
          1.920551168018313,
          0.3063838030070926,
          -0.22397774797668304,
          -1.0448493502254013,
          -1.2544416899655373,
          0.4892953069810365,
          0.697919876015075,
          0.6485908307169317,
          0.40662451216039197,
          0.5765804446501441,
          -0.44768295089216714,
          -0.738650617470391,
          0.24395544214563125,
          -1.5275755299976472,
          -0.23712520374440696,
          -0.45122748413867386,
          0.5496027629689889,
          1.5441391625326482,
          0.9254372535361087,
          -0.5676555714360765,
          1.7135407953393513,
          2.7406862509354215,
          0.7133139060010656,
          -0.1828690990490576,
          0.24013813467922385,
          -1.2477864222587203,
          0.6116994227216244,
          0.9070783540161795
         ],
         "xaxis": "x10",
         "y": [
          -0.02492284918056258,
          -0.785885414293277,
          -0.447229482546522,
          -1.6298304748926844,
          0.6876000537914739,
          -0.749689963784534,
          0.9704678601740873,
          -1.7337017277345714,
          0.7373206301508844,
          -0.3437410268666627,
          -0.35762179688757945,
          1.6322614742165158,
          -0.6525220193174637,
          0.35403222987831917,
          1.2678106373747828,
          0.29191268386959235,
          -0.02921807293193676,
          -0.6706873197551385,
          1.9524141182982033,
          0.6948717069327361,
          -1.980328499134693,
          2.101839314514126,
          -0.6193057251619556,
          0.525430772262155,
          1.3186037030791116,
          0.8841393660263471,
          0.36215175945543854,
          0.9365116377516586,
          1.0541664066448242,
          0.22659643518750247,
          -0.39626263652063987,
          -0.8130745851655512,
          0.6107395943910803,
          -0.564996329346102,
          0.5372034452606061,
          0.3994888927388636,
          -0.655969115122046,
          -0.41395228963748426,
          0.5030972184697315,
          1.6436972767347295,
          2.259717250202777,
          1.4678478036901408,
          -0.7372553149733171,
          1.309642380097827,
          0.5504669366195879,
          -1.5765610100084129,
          0.29404125013268295,
          -1.416100641829991,
          0.669027294488854,
          1.776246473907867,
          -1.3256562548303101,
          -0.08739898929387825,
          1.361702586056903,
          -1.2196014729434574,
          0.5654916409046004,
          -0.8729915405430029,
          -0.10793303117085971,
          -0.8374428855918272,
          0.16970141537157785,
          -0.20932435081978626,
          0.986152638141033,
          -1.4000278631050525,
          0.8579515821935914,
          0.7553179434242713,
          1.1446813630227082,
          -0.07234403671841592,
          -1.5027951228313337,
          -2.5795719674925066,
          -0.03146470679473467,
          2.105159750957102,
          0.4480068244381329,
          -0.7735884868584423,
          0.7925044443949859,
          -0.2966469904715457,
          -0.04191030285426025,
          -0.3998131385257116,
          -0.3419672765803134,
          -0.7590982509812559,
          0.3977956961409181,
          -0.12667280976923959,
          0.6785429992091369,
          -1.158746917724156,
          -1.6111634122601697,
          -0.025936575661406166,
          -1.5689785986134264,
          -1.3081674233603606,
          -0.21812424767131966,
          -0.37845267202672445,
          0.13310520317550179,
          0.29362048908465244,
          0.9077074095476576,
          0.4155632538250987,
          -0.8037841833084913,
          -0.46914642334271417,
          0.3955242551946375,
          -0.7106748074397333,
          -0.8495205167994131,
          0.04779134775621538,
          -0.8979601094652576,
          1.5415262408384887
         ],
         "yaxis": "y10"
        },
        {
         "histfunc": "count",
         "histnorm": "",
         "marker": {
          "color": "rgba(50, 171, 96, 1.0)",
          "line": {
           "color": "#4D5663",
           "width": 1.3
          }
         },
         "name": "C",
         "nbinsx": 10,
         "opacity": 0.8,
         "orientation": "v",
         "type": "histogram",
         "x": [
          -0.02492284918056258,
          -0.785885414293277,
          -0.447229482546522,
          -1.6298304748926844,
          0.6876000537914739,
          -0.749689963784534,
          0.9704678601740873,
          -1.7337017277345714,
          0.7373206301508844,
          -0.3437410268666627,
          -0.35762179688757945,
          1.6322614742165158,
          -0.6525220193174637,
          0.35403222987831917,
          1.2678106373747828,
          0.29191268386959235,
          -0.02921807293193676,
          -0.6706873197551385,
          1.9524141182982033,
          0.6948717069327361,
          -1.980328499134693,
          2.101839314514126,
          -0.6193057251619556,
          0.525430772262155,
          1.3186037030791116,
          0.8841393660263471,
          0.36215175945543854,
          0.9365116377516586,
          1.0541664066448242,
          0.22659643518750247,
          -0.39626263652063987,
          -0.8130745851655512,
          0.6107395943910803,
          -0.564996329346102,
          0.5372034452606061,
          0.3994888927388636,
          -0.655969115122046,
          -0.41395228963748426,
          0.5030972184697315,
          1.6436972767347295,
          2.259717250202777,
          1.4678478036901408,
          -0.7372553149733171,
          1.309642380097827,
          0.5504669366195879,
          -1.5765610100084129,
          0.29404125013268295,
          -1.416100641829991,
          0.669027294488854,
          1.776246473907867,
          -1.3256562548303101,
          -0.08739898929387825,
          1.361702586056903,
          -1.2196014729434574,
          0.5654916409046004,
          -0.8729915405430029,
          -0.10793303117085971,
          -0.8374428855918272,
          0.16970141537157785,
          -0.20932435081978626,
          0.986152638141033,
          -1.4000278631050525,
          0.8579515821935914,
          0.7553179434242713,
          1.1446813630227082,
          -0.07234403671841592,
          -1.5027951228313337,
          -2.5795719674925066,
          -0.03146470679473467,
          2.105159750957102,
          0.4480068244381329,
          -0.7735884868584423,
          0.7925044443949859,
          -0.2966469904715457,
          -0.04191030285426025,
          -0.3998131385257116,
          -0.3419672765803134,
          -0.7590982509812559,
          0.3977956961409181,
          -0.12667280976923959,
          0.6785429992091369,
          -1.158746917724156,
          -1.6111634122601697,
          -0.025936575661406166,
          -1.5689785986134264,
          -1.3081674233603606,
          -0.21812424767131966,
          -0.37845267202672445,
          0.13310520317550179,
          0.29362048908465244,
          0.9077074095476576,
          0.4155632538250987,
          -0.8037841833084913,
          -0.46914642334271417,
          0.3955242551946375,
          -0.7106748074397333,
          -0.8495205167994131,
          0.04779134775621538,
          -0.8979601094652576,
          1.5415262408384887
         ],
         "xaxis": "x11",
         "yaxis": "y11"
        },
        {
         "line": {
          "color": "rgba(128, 128, 128, 1.0)",
          "dash": "solid",
          "shape": "linear",
          "width": 1.3
         },
         "marker": {
          "size": 2,
          "symbol": "circle"
         },
         "mode": "markers",
         "name": "C",
         "text": "",
         "type": "scatter",
         "x": [
          -0.7227635303048442,
          -0.030580047913744548,
          -0.7786250871897227,
          -0.07002289387692275,
          -1.6503143009114278,
          -0.6019503568033155,
          0.689367224972717,
          -0.3877280867564857,
          -0.015288321546338423,
          -0.5796264603315621,
          0.8737467827441685,
          0.344085650230088,
          1.5200893065484695,
          0.8435124810167771,
          0.4904691044047342,
          0.4499014043870365,
          -0.3667676153770925,
          0.06310571872616824,
          -0.9911360291876661,
          0.7287371614113567,
          -1.1489813712453352,
          1.4805816518545971,
          -0.055427879222772564,
          -0.6703690072744609,
          2.2129297634784098,
          0.13269001550477982,
          -0.059211221133715485,
          0.6695006437104821,
          -0.21119595592938,
          0.5963572619382754,
          0.6172415393239765,
          -0.3626507455852367,
          -1.5351632003837845,
          0.5935232687518087,
          -0.4134200825043699,
          0.6093343916517958,
          0.9905684369974627,
          -0.7784670260629231,
          0.0006860441181422818,
          1.0637100577304208,
          -0.7957845232156112,
          -1.3720971642495983,
          0.11887873486826661,
          1.0193379646066532,
          0.27400071154764105,
          -0.688248946870881,
          0.07779762427772996,
          1.6162557931269943,
          -0.5123287853786016,
          -0.7272057862823779,
          0.7184153328238415,
          -0.7779604328036454,
          1.3550171043138244,
          -0.8126305806786144,
          0.9538396283965909,
          0.4767895654831986,
          0.08373612172610065,
          -1.858855927033377,
          -0.7145361377375852,
          0.6310449796254276,
          -0.6710056881714914,
          0.49394243311422453,
          -0.6578062688574469,
          -0.2980022738270043,
          0.7314520119135556,
          0.49893085913738244,
          -0.49831832883898947,
          2.6348125556443893,
          1.1167186149274897,
          -0.9971330714182465,
          0.18102522667426926,
          -0.5062412236688921,
          0.5752646963201515,
          1.5530067376116647,
          0.22563496666074,
          -1.9050058515269435,
          -0.9641135499209897,
          -0.37506502089516414,
          -1.936170792374123,
          -0.4545813060907563,
          0.2785330127367757,
          -2.1468314274100706,
          -0.004939236418855568,
          -0.37863524303675955,
          -0.1455415176587356,
          1.1065197520828338,
          0.6190207410502039,
          -0.4074570589292243,
          -1.0307080391496815,
          2.744791289260376,
          -0.13608064953886567,
          0.11011507530831016,
          0.5568764690248106,
          0.4580131321612788,
          -1.39486763933591,
          -0.06823944857408382,
          -0.6401313597409217,
          -0.8076390953648548,
          0.18809203651840606,
          -1.718618261435087
         ],
         "xaxis": "x12",
         "y": [
          -0.02492284918056258,
          -0.785885414293277,
          -0.447229482546522,
          -1.6298304748926844,
          0.6876000537914739,
          -0.749689963784534,
          0.9704678601740873,
          -1.7337017277345714,
          0.7373206301508844,
          -0.3437410268666627,
          -0.35762179688757945,
          1.6322614742165158,
          -0.6525220193174637,
          0.35403222987831917,
          1.2678106373747828,
          0.29191268386959235,
          -0.02921807293193676,
          -0.6706873197551385,
          1.9524141182982033,
          0.6948717069327361,
          -1.980328499134693,
          2.101839314514126,
          -0.6193057251619556,
          0.525430772262155,
          1.3186037030791116,
          0.8841393660263471,
          0.36215175945543854,
          0.9365116377516586,
          1.0541664066448242,
          0.22659643518750247,
          -0.39626263652063987,
          -0.8130745851655512,
          0.6107395943910803,
          -0.564996329346102,
          0.5372034452606061,
          0.3994888927388636,
          -0.655969115122046,
          -0.41395228963748426,
          0.5030972184697315,
          1.6436972767347295,
          2.259717250202777,
          1.4678478036901408,
          -0.7372553149733171,
          1.309642380097827,
          0.5504669366195879,
          -1.5765610100084129,
          0.29404125013268295,
          -1.416100641829991,
          0.669027294488854,
          1.776246473907867,
          -1.3256562548303101,
          -0.08739898929387825,
          1.361702586056903,
          -1.2196014729434574,
          0.5654916409046004,
          -0.8729915405430029,
          -0.10793303117085971,
          -0.8374428855918272,
          0.16970141537157785,
          -0.20932435081978626,
          0.986152638141033,
          -1.4000278631050525,
          0.8579515821935914,
          0.7553179434242713,
          1.1446813630227082,
          -0.07234403671841592,
          -1.5027951228313337,
          -2.5795719674925066,
          -0.03146470679473467,
          2.105159750957102,
          0.4480068244381329,
          -0.7735884868584423,
          0.7925044443949859,
          -0.2966469904715457,
          -0.04191030285426025,
          -0.3998131385257116,
          -0.3419672765803134,
          -0.7590982509812559,
          0.3977956961409181,
          -0.12667280976923959,
          0.6785429992091369,
          -1.158746917724156,
          -1.6111634122601697,
          -0.025936575661406166,
          -1.5689785986134264,
          -1.3081674233603606,
          -0.21812424767131966,
          -0.37845267202672445,
          0.13310520317550179,
          0.29362048908465244,
          0.9077074095476576,
          0.4155632538250987,
          -0.8037841833084913,
          -0.46914642334271417,
          0.3955242551946375,
          -0.7106748074397333,
          -0.8495205167994131,
          0.04779134775621538,
          -0.8979601094652576,
          1.5415262408384887
         ],
         "yaxis": "y12"
        },
        {
         "line": {
          "color": "rgba(128, 128, 128, 1.0)",
          "dash": "solid",
          "shape": "linear",
          "width": 1.3
         },
         "marker": {
          "size": 2,
          "symbol": "circle"
         },
         "mode": "markers",
         "name": "D",
         "text": "",
         "type": "scatter",
         "x": [
          -2.5270110065280242,
          1.6680174651519772,
          0.45001559995548196,
          -0.02045562584354937,
          -0.04696767175551414,
          -0.43901181387379545,
          1.7070413018056958,
          0.08565188696795122,
          -0.3344293828596582,
          0.9500404409209297,
          -0.21019113833514888,
          0.3604224452923828,
          -1.11216805280219,
          -1.5604767575486982,
          0.28660620043355134,
          0.13083296630364566,
          0.6822576428639039,
          -0.4829122357799119,
          -1.0615796698603883,
          1.5279868368772598,
          0.7273176523923723,
          -0.01668581955173972,
          -0.14431916847878662,
          -0.6694863923053975,
          -2.3470302981384954,
          -1.1661753763114484,
          -0.027495754023257737,
          -1.1940607139239843,
          1.2022992752144077,
          -1.2637653296749367,
          2.193581276644731,
          1.5401952281442286,
          1.2435478976767964,
          1.1198451524009416,
          0.6659197389716871,
          0.9129273941343368,
          -1.6551091407193894,
          -0.2022455946334687,
          1.7466718899342617,
          -1.0705815568121162,
          -0.5031411081362345,
          1.4354268289538574,
          0.35012433605173376,
          2.276633138686141,
          -0.010746264868391347,
          -0.3368132777335987,
          -0.42996015575909946,
          -0.14383787852590885,
          -0.36458495384677464,
          0.886255773590493,
          1.2708758764720964,
          -0.17095937360923044,
          1.7962916184698736,
          0.7468575618528512,
          0.27557541233497135,
          -0.4293600119498419,
          0.39163991626736816,
          0.28128110983445603,
          -0.5827217868530749,
          -0.8122462897014714,
          -1.4807240533031878,
          -1.9499612762391623,
          -1.0592607140515602,
          -1.6477046188858,
          1.0012645286707358,
          0.862565704579482,
          0.039131466186083146,
          0.6622855462079307,
          0.5149700197353527,
          -0.6940121322135872,
          0.15324988368917486,
          -0.5476656394961759,
          -0.004292537672022745,
          0.7637978366095226,
          0.15075134016268965,
          -1.210306488771418,
          1.4986544939320934,
          0.9920524382552748,
          0.5463758713635003,
          1.5976786993787182,
          -0.47325106610739365,
          -0.059765588262616895,
          -0.35657783893539957,
          1.0761729057971934,
          0.3656428099020587,
          1.846283176033301,
          0.5930304044860237,
          0.29793987221014107,
          0.8924446468847728,
          -0.5099299114197214,
          0.917801363350686,
          -0.5476396165319876,
          0.08810377362737165,
          0.67716359658272,
          -1.2866001392254593,
          0.3505270777704328,
          -0.35502740703668406,
          0.3198277785003611,
          -1.2683305733699586,
          -0.8306454799809649
         ],
         "xaxis": "x13",
         "y": [
          -0.7227635303048442,
          -0.030580047913744548,
          -0.7786250871897227,
          -0.07002289387692275,
          -1.6503143009114278,
          -0.6019503568033155,
          0.689367224972717,
          -0.3877280867564857,
          -0.015288321546338423,
          -0.5796264603315621,
          0.8737467827441685,
          0.344085650230088,
          1.5200893065484695,
          0.8435124810167771,
          0.4904691044047342,
          0.4499014043870365,
          -0.3667676153770925,
          0.06310571872616824,
          -0.9911360291876661,
          0.7287371614113567,
          -1.1489813712453352,
          1.4805816518545971,
          -0.055427879222772564,
          -0.6703690072744609,
          2.2129297634784098,
          0.13269001550477982,
          -0.059211221133715485,
          0.6695006437104821,
          -0.21119595592938,
          0.5963572619382754,
          0.6172415393239765,
          -0.3626507455852367,
          -1.5351632003837845,
          0.5935232687518087,
          -0.4134200825043699,
          0.6093343916517958,
          0.9905684369974627,
          -0.7784670260629231,
          0.0006860441181422818,
          1.0637100577304208,
          -0.7957845232156112,
          -1.3720971642495983,
          0.11887873486826661,
          1.0193379646066532,
          0.27400071154764105,
          -0.688248946870881,
          0.07779762427772996,
          1.6162557931269943,
          -0.5123287853786016,
          -0.7272057862823779,
          0.7184153328238415,
          -0.7779604328036454,
          1.3550171043138244,
          -0.8126305806786144,
          0.9538396283965909,
          0.4767895654831986,
          0.08373612172610065,
          -1.858855927033377,
          -0.7145361377375852,
          0.6310449796254276,
          -0.6710056881714914,
          0.49394243311422453,
          -0.6578062688574469,
          -0.2980022738270043,
          0.7314520119135556,
          0.49893085913738244,
          -0.49831832883898947,
          2.6348125556443893,
          1.1167186149274897,
          -0.9971330714182465,
          0.18102522667426926,
          -0.5062412236688921,
          0.5752646963201515,
          1.5530067376116647,
          0.22563496666074,
          -1.9050058515269435,
          -0.9641135499209897,
          -0.37506502089516414,
          -1.936170792374123,
          -0.4545813060907563,
          0.2785330127367757,
          -2.1468314274100706,
          -0.004939236418855568,
          -0.37863524303675955,
          -0.1455415176587356,
          1.1065197520828338,
          0.6190207410502039,
          -0.4074570589292243,
          -1.0307080391496815,
          2.744791289260376,
          -0.13608064953886567,
          0.11011507530831016,
          0.5568764690248106,
          0.4580131321612788,
          -1.39486763933591,
          -0.06823944857408382,
          -0.6401313597409217,
          -0.8076390953648548,
          0.18809203651840606,
          -1.718618261435087
         ],
         "yaxis": "y13"
        },
        {
         "line": {
          "color": "rgba(128, 128, 128, 1.0)",
          "dash": "solid",
          "shape": "linear",
          "width": 1.3
         },
         "marker": {
          "size": 2,
          "symbol": "circle"
         },
         "mode": "markers",
         "name": "D",
         "text": "",
         "type": "scatter",
         "x": [
          0.6077342487016018,
          -0.4731893416109403,
          -1.3768007323560167,
          -1.426830575049864,
          0.12874988879814375,
          -0.947733813933697,
          0.5238344892217599,
          0.4840873187211147,
          -0.14012108582502,
          -1.8873437456128668,
          -0.14026679486783325,
          0.4586861028400738,
          -0.10395573252720713,
          0.06140834037940289,
          -0.3502091575413244,
          -2.0090925410123672,
          0.4364534526441894,
          2.1817271426605065,
          -0.6445403959738393,
          0.45419525315091375,
          -0.5176436627591724,
          0.5329488253779412,
          0.3411555558959055,
          0.1950287322958298,
          -1.892179875114976,
          -0.04305897101210228,
          1.026946935339796,
          1.4848231767312008,
          -0.6055364169071535,
          0.4237220678947114,
          0.5388665211938162,
          -0.6728594434723479,
          -1.1915342740995833,
          0.5941628508263933,
          -0.863275792769601,
          0.047691635733050526,
          -0.4305545961459695,
          -2.2342519811712185,
          -0.5520756194783913,
          2.397078675528769,
          0.4545527413537645,
          -1.016763728464053,
          -0.6026059735096668,
          0.5137861018262334,
          0.5881748149974206,
          1.188626116200059,
          -0.3169650249940472,
          0.6923341698729818,
          -2.097714086167859,
          -0.5526867895889804,
          0.2120071963811955,
          -0.6187381387292377,
          0.9596534764458649,
          0.032236559936918534,
          -1.8499788850248917,
          2.503462048187462,
          1.1279064832228873,
          -1.2725792355196437,
          1.121997168063789,
          -0.4687798848657744,
          1.5793951413013747,
          2.1816459185106987,
          0.46107945737165623,
          0.5236098062294923,
          -1.1596068392298857,
          0.24036944442115304,
          0.6304058035738712,
          -1.0185978020522959,
          -0.15179028153027518,
          -0.08919393697884163,
          0.7714753987146433,
          -0.5390364543872649,
          1.920551168018313,
          0.3063838030070926,
          -0.22397774797668304,
          -1.0448493502254013,
          -1.2544416899655373,
          0.4892953069810365,
          0.697919876015075,
          0.6485908307169317,
          0.40662451216039197,
          0.5765804446501441,
          -0.44768295089216714,
          -0.738650617470391,
          0.24395544214563125,
          -1.5275755299976472,
          -0.23712520374440696,
          -0.45122748413867386,
          0.5496027629689889,
          1.5441391625326482,
          0.9254372535361087,
          -0.5676555714360765,
          1.7135407953393513,
          2.7406862509354215,
          0.7133139060010656,
          -0.1828690990490576,
          0.24013813467922385,
          -1.2477864222587203,
          0.6116994227216244,
          0.9070783540161795
         ],
         "xaxis": "x14",
         "y": [
          -0.7227635303048442,
          -0.030580047913744548,
          -0.7786250871897227,
          -0.07002289387692275,
          -1.6503143009114278,
          -0.6019503568033155,
          0.689367224972717,
          -0.3877280867564857,
          -0.015288321546338423,
          -0.5796264603315621,
          0.8737467827441685,
          0.344085650230088,
          1.5200893065484695,
          0.8435124810167771,
          0.4904691044047342,
          0.4499014043870365,
          -0.3667676153770925,
          0.06310571872616824,
          -0.9911360291876661,
          0.7287371614113567,
          -1.1489813712453352,
          1.4805816518545971,
          -0.055427879222772564,
          -0.6703690072744609,
          2.2129297634784098,
          0.13269001550477982,
          -0.059211221133715485,
          0.6695006437104821,
          -0.21119595592938,
          0.5963572619382754,
          0.6172415393239765,
          -0.3626507455852367,
          -1.5351632003837845,
          0.5935232687518087,
          -0.4134200825043699,
          0.6093343916517958,
          0.9905684369974627,
          -0.7784670260629231,
          0.0006860441181422818,
          1.0637100577304208,
          -0.7957845232156112,
          -1.3720971642495983,
          0.11887873486826661,
          1.0193379646066532,
          0.27400071154764105,
          -0.688248946870881,
          0.07779762427772996,
          1.6162557931269943,
          -0.5123287853786016,
          -0.7272057862823779,
          0.7184153328238415,
          -0.7779604328036454,
          1.3550171043138244,
          -0.8126305806786144,
          0.9538396283965909,
          0.4767895654831986,
          0.08373612172610065,
          -1.858855927033377,
          -0.7145361377375852,
          0.6310449796254276,
          -0.6710056881714914,
          0.49394243311422453,
          -0.6578062688574469,
          -0.2980022738270043,
          0.7314520119135556,
          0.49893085913738244,
          -0.49831832883898947,
          2.6348125556443893,
          1.1167186149274897,
          -0.9971330714182465,
          0.18102522667426926,
          -0.5062412236688921,
          0.5752646963201515,
          1.5530067376116647,
          0.22563496666074,
          -1.9050058515269435,
          -0.9641135499209897,
          -0.37506502089516414,
          -1.936170792374123,
          -0.4545813060907563,
          0.2785330127367757,
          -2.1468314274100706,
          -0.004939236418855568,
          -0.37863524303675955,
          -0.1455415176587356,
          1.1065197520828338,
          0.6190207410502039,
          -0.4074570589292243,
          -1.0307080391496815,
          2.744791289260376,
          -0.13608064953886567,
          0.11011507530831016,
          0.5568764690248106,
          0.4580131321612788,
          -1.39486763933591,
          -0.06823944857408382,
          -0.6401313597409217,
          -0.8076390953648548,
          0.18809203651840606,
          -1.718618261435087
         ],
         "yaxis": "y14"
        },
        {
         "line": {
          "color": "rgba(128, 128, 128, 1.0)",
          "dash": "solid",
          "shape": "linear",
          "width": 1.3
         },
         "marker": {
          "size": 2,
          "symbol": "circle"
         },
         "mode": "markers",
         "name": "D",
         "text": "",
         "type": "scatter",
         "x": [
          -0.02492284918056258,
          -0.785885414293277,
          -0.447229482546522,
          -1.6298304748926844,
          0.6876000537914739,
          -0.749689963784534,
          0.9704678601740873,
          -1.7337017277345714,
          0.7373206301508844,
          -0.3437410268666627,
          -0.35762179688757945,
          1.6322614742165158,
          -0.6525220193174637,
          0.35403222987831917,
          1.2678106373747828,
          0.29191268386959235,
          -0.02921807293193676,
          -0.6706873197551385,
          1.9524141182982033,
          0.6948717069327361,
          -1.980328499134693,
          2.101839314514126,
          -0.6193057251619556,
          0.525430772262155,
          1.3186037030791116,
          0.8841393660263471,
          0.36215175945543854,
          0.9365116377516586,
          1.0541664066448242,
          0.22659643518750247,
          -0.39626263652063987,
          -0.8130745851655512,
          0.6107395943910803,
          -0.564996329346102,
          0.5372034452606061,
          0.3994888927388636,
          -0.655969115122046,
          -0.41395228963748426,
          0.5030972184697315,
          1.6436972767347295,
          2.259717250202777,
          1.4678478036901408,
          -0.7372553149733171,
          1.309642380097827,
          0.5504669366195879,
          -1.5765610100084129,
          0.29404125013268295,
          -1.416100641829991,
          0.669027294488854,
          1.776246473907867,
          -1.3256562548303101,
          -0.08739898929387825,
          1.361702586056903,
          -1.2196014729434574,
          0.5654916409046004,
          -0.8729915405430029,
          -0.10793303117085971,
          -0.8374428855918272,
          0.16970141537157785,
          -0.20932435081978626,
          0.986152638141033,
          -1.4000278631050525,
          0.8579515821935914,
          0.7553179434242713,
          1.1446813630227082,
          -0.07234403671841592,
          -1.5027951228313337,
          -2.5795719674925066,
          -0.03146470679473467,
          2.105159750957102,
          0.4480068244381329,
          -0.7735884868584423,
          0.7925044443949859,
          -0.2966469904715457,
          -0.04191030285426025,
          -0.3998131385257116,
          -0.3419672765803134,
          -0.7590982509812559,
          0.3977956961409181,
          -0.12667280976923959,
          0.6785429992091369,
          -1.158746917724156,
          -1.6111634122601697,
          -0.025936575661406166,
          -1.5689785986134264,
          -1.3081674233603606,
          -0.21812424767131966,
          -0.37845267202672445,
          0.13310520317550179,
          0.29362048908465244,
          0.9077074095476576,
          0.4155632538250987,
          -0.8037841833084913,
          -0.46914642334271417,
          0.3955242551946375,
          -0.7106748074397333,
          -0.8495205167994131,
          0.04779134775621538,
          -0.8979601094652576,
          1.5415262408384887
         ],
         "xaxis": "x15",
         "y": [
          -0.7227635303048442,
          -0.030580047913744548,
          -0.7786250871897227,
          -0.07002289387692275,
          -1.6503143009114278,
          -0.6019503568033155,
          0.689367224972717,
          -0.3877280867564857,
          -0.015288321546338423,
          -0.5796264603315621,
          0.8737467827441685,
          0.344085650230088,
          1.5200893065484695,
          0.8435124810167771,
          0.4904691044047342,
          0.4499014043870365,
          -0.3667676153770925,
          0.06310571872616824,
          -0.9911360291876661,
          0.7287371614113567,
          -1.1489813712453352,
          1.4805816518545971,
          -0.055427879222772564,
          -0.6703690072744609,
          2.2129297634784098,
          0.13269001550477982,
          -0.059211221133715485,
          0.6695006437104821,
          -0.21119595592938,
          0.5963572619382754,
          0.6172415393239765,
          -0.3626507455852367,
          -1.5351632003837845,
          0.5935232687518087,
          -0.4134200825043699,
          0.6093343916517958,
          0.9905684369974627,
          -0.7784670260629231,
          0.0006860441181422818,
          1.0637100577304208,
          -0.7957845232156112,
          -1.3720971642495983,
          0.11887873486826661,
          1.0193379646066532,
          0.27400071154764105,
          -0.688248946870881,
          0.07779762427772996,
          1.6162557931269943,
          -0.5123287853786016,
          -0.7272057862823779,
          0.7184153328238415,
          -0.7779604328036454,
          1.3550171043138244,
          -0.8126305806786144,
          0.9538396283965909,
          0.4767895654831986,
          0.08373612172610065,
          -1.858855927033377,
          -0.7145361377375852,
          0.6310449796254276,
          -0.6710056881714914,
          0.49394243311422453,
          -0.6578062688574469,
          -0.2980022738270043,
          0.7314520119135556,
          0.49893085913738244,
          -0.49831832883898947,
          2.6348125556443893,
          1.1167186149274897,
          -0.9971330714182465,
          0.18102522667426926,
          -0.5062412236688921,
          0.5752646963201515,
          1.5530067376116647,
          0.22563496666074,
          -1.9050058515269435,
          -0.9641135499209897,
          -0.37506502089516414,
          -1.936170792374123,
          -0.4545813060907563,
          0.2785330127367757,
          -2.1468314274100706,
          -0.004939236418855568,
          -0.37863524303675955,
          -0.1455415176587356,
          1.1065197520828338,
          0.6190207410502039,
          -0.4074570589292243,
          -1.0307080391496815,
          2.744791289260376,
          -0.13608064953886567,
          0.11011507530831016,
          0.5568764690248106,
          0.4580131321612788,
          -1.39486763933591,
          -0.06823944857408382,
          -0.6401313597409217,
          -0.8076390953648548,
          0.18809203651840606,
          -1.718618261435087
         ],
         "yaxis": "y15"
        },
        {
         "histfunc": "count",
         "histnorm": "",
         "marker": {
          "color": "rgba(128, 0, 128, 1.0)",
          "line": {
           "color": "#4D5663",
           "width": 1.3
          }
         },
         "name": "D",
         "nbinsx": 10,
         "opacity": 0.8,
         "orientation": "v",
         "type": "histogram",
         "x": [
          -0.7227635303048442,
          -0.030580047913744548,
          -0.7786250871897227,
          -0.07002289387692275,
          -1.6503143009114278,
          -0.6019503568033155,
          0.689367224972717,
          -0.3877280867564857,
          -0.015288321546338423,
          -0.5796264603315621,
          0.8737467827441685,
          0.344085650230088,
          1.5200893065484695,
          0.8435124810167771,
          0.4904691044047342,
          0.4499014043870365,
          -0.3667676153770925,
          0.06310571872616824,
          -0.9911360291876661,
          0.7287371614113567,
          -1.1489813712453352,
          1.4805816518545971,
          -0.055427879222772564,
          -0.6703690072744609,
          2.2129297634784098,
          0.13269001550477982,
          -0.059211221133715485,
          0.6695006437104821,
          -0.21119595592938,
          0.5963572619382754,
          0.6172415393239765,
          -0.3626507455852367,
          -1.5351632003837845,
          0.5935232687518087,
          -0.4134200825043699,
          0.6093343916517958,
          0.9905684369974627,
          -0.7784670260629231,
          0.0006860441181422818,
          1.0637100577304208,
          -0.7957845232156112,
          -1.3720971642495983,
          0.11887873486826661,
          1.0193379646066532,
          0.27400071154764105,
          -0.688248946870881,
          0.07779762427772996,
          1.6162557931269943,
          -0.5123287853786016,
          -0.7272057862823779,
          0.7184153328238415,
          -0.7779604328036454,
          1.3550171043138244,
          -0.8126305806786144,
          0.9538396283965909,
          0.4767895654831986,
          0.08373612172610065,
          -1.858855927033377,
          -0.7145361377375852,
          0.6310449796254276,
          -0.6710056881714914,
          0.49394243311422453,
          -0.6578062688574469,
          -0.2980022738270043,
          0.7314520119135556,
          0.49893085913738244,
          -0.49831832883898947,
          2.6348125556443893,
          1.1167186149274897,
          -0.9971330714182465,
          0.18102522667426926,
          -0.5062412236688921,
          0.5752646963201515,
          1.5530067376116647,
          0.22563496666074,
          -1.9050058515269435,
          -0.9641135499209897,
          -0.37506502089516414,
          -1.936170792374123,
          -0.4545813060907563,
          0.2785330127367757,
          -2.1468314274100706,
          -0.004939236418855568,
          -0.37863524303675955,
          -0.1455415176587356,
          1.1065197520828338,
          0.6190207410502039,
          -0.4074570589292243,
          -1.0307080391496815,
          2.744791289260376,
          -0.13608064953886567,
          0.11011507530831016,
          0.5568764690248106,
          0.4580131321612788,
          -1.39486763933591,
          -0.06823944857408382,
          -0.6401313597409217,
          -0.8076390953648548,
          0.18809203651840606,
          -1.718618261435087
         ],
         "xaxis": "x16",
         "yaxis": "y16"
        }
       ],
       "layout": {
        "bargap": 0.02,
        "legend": {
         "bgcolor": "#F5F6F9",
         "font": {
          "color": "#4D5663"
         }
        },
        "paper_bgcolor": "#F5F6F9",
        "plot_bgcolor": "#F5F6F9",
        "showlegend": false,
        "template": {
         "data": {
          "bar": [
           {
            "error_x": {
             "color": "#2a3f5f"
            },
            "error_y": {
             "color": "#2a3f5f"
            },
            "marker": {
             "line": {
              "color": "#E5ECF6",
              "width": 0.5
             }
            },
            "type": "bar"
           }
          ],
          "barpolar": [
           {
            "marker": {
             "line": {
              "color": "#E5ECF6",
              "width": 0.5
             }
            },
            "type": "barpolar"
           }
          ],
          "carpet": [
           {
            "aaxis": {
             "endlinecolor": "#2a3f5f",
             "gridcolor": "white",
             "linecolor": "white",
             "minorgridcolor": "white",
             "startlinecolor": "#2a3f5f"
            },
            "baxis": {
             "endlinecolor": "#2a3f5f",
             "gridcolor": "white",
             "linecolor": "white",
             "minorgridcolor": "white",
             "startlinecolor": "#2a3f5f"
            },
            "type": "carpet"
           }
          ],
          "choropleth": [
           {
            "colorbar": {
             "outlinewidth": 0,
             "ticks": ""
            },
            "type": "choropleth"
           }
          ],
          "contour": [
           {
            "colorbar": {
             "outlinewidth": 0,
             "ticks": ""
            },
            "colorscale": [
             [
              0,
              "#0d0887"
             ],
             [
              0.1111111111111111,
              "#46039f"
             ],
             [
              0.2222222222222222,
              "#7201a8"
             ],
             [
              0.3333333333333333,
              "#9c179e"
             ],
             [
              0.4444444444444444,
              "#bd3786"
             ],
             [
              0.5555555555555556,
              "#d8576b"
             ],
             [
              0.6666666666666666,
              "#ed7953"
             ],
             [
              0.7777777777777778,
              "#fb9f3a"
             ],
             [
              0.8888888888888888,
              "#fdca26"
             ],
             [
              1,
              "#f0f921"
             ]
            ],
            "type": "contour"
           }
          ],
          "contourcarpet": [
           {
            "colorbar": {
             "outlinewidth": 0,
             "ticks": ""
            },
            "type": "contourcarpet"
           }
          ],
          "heatmap": [
           {
            "colorbar": {
             "outlinewidth": 0,
             "ticks": ""
            },
            "colorscale": [
             [
              0,
              "#0d0887"
             ],
             [
              0.1111111111111111,
              "#46039f"
             ],
             [
              0.2222222222222222,
              "#7201a8"
             ],
             [
              0.3333333333333333,
              "#9c179e"
             ],
             [
              0.4444444444444444,
              "#bd3786"
             ],
             [
              0.5555555555555556,
              "#d8576b"
             ],
             [
              0.6666666666666666,
              "#ed7953"
             ],
             [
              0.7777777777777778,
              "#fb9f3a"
             ],
             [
              0.8888888888888888,
              "#fdca26"
             ],
             [
              1,
              "#f0f921"
             ]
            ],
            "type": "heatmap"
           }
          ],
          "heatmapgl": [
           {
            "colorbar": {
             "outlinewidth": 0,
             "ticks": ""
            },
            "colorscale": [
             [
              0,
              "#0d0887"
             ],
             [
              0.1111111111111111,
              "#46039f"
             ],
             [
              0.2222222222222222,
              "#7201a8"
             ],
             [
              0.3333333333333333,
              "#9c179e"
             ],
             [
              0.4444444444444444,
              "#bd3786"
             ],
             [
              0.5555555555555556,
              "#d8576b"
             ],
             [
              0.6666666666666666,
              "#ed7953"
             ],
             [
              0.7777777777777778,
              "#fb9f3a"
             ],
             [
              0.8888888888888888,
              "#fdca26"
             ],
             [
              1,
              "#f0f921"
             ]
            ],
            "type": "heatmapgl"
           }
          ],
          "histogram": [
           {
            "marker": {
             "colorbar": {
              "outlinewidth": 0,
              "ticks": ""
             }
            },
            "type": "histogram"
           }
          ],
          "histogram2d": [
           {
            "colorbar": {
             "outlinewidth": 0,
             "ticks": ""
            },
            "colorscale": [
             [
              0,
              "#0d0887"
             ],
             [
              0.1111111111111111,
              "#46039f"
             ],
             [
              0.2222222222222222,
              "#7201a8"
             ],
             [
              0.3333333333333333,
              "#9c179e"
             ],
             [
              0.4444444444444444,
              "#bd3786"
             ],
             [
              0.5555555555555556,
              "#d8576b"
             ],
             [
              0.6666666666666666,
              "#ed7953"
             ],
             [
              0.7777777777777778,
              "#fb9f3a"
             ],
             [
              0.8888888888888888,
              "#fdca26"
             ],
             [
              1,
              "#f0f921"
             ]
            ],
            "type": "histogram2d"
           }
          ],
          "histogram2dcontour": [
           {
            "colorbar": {
             "outlinewidth": 0,
             "ticks": ""
            },
            "colorscale": [
             [
              0,
              "#0d0887"
             ],
             [
              0.1111111111111111,
              "#46039f"
             ],
             [
              0.2222222222222222,
              "#7201a8"
             ],
             [
              0.3333333333333333,
              "#9c179e"
             ],
             [
              0.4444444444444444,
              "#bd3786"
             ],
             [
              0.5555555555555556,
              "#d8576b"
             ],
             [
              0.6666666666666666,
              "#ed7953"
             ],
             [
              0.7777777777777778,
              "#fb9f3a"
             ],
             [
              0.8888888888888888,
              "#fdca26"
             ],
             [
              1,
              "#f0f921"
             ]
            ],
            "type": "histogram2dcontour"
           }
          ],
          "mesh3d": [
           {
            "colorbar": {
             "outlinewidth": 0,
             "ticks": ""
            },
            "type": "mesh3d"
           }
          ],
          "parcoords": [
           {
            "line": {
             "colorbar": {
              "outlinewidth": 0,
              "ticks": ""
             }
            },
            "type": "parcoords"
           }
          ],
          "pie": [
           {
            "automargin": true,
            "type": "pie"
           }
          ],
          "scatter": [
           {
            "marker": {
             "colorbar": {
              "outlinewidth": 0,
              "ticks": ""
             }
            },
            "type": "scatter"
           }
          ],
          "scatter3d": [
           {
            "line": {
             "colorbar": {
              "outlinewidth": 0,
              "ticks": ""
             }
            },
            "marker": {
             "colorbar": {
              "outlinewidth": 0,
              "ticks": ""
             }
            },
            "type": "scatter3d"
           }
          ],
          "scattercarpet": [
           {
            "marker": {
             "colorbar": {
              "outlinewidth": 0,
              "ticks": ""
             }
            },
            "type": "scattercarpet"
           }
          ],
          "scattergeo": [
           {
            "marker": {
             "colorbar": {
              "outlinewidth": 0,
              "ticks": ""
             }
            },
            "type": "scattergeo"
           }
          ],
          "scattergl": [
           {
            "marker": {
             "colorbar": {
              "outlinewidth": 0,
              "ticks": ""
             }
            },
            "type": "scattergl"
           }
          ],
          "scattermapbox": [
           {
            "marker": {
             "colorbar": {
              "outlinewidth": 0,
              "ticks": ""
             }
            },
            "type": "scattermapbox"
           }
          ],
          "scatterpolar": [
           {
            "marker": {
             "colorbar": {
              "outlinewidth": 0,
              "ticks": ""
             }
            },
            "type": "scatterpolar"
           }
          ],
          "scatterpolargl": [
           {
            "marker": {
             "colorbar": {
              "outlinewidth": 0,
              "ticks": ""
             }
            },
            "type": "scatterpolargl"
           }
          ],
          "scatterternary": [
           {
            "marker": {
             "colorbar": {
              "outlinewidth": 0,
              "ticks": ""
             }
            },
            "type": "scatterternary"
           }
          ],
          "surface": [
           {
            "colorbar": {
             "outlinewidth": 0,
             "ticks": ""
            },
            "colorscale": [
             [
              0,
              "#0d0887"
             ],
             [
              0.1111111111111111,
              "#46039f"
             ],
             [
              0.2222222222222222,
              "#7201a8"
             ],
             [
              0.3333333333333333,
              "#9c179e"
             ],
             [
              0.4444444444444444,
              "#bd3786"
             ],
             [
              0.5555555555555556,
              "#d8576b"
             ],
             [
              0.6666666666666666,
              "#ed7953"
             ],
             [
              0.7777777777777778,
              "#fb9f3a"
             ],
             [
              0.8888888888888888,
              "#fdca26"
             ],
             [
              1,
              "#f0f921"
             ]
            ],
            "type": "surface"
           }
          ],
          "table": [
           {
            "cells": {
             "fill": {
              "color": "#EBF0F8"
             },
             "line": {
              "color": "white"
             }
            },
            "header": {
             "fill": {
              "color": "#C8D4E3"
             },
             "line": {
              "color": "white"
             }
            },
            "type": "table"
           }
          ]
         },
         "layout": {
          "annotationdefaults": {
           "arrowcolor": "#2a3f5f",
           "arrowhead": 0,
           "arrowwidth": 1
          },
          "autotypenumbers": "strict",
          "coloraxis": {
           "colorbar": {
            "outlinewidth": 0,
            "ticks": ""
           }
          },
          "colorscale": {
           "diverging": [
            [
             0,
             "#8e0152"
            ],
            [
             0.1,
             "#c51b7d"
            ],
            [
             0.2,
             "#de77ae"
            ],
            [
             0.3,
             "#f1b6da"
            ],
            [
             0.4,
             "#fde0ef"
            ],
            [
             0.5,
             "#f7f7f7"
            ],
            [
             0.6,
             "#e6f5d0"
            ],
            [
             0.7,
             "#b8e186"
            ],
            [
             0.8,
             "#7fbc41"
            ],
            [
             0.9,
             "#4d9221"
            ],
            [
             1,
             "#276419"
            ]
           ],
           "sequential": [
            [
             0,
             "#0d0887"
            ],
            [
             0.1111111111111111,
             "#46039f"
            ],
            [
             0.2222222222222222,
             "#7201a8"
            ],
            [
             0.3333333333333333,
             "#9c179e"
            ],
            [
             0.4444444444444444,
             "#bd3786"
            ],
            [
             0.5555555555555556,
             "#d8576b"
            ],
            [
             0.6666666666666666,
             "#ed7953"
            ],
            [
             0.7777777777777778,
             "#fb9f3a"
            ],
            [
             0.8888888888888888,
             "#fdca26"
            ],
            [
             1,
             "#f0f921"
            ]
           ],
           "sequentialminus": [
            [
             0,
             "#0d0887"
            ],
            [
             0.1111111111111111,
             "#46039f"
            ],
            [
             0.2222222222222222,
             "#7201a8"
            ],
            [
             0.3333333333333333,
             "#9c179e"
            ],
            [
             0.4444444444444444,
             "#bd3786"
            ],
            [
             0.5555555555555556,
             "#d8576b"
            ],
            [
             0.6666666666666666,
             "#ed7953"
            ],
            [
             0.7777777777777778,
             "#fb9f3a"
            ],
            [
             0.8888888888888888,
             "#fdca26"
            ],
            [
             1,
             "#f0f921"
            ]
           ]
          },
          "colorway": [
           "#636efa",
           "#EF553B",
           "#00cc96",
           "#ab63fa",
           "#FFA15A",
           "#19d3f3",
           "#FF6692",
           "#B6E880",
           "#FF97FF",
           "#FECB52"
          ],
          "font": {
           "color": "#2a3f5f"
          },
          "geo": {
           "bgcolor": "white",
           "lakecolor": "white",
           "landcolor": "#E5ECF6",
           "showlakes": true,
           "showland": true,
           "subunitcolor": "white"
          },
          "hoverlabel": {
           "align": "left"
          },
          "hovermode": "closest",
          "mapbox": {
           "style": "light"
          },
          "paper_bgcolor": "white",
          "plot_bgcolor": "#E5ECF6",
          "polar": {
           "angularaxis": {
            "gridcolor": "white",
            "linecolor": "white",
            "ticks": ""
           },
           "bgcolor": "#E5ECF6",
           "radialaxis": {
            "gridcolor": "white",
            "linecolor": "white",
            "ticks": ""
           }
          },
          "scene": {
           "xaxis": {
            "backgroundcolor": "#E5ECF6",
            "gridcolor": "white",
            "gridwidth": 2,
            "linecolor": "white",
            "showbackground": true,
            "ticks": "",
            "zerolinecolor": "white"
           },
           "yaxis": {
            "backgroundcolor": "#E5ECF6",
            "gridcolor": "white",
            "gridwidth": 2,
            "linecolor": "white",
            "showbackground": true,
            "ticks": "",
            "zerolinecolor": "white"
           },
           "zaxis": {
            "backgroundcolor": "#E5ECF6",
            "gridcolor": "white",
            "gridwidth": 2,
            "linecolor": "white",
            "showbackground": true,
            "ticks": "",
            "zerolinecolor": "white"
           }
          },
          "shapedefaults": {
           "line": {
            "color": "#2a3f5f"
           }
          },
          "ternary": {
           "aaxis": {
            "gridcolor": "white",
            "linecolor": "white",
            "ticks": ""
           },
           "baxis": {
            "gridcolor": "white",
            "linecolor": "white",
            "ticks": ""
           },
           "bgcolor": "#E5ECF6",
           "caxis": {
            "gridcolor": "white",
            "linecolor": "white",
            "ticks": ""
           }
          },
          "title": {
           "x": 0.05
          },
          "xaxis": {
           "automargin": true,
           "gridcolor": "white",
           "linecolor": "white",
           "ticks": "",
           "title": {
            "standoff": 15
           },
           "zerolinecolor": "white",
           "zerolinewidth": 2
          },
          "yaxis": {
           "automargin": true,
           "gridcolor": "white",
           "linecolor": "white",
           "ticks": "",
           "title": {
            "standoff": 15
           },
           "zerolinecolor": "white",
           "zerolinewidth": 2
          }
         }
        },
        "title": {
         "font": {
          "color": "#4D5663"
         }
        },
        "xaxis": {
         "anchor": "y",
         "domain": [
          0,
          0.2125
         ],
         "gridcolor": "#E1E5ED",
         "showgrid": false,
         "tickfont": {
          "color": "#4D5663"
         },
         "title": {
          "font": {
           "color": "#4D5663"
          },
          "text": ""
         },
         "zerolinecolor": "#E1E5ED"
        },
        "xaxis10": {
         "anchor": "y10",
         "domain": [
          0.2625,
          0.475
         ],
         "gridcolor": "#E1E5ED",
         "showgrid": false,
         "tickfont": {
          "color": "#4D5663"
         },
         "title": {
          "font": {
           "color": "#4D5663"
          },
          "text": ""
         },
         "zerolinecolor": "#E1E5ED"
        },
        "xaxis11": {
         "anchor": "y11",
         "domain": [
          0.525,
          0.7375
         ],
         "gridcolor": "#E1E5ED",
         "showgrid": false,
         "tickfont": {
          "color": "#4D5663"
         },
         "title": {
          "font": {
           "color": "#4D5663"
          },
          "text": ""
         },
         "zerolinecolor": "#E1E5ED"
        },
        "xaxis12": {
         "anchor": "y12",
         "domain": [
          0.7875,
          1
         ],
         "gridcolor": "#E1E5ED",
         "showgrid": false,
         "tickfont": {
          "color": "#4D5663"
         },
         "title": {
          "font": {
           "color": "#4D5663"
          },
          "text": ""
         },
         "zerolinecolor": "#E1E5ED"
        },
        "xaxis13": {
         "anchor": "y13",
         "domain": [
          0,
          0.2125
         ],
         "gridcolor": "#E1E5ED",
         "showgrid": false,
         "tickfont": {
          "color": "#4D5663"
         },
         "title": {
          "font": {
           "color": "#4D5663"
          },
          "text": ""
         },
         "zerolinecolor": "#E1E5ED"
        },
        "xaxis14": {
         "anchor": "y14",
         "domain": [
          0.2625,
          0.475
         ],
         "gridcolor": "#E1E5ED",
         "showgrid": false,
         "tickfont": {
          "color": "#4D5663"
         },
         "title": {
          "font": {
           "color": "#4D5663"
          },
          "text": ""
         },
         "zerolinecolor": "#E1E5ED"
        },
        "xaxis15": {
         "anchor": "y15",
         "domain": [
          0.525,
          0.7375
         ],
         "gridcolor": "#E1E5ED",
         "showgrid": false,
         "tickfont": {
          "color": "#4D5663"
         },
         "title": {
          "font": {
           "color": "#4D5663"
          },
          "text": ""
         },
         "zerolinecolor": "#E1E5ED"
        },
        "xaxis16": {
         "anchor": "y16",
         "domain": [
          0.7875,
          1
         ],
         "gridcolor": "#E1E5ED",
         "showgrid": false,
         "tickfont": {
          "color": "#4D5663"
         },
         "title": {
          "font": {
           "color": "#4D5663"
          },
          "text": ""
         },
         "zerolinecolor": "#E1E5ED"
        },
        "xaxis2": {
         "anchor": "y2",
         "domain": [
          0.2625,
          0.475
         ],
         "gridcolor": "#E1E5ED",
         "showgrid": false,
         "tickfont": {
          "color": "#4D5663"
         },
         "title": {
          "font": {
           "color": "#4D5663"
          },
          "text": ""
         },
         "zerolinecolor": "#E1E5ED"
        },
        "xaxis3": {
         "anchor": "y3",
         "domain": [
          0.525,
          0.7375
         ],
         "gridcolor": "#E1E5ED",
         "showgrid": false,
         "tickfont": {
          "color": "#4D5663"
         },
         "title": {
          "font": {
           "color": "#4D5663"
          },
          "text": ""
         },
         "zerolinecolor": "#E1E5ED"
        },
        "xaxis4": {
         "anchor": "y4",
         "domain": [
          0.7875,
          1
         ],
         "gridcolor": "#E1E5ED",
         "showgrid": false,
         "tickfont": {
          "color": "#4D5663"
         },
         "title": {
          "font": {
           "color": "#4D5663"
          },
          "text": ""
         },
         "zerolinecolor": "#E1E5ED"
        },
        "xaxis5": {
         "anchor": "y5",
         "domain": [
          0,
          0.2125
         ],
         "gridcolor": "#E1E5ED",
         "showgrid": false,
         "tickfont": {
          "color": "#4D5663"
         },
         "title": {
          "font": {
           "color": "#4D5663"
          },
          "text": ""
         },
         "zerolinecolor": "#E1E5ED"
        },
        "xaxis6": {
         "anchor": "y6",
         "domain": [
          0.2625,
          0.475
         ],
         "gridcolor": "#E1E5ED",
         "showgrid": false,
         "tickfont": {
          "color": "#4D5663"
         },
         "title": {
          "font": {
           "color": "#4D5663"
          },
          "text": ""
         },
         "zerolinecolor": "#E1E5ED"
        },
        "xaxis7": {
         "anchor": "y7",
         "domain": [
          0.525,
          0.7375
         ],
         "gridcolor": "#E1E5ED",
         "showgrid": false,
         "tickfont": {
          "color": "#4D5663"
         },
         "title": {
          "font": {
           "color": "#4D5663"
          },
          "text": ""
         },
         "zerolinecolor": "#E1E5ED"
        },
        "xaxis8": {
         "anchor": "y8",
         "domain": [
          0.7875,
          1
         ],
         "gridcolor": "#E1E5ED",
         "showgrid": false,
         "tickfont": {
          "color": "#4D5663"
         },
         "title": {
          "font": {
           "color": "#4D5663"
          },
          "text": ""
         },
         "zerolinecolor": "#E1E5ED"
        },
        "xaxis9": {
         "anchor": "y9",
         "domain": [
          0,
          0.2125
         ],
         "gridcolor": "#E1E5ED",
         "showgrid": false,
         "tickfont": {
          "color": "#4D5663"
         },
         "title": {
          "font": {
           "color": "#4D5663"
          },
          "text": ""
         },
         "zerolinecolor": "#E1E5ED"
        },
        "yaxis": {
         "anchor": "x",
         "domain": [
          0.8025,
          1
         ],
         "gridcolor": "#E1E5ED",
         "showgrid": false,
         "tickfont": {
          "color": "#4D5663"
         },
         "title": {
          "font": {
           "color": "#4D5663"
          },
          "text": ""
         },
         "zerolinecolor": "#E1E5ED"
        },
        "yaxis10": {
         "anchor": "x10",
         "domain": [
          0.2675,
          0.465
         ],
         "gridcolor": "#E1E5ED",
         "showgrid": false,
         "tickfont": {
          "color": "#4D5663"
         },
         "title": {
          "font": {
           "color": "#4D5663"
          },
          "text": ""
         },
         "zerolinecolor": "#E1E5ED"
        },
        "yaxis11": {
         "anchor": "x11",
         "domain": [
          0.2675,
          0.465
         ],
         "gridcolor": "#E1E5ED",
         "showgrid": false,
         "tickfont": {
          "color": "#4D5663"
         },
         "title": {
          "font": {
           "color": "#4D5663"
          },
          "text": ""
         },
         "zerolinecolor": "#E1E5ED"
        },
        "yaxis12": {
         "anchor": "x12",
         "domain": [
          0.2675,
          0.465
         ],
         "gridcolor": "#E1E5ED",
         "showgrid": false,
         "tickfont": {
          "color": "#4D5663"
         },
         "title": {
          "font": {
           "color": "#4D5663"
          },
          "text": ""
         },
         "zerolinecolor": "#E1E5ED"
        },
        "yaxis13": {
         "anchor": "x13",
         "domain": [
          0,
          0.1975
         ],
         "gridcolor": "#E1E5ED",
         "showgrid": false,
         "tickfont": {
          "color": "#4D5663"
         },
         "title": {
          "font": {
           "color": "#4D5663"
          },
          "text": ""
         },
         "zerolinecolor": "#E1E5ED"
        },
        "yaxis14": {
         "anchor": "x14",
         "domain": [
          0,
          0.1975
         ],
         "gridcolor": "#E1E5ED",
         "showgrid": false,
         "tickfont": {
          "color": "#4D5663"
         },
         "title": {
          "font": {
           "color": "#4D5663"
          },
          "text": ""
         },
         "zerolinecolor": "#E1E5ED"
        },
        "yaxis15": {
         "anchor": "x15",
         "domain": [
          0,
          0.1975
         ],
         "gridcolor": "#E1E5ED",
         "showgrid": false,
         "tickfont": {
          "color": "#4D5663"
         },
         "title": {
          "font": {
           "color": "#4D5663"
          },
          "text": ""
         },
         "zerolinecolor": "#E1E5ED"
        },
        "yaxis16": {
         "anchor": "x16",
         "domain": [
          0,
          0.1975
         ],
         "gridcolor": "#E1E5ED",
         "showgrid": false,
         "tickfont": {
          "color": "#4D5663"
         },
         "title": {
          "font": {
           "color": "#4D5663"
          },
          "text": ""
         },
         "zerolinecolor": "#E1E5ED"
        },
        "yaxis2": {
         "anchor": "x2",
         "domain": [
          0.8025,
          1
         ],
         "gridcolor": "#E1E5ED",
         "showgrid": false,
         "tickfont": {
          "color": "#4D5663"
         },
         "title": {
          "font": {
           "color": "#4D5663"
          },
          "text": ""
         },
         "zerolinecolor": "#E1E5ED"
        },
        "yaxis3": {
         "anchor": "x3",
         "domain": [
          0.8025,
          1
         ],
         "gridcolor": "#E1E5ED",
         "showgrid": false,
         "tickfont": {
          "color": "#4D5663"
         },
         "title": {
          "font": {
           "color": "#4D5663"
          },
          "text": ""
         },
         "zerolinecolor": "#E1E5ED"
        },
        "yaxis4": {
         "anchor": "x4",
         "domain": [
          0.8025,
          1
         ],
         "gridcolor": "#E1E5ED",
         "showgrid": false,
         "tickfont": {
          "color": "#4D5663"
         },
         "title": {
          "font": {
           "color": "#4D5663"
          },
          "text": ""
         },
         "zerolinecolor": "#E1E5ED"
        },
        "yaxis5": {
         "anchor": "x5",
         "domain": [
          0.535,
          0.7325
         ],
         "gridcolor": "#E1E5ED",
         "showgrid": false,
         "tickfont": {
          "color": "#4D5663"
         },
         "title": {
          "font": {
           "color": "#4D5663"
          },
          "text": ""
         },
         "zerolinecolor": "#E1E5ED"
        },
        "yaxis6": {
         "anchor": "x6",
         "domain": [
          0.535,
          0.7325
         ],
         "gridcolor": "#E1E5ED",
         "showgrid": false,
         "tickfont": {
          "color": "#4D5663"
         },
         "title": {
          "font": {
           "color": "#4D5663"
          },
          "text": ""
         },
         "zerolinecolor": "#E1E5ED"
        },
        "yaxis7": {
         "anchor": "x7",
         "domain": [
          0.535,
          0.7325
         ],
         "gridcolor": "#E1E5ED",
         "showgrid": false,
         "tickfont": {
          "color": "#4D5663"
         },
         "title": {
          "font": {
           "color": "#4D5663"
          },
          "text": ""
         },
         "zerolinecolor": "#E1E5ED"
        },
        "yaxis8": {
         "anchor": "x8",
         "domain": [
          0.535,
          0.7325
         ],
         "gridcolor": "#E1E5ED",
         "showgrid": false,
         "tickfont": {
          "color": "#4D5663"
         },
         "title": {
          "font": {
           "color": "#4D5663"
          },
          "text": ""
         },
         "zerolinecolor": "#E1E5ED"
        },
        "yaxis9": {
         "anchor": "x9",
         "domain": [
          0.2675,
          0.465
         ],
         "gridcolor": "#E1E5ED",
         "showgrid": false,
         "tickfont": {
          "color": "#4D5663"
         },
         "title": {
          "font": {
           "color": "#4D5663"
          },
          "text": ""
         },
         "zerolinecolor": "#E1E5ED"
        }
       }
      },
      "text/html": [
       "<div>                            <div id=\"b1b7e068-b03e-4f30-9771-86ff925998e1\" class=\"plotly-graph-div\" style=\"height:525px; width:100%;\"></div>            <script type=\"text/javascript\">                require([\"plotly\"], function(Plotly) {                    window.PLOTLYENV=window.PLOTLYENV || {};\n",
       "                    window.PLOTLYENV.BASE_URL='https://plot.ly';                                    if (document.getElementById(\"b1b7e068-b03e-4f30-9771-86ff925998e1\")) {                    Plotly.newPlot(                        \"b1b7e068-b03e-4f30-9771-86ff925998e1\",                        [{\"histfunc\": \"count\", \"histnorm\": \"\", \"marker\": {\"color\": \"rgba(255, 153, 51, 1.0)\", \"line\": {\"color\": \"#4D5663\", \"width\": 1.3}}, \"name\": \"A\", \"nbinsx\": 10, \"opacity\": 0.8, \"orientation\": \"v\", \"type\": \"histogram\", \"x\": [-2.5270110065280242, 1.6680174651519772, 0.45001559995548196, -0.02045562584354937, -0.04696767175551414, -0.43901181387379545, 1.7070413018056958, 0.08565188696795122, -0.3344293828596582, 0.9500404409209297, -0.21019113833514888, 0.3604224452923828, -1.11216805280219, -1.5604767575486982, 0.28660620043355134, 0.13083296630364566, 0.6822576428639039, -0.4829122357799119, -1.0615796698603883, 1.5279868368772598, 0.7273176523923723, -0.01668581955173972, -0.14431916847878662, -0.6694863923053975, -2.3470302981384954, -1.1661753763114484, -0.027495754023257737, -1.1940607139239843, 1.2022992752144077, -1.2637653296749367, 2.193581276644731, 1.5401952281442286, 1.2435478976767964, 1.1198451524009416, 0.6659197389716871, 0.9129273941343368, -1.6551091407193894, -0.2022455946334687, 1.7466718899342617, -1.0705815568121162, -0.5031411081362345, 1.4354268289538574, 0.35012433605173376, 2.276633138686141, -0.010746264868391347, -0.3368132777335987, -0.42996015575909946, -0.14383787852590885, -0.36458495384677464, 0.886255773590493, 1.2708758764720964, -0.17095937360923044, 1.7962916184698736, 0.7468575618528512, 0.27557541233497135, -0.4293600119498419, 0.39163991626736816, 0.28128110983445603, -0.5827217868530749, -0.8122462897014714, -1.4807240533031878, -1.9499612762391623, -1.0592607140515602, -1.6477046188858, 1.0012645286707358, 0.862565704579482, 0.039131466186083146, 0.6622855462079307, 0.5149700197353527, -0.6940121322135872, 0.15324988368917486, -0.5476656394961759, -0.004292537672022745, 0.7637978366095226, 0.15075134016268965, -1.210306488771418, 1.4986544939320934, 0.9920524382552748, 0.5463758713635003, 1.5976786993787182, -0.47325106610739365, -0.059765588262616895, -0.35657783893539957, 1.0761729057971934, 0.3656428099020587, 1.846283176033301, 0.5930304044860237, 0.29793987221014107, 0.8924446468847728, -0.5099299114197214, 0.917801363350686, -0.5476396165319876, 0.08810377362737165, 0.67716359658272, -1.2866001392254593, 0.3505270777704328, -0.35502740703668406, 0.3198277785003611, -1.2683305733699586, -0.8306454799809649], \"xaxis\": \"x\", \"yaxis\": \"y\"}, {\"line\": {\"color\": \"rgba(128, 128, 128, 1.0)\", \"dash\": \"solid\", \"shape\": \"linear\", \"width\": 1.3}, \"marker\": {\"size\": 2, \"symbol\": \"circle\"}, \"mode\": \"markers\", \"name\": \"A\", \"text\": \"\", \"type\": \"scatter\", \"x\": [0.6077342487016018, -0.4731893416109403, -1.3768007323560167, -1.426830575049864, 0.12874988879814375, -0.947733813933697, 0.5238344892217599, 0.4840873187211147, -0.14012108582502, -1.8873437456128668, -0.14026679486783325, 0.4586861028400738, -0.10395573252720713, 0.06140834037940289, -0.3502091575413244, -2.0090925410123672, 0.4364534526441894, 2.1817271426605065, -0.6445403959738393, 0.45419525315091375, -0.5176436627591724, 0.5329488253779412, 0.3411555558959055, 0.1950287322958298, -1.892179875114976, -0.04305897101210228, 1.026946935339796, 1.4848231767312008, -0.6055364169071535, 0.4237220678947114, 0.5388665211938162, -0.6728594434723479, -1.1915342740995833, 0.5941628508263933, -0.863275792769601, 0.047691635733050526, -0.4305545961459695, -2.2342519811712185, -0.5520756194783913, 2.397078675528769, 0.4545527413537645, -1.016763728464053, -0.6026059735096668, 0.5137861018262334, 0.5881748149974206, 1.188626116200059, -0.3169650249940472, 0.6923341698729818, -2.097714086167859, -0.5526867895889804, 0.2120071963811955, -0.6187381387292377, 0.9596534764458649, 0.032236559936918534, -1.8499788850248917, 2.503462048187462, 1.1279064832228873, -1.2725792355196437, 1.121997168063789, -0.4687798848657744, 1.5793951413013747, 2.1816459185106987, 0.46107945737165623, 0.5236098062294923, -1.1596068392298857, 0.24036944442115304, 0.6304058035738712, -1.0185978020522959, -0.15179028153027518, -0.08919393697884163, 0.7714753987146433, -0.5390364543872649, 1.920551168018313, 0.3063838030070926, -0.22397774797668304, -1.0448493502254013, -1.2544416899655373, 0.4892953069810365, 0.697919876015075, 0.6485908307169317, 0.40662451216039197, 0.5765804446501441, -0.44768295089216714, -0.738650617470391, 0.24395544214563125, -1.5275755299976472, -0.23712520374440696, -0.45122748413867386, 0.5496027629689889, 1.5441391625326482, 0.9254372535361087, -0.5676555714360765, 1.7135407953393513, 2.7406862509354215, 0.7133139060010656, -0.1828690990490576, 0.24013813467922385, -1.2477864222587203, 0.6116994227216244, 0.9070783540161795], \"xaxis\": \"x2\", \"y\": [-2.5270110065280242, 1.6680174651519772, 0.45001559995548196, -0.02045562584354937, -0.04696767175551414, -0.43901181387379545, 1.7070413018056958, 0.08565188696795122, -0.3344293828596582, 0.9500404409209297, -0.21019113833514888, 0.3604224452923828, -1.11216805280219, -1.5604767575486982, 0.28660620043355134, 0.13083296630364566, 0.6822576428639039, -0.4829122357799119, -1.0615796698603883, 1.5279868368772598, 0.7273176523923723, -0.01668581955173972, -0.14431916847878662, -0.6694863923053975, -2.3470302981384954, -1.1661753763114484, -0.027495754023257737, -1.1940607139239843, 1.2022992752144077, -1.2637653296749367, 2.193581276644731, 1.5401952281442286, 1.2435478976767964, 1.1198451524009416, 0.6659197389716871, 0.9129273941343368, -1.6551091407193894, -0.2022455946334687, 1.7466718899342617, -1.0705815568121162, -0.5031411081362345, 1.4354268289538574, 0.35012433605173376, 2.276633138686141, -0.010746264868391347, -0.3368132777335987, -0.42996015575909946, -0.14383787852590885, -0.36458495384677464, 0.886255773590493, 1.2708758764720964, -0.17095937360923044, 1.7962916184698736, 0.7468575618528512, 0.27557541233497135, -0.4293600119498419, 0.39163991626736816, 0.28128110983445603, -0.5827217868530749, -0.8122462897014714, -1.4807240533031878, -1.9499612762391623, -1.0592607140515602, -1.6477046188858, 1.0012645286707358, 0.862565704579482, 0.039131466186083146, 0.6622855462079307, 0.5149700197353527, -0.6940121322135872, 0.15324988368917486, -0.5476656394961759, -0.004292537672022745, 0.7637978366095226, 0.15075134016268965, -1.210306488771418, 1.4986544939320934, 0.9920524382552748, 0.5463758713635003, 1.5976786993787182, -0.47325106610739365, -0.059765588262616895, -0.35657783893539957, 1.0761729057971934, 0.3656428099020587, 1.846283176033301, 0.5930304044860237, 0.29793987221014107, 0.8924446468847728, -0.5099299114197214, 0.917801363350686, -0.5476396165319876, 0.08810377362737165, 0.67716359658272, -1.2866001392254593, 0.3505270777704328, -0.35502740703668406, 0.3198277785003611, -1.2683305733699586, -0.8306454799809649], \"yaxis\": \"y2\"}, {\"line\": {\"color\": \"rgba(128, 128, 128, 1.0)\", \"dash\": \"solid\", \"shape\": \"linear\", \"width\": 1.3}, \"marker\": {\"size\": 2, \"symbol\": \"circle\"}, \"mode\": \"markers\", \"name\": \"A\", \"text\": \"\", \"type\": \"scatter\", \"x\": [-0.02492284918056258, -0.785885414293277, -0.447229482546522, -1.6298304748926844, 0.6876000537914739, -0.749689963784534, 0.9704678601740873, -1.7337017277345714, 0.7373206301508844, -0.3437410268666627, -0.35762179688757945, 1.6322614742165158, -0.6525220193174637, 0.35403222987831917, 1.2678106373747828, 0.29191268386959235, -0.02921807293193676, -0.6706873197551385, 1.9524141182982033, 0.6948717069327361, -1.980328499134693, 2.101839314514126, -0.6193057251619556, 0.525430772262155, 1.3186037030791116, 0.8841393660263471, 0.36215175945543854, 0.9365116377516586, 1.0541664066448242, 0.22659643518750247, -0.39626263652063987, -0.8130745851655512, 0.6107395943910803, -0.564996329346102, 0.5372034452606061, 0.3994888927388636, -0.655969115122046, -0.41395228963748426, 0.5030972184697315, 1.6436972767347295, 2.259717250202777, 1.4678478036901408, -0.7372553149733171, 1.309642380097827, 0.5504669366195879, -1.5765610100084129, 0.29404125013268295, -1.416100641829991, 0.669027294488854, 1.776246473907867, -1.3256562548303101, -0.08739898929387825, 1.361702586056903, -1.2196014729434574, 0.5654916409046004, -0.8729915405430029, -0.10793303117085971, -0.8374428855918272, 0.16970141537157785, -0.20932435081978626, 0.986152638141033, -1.4000278631050525, 0.8579515821935914, 0.7553179434242713, 1.1446813630227082, -0.07234403671841592, -1.5027951228313337, -2.5795719674925066, -0.03146470679473467, 2.105159750957102, 0.4480068244381329, -0.7735884868584423, 0.7925044443949859, -0.2966469904715457, -0.04191030285426025, -0.3998131385257116, -0.3419672765803134, -0.7590982509812559, 0.3977956961409181, -0.12667280976923959, 0.6785429992091369, -1.158746917724156, -1.6111634122601697, -0.025936575661406166, -1.5689785986134264, -1.3081674233603606, -0.21812424767131966, -0.37845267202672445, 0.13310520317550179, 0.29362048908465244, 0.9077074095476576, 0.4155632538250987, -0.8037841833084913, -0.46914642334271417, 0.3955242551946375, -0.7106748074397333, -0.8495205167994131, 0.04779134775621538, -0.8979601094652576, 1.5415262408384887], \"xaxis\": \"x3\", \"y\": [-2.5270110065280242, 1.6680174651519772, 0.45001559995548196, -0.02045562584354937, -0.04696767175551414, -0.43901181387379545, 1.7070413018056958, 0.08565188696795122, -0.3344293828596582, 0.9500404409209297, -0.21019113833514888, 0.3604224452923828, -1.11216805280219, -1.5604767575486982, 0.28660620043355134, 0.13083296630364566, 0.6822576428639039, -0.4829122357799119, -1.0615796698603883, 1.5279868368772598, 0.7273176523923723, -0.01668581955173972, -0.14431916847878662, -0.6694863923053975, -2.3470302981384954, -1.1661753763114484, -0.027495754023257737, -1.1940607139239843, 1.2022992752144077, -1.2637653296749367, 2.193581276644731, 1.5401952281442286, 1.2435478976767964, 1.1198451524009416, 0.6659197389716871, 0.9129273941343368, -1.6551091407193894, -0.2022455946334687, 1.7466718899342617, -1.0705815568121162, -0.5031411081362345, 1.4354268289538574, 0.35012433605173376, 2.276633138686141, -0.010746264868391347, -0.3368132777335987, -0.42996015575909946, -0.14383787852590885, -0.36458495384677464, 0.886255773590493, 1.2708758764720964, -0.17095937360923044, 1.7962916184698736, 0.7468575618528512, 0.27557541233497135, -0.4293600119498419, 0.39163991626736816, 0.28128110983445603, -0.5827217868530749, -0.8122462897014714, -1.4807240533031878, -1.9499612762391623, -1.0592607140515602, -1.6477046188858, 1.0012645286707358, 0.862565704579482, 0.039131466186083146, 0.6622855462079307, 0.5149700197353527, -0.6940121322135872, 0.15324988368917486, -0.5476656394961759, -0.004292537672022745, 0.7637978366095226, 0.15075134016268965, -1.210306488771418, 1.4986544939320934, 0.9920524382552748, 0.5463758713635003, 1.5976786993787182, -0.47325106610739365, -0.059765588262616895, -0.35657783893539957, 1.0761729057971934, 0.3656428099020587, 1.846283176033301, 0.5930304044860237, 0.29793987221014107, 0.8924446468847728, -0.5099299114197214, 0.917801363350686, -0.5476396165319876, 0.08810377362737165, 0.67716359658272, -1.2866001392254593, 0.3505270777704328, -0.35502740703668406, 0.3198277785003611, -1.2683305733699586, -0.8306454799809649], \"yaxis\": \"y3\"}, {\"line\": {\"color\": \"rgba(128, 128, 128, 1.0)\", \"dash\": \"solid\", \"shape\": \"linear\", \"width\": 1.3}, \"marker\": {\"size\": 2, \"symbol\": \"circle\"}, \"mode\": \"markers\", \"name\": \"A\", \"text\": \"\", \"type\": \"scatter\", \"x\": [-0.7227635303048442, -0.030580047913744548, -0.7786250871897227, -0.07002289387692275, -1.6503143009114278, -0.6019503568033155, 0.689367224972717, -0.3877280867564857, -0.015288321546338423, -0.5796264603315621, 0.8737467827441685, 0.344085650230088, 1.5200893065484695, 0.8435124810167771, 0.4904691044047342, 0.4499014043870365, -0.3667676153770925, 0.06310571872616824, -0.9911360291876661, 0.7287371614113567, -1.1489813712453352, 1.4805816518545971, -0.055427879222772564, -0.6703690072744609, 2.2129297634784098, 0.13269001550477982, -0.059211221133715485, 0.6695006437104821, -0.21119595592938, 0.5963572619382754, 0.6172415393239765, -0.3626507455852367, -1.5351632003837845, 0.5935232687518087, -0.4134200825043699, 0.6093343916517958, 0.9905684369974627, -0.7784670260629231, 0.0006860441181422818, 1.0637100577304208, -0.7957845232156112, -1.3720971642495983, 0.11887873486826661, 1.0193379646066532, 0.27400071154764105, -0.688248946870881, 0.07779762427772996, 1.6162557931269943, -0.5123287853786016, -0.7272057862823779, 0.7184153328238415, -0.7779604328036454, 1.3550171043138244, -0.8126305806786144, 0.9538396283965909, 0.4767895654831986, 0.08373612172610065, -1.858855927033377, -0.7145361377375852, 0.6310449796254276, -0.6710056881714914, 0.49394243311422453, -0.6578062688574469, -0.2980022738270043, 0.7314520119135556, 0.49893085913738244, -0.49831832883898947, 2.6348125556443893, 1.1167186149274897, -0.9971330714182465, 0.18102522667426926, -0.5062412236688921, 0.5752646963201515, 1.5530067376116647, 0.22563496666074, -1.9050058515269435, -0.9641135499209897, -0.37506502089516414, -1.936170792374123, -0.4545813060907563, 0.2785330127367757, -2.1468314274100706, -0.004939236418855568, -0.37863524303675955, -0.1455415176587356, 1.1065197520828338, 0.6190207410502039, -0.4074570589292243, -1.0307080391496815, 2.744791289260376, -0.13608064953886567, 0.11011507530831016, 0.5568764690248106, 0.4580131321612788, -1.39486763933591, -0.06823944857408382, -0.6401313597409217, -0.8076390953648548, 0.18809203651840606, -1.718618261435087], \"xaxis\": \"x4\", \"y\": [-2.5270110065280242, 1.6680174651519772, 0.45001559995548196, -0.02045562584354937, -0.04696767175551414, -0.43901181387379545, 1.7070413018056958, 0.08565188696795122, -0.3344293828596582, 0.9500404409209297, -0.21019113833514888, 0.3604224452923828, -1.11216805280219, -1.5604767575486982, 0.28660620043355134, 0.13083296630364566, 0.6822576428639039, -0.4829122357799119, -1.0615796698603883, 1.5279868368772598, 0.7273176523923723, -0.01668581955173972, -0.14431916847878662, -0.6694863923053975, -2.3470302981384954, -1.1661753763114484, -0.027495754023257737, -1.1940607139239843, 1.2022992752144077, -1.2637653296749367, 2.193581276644731, 1.5401952281442286, 1.2435478976767964, 1.1198451524009416, 0.6659197389716871, 0.9129273941343368, -1.6551091407193894, -0.2022455946334687, 1.7466718899342617, -1.0705815568121162, -0.5031411081362345, 1.4354268289538574, 0.35012433605173376, 2.276633138686141, -0.010746264868391347, -0.3368132777335987, -0.42996015575909946, -0.14383787852590885, -0.36458495384677464, 0.886255773590493, 1.2708758764720964, -0.17095937360923044, 1.7962916184698736, 0.7468575618528512, 0.27557541233497135, -0.4293600119498419, 0.39163991626736816, 0.28128110983445603, -0.5827217868530749, -0.8122462897014714, -1.4807240533031878, -1.9499612762391623, -1.0592607140515602, -1.6477046188858, 1.0012645286707358, 0.862565704579482, 0.039131466186083146, 0.6622855462079307, 0.5149700197353527, -0.6940121322135872, 0.15324988368917486, -0.5476656394961759, -0.004292537672022745, 0.7637978366095226, 0.15075134016268965, -1.210306488771418, 1.4986544939320934, 0.9920524382552748, 0.5463758713635003, 1.5976786993787182, -0.47325106610739365, -0.059765588262616895, -0.35657783893539957, 1.0761729057971934, 0.3656428099020587, 1.846283176033301, 0.5930304044860237, 0.29793987221014107, 0.8924446468847728, -0.5099299114197214, 0.917801363350686, -0.5476396165319876, 0.08810377362737165, 0.67716359658272, -1.2866001392254593, 0.3505270777704328, -0.35502740703668406, 0.3198277785003611, -1.2683305733699586, -0.8306454799809649], \"yaxis\": \"y4\"}, {\"line\": {\"color\": \"rgba(128, 128, 128, 1.0)\", \"dash\": \"solid\", \"shape\": \"linear\", \"width\": 1.3}, \"marker\": {\"size\": 2, \"symbol\": \"circle\"}, \"mode\": \"markers\", \"name\": \"B\", \"text\": \"\", \"type\": \"scatter\", \"x\": [-2.5270110065280242, 1.6680174651519772, 0.45001559995548196, -0.02045562584354937, -0.04696767175551414, -0.43901181387379545, 1.7070413018056958, 0.08565188696795122, -0.3344293828596582, 0.9500404409209297, -0.21019113833514888, 0.3604224452923828, -1.11216805280219, -1.5604767575486982, 0.28660620043355134, 0.13083296630364566, 0.6822576428639039, -0.4829122357799119, -1.0615796698603883, 1.5279868368772598, 0.7273176523923723, -0.01668581955173972, -0.14431916847878662, -0.6694863923053975, -2.3470302981384954, -1.1661753763114484, -0.027495754023257737, -1.1940607139239843, 1.2022992752144077, -1.2637653296749367, 2.193581276644731, 1.5401952281442286, 1.2435478976767964, 1.1198451524009416, 0.6659197389716871, 0.9129273941343368, -1.6551091407193894, -0.2022455946334687, 1.7466718899342617, -1.0705815568121162, -0.5031411081362345, 1.4354268289538574, 0.35012433605173376, 2.276633138686141, -0.010746264868391347, -0.3368132777335987, -0.42996015575909946, -0.14383787852590885, -0.36458495384677464, 0.886255773590493, 1.2708758764720964, -0.17095937360923044, 1.7962916184698736, 0.7468575618528512, 0.27557541233497135, -0.4293600119498419, 0.39163991626736816, 0.28128110983445603, -0.5827217868530749, -0.8122462897014714, -1.4807240533031878, -1.9499612762391623, -1.0592607140515602, -1.6477046188858, 1.0012645286707358, 0.862565704579482, 0.039131466186083146, 0.6622855462079307, 0.5149700197353527, -0.6940121322135872, 0.15324988368917486, -0.5476656394961759, -0.004292537672022745, 0.7637978366095226, 0.15075134016268965, -1.210306488771418, 1.4986544939320934, 0.9920524382552748, 0.5463758713635003, 1.5976786993787182, -0.47325106610739365, -0.059765588262616895, -0.35657783893539957, 1.0761729057971934, 0.3656428099020587, 1.846283176033301, 0.5930304044860237, 0.29793987221014107, 0.8924446468847728, -0.5099299114197214, 0.917801363350686, -0.5476396165319876, 0.08810377362737165, 0.67716359658272, -1.2866001392254593, 0.3505270777704328, -0.35502740703668406, 0.3198277785003611, -1.2683305733699586, -0.8306454799809649], \"xaxis\": \"x5\", \"y\": [0.6077342487016018, -0.4731893416109403, -1.3768007323560167, -1.426830575049864, 0.12874988879814375, -0.947733813933697, 0.5238344892217599, 0.4840873187211147, -0.14012108582502, -1.8873437456128668, -0.14026679486783325, 0.4586861028400738, -0.10395573252720713, 0.06140834037940289, -0.3502091575413244, -2.0090925410123672, 0.4364534526441894, 2.1817271426605065, -0.6445403959738393, 0.45419525315091375, -0.5176436627591724, 0.5329488253779412, 0.3411555558959055, 0.1950287322958298, -1.892179875114976, -0.04305897101210228, 1.026946935339796, 1.4848231767312008, -0.6055364169071535, 0.4237220678947114, 0.5388665211938162, -0.6728594434723479, -1.1915342740995833, 0.5941628508263933, -0.863275792769601, 0.047691635733050526, -0.4305545961459695, -2.2342519811712185, -0.5520756194783913, 2.397078675528769, 0.4545527413537645, -1.016763728464053, -0.6026059735096668, 0.5137861018262334, 0.5881748149974206, 1.188626116200059, -0.3169650249940472, 0.6923341698729818, -2.097714086167859, -0.5526867895889804, 0.2120071963811955, -0.6187381387292377, 0.9596534764458649, 0.032236559936918534, -1.8499788850248917, 2.503462048187462, 1.1279064832228873, -1.2725792355196437, 1.121997168063789, -0.4687798848657744, 1.5793951413013747, 2.1816459185106987, 0.46107945737165623, 0.5236098062294923, -1.1596068392298857, 0.24036944442115304, 0.6304058035738712, -1.0185978020522959, -0.15179028153027518, -0.08919393697884163, 0.7714753987146433, -0.5390364543872649, 1.920551168018313, 0.3063838030070926, -0.22397774797668304, -1.0448493502254013, -1.2544416899655373, 0.4892953069810365, 0.697919876015075, 0.6485908307169317, 0.40662451216039197, 0.5765804446501441, -0.44768295089216714, -0.738650617470391, 0.24395544214563125, -1.5275755299976472, -0.23712520374440696, -0.45122748413867386, 0.5496027629689889, 1.5441391625326482, 0.9254372535361087, -0.5676555714360765, 1.7135407953393513, 2.7406862509354215, 0.7133139060010656, -0.1828690990490576, 0.24013813467922385, -1.2477864222587203, 0.6116994227216244, 0.9070783540161795], \"yaxis\": \"y5\"}, {\"histfunc\": \"count\", \"histnorm\": \"\", \"marker\": {\"color\": \"rgba(55, 128, 191, 1.0)\", \"line\": {\"color\": \"#4D5663\", \"width\": 1.3}}, \"name\": \"B\", \"nbinsx\": 10, \"opacity\": 0.8, \"orientation\": \"v\", \"type\": \"histogram\", \"x\": [0.6077342487016018, -0.4731893416109403, -1.3768007323560167, -1.426830575049864, 0.12874988879814375, -0.947733813933697, 0.5238344892217599, 0.4840873187211147, -0.14012108582502, -1.8873437456128668, -0.14026679486783325, 0.4586861028400738, -0.10395573252720713, 0.06140834037940289, -0.3502091575413244, -2.0090925410123672, 0.4364534526441894, 2.1817271426605065, -0.6445403959738393, 0.45419525315091375, -0.5176436627591724, 0.5329488253779412, 0.3411555558959055, 0.1950287322958298, -1.892179875114976, -0.04305897101210228, 1.026946935339796, 1.4848231767312008, -0.6055364169071535, 0.4237220678947114, 0.5388665211938162, -0.6728594434723479, -1.1915342740995833, 0.5941628508263933, -0.863275792769601, 0.047691635733050526, -0.4305545961459695, -2.2342519811712185, -0.5520756194783913, 2.397078675528769, 0.4545527413537645, -1.016763728464053, -0.6026059735096668, 0.5137861018262334, 0.5881748149974206, 1.188626116200059, -0.3169650249940472, 0.6923341698729818, -2.097714086167859, -0.5526867895889804, 0.2120071963811955, -0.6187381387292377, 0.9596534764458649, 0.032236559936918534, -1.8499788850248917, 2.503462048187462, 1.1279064832228873, -1.2725792355196437, 1.121997168063789, -0.4687798848657744, 1.5793951413013747, 2.1816459185106987, 0.46107945737165623, 0.5236098062294923, -1.1596068392298857, 0.24036944442115304, 0.6304058035738712, -1.0185978020522959, -0.15179028153027518, -0.08919393697884163, 0.7714753987146433, -0.5390364543872649, 1.920551168018313, 0.3063838030070926, -0.22397774797668304, -1.0448493502254013, -1.2544416899655373, 0.4892953069810365, 0.697919876015075, 0.6485908307169317, 0.40662451216039197, 0.5765804446501441, -0.44768295089216714, -0.738650617470391, 0.24395544214563125, -1.5275755299976472, -0.23712520374440696, -0.45122748413867386, 0.5496027629689889, 1.5441391625326482, 0.9254372535361087, -0.5676555714360765, 1.7135407953393513, 2.7406862509354215, 0.7133139060010656, -0.1828690990490576, 0.24013813467922385, -1.2477864222587203, 0.6116994227216244, 0.9070783540161795], \"xaxis\": \"x6\", \"yaxis\": \"y6\"}, {\"line\": {\"color\": \"rgba(128, 128, 128, 1.0)\", \"dash\": \"solid\", \"shape\": \"linear\", \"width\": 1.3}, \"marker\": {\"size\": 2, \"symbol\": \"circle\"}, \"mode\": \"markers\", \"name\": \"B\", \"text\": \"\", \"type\": \"scatter\", \"x\": [-0.02492284918056258, -0.785885414293277, -0.447229482546522, -1.6298304748926844, 0.6876000537914739, -0.749689963784534, 0.9704678601740873, -1.7337017277345714, 0.7373206301508844, -0.3437410268666627, -0.35762179688757945, 1.6322614742165158, -0.6525220193174637, 0.35403222987831917, 1.2678106373747828, 0.29191268386959235, -0.02921807293193676, -0.6706873197551385, 1.9524141182982033, 0.6948717069327361, -1.980328499134693, 2.101839314514126, -0.6193057251619556, 0.525430772262155, 1.3186037030791116, 0.8841393660263471, 0.36215175945543854, 0.9365116377516586, 1.0541664066448242, 0.22659643518750247, -0.39626263652063987, -0.8130745851655512, 0.6107395943910803, -0.564996329346102, 0.5372034452606061, 0.3994888927388636, -0.655969115122046, -0.41395228963748426, 0.5030972184697315, 1.6436972767347295, 2.259717250202777, 1.4678478036901408, -0.7372553149733171, 1.309642380097827, 0.5504669366195879, -1.5765610100084129, 0.29404125013268295, -1.416100641829991, 0.669027294488854, 1.776246473907867, -1.3256562548303101, -0.08739898929387825, 1.361702586056903, -1.2196014729434574, 0.5654916409046004, -0.8729915405430029, -0.10793303117085971, -0.8374428855918272, 0.16970141537157785, -0.20932435081978626, 0.986152638141033, -1.4000278631050525, 0.8579515821935914, 0.7553179434242713, 1.1446813630227082, -0.07234403671841592, -1.5027951228313337, -2.5795719674925066, -0.03146470679473467, 2.105159750957102, 0.4480068244381329, -0.7735884868584423, 0.7925044443949859, -0.2966469904715457, -0.04191030285426025, -0.3998131385257116, -0.3419672765803134, -0.7590982509812559, 0.3977956961409181, -0.12667280976923959, 0.6785429992091369, -1.158746917724156, -1.6111634122601697, -0.025936575661406166, -1.5689785986134264, -1.3081674233603606, -0.21812424767131966, -0.37845267202672445, 0.13310520317550179, 0.29362048908465244, 0.9077074095476576, 0.4155632538250987, -0.8037841833084913, -0.46914642334271417, 0.3955242551946375, -0.7106748074397333, -0.8495205167994131, 0.04779134775621538, -0.8979601094652576, 1.5415262408384887], \"xaxis\": \"x7\", \"y\": [0.6077342487016018, -0.4731893416109403, -1.3768007323560167, -1.426830575049864, 0.12874988879814375, -0.947733813933697, 0.5238344892217599, 0.4840873187211147, -0.14012108582502, -1.8873437456128668, -0.14026679486783325, 0.4586861028400738, -0.10395573252720713, 0.06140834037940289, -0.3502091575413244, -2.0090925410123672, 0.4364534526441894, 2.1817271426605065, -0.6445403959738393, 0.45419525315091375, -0.5176436627591724, 0.5329488253779412, 0.3411555558959055, 0.1950287322958298, -1.892179875114976, -0.04305897101210228, 1.026946935339796, 1.4848231767312008, -0.6055364169071535, 0.4237220678947114, 0.5388665211938162, -0.6728594434723479, -1.1915342740995833, 0.5941628508263933, -0.863275792769601, 0.047691635733050526, -0.4305545961459695, -2.2342519811712185, -0.5520756194783913, 2.397078675528769, 0.4545527413537645, -1.016763728464053, -0.6026059735096668, 0.5137861018262334, 0.5881748149974206, 1.188626116200059, -0.3169650249940472, 0.6923341698729818, -2.097714086167859, -0.5526867895889804, 0.2120071963811955, -0.6187381387292377, 0.9596534764458649, 0.032236559936918534, -1.8499788850248917, 2.503462048187462, 1.1279064832228873, -1.2725792355196437, 1.121997168063789, -0.4687798848657744, 1.5793951413013747, 2.1816459185106987, 0.46107945737165623, 0.5236098062294923, -1.1596068392298857, 0.24036944442115304, 0.6304058035738712, -1.0185978020522959, -0.15179028153027518, -0.08919393697884163, 0.7714753987146433, -0.5390364543872649, 1.920551168018313, 0.3063838030070926, -0.22397774797668304, -1.0448493502254013, -1.2544416899655373, 0.4892953069810365, 0.697919876015075, 0.6485908307169317, 0.40662451216039197, 0.5765804446501441, -0.44768295089216714, -0.738650617470391, 0.24395544214563125, -1.5275755299976472, -0.23712520374440696, -0.45122748413867386, 0.5496027629689889, 1.5441391625326482, 0.9254372535361087, -0.5676555714360765, 1.7135407953393513, 2.7406862509354215, 0.7133139060010656, -0.1828690990490576, 0.24013813467922385, -1.2477864222587203, 0.6116994227216244, 0.9070783540161795], \"yaxis\": \"y7\"}, {\"line\": {\"color\": \"rgba(128, 128, 128, 1.0)\", \"dash\": \"solid\", \"shape\": \"linear\", \"width\": 1.3}, \"marker\": {\"size\": 2, \"symbol\": \"circle\"}, \"mode\": \"markers\", \"name\": \"B\", \"text\": \"\", \"type\": \"scatter\", \"x\": [-0.7227635303048442, -0.030580047913744548, -0.7786250871897227, -0.07002289387692275, -1.6503143009114278, -0.6019503568033155, 0.689367224972717, -0.3877280867564857, -0.015288321546338423, -0.5796264603315621, 0.8737467827441685, 0.344085650230088, 1.5200893065484695, 0.8435124810167771, 0.4904691044047342, 0.4499014043870365, -0.3667676153770925, 0.06310571872616824, -0.9911360291876661, 0.7287371614113567, -1.1489813712453352, 1.4805816518545971, -0.055427879222772564, -0.6703690072744609, 2.2129297634784098, 0.13269001550477982, -0.059211221133715485, 0.6695006437104821, -0.21119595592938, 0.5963572619382754, 0.6172415393239765, -0.3626507455852367, -1.5351632003837845, 0.5935232687518087, -0.4134200825043699, 0.6093343916517958, 0.9905684369974627, -0.7784670260629231, 0.0006860441181422818, 1.0637100577304208, -0.7957845232156112, -1.3720971642495983, 0.11887873486826661, 1.0193379646066532, 0.27400071154764105, -0.688248946870881, 0.07779762427772996, 1.6162557931269943, -0.5123287853786016, -0.7272057862823779, 0.7184153328238415, -0.7779604328036454, 1.3550171043138244, -0.8126305806786144, 0.9538396283965909, 0.4767895654831986, 0.08373612172610065, -1.858855927033377, -0.7145361377375852, 0.6310449796254276, -0.6710056881714914, 0.49394243311422453, -0.6578062688574469, -0.2980022738270043, 0.7314520119135556, 0.49893085913738244, -0.49831832883898947, 2.6348125556443893, 1.1167186149274897, -0.9971330714182465, 0.18102522667426926, -0.5062412236688921, 0.5752646963201515, 1.5530067376116647, 0.22563496666074, -1.9050058515269435, -0.9641135499209897, -0.37506502089516414, -1.936170792374123, -0.4545813060907563, 0.2785330127367757, -2.1468314274100706, -0.004939236418855568, -0.37863524303675955, -0.1455415176587356, 1.1065197520828338, 0.6190207410502039, -0.4074570589292243, -1.0307080391496815, 2.744791289260376, -0.13608064953886567, 0.11011507530831016, 0.5568764690248106, 0.4580131321612788, -1.39486763933591, -0.06823944857408382, -0.6401313597409217, -0.8076390953648548, 0.18809203651840606, -1.718618261435087], \"xaxis\": \"x8\", \"y\": [0.6077342487016018, -0.4731893416109403, -1.3768007323560167, -1.426830575049864, 0.12874988879814375, -0.947733813933697, 0.5238344892217599, 0.4840873187211147, -0.14012108582502, -1.8873437456128668, -0.14026679486783325, 0.4586861028400738, -0.10395573252720713, 0.06140834037940289, -0.3502091575413244, -2.0090925410123672, 0.4364534526441894, 2.1817271426605065, -0.6445403959738393, 0.45419525315091375, -0.5176436627591724, 0.5329488253779412, 0.3411555558959055, 0.1950287322958298, -1.892179875114976, -0.04305897101210228, 1.026946935339796, 1.4848231767312008, -0.6055364169071535, 0.4237220678947114, 0.5388665211938162, -0.6728594434723479, -1.1915342740995833, 0.5941628508263933, -0.863275792769601, 0.047691635733050526, -0.4305545961459695, -2.2342519811712185, -0.5520756194783913, 2.397078675528769, 0.4545527413537645, -1.016763728464053, -0.6026059735096668, 0.5137861018262334, 0.5881748149974206, 1.188626116200059, -0.3169650249940472, 0.6923341698729818, -2.097714086167859, -0.5526867895889804, 0.2120071963811955, -0.6187381387292377, 0.9596534764458649, 0.032236559936918534, -1.8499788850248917, 2.503462048187462, 1.1279064832228873, -1.2725792355196437, 1.121997168063789, -0.4687798848657744, 1.5793951413013747, 2.1816459185106987, 0.46107945737165623, 0.5236098062294923, -1.1596068392298857, 0.24036944442115304, 0.6304058035738712, -1.0185978020522959, -0.15179028153027518, -0.08919393697884163, 0.7714753987146433, -0.5390364543872649, 1.920551168018313, 0.3063838030070926, -0.22397774797668304, -1.0448493502254013, -1.2544416899655373, 0.4892953069810365, 0.697919876015075, 0.6485908307169317, 0.40662451216039197, 0.5765804446501441, -0.44768295089216714, -0.738650617470391, 0.24395544214563125, -1.5275755299976472, -0.23712520374440696, -0.45122748413867386, 0.5496027629689889, 1.5441391625326482, 0.9254372535361087, -0.5676555714360765, 1.7135407953393513, 2.7406862509354215, 0.7133139060010656, -0.1828690990490576, 0.24013813467922385, -1.2477864222587203, 0.6116994227216244, 0.9070783540161795], \"yaxis\": \"y8\"}, {\"line\": {\"color\": \"rgba(128, 128, 128, 1.0)\", \"dash\": \"solid\", \"shape\": \"linear\", \"width\": 1.3}, \"marker\": {\"size\": 2, \"symbol\": \"circle\"}, \"mode\": \"markers\", \"name\": \"C\", \"text\": \"\", \"type\": \"scatter\", \"x\": [-2.5270110065280242, 1.6680174651519772, 0.45001559995548196, -0.02045562584354937, -0.04696767175551414, -0.43901181387379545, 1.7070413018056958, 0.08565188696795122, -0.3344293828596582, 0.9500404409209297, -0.21019113833514888, 0.3604224452923828, -1.11216805280219, -1.5604767575486982, 0.28660620043355134, 0.13083296630364566, 0.6822576428639039, -0.4829122357799119, -1.0615796698603883, 1.5279868368772598, 0.7273176523923723, -0.01668581955173972, -0.14431916847878662, -0.6694863923053975, -2.3470302981384954, -1.1661753763114484, -0.027495754023257737, -1.1940607139239843, 1.2022992752144077, -1.2637653296749367, 2.193581276644731, 1.5401952281442286, 1.2435478976767964, 1.1198451524009416, 0.6659197389716871, 0.9129273941343368, -1.6551091407193894, -0.2022455946334687, 1.7466718899342617, -1.0705815568121162, -0.5031411081362345, 1.4354268289538574, 0.35012433605173376, 2.276633138686141, -0.010746264868391347, -0.3368132777335987, -0.42996015575909946, -0.14383787852590885, -0.36458495384677464, 0.886255773590493, 1.2708758764720964, -0.17095937360923044, 1.7962916184698736, 0.7468575618528512, 0.27557541233497135, -0.4293600119498419, 0.39163991626736816, 0.28128110983445603, -0.5827217868530749, -0.8122462897014714, -1.4807240533031878, -1.9499612762391623, -1.0592607140515602, -1.6477046188858, 1.0012645286707358, 0.862565704579482, 0.039131466186083146, 0.6622855462079307, 0.5149700197353527, -0.6940121322135872, 0.15324988368917486, -0.5476656394961759, -0.004292537672022745, 0.7637978366095226, 0.15075134016268965, -1.210306488771418, 1.4986544939320934, 0.9920524382552748, 0.5463758713635003, 1.5976786993787182, -0.47325106610739365, -0.059765588262616895, -0.35657783893539957, 1.0761729057971934, 0.3656428099020587, 1.846283176033301, 0.5930304044860237, 0.29793987221014107, 0.8924446468847728, -0.5099299114197214, 0.917801363350686, -0.5476396165319876, 0.08810377362737165, 0.67716359658272, -1.2866001392254593, 0.3505270777704328, -0.35502740703668406, 0.3198277785003611, -1.2683305733699586, -0.8306454799809649], \"xaxis\": \"x9\", \"y\": [-0.02492284918056258, -0.785885414293277, -0.447229482546522, -1.6298304748926844, 0.6876000537914739, -0.749689963784534, 0.9704678601740873, -1.7337017277345714, 0.7373206301508844, -0.3437410268666627, -0.35762179688757945, 1.6322614742165158, -0.6525220193174637, 0.35403222987831917, 1.2678106373747828, 0.29191268386959235, -0.02921807293193676, -0.6706873197551385, 1.9524141182982033, 0.6948717069327361, -1.980328499134693, 2.101839314514126, -0.6193057251619556, 0.525430772262155, 1.3186037030791116, 0.8841393660263471, 0.36215175945543854, 0.9365116377516586, 1.0541664066448242, 0.22659643518750247, -0.39626263652063987, -0.8130745851655512, 0.6107395943910803, -0.564996329346102, 0.5372034452606061, 0.3994888927388636, -0.655969115122046, -0.41395228963748426, 0.5030972184697315, 1.6436972767347295, 2.259717250202777, 1.4678478036901408, -0.7372553149733171, 1.309642380097827, 0.5504669366195879, -1.5765610100084129, 0.29404125013268295, -1.416100641829991, 0.669027294488854, 1.776246473907867, -1.3256562548303101, -0.08739898929387825, 1.361702586056903, -1.2196014729434574, 0.5654916409046004, -0.8729915405430029, -0.10793303117085971, -0.8374428855918272, 0.16970141537157785, -0.20932435081978626, 0.986152638141033, -1.4000278631050525, 0.8579515821935914, 0.7553179434242713, 1.1446813630227082, -0.07234403671841592, -1.5027951228313337, -2.5795719674925066, -0.03146470679473467, 2.105159750957102, 0.4480068244381329, -0.7735884868584423, 0.7925044443949859, -0.2966469904715457, -0.04191030285426025, -0.3998131385257116, -0.3419672765803134, -0.7590982509812559, 0.3977956961409181, -0.12667280976923959, 0.6785429992091369, -1.158746917724156, -1.6111634122601697, -0.025936575661406166, -1.5689785986134264, -1.3081674233603606, -0.21812424767131966, -0.37845267202672445, 0.13310520317550179, 0.29362048908465244, 0.9077074095476576, 0.4155632538250987, -0.8037841833084913, -0.46914642334271417, 0.3955242551946375, -0.7106748074397333, -0.8495205167994131, 0.04779134775621538, -0.8979601094652576, 1.5415262408384887], \"yaxis\": \"y9\"}, {\"line\": {\"color\": \"rgba(128, 128, 128, 1.0)\", \"dash\": \"solid\", \"shape\": \"linear\", \"width\": 1.3}, \"marker\": {\"size\": 2, \"symbol\": \"circle\"}, \"mode\": \"markers\", \"name\": \"C\", \"text\": \"\", \"type\": \"scatter\", \"x\": [0.6077342487016018, -0.4731893416109403, -1.3768007323560167, -1.426830575049864, 0.12874988879814375, -0.947733813933697, 0.5238344892217599, 0.4840873187211147, -0.14012108582502, -1.8873437456128668, -0.14026679486783325, 0.4586861028400738, -0.10395573252720713, 0.06140834037940289, -0.3502091575413244, -2.0090925410123672, 0.4364534526441894, 2.1817271426605065, -0.6445403959738393, 0.45419525315091375, -0.5176436627591724, 0.5329488253779412, 0.3411555558959055, 0.1950287322958298, -1.892179875114976, -0.04305897101210228, 1.026946935339796, 1.4848231767312008, -0.6055364169071535, 0.4237220678947114, 0.5388665211938162, -0.6728594434723479, -1.1915342740995833, 0.5941628508263933, -0.863275792769601, 0.047691635733050526, -0.4305545961459695, -2.2342519811712185, -0.5520756194783913, 2.397078675528769, 0.4545527413537645, -1.016763728464053, -0.6026059735096668, 0.5137861018262334, 0.5881748149974206, 1.188626116200059, -0.3169650249940472, 0.6923341698729818, -2.097714086167859, -0.5526867895889804, 0.2120071963811955, -0.6187381387292377, 0.9596534764458649, 0.032236559936918534, -1.8499788850248917, 2.503462048187462, 1.1279064832228873, -1.2725792355196437, 1.121997168063789, -0.4687798848657744, 1.5793951413013747, 2.1816459185106987, 0.46107945737165623, 0.5236098062294923, -1.1596068392298857, 0.24036944442115304, 0.6304058035738712, -1.0185978020522959, -0.15179028153027518, -0.08919393697884163, 0.7714753987146433, -0.5390364543872649, 1.920551168018313, 0.3063838030070926, -0.22397774797668304, -1.0448493502254013, -1.2544416899655373, 0.4892953069810365, 0.697919876015075, 0.6485908307169317, 0.40662451216039197, 0.5765804446501441, -0.44768295089216714, -0.738650617470391, 0.24395544214563125, -1.5275755299976472, -0.23712520374440696, -0.45122748413867386, 0.5496027629689889, 1.5441391625326482, 0.9254372535361087, -0.5676555714360765, 1.7135407953393513, 2.7406862509354215, 0.7133139060010656, -0.1828690990490576, 0.24013813467922385, -1.2477864222587203, 0.6116994227216244, 0.9070783540161795], \"xaxis\": \"x10\", \"y\": [-0.02492284918056258, -0.785885414293277, -0.447229482546522, -1.6298304748926844, 0.6876000537914739, -0.749689963784534, 0.9704678601740873, -1.7337017277345714, 0.7373206301508844, -0.3437410268666627, -0.35762179688757945, 1.6322614742165158, -0.6525220193174637, 0.35403222987831917, 1.2678106373747828, 0.29191268386959235, -0.02921807293193676, -0.6706873197551385, 1.9524141182982033, 0.6948717069327361, -1.980328499134693, 2.101839314514126, -0.6193057251619556, 0.525430772262155, 1.3186037030791116, 0.8841393660263471, 0.36215175945543854, 0.9365116377516586, 1.0541664066448242, 0.22659643518750247, -0.39626263652063987, -0.8130745851655512, 0.6107395943910803, -0.564996329346102, 0.5372034452606061, 0.3994888927388636, -0.655969115122046, -0.41395228963748426, 0.5030972184697315, 1.6436972767347295, 2.259717250202777, 1.4678478036901408, -0.7372553149733171, 1.309642380097827, 0.5504669366195879, -1.5765610100084129, 0.29404125013268295, -1.416100641829991, 0.669027294488854, 1.776246473907867, -1.3256562548303101, -0.08739898929387825, 1.361702586056903, -1.2196014729434574, 0.5654916409046004, -0.8729915405430029, -0.10793303117085971, -0.8374428855918272, 0.16970141537157785, -0.20932435081978626, 0.986152638141033, -1.4000278631050525, 0.8579515821935914, 0.7553179434242713, 1.1446813630227082, -0.07234403671841592, -1.5027951228313337, -2.5795719674925066, -0.03146470679473467, 2.105159750957102, 0.4480068244381329, -0.7735884868584423, 0.7925044443949859, -0.2966469904715457, -0.04191030285426025, -0.3998131385257116, -0.3419672765803134, -0.7590982509812559, 0.3977956961409181, -0.12667280976923959, 0.6785429992091369, -1.158746917724156, -1.6111634122601697, -0.025936575661406166, -1.5689785986134264, -1.3081674233603606, -0.21812424767131966, -0.37845267202672445, 0.13310520317550179, 0.29362048908465244, 0.9077074095476576, 0.4155632538250987, -0.8037841833084913, -0.46914642334271417, 0.3955242551946375, -0.7106748074397333, -0.8495205167994131, 0.04779134775621538, -0.8979601094652576, 1.5415262408384887], \"yaxis\": \"y10\"}, {\"histfunc\": \"count\", \"histnorm\": \"\", \"marker\": {\"color\": \"rgba(50, 171, 96, 1.0)\", \"line\": {\"color\": \"#4D5663\", \"width\": 1.3}}, \"name\": \"C\", \"nbinsx\": 10, \"opacity\": 0.8, \"orientation\": \"v\", \"type\": \"histogram\", \"x\": [-0.02492284918056258, -0.785885414293277, -0.447229482546522, -1.6298304748926844, 0.6876000537914739, -0.749689963784534, 0.9704678601740873, -1.7337017277345714, 0.7373206301508844, -0.3437410268666627, -0.35762179688757945, 1.6322614742165158, -0.6525220193174637, 0.35403222987831917, 1.2678106373747828, 0.29191268386959235, -0.02921807293193676, -0.6706873197551385, 1.9524141182982033, 0.6948717069327361, -1.980328499134693, 2.101839314514126, -0.6193057251619556, 0.525430772262155, 1.3186037030791116, 0.8841393660263471, 0.36215175945543854, 0.9365116377516586, 1.0541664066448242, 0.22659643518750247, -0.39626263652063987, -0.8130745851655512, 0.6107395943910803, -0.564996329346102, 0.5372034452606061, 0.3994888927388636, -0.655969115122046, -0.41395228963748426, 0.5030972184697315, 1.6436972767347295, 2.259717250202777, 1.4678478036901408, -0.7372553149733171, 1.309642380097827, 0.5504669366195879, -1.5765610100084129, 0.29404125013268295, -1.416100641829991, 0.669027294488854, 1.776246473907867, -1.3256562548303101, -0.08739898929387825, 1.361702586056903, -1.2196014729434574, 0.5654916409046004, -0.8729915405430029, -0.10793303117085971, -0.8374428855918272, 0.16970141537157785, -0.20932435081978626, 0.986152638141033, -1.4000278631050525, 0.8579515821935914, 0.7553179434242713, 1.1446813630227082, -0.07234403671841592, -1.5027951228313337, -2.5795719674925066, -0.03146470679473467, 2.105159750957102, 0.4480068244381329, -0.7735884868584423, 0.7925044443949859, -0.2966469904715457, -0.04191030285426025, -0.3998131385257116, -0.3419672765803134, -0.7590982509812559, 0.3977956961409181, -0.12667280976923959, 0.6785429992091369, -1.158746917724156, -1.6111634122601697, -0.025936575661406166, -1.5689785986134264, -1.3081674233603606, -0.21812424767131966, -0.37845267202672445, 0.13310520317550179, 0.29362048908465244, 0.9077074095476576, 0.4155632538250987, -0.8037841833084913, -0.46914642334271417, 0.3955242551946375, -0.7106748074397333, -0.8495205167994131, 0.04779134775621538, -0.8979601094652576, 1.5415262408384887], \"xaxis\": \"x11\", \"yaxis\": \"y11\"}, {\"line\": {\"color\": \"rgba(128, 128, 128, 1.0)\", \"dash\": \"solid\", \"shape\": \"linear\", \"width\": 1.3}, \"marker\": {\"size\": 2, \"symbol\": \"circle\"}, \"mode\": \"markers\", \"name\": \"C\", \"text\": \"\", \"type\": \"scatter\", \"x\": [-0.7227635303048442, -0.030580047913744548, -0.7786250871897227, -0.07002289387692275, -1.6503143009114278, -0.6019503568033155, 0.689367224972717, -0.3877280867564857, -0.015288321546338423, -0.5796264603315621, 0.8737467827441685, 0.344085650230088, 1.5200893065484695, 0.8435124810167771, 0.4904691044047342, 0.4499014043870365, -0.3667676153770925, 0.06310571872616824, -0.9911360291876661, 0.7287371614113567, -1.1489813712453352, 1.4805816518545971, -0.055427879222772564, -0.6703690072744609, 2.2129297634784098, 0.13269001550477982, -0.059211221133715485, 0.6695006437104821, -0.21119595592938, 0.5963572619382754, 0.6172415393239765, -0.3626507455852367, -1.5351632003837845, 0.5935232687518087, -0.4134200825043699, 0.6093343916517958, 0.9905684369974627, -0.7784670260629231, 0.0006860441181422818, 1.0637100577304208, -0.7957845232156112, -1.3720971642495983, 0.11887873486826661, 1.0193379646066532, 0.27400071154764105, -0.688248946870881, 0.07779762427772996, 1.6162557931269943, -0.5123287853786016, -0.7272057862823779, 0.7184153328238415, -0.7779604328036454, 1.3550171043138244, -0.8126305806786144, 0.9538396283965909, 0.4767895654831986, 0.08373612172610065, -1.858855927033377, -0.7145361377375852, 0.6310449796254276, -0.6710056881714914, 0.49394243311422453, -0.6578062688574469, -0.2980022738270043, 0.7314520119135556, 0.49893085913738244, -0.49831832883898947, 2.6348125556443893, 1.1167186149274897, -0.9971330714182465, 0.18102522667426926, -0.5062412236688921, 0.5752646963201515, 1.5530067376116647, 0.22563496666074, -1.9050058515269435, -0.9641135499209897, -0.37506502089516414, -1.936170792374123, -0.4545813060907563, 0.2785330127367757, -2.1468314274100706, -0.004939236418855568, -0.37863524303675955, -0.1455415176587356, 1.1065197520828338, 0.6190207410502039, -0.4074570589292243, -1.0307080391496815, 2.744791289260376, -0.13608064953886567, 0.11011507530831016, 0.5568764690248106, 0.4580131321612788, -1.39486763933591, -0.06823944857408382, -0.6401313597409217, -0.8076390953648548, 0.18809203651840606, -1.718618261435087], \"xaxis\": \"x12\", \"y\": [-0.02492284918056258, -0.785885414293277, -0.447229482546522, -1.6298304748926844, 0.6876000537914739, -0.749689963784534, 0.9704678601740873, -1.7337017277345714, 0.7373206301508844, -0.3437410268666627, -0.35762179688757945, 1.6322614742165158, -0.6525220193174637, 0.35403222987831917, 1.2678106373747828, 0.29191268386959235, -0.02921807293193676, -0.6706873197551385, 1.9524141182982033, 0.6948717069327361, -1.980328499134693, 2.101839314514126, -0.6193057251619556, 0.525430772262155, 1.3186037030791116, 0.8841393660263471, 0.36215175945543854, 0.9365116377516586, 1.0541664066448242, 0.22659643518750247, -0.39626263652063987, -0.8130745851655512, 0.6107395943910803, -0.564996329346102, 0.5372034452606061, 0.3994888927388636, -0.655969115122046, -0.41395228963748426, 0.5030972184697315, 1.6436972767347295, 2.259717250202777, 1.4678478036901408, -0.7372553149733171, 1.309642380097827, 0.5504669366195879, -1.5765610100084129, 0.29404125013268295, -1.416100641829991, 0.669027294488854, 1.776246473907867, -1.3256562548303101, -0.08739898929387825, 1.361702586056903, -1.2196014729434574, 0.5654916409046004, -0.8729915405430029, -0.10793303117085971, -0.8374428855918272, 0.16970141537157785, -0.20932435081978626, 0.986152638141033, -1.4000278631050525, 0.8579515821935914, 0.7553179434242713, 1.1446813630227082, -0.07234403671841592, -1.5027951228313337, -2.5795719674925066, -0.03146470679473467, 2.105159750957102, 0.4480068244381329, -0.7735884868584423, 0.7925044443949859, -0.2966469904715457, -0.04191030285426025, -0.3998131385257116, -0.3419672765803134, -0.7590982509812559, 0.3977956961409181, -0.12667280976923959, 0.6785429992091369, -1.158746917724156, -1.6111634122601697, -0.025936575661406166, -1.5689785986134264, -1.3081674233603606, -0.21812424767131966, -0.37845267202672445, 0.13310520317550179, 0.29362048908465244, 0.9077074095476576, 0.4155632538250987, -0.8037841833084913, -0.46914642334271417, 0.3955242551946375, -0.7106748074397333, -0.8495205167994131, 0.04779134775621538, -0.8979601094652576, 1.5415262408384887], \"yaxis\": \"y12\"}, {\"line\": {\"color\": \"rgba(128, 128, 128, 1.0)\", \"dash\": \"solid\", \"shape\": \"linear\", \"width\": 1.3}, \"marker\": {\"size\": 2, \"symbol\": \"circle\"}, \"mode\": \"markers\", \"name\": \"D\", \"text\": \"\", \"type\": \"scatter\", \"x\": [-2.5270110065280242, 1.6680174651519772, 0.45001559995548196, -0.02045562584354937, -0.04696767175551414, -0.43901181387379545, 1.7070413018056958, 0.08565188696795122, -0.3344293828596582, 0.9500404409209297, -0.21019113833514888, 0.3604224452923828, -1.11216805280219, -1.5604767575486982, 0.28660620043355134, 0.13083296630364566, 0.6822576428639039, -0.4829122357799119, -1.0615796698603883, 1.5279868368772598, 0.7273176523923723, -0.01668581955173972, -0.14431916847878662, -0.6694863923053975, -2.3470302981384954, -1.1661753763114484, -0.027495754023257737, -1.1940607139239843, 1.2022992752144077, -1.2637653296749367, 2.193581276644731, 1.5401952281442286, 1.2435478976767964, 1.1198451524009416, 0.6659197389716871, 0.9129273941343368, -1.6551091407193894, -0.2022455946334687, 1.7466718899342617, -1.0705815568121162, -0.5031411081362345, 1.4354268289538574, 0.35012433605173376, 2.276633138686141, -0.010746264868391347, -0.3368132777335987, -0.42996015575909946, -0.14383787852590885, -0.36458495384677464, 0.886255773590493, 1.2708758764720964, -0.17095937360923044, 1.7962916184698736, 0.7468575618528512, 0.27557541233497135, -0.4293600119498419, 0.39163991626736816, 0.28128110983445603, -0.5827217868530749, -0.8122462897014714, -1.4807240533031878, -1.9499612762391623, -1.0592607140515602, -1.6477046188858, 1.0012645286707358, 0.862565704579482, 0.039131466186083146, 0.6622855462079307, 0.5149700197353527, -0.6940121322135872, 0.15324988368917486, -0.5476656394961759, -0.004292537672022745, 0.7637978366095226, 0.15075134016268965, -1.210306488771418, 1.4986544939320934, 0.9920524382552748, 0.5463758713635003, 1.5976786993787182, -0.47325106610739365, -0.059765588262616895, -0.35657783893539957, 1.0761729057971934, 0.3656428099020587, 1.846283176033301, 0.5930304044860237, 0.29793987221014107, 0.8924446468847728, -0.5099299114197214, 0.917801363350686, -0.5476396165319876, 0.08810377362737165, 0.67716359658272, -1.2866001392254593, 0.3505270777704328, -0.35502740703668406, 0.3198277785003611, -1.2683305733699586, -0.8306454799809649], \"xaxis\": \"x13\", \"y\": [-0.7227635303048442, -0.030580047913744548, -0.7786250871897227, -0.07002289387692275, -1.6503143009114278, -0.6019503568033155, 0.689367224972717, -0.3877280867564857, -0.015288321546338423, -0.5796264603315621, 0.8737467827441685, 0.344085650230088, 1.5200893065484695, 0.8435124810167771, 0.4904691044047342, 0.4499014043870365, -0.3667676153770925, 0.06310571872616824, -0.9911360291876661, 0.7287371614113567, -1.1489813712453352, 1.4805816518545971, -0.055427879222772564, -0.6703690072744609, 2.2129297634784098, 0.13269001550477982, -0.059211221133715485, 0.6695006437104821, -0.21119595592938, 0.5963572619382754, 0.6172415393239765, -0.3626507455852367, -1.5351632003837845, 0.5935232687518087, -0.4134200825043699, 0.6093343916517958, 0.9905684369974627, -0.7784670260629231, 0.0006860441181422818, 1.0637100577304208, -0.7957845232156112, -1.3720971642495983, 0.11887873486826661, 1.0193379646066532, 0.27400071154764105, -0.688248946870881, 0.07779762427772996, 1.6162557931269943, -0.5123287853786016, -0.7272057862823779, 0.7184153328238415, -0.7779604328036454, 1.3550171043138244, -0.8126305806786144, 0.9538396283965909, 0.4767895654831986, 0.08373612172610065, -1.858855927033377, -0.7145361377375852, 0.6310449796254276, -0.6710056881714914, 0.49394243311422453, -0.6578062688574469, -0.2980022738270043, 0.7314520119135556, 0.49893085913738244, -0.49831832883898947, 2.6348125556443893, 1.1167186149274897, -0.9971330714182465, 0.18102522667426926, -0.5062412236688921, 0.5752646963201515, 1.5530067376116647, 0.22563496666074, -1.9050058515269435, -0.9641135499209897, -0.37506502089516414, -1.936170792374123, -0.4545813060907563, 0.2785330127367757, -2.1468314274100706, -0.004939236418855568, -0.37863524303675955, -0.1455415176587356, 1.1065197520828338, 0.6190207410502039, -0.4074570589292243, -1.0307080391496815, 2.744791289260376, -0.13608064953886567, 0.11011507530831016, 0.5568764690248106, 0.4580131321612788, -1.39486763933591, -0.06823944857408382, -0.6401313597409217, -0.8076390953648548, 0.18809203651840606, -1.718618261435087], \"yaxis\": \"y13\"}, {\"line\": {\"color\": \"rgba(128, 128, 128, 1.0)\", \"dash\": \"solid\", \"shape\": \"linear\", \"width\": 1.3}, \"marker\": {\"size\": 2, \"symbol\": \"circle\"}, \"mode\": \"markers\", \"name\": \"D\", \"text\": \"\", \"type\": \"scatter\", \"x\": [0.6077342487016018, -0.4731893416109403, -1.3768007323560167, -1.426830575049864, 0.12874988879814375, -0.947733813933697, 0.5238344892217599, 0.4840873187211147, -0.14012108582502, -1.8873437456128668, -0.14026679486783325, 0.4586861028400738, -0.10395573252720713, 0.06140834037940289, -0.3502091575413244, -2.0090925410123672, 0.4364534526441894, 2.1817271426605065, -0.6445403959738393, 0.45419525315091375, -0.5176436627591724, 0.5329488253779412, 0.3411555558959055, 0.1950287322958298, -1.892179875114976, -0.04305897101210228, 1.026946935339796, 1.4848231767312008, -0.6055364169071535, 0.4237220678947114, 0.5388665211938162, -0.6728594434723479, -1.1915342740995833, 0.5941628508263933, -0.863275792769601, 0.047691635733050526, -0.4305545961459695, -2.2342519811712185, -0.5520756194783913, 2.397078675528769, 0.4545527413537645, -1.016763728464053, -0.6026059735096668, 0.5137861018262334, 0.5881748149974206, 1.188626116200059, -0.3169650249940472, 0.6923341698729818, -2.097714086167859, -0.5526867895889804, 0.2120071963811955, -0.6187381387292377, 0.9596534764458649, 0.032236559936918534, -1.8499788850248917, 2.503462048187462, 1.1279064832228873, -1.2725792355196437, 1.121997168063789, -0.4687798848657744, 1.5793951413013747, 2.1816459185106987, 0.46107945737165623, 0.5236098062294923, -1.1596068392298857, 0.24036944442115304, 0.6304058035738712, -1.0185978020522959, -0.15179028153027518, -0.08919393697884163, 0.7714753987146433, -0.5390364543872649, 1.920551168018313, 0.3063838030070926, -0.22397774797668304, -1.0448493502254013, -1.2544416899655373, 0.4892953069810365, 0.697919876015075, 0.6485908307169317, 0.40662451216039197, 0.5765804446501441, -0.44768295089216714, -0.738650617470391, 0.24395544214563125, -1.5275755299976472, -0.23712520374440696, -0.45122748413867386, 0.5496027629689889, 1.5441391625326482, 0.9254372535361087, -0.5676555714360765, 1.7135407953393513, 2.7406862509354215, 0.7133139060010656, -0.1828690990490576, 0.24013813467922385, -1.2477864222587203, 0.6116994227216244, 0.9070783540161795], \"xaxis\": \"x14\", \"y\": [-0.7227635303048442, -0.030580047913744548, -0.7786250871897227, -0.07002289387692275, -1.6503143009114278, -0.6019503568033155, 0.689367224972717, -0.3877280867564857, -0.015288321546338423, -0.5796264603315621, 0.8737467827441685, 0.344085650230088, 1.5200893065484695, 0.8435124810167771, 0.4904691044047342, 0.4499014043870365, -0.3667676153770925, 0.06310571872616824, -0.9911360291876661, 0.7287371614113567, -1.1489813712453352, 1.4805816518545971, -0.055427879222772564, -0.6703690072744609, 2.2129297634784098, 0.13269001550477982, -0.059211221133715485, 0.6695006437104821, -0.21119595592938, 0.5963572619382754, 0.6172415393239765, -0.3626507455852367, -1.5351632003837845, 0.5935232687518087, -0.4134200825043699, 0.6093343916517958, 0.9905684369974627, -0.7784670260629231, 0.0006860441181422818, 1.0637100577304208, -0.7957845232156112, -1.3720971642495983, 0.11887873486826661, 1.0193379646066532, 0.27400071154764105, -0.688248946870881, 0.07779762427772996, 1.6162557931269943, -0.5123287853786016, -0.7272057862823779, 0.7184153328238415, -0.7779604328036454, 1.3550171043138244, -0.8126305806786144, 0.9538396283965909, 0.4767895654831986, 0.08373612172610065, -1.858855927033377, -0.7145361377375852, 0.6310449796254276, -0.6710056881714914, 0.49394243311422453, -0.6578062688574469, -0.2980022738270043, 0.7314520119135556, 0.49893085913738244, -0.49831832883898947, 2.6348125556443893, 1.1167186149274897, -0.9971330714182465, 0.18102522667426926, -0.5062412236688921, 0.5752646963201515, 1.5530067376116647, 0.22563496666074, -1.9050058515269435, -0.9641135499209897, -0.37506502089516414, -1.936170792374123, -0.4545813060907563, 0.2785330127367757, -2.1468314274100706, -0.004939236418855568, -0.37863524303675955, -0.1455415176587356, 1.1065197520828338, 0.6190207410502039, -0.4074570589292243, -1.0307080391496815, 2.744791289260376, -0.13608064953886567, 0.11011507530831016, 0.5568764690248106, 0.4580131321612788, -1.39486763933591, -0.06823944857408382, -0.6401313597409217, -0.8076390953648548, 0.18809203651840606, -1.718618261435087], \"yaxis\": \"y14\"}, {\"line\": {\"color\": \"rgba(128, 128, 128, 1.0)\", \"dash\": \"solid\", \"shape\": \"linear\", \"width\": 1.3}, \"marker\": {\"size\": 2, \"symbol\": \"circle\"}, \"mode\": \"markers\", \"name\": \"D\", \"text\": \"\", \"type\": \"scatter\", \"x\": [-0.02492284918056258, -0.785885414293277, -0.447229482546522, -1.6298304748926844, 0.6876000537914739, -0.749689963784534, 0.9704678601740873, -1.7337017277345714, 0.7373206301508844, -0.3437410268666627, -0.35762179688757945, 1.6322614742165158, -0.6525220193174637, 0.35403222987831917, 1.2678106373747828, 0.29191268386959235, -0.02921807293193676, -0.6706873197551385, 1.9524141182982033, 0.6948717069327361, -1.980328499134693, 2.101839314514126, -0.6193057251619556, 0.525430772262155, 1.3186037030791116, 0.8841393660263471, 0.36215175945543854, 0.9365116377516586, 1.0541664066448242, 0.22659643518750247, -0.39626263652063987, -0.8130745851655512, 0.6107395943910803, -0.564996329346102, 0.5372034452606061, 0.3994888927388636, -0.655969115122046, -0.41395228963748426, 0.5030972184697315, 1.6436972767347295, 2.259717250202777, 1.4678478036901408, -0.7372553149733171, 1.309642380097827, 0.5504669366195879, -1.5765610100084129, 0.29404125013268295, -1.416100641829991, 0.669027294488854, 1.776246473907867, -1.3256562548303101, -0.08739898929387825, 1.361702586056903, -1.2196014729434574, 0.5654916409046004, -0.8729915405430029, -0.10793303117085971, -0.8374428855918272, 0.16970141537157785, -0.20932435081978626, 0.986152638141033, -1.4000278631050525, 0.8579515821935914, 0.7553179434242713, 1.1446813630227082, -0.07234403671841592, -1.5027951228313337, -2.5795719674925066, -0.03146470679473467, 2.105159750957102, 0.4480068244381329, -0.7735884868584423, 0.7925044443949859, -0.2966469904715457, -0.04191030285426025, -0.3998131385257116, -0.3419672765803134, -0.7590982509812559, 0.3977956961409181, -0.12667280976923959, 0.6785429992091369, -1.158746917724156, -1.6111634122601697, -0.025936575661406166, -1.5689785986134264, -1.3081674233603606, -0.21812424767131966, -0.37845267202672445, 0.13310520317550179, 0.29362048908465244, 0.9077074095476576, 0.4155632538250987, -0.8037841833084913, -0.46914642334271417, 0.3955242551946375, -0.7106748074397333, -0.8495205167994131, 0.04779134775621538, -0.8979601094652576, 1.5415262408384887], \"xaxis\": \"x15\", \"y\": [-0.7227635303048442, -0.030580047913744548, -0.7786250871897227, -0.07002289387692275, -1.6503143009114278, -0.6019503568033155, 0.689367224972717, -0.3877280867564857, -0.015288321546338423, -0.5796264603315621, 0.8737467827441685, 0.344085650230088, 1.5200893065484695, 0.8435124810167771, 0.4904691044047342, 0.4499014043870365, -0.3667676153770925, 0.06310571872616824, -0.9911360291876661, 0.7287371614113567, -1.1489813712453352, 1.4805816518545971, -0.055427879222772564, -0.6703690072744609, 2.2129297634784098, 0.13269001550477982, -0.059211221133715485, 0.6695006437104821, -0.21119595592938, 0.5963572619382754, 0.6172415393239765, -0.3626507455852367, -1.5351632003837845, 0.5935232687518087, -0.4134200825043699, 0.6093343916517958, 0.9905684369974627, -0.7784670260629231, 0.0006860441181422818, 1.0637100577304208, -0.7957845232156112, -1.3720971642495983, 0.11887873486826661, 1.0193379646066532, 0.27400071154764105, -0.688248946870881, 0.07779762427772996, 1.6162557931269943, -0.5123287853786016, -0.7272057862823779, 0.7184153328238415, -0.7779604328036454, 1.3550171043138244, -0.8126305806786144, 0.9538396283965909, 0.4767895654831986, 0.08373612172610065, -1.858855927033377, -0.7145361377375852, 0.6310449796254276, -0.6710056881714914, 0.49394243311422453, -0.6578062688574469, -0.2980022738270043, 0.7314520119135556, 0.49893085913738244, -0.49831832883898947, 2.6348125556443893, 1.1167186149274897, -0.9971330714182465, 0.18102522667426926, -0.5062412236688921, 0.5752646963201515, 1.5530067376116647, 0.22563496666074, -1.9050058515269435, -0.9641135499209897, -0.37506502089516414, -1.936170792374123, -0.4545813060907563, 0.2785330127367757, -2.1468314274100706, -0.004939236418855568, -0.37863524303675955, -0.1455415176587356, 1.1065197520828338, 0.6190207410502039, -0.4074570589292243, -1.0307080391496815, 2.744791289260376, -0.13608064953886567, 0.11011507530831016, 0.5568764690248106, 0.4580131321612788, -1.39486763933591, -0.06823944857408382, -0.6401313597409217, -0.8076390953648548, 0.18809203651840606, -1.718618261435087], \"yaxis\": \"y15\"}, {\"histfunc\": \"count\", \"histnorm\": \"\", \"marker\": {\"color\": \"rgba(128, 0, 128, 1.0)\", \"line\": {\"color\": \"#4D5663\", \"width\": 1.3}}, \"name\": \"D\", \"nbinsx\": 10, \"opacity\": 0.8, \"orientation\": \"v\", \"type\": \"histogram\", \"x\": [-0.7227635303048442, -0.030580047913744548, -0.7786250871897227, -0.07002289387692275, -1.6503143009114278, -0.6019503568033155, 0.689367224972717, -0.3877280867564857, -0.015288321546338423, -0.5796264603315621, 0.8737467827441685, 0.344085650230088, 1.5200893065484695, 0.8435124810167771, 0.4904691044047342, 0.4499014043870365, -0.3667676153770925, 0.06310571872616824, -0.9911360291876661, 0.7287371614113567, -1.1489813712453352, 1.4805816518545971, -0.055427879222772564, -0.6703690072744609, 2.2129297634784098, 0.13269001550477982, -0.059211221133715485, 0.6695006437104821, -0.21119595592938, 0.5963572619382754, 0.6172415393239765, -0.3626507455852367, -1.5351632003837845, 0.5935232687518087, -0.4134200825043699, 0.6093343916517958, 0.9905684369974627, -0.7784670260629231, 0.0006860441181422818, 1.0637100577304208, -0.7957845232156112, -1.3720971642495983, 0.11887873486826661, 1.0193379646066532, 0.27400071154764105, -0.688248946870881, 0.07779762427772996, 1.6162557931269943, -0.5123287853786016, -0.7272057862823779, 0.7184153328238415, -0.7779604328036454, 1.3550171043138244, -0.8126305806786144, 0.9538396283965909, 0.4767895654831986, 0.08373612172610065, -1.858855927033377, -0.7145361377375852, 0.6310449796254276, -0.6710056881714914, 0.49394243311422453, -0.6578062688574469, -0.2980022738270043, 0.7314520119135556, 0.49893085913738244, -0.49831832883898947, 2.6348125556443893, 1.1167186149274897, -0.9971330714182465, 0.18102522667426926, -0.5062412236688921, 0.5752646963201515, 1.5530067376116647, 0.22563496666074, -1.9050058515269435, -0.9641135499209897, -0.37506502089516414, -1.936170792374123, -0.4545813060907563, 0.2785330127367757, -2.1468314274100706, -0.004939236418855568, -0.37863524303675955, -0.1455415176587356, 1.1065197520828338, 0.6190207410502039, -0.4074570589292243, -1.0307080391496815, 2.744791289260376, -0.13608064953886567, 0.11011507530831016, 0.5568764690248106, 0.4580131321612788, -1.39486763933591, -0.06823944857408382, -0.6401313597409217, -0.8076390953648548, 0.18809203651840606, -1.718618261435087], \"xaxis\": \"x16\", \"yaxis\": \"y16\"}],                        {\"bargap\": 0.02, \"legend\": {\"bgcolor\": \"#F5F6F9\", \"font\": {\"color\": \"#4D5663\"}}, \"paper_bgcolor\": \"#F5F6F9\", \"plot_bgcolor\": \"#F5F6F9\", \"showlegend\": false, \"template\": {\"data\": {\"bar\": [{\"error_x\": {\"color\": \"#2a3f5f\"}, \"error_y\": {\"color\": \"#2a3f5f\"}, \"marker\": {\"line\": {\"color\": \"#E5ECF6\", \"width\": 0.5}}, \"type\": \"bar\"}], \"barpolar\": [{\"marker\": {\"line\": {\"color\": \"#E5ECF6\", \"width\": 0.5}}, \"type\": \"barpolar\"}], \"carpet\": [{\"aaxis\": {\"endlinecolor\": \"#2a3f5f\", \"gridcolor\": \"white\", \"linecolor\": \"white\", \"minorgridcolor\": \"white\", \"startlinecolor\": \"#2a3f5f\"}, \"baxis\": {\"endlinecolor\": \"#2a3f5f\", \"gridcolor\": \"white\", \"linecolor\": \"white\", \"minorgridcolor\": \"white\", \"startlinecolor\": \"#2a3f5f\"}, \"type\": \"carpet\"}], \"choropleth\": [{\"colorbar\": {\"outlinewidth\": 0, \"ticks\": \"\"}, \"type\": \"choropleth\"}], \"contour\": [{\"colorbar\": {\"outlinewidth\": 0, \"ticks\": \"\"}, \"colorscale\": [[0.0, \"#0d0887\"], [0.1111111111111111, \"#46039f\"], [0.2222222222222222, \"#7201a8\"], [0.3333333333333333, \"#9c179e\"], [0.4444444444444444, \"#bd3786\"], [0.5555555555555556, \"#d8576b\"], [0.6666666666666666, \"#ed7953\"], [0.7777777777777778, \"#fb9f3a\"], [0.8888888888888888, \"#fdca26\"], [1.0, \"#f0f921\"]], \"type\": \"contour\"}], \"contourcarpet\": [{\"colorbar\": {\"outlinewidth\": 0, \"ticks\": \"\"}, \"type\": \"contourcarpet\"}], \"heatmap\": [{\"colorbar\": {\"outlinewidth\": 0, \"ticks\": \"\"}, \"colorscale\": [[0.0, \"#0d0887\"], [0.1111111111111111, \"#46039f\"], [0.2222222222222222, \"#7201a8\"], [0.3333333333333333, \"#9c179e\"], [0.4444444444444444, \"#bd3786\"], [0.5555555555555556, \"#d8576b\"], [0.6666666666666666, \"#ed7953\"], [0.7777777777777778, \"#fb9f3a\"], [0.8888888888888888, \"#fdca26\"], [1.0, \"#f0f921\"]], \"type\": \"heatmap\"}], \"heatmapgl\": [{\"colorbar\": {\"outlinewidth\": 0, \"ticks\": \"\"}, \"colorscale\": [[0.0, \"#0d0887\"], [0.1111111111111111, \"#46039f\"], [0.2222222222222222, \"#7201a8\"], [0.3333333333333333, \"#9c179e\"], [0.4444444444444444, \"#bd3786\"], [0.5555555555555556, \"#d8576b\"], [0.6666666666666666, \"#ed7953\"], [0.7777777777777778, \"#fb9f3a\"], [0.8888888888888888, \"#fdca26\"], [1.0, \"#f0f921\"]], \"type\": \"heatmapgl\"}], \"histogram\": [{\"marker\": {\"colorbar\": {\"outlinewidth\": 0, \"ticks\": \"\"}}, \"type\": \"histogram\"}], \"histogram2d\": [{\"colorbar\": {\"outlinewidth\": 0, \"ticks\": \"\"}, \"colorscale\": [[0.0, \"#0d0887\"], [0.1111111111111111, \"#46039f\"], [0.2222222222222222, \"#7201a8\"], [0.3333333333333333, \"#9c179e\"], [0.4444444444444444, \"#bd3786\"], [0.5555555555555556, \"#d8576b\"], [0.6666666666666666, \"#ed7953\"], [0.7777777777777778, \"#fb9f3a\"], [0.8888888888888888, \"#fdca26\"], [1.0, \"#f0f921\"]], \"type\": \"histogram2d\"}], \"histogram2dcontour\": [{\"colorbar\": {\"outlinewidth\": 0, \"ticks\": \"\"}, \"colorscale\": [[0.0, \"#0d0887\"], [0.1111111111111111, \"#46039f\"], [0.2222222222222222, \"#7201a8\"], [0.3333333333333333, \"#9c179e\"], [0.4444444444444444, \"#bd3786\"], [0.5555555555555556, \"#d8576b\"], [0.6666666666666666, \"#ed7953\"], [0.7777777777777778, \"#fb9f3a\"], [0.8888888888888888, \"#fdca26\"], [1.0, \"#f0f921\"]], \"type\": \"histogram2dcontour\"}], \"mesh3d\": [{\"colorbar\": {\"outlinewidth\": 0, \"ticks\": \"\"}, \"type\": \"mesh3d\"}], \"parcoords\": [{\"line\": {\"colorbar\": {\"outlinewidth\": 0, \"ticks\": \"\"}}, \"type\": \"parcoords\"}], \"pie\": [{\"automargin\": true, \"type\": \"pie\"}], \"scatter\": [{\"marker\": {\"colorbar\": {\"outlinewidth\": 0, \"ticks\": \"\"}}, \"type\": \"scatter\"}], \"scatter3d\": [{\"line\": {\"colorbar\": {\"outlinewidth\": 0, \"ticks\": \"\"}}, \"marker\": {\"colorbar\": {\"outlinewidth\": 0, \"ticks\": \"\"}}, \"type\": \"scatter3d\"}], \"scattercarpet\": [{\"marker\": {\"colorbar\": {\"outlinewidth\": 0, \"ticks\": \"\"}}, \"type\": \"scattercarpet\"}], \"scattergeo\": [{\"marker\": {\"colorbar\": {\"outlinewidth\": 0, \"ticks\": \"\"}}, \"type\": \"scattergeo\"}], \"scattergl\": [{\"marker\": {\"colorbar\": {\"outlinewidth\": 0, \"ticks\": \"\"}}, \"type\": \"scattergl\"}], \"scattermapbox\": [{\"marker\": {\"colorbar\": {\"outlinewidth\": 0, \"ticks\": \"\"}}, \"type\": \"scattermapbox\"}], \"scatterpolar\": [{\"marker\": {\"colorbar\": {\"outlinewidth\": 0, \"ticks\": \"\"}}, \"type\": \"scatterpolar\"}], \"scatterpolargl\": [{\"marker\": {\"colorbar\": {\"outlinewidth\": 0, \"ticks\": \"\"}}, \"type\": \"scatterpolargl\"}], \"scatterternary\": [{\"marker\": {\"colorbar\": {\"outlinewidth\": 0, \"ticks\": \"\"}}, \"type\": \"scatterternary\"}], \"surface\": [{\"colorbar\": {\"outlinewidth\": 0, \"ticks\": \"\"}, \"colorscale\": [[0.0, \"#0d0887\"], [0.1111111111111111, \"#46039f\"], [0.2222222222222222, \"#7201a8\"], [0.3333333333333333, \"#9c179e\"], [0.4444444444444444, \"#bd3786\"], [0.5555555555555556, \"#d8576b\"], [0.6666666666666666, \"#ed7953\"], [0.7777777777777778, \"#fb9f3a\"], [0.8888888888888888, \"#fdca26\"], [1.0, \"#f0f921\"]], \"type\": \"surface\"}], \"table\": [{\"cells\": {\"fill\": {\"color\": \"#EBF0F8\"}, \"line\": {\"color\": \"white\"}}, \"header\": {\"fill\": {\"color\": \"#C8D4E3\"}, \"line\": {\"color\": \"white\"}}, \"type\": \"table\"}]}, \"layout\": {\"annotationdefaults\": {\"arrowcolor\": \"#2a3f5f\", \"arrowhead\": 0, \"arrowwidth\": 1}, \"autotypenumbers\": \"strict\", \"coloraxis\": {\"colorbar\": {\"outlinewidth\": 0, \"ticks\": \"\"}}, \"colorscale\": {\"diverging\": [[0, \"#8e0152\"], [0.1, \"#c51b7d\"], [0.2, \"#de77ae\"], [0.3, \"#f1b6da\"], [0.4, \"#fde0ef\"], [0.5, \"#f7f7f7\"], [0.6, \"#e6f5d0\"], [0.7, \"#b8e186\"], [0.8, \"#7fbc41\"], [0.9, \"#4d9221\"], [1, \"#276419\"]], \"sequential\": [[0.0, \"#0d0887\"], [0.1111111111111111, \"#46039f\"], [0.2222222222222222, \"#7201a8\"], [0.3333333333333333, \"#9c179e\"], [0.4444444444444444, \"#bd3786\"], [0.5555555555555556, \"#d8576b\"], [0.6666666666666666, \"#ed7953\"], [0.7777777777777778, \"#fb9f3a\"], [0.8888888888888888, \"#fdca26\"], [1.0, \"#f0f921\"]], \"sequentialminus\": [[0.0, \"#0d0887\"], [0.1111111111111111, \"#46039f\"], [0.2222222222222222, \"#7201a8\"], [0.3333333333333333, \"#9c179e\"], [0.4444444444444444, \"#bd3786\"], [0.5555555555555556, \"#d8576b\"], [0.6666666666666666, \"#ed7953\"], [0.7777777777777778, \"#fb9f3a\"], [0.8888888888888888, \"#fdca26\"], [1.0, \"#f0f921\"]]}, \"colorway\": [\"#636efa\", \"#EF553B\", \"#00cc96\", \"#ab63fa\", \"#FFA15A\", \"#19d3f3\", \"#FF6692\", \"#B6E880\", \"#FF97FF\", \"#FECB52\"], \"font\": {\"color\": \"#2a3f5f\"}, \"geo\": {\"bgcolor\": \"white\", \"lakecolor\": \"white\", \"landcolor\": \"#E5ECF6\", \"showlakes\": true, \"showland\": true, \"subunitcolor\": \"white\"}, \"hoverlabel\": {\"align\": \"left\"}, \"hovermode\": \"closest\", \"mapbox\": {\"style\": \"light\"}, \"paper_bgcolor\": \"white\", \"plot_bgcolor\": \"#E5ECF6\", \"polar\": {\"angularaxis\": {\"gridcolor\": \"white\", \"linecolor\": \"white\", \"ticks\": \"\"}, \"bgcolor\": \"#E5ECF6\", \"radialaxis\": {\"gridcolor\": \"white\", \"linecolor\": \"white\", \"ticks\": \"\"}}, \"scene\": {\"xaxis\": {\"backgroundcolor\": \"#E5ECF6\", \"gridcolor\": \"white\", \"gridwidth\": 2, \"linecolor\": \"white\", \"showbackground\": true, \"ticks\": \"\", \"zerolinecolor\": \"white\"}, \"yaxis\": {\"backgroundcolor\": \"#E5ECF6\", \"gridcolor\": \"white\", \"gridwidth\": 2, \"linecolor\": \"white\", \"showbackground\": true, \"ticks\": \"\", \"zerolinecolor\": \"white\"}, \"zaxis\": {\"backgroundcolor\": \"#E5ECF6\", \"gridcolor\": \"white\", \"gridwidth\": 2, \"linecolor\": \"white\", \"showbackground\": true, \"ticks\": \"\", \"zerolinecolor\": \"white\"}}, \"shapedefaults\": {\"line\": {\"color\": \"#2a3f5f\"}}, \"ternary\": {\"aaxis\": {\"gridcolor\": \"white\", \"linecolor\": \"white\", \"ticks\": \"\"}, \"baxis\": {\"gridcolor\": \"white\", \"linecolor\": \"white\", \"ticks\": \"\"}, \"bgcolor\": \"#E5ECF6\", \"caxis\": {\"gridcolor\": \"white\", \"linecolor\": \"white\", \"ticks\": \"\"}}, \"title\": {\"x\": 0.05}, \"xaxis\": {\"automargin\": true, \"gridcolor\": \"white\", \"linecolor\": \"white\", \"ticks\": \"\", \"title\": {\"standoff\": 15}, \"zerolinecolor\": \"white\", \"zerolinewidth\": 2}, \"yaxis\": {\"automargin\": true, \"gridcolor\": \"white\", \"linecolor\": \"white\", \"ticks\": \"\", \"title\": {\"standoff\": 15}, \"zerolinecolor\": \"white\", \"zerolinewidth\": 2}}}, \"title\": {\"font\": {\"color\": \"#4D5663\"}}, \"xaxis\": {\"anchor\": \"y\", \"domain\": [0.0, 0.2125], \"gridcolor\": \"#E1E5ED\", \"showgrid\": false, \"tickfont\": {\"color\": \"#4D5663\"}, \"title\": {\"font\": {\"color\": \"#4D5663\"}, \"text\": \"\"}, \"zerolinecolor\": \"#E1E5ED\"}, \"xaxis10\": {\"anchor\": \"y10\", \"domain\": [0.2625, 0.475], \"gridcolor\": \"#E1E5ED\", \"showgrid\": false, \"tickfont\": {\"color\": \"#4D5663\"}, \"title\": {\"font\": {\"color\": \"#4D5663\"}, \"text\": \"\"}, \"zerolinecolor\": \"#E1E5ED\"}, \"xaxis11\": {\"anchor\": \"y11\", \"domain\": [0.525, 0.7375], \"gridcolor\": \"#E1E5ED\", \"showgrid\": false, \"tickfont\": {\"color\": \"#4D5663\"}, \"title\": {\"font\": {\"color\": \"#4D5663\"}, \"text\": \"\"}, \"zerolinecolor\": \"#E1E5ED\"}, \"xaxis12\": {\"anchor\": \"y12\", \"domain\": [0.7875, 1.0], \"gridcolor\": \"#E1E5ED\", \"showgrid\": false, \"tickfont\": {\"color\": \"#4D5663\"}, \"title\": {\"font\": {\"color\": \"#4D5663\"}, \"text\": \"\"}, \"zerolinecolor\": \"#E1E5ED\"}, \"xaxis13\": {\"anchor\": \"y13\", \"domain\": [0.0, 0.2125], \"gridcolor\": \"#E1E5ED\", \"showgrid\": false, \"tickfont\": {\"color\": \"#4D5663\"}, \"title\": {\"font\": {\"color\": \"#4D5663\"}, \"text\": \"\"}, \"zerolinecolor\": \"#E1E5ED\"}, \"xaxis14\": {\"anchor\": \"y14\", \"domain\": [0.2625, 0.475], \"gridcolor\": \"#E1E5ED\", \"showgrid\": false, \"tickfont\": {\"color\": \"#4D5663\"}, \"title\": {\"font\": {\"color\": \"#4D5663\"}, \"text\": \"\"}, \"zerolinecolor\": \"#E1E5ED\"}, \"xaxis15\": {\"anchor\": \"y15\", \"domain\": [0.525, 0.7375], \"gridcolor\": \"#E1E5ED\", \"showgrid\": false, \"tickfont\": {\"color\": \"#4D5663\"}, \"title\": {\"font\": {\"color\": \"#4D5663\"}, \"text\": \"\"}, \"zerolinecolor\": \"#E1E5ED\"}, \"xaxis16\": {\"anchor\": \"y16\", \"domain\": [0.7875, 1.0], \"gridcolor\": \"#E1E5ED\", \"showgrid\": false, \"tickfont\": {\"color\": \"#4D5663\"}, \"title\": {\"font\": {\"color\": \"#4D5663\"}, \"text\": \"\"}, \"zerolinecolor\": \"#E1E5ED\"}, \"xaxis2\": {\"anchor\": \"y2\", \"domain\": [0.2625, 0.475], \"gridcolor\": \"#E1E5ED\", \"showgrid\": false, \"tickfont\": {\"color\": \"#4D5663\"}, \"title\": {\"font\": {\"color\": \"#4D5663\"}, \"text\": \"\"}, \"zerolinecolor\": \"#E1E5ED\"}, \"xaxis3\": {\"anchor\": \"y3\", \"domain\": [0.525, 0.7375], \"gridcolor\": \"#E1E5ED\", \"showgrid\": false, \"tickfont\": {\"color\": \"#4D5663\"}, \"title\": {\"font\": {\"color\": \"#4D5663\"}, \"text\": \"\"}, \"zerolinecolor\": \"#E1E5ED\"}, \"xaxis4\": {\"anchor\": \"y4\", \"domain\": [0.7875, 1.0], \"gridcolor\": \"#E1E5ED\", \"showgrid\": false, \"tickfont\": {\"color\": \"#4D5663\"}, \"title\": {\"font\": {\"color\": \"#4D5663\"}, \"text\": \"\"}, \"zerolinecolor\": \"#E1E5ED\"}, \"xaxis5\": {\"anchor\": \"y5\", \"domain\": [0.0, 0.2125], \"gridcolor\": \"#E1E5ED\", \"showgrid\": false, \"tickfont\": {\"color\": \"#4D5663\"}, \"title\": {\"font\": {\"color\": \"#4D5663\"}, \"text\": \"\"}, \"zerolinecolor\": \"#E1E5ED\"}, \"xaxis6\": {\"anchor\": \"y6\", \"domain\": [0.2625, 0.475], \"gridcolor\": \"#E1E5ED\", \"showgrid\": false, \"tickfont\": {\"color\": \"#4D5663\"}, \"title\": {\"font\": {\"color\": \"#4D5663\"}, \"text\": \"\"}, \"zerolinecolor\": \"#E1E5ED\"}, \"xaxis7\": {\"anchor\": \"y7\", \"domain\": [0.525, 0.7375], \"gridcolor\": \"#E1E5ED\", \"showgrid\": false, \"tickfont\": {\"color\": \"#4D5663\"}, \"title\": {\"font\": {\"color\": \"#4D5663\"}, \"text\": \"\"}, \"zerolinecolor\": \"#E1E5ED\"}, \"xaxis8\": {\"anchor\": \"y8\", \"domain\": [0.7875, 1.0], \"gridcolor\": \"#E1E5ED\", \"showgrid\": false, \"tickfont\": {\"color\": \"#4D5663\"}, \"title\": {\"font\": {\"color\": \"#4D5663\"}, \"text\": \"\"}, \"zerolinecolor\": \"#E1E5ED\"}, \"xaxis9\": {\"anchor\": \"y9\", \"domain\": [0.0, 0.2125], \"gridcolor\": \"#E1E5ED\", \"showgrid\": false, \"tickfont\": {\"color\": \"#4D5663\"}, \"title\": {\"font\": {\"color\": \"#4D5663\"}, \"text\": \"\"}, \"zerolinecolor\": \"#E1E5ED\"}, \"yaxis\": {\"anchor\": \"x\", \"domain\": [0.8025, 1.0], \"gridcolor\": \"#E1E5ED\", \"showgrid\": false, \"tickfont\": {\"color\": \"#4D5663\"}, \"title\": {\"font\": {\"color\": \"#4D5663\"}, \"text\": \"\"}, \"zerolinecolor\": \"#E1E5ED\"}, \"yaxis10\": {\"anchor\": \"x10\", \"domain\": [0.2675, 0.465], \"gridcolor\": \"#E1E5ED\", \"showgrid\": false, \"tickfont\": {\"color\": \"#4D5663\"}, \"title\": {\"font\": {\"color\": \"#4D5663\"}, \"text\": \"\"}, \"zerolinecolor\": \"#E1E5ED\"}, \"yaxis11\": {\"anchor\": \"x11\", \"domain\": [0.2675, 0.465], \"gridcolor\": \"#E1E5ED\", \"showgrid\": false, \"tickfont\": {\"color\": \"#4D5663\"}, \"title\": {\"font\": {\"color\": \"#4D5663\"}, \"text\": \"\"}, \"zerolinecolor\": \"#E1E5ED\"}, \"yaxis12\": {\"anchor\": \"x12\", \"domain\": [0.2675, 0.465], \"gridcolor\": \"#E1E5ED\", \"showgrid\": false, \"tickfont\": {\"color\": \"#4D5663\"}, \"title\": {\"font\": {\"color\": \"#4D5663\"}, \"text\": \"\"}, \"zerolinecolor\": \"#E1E5ED\"}, \"yaxis13\": {\"anchor\": \"x13\", \"domain\": [0.0, 0.1975], \"gridcolor\": \"#E1E5ED\", \"showgrid\": false, \"tickfont\": {\"color\": \"#4D5663\"}, \"title\": {\"font\": {\"color\": \"#4D5663\"}, \"text\": \"\"}, \"zerolinecolor\": \"#E1E5ED\"}, \"yaxis14\": {\"anchor\": \"x14\", \"domain\": [0.0, 0.1975], \"gridcolor\": \"#E1E5ED\", \"showgrid\": false, \"tickfont\": {\"color\": \"#4D5663\"}, \"title\": {\"font\": {\"color\": \"#4D5663\"}, \"text\": \"\"}, \"zerolinecolor\": \"#E1E5ED\"}, \"yaxis15\": {\"anchor\": \"x15\", \"domain\": [0.0, 0.1975], \"gridcolor\": \"#E1E5ED\", \"showgrid\": false, \"tickfont\": {\"color\": \"#4D5663\"}, \"title\": {\"font\": {\"color\": \"#4D5663\"}, \"text\": \"\"}, \"zerolinecolor\": \"#E1E5ED\"}, \"yaxis16\": {\"anchor\": \"x16\", \"domain\": [0.0, 0.1975], \"gridcolor\": \"#E1E5ED\", \"showgrid\": false, \"tickfont\": {\"color\": \"#4D5663\"}, \"title\": {\"font\": {\"color\": \"#4D5663\"}, \"text\": \"\"}, \"zerolinecolor\": \"#E1E5ED\"}, \"yaxis2\": {\"anchor\": \"x2\", \"domain\": [0.8025, 1.0], \"gridcolor\": \"#E1E5ED\", \"showgrid\": false, \"tickfont\": {\"color\": \"#4D5663\"}, \"title\": {\"font\": {\"color\": \"#4D5663\"}, \"text\": \"\"}, \"zerolinecolor\": \"#E1E5ED\"}, \"yaxis3\": {\"anchor\": \"x3\", \"domain\": [0.8025, 1.0], \"gridcolor\": \"#E1E5ED\", \"showgrid\": false, \"tickfont\": {\"color\": \"#4D5663\"}, \"title\": {\"font\": {\"color\": \"#4D5663\"}, \"text\": \"\"}, \"zerolinecolor\": \"#E1E5ED\"}, \"yaxis4\": {\"anchor\": \"x4\", \"domain\": [0.8025, 1.0], \"gridcolor\": \"#E1E5ED\", \"showgrid\": false, \"tickfont\": {\"color\": \"#4D5663\"}, \"title\": {\"font\": {\"color\": \"#4D5663\"}, \"text\": \"\"}, \"zerolinecolor\": \"#E1E5ED\"}, \"yaxis5\": {\"anchor\": \"x5\", \"domain\": [0.535, 0.7325], \"gridcolor\": \"#E1E5ED\", \"showgrid\": false, \"tickfont\": {\"color\": \"#4D5663\"}, \"title\": {\"font\": {\"color\": \"#4D5663\"}, \"text\": \"\"}, \"zerolinecolor\": \"#E1E5ED\"}, \"yaxis6\": {\"anchor\": \"x6\", \"domain\": [0.535, 0.7325], \"gridcolor\": \"#E1E5ED\", \"showgrid\": false, \"tickfont\": {\"color\": \"#4D5663\"}, \"title\": {\"font\": {\"color\": \"#4D5663\"}, \"text\": \"\"}, \"zerolinecolor\": \"#E1E5ED\"}, \"yaxis7\": {\"anchor\": \"x7\", \"domain\": [0.535, 0.7325], \"gridcolor\": \"#E1E5ED\", \"showgrid\": false, \"tickfont\": {\"color\": \"#4D5663\"}, \"title\": {\"font\": {\"color\": \"#4D5663\"}, \"text\": \"\"}, \"zerolinecolor\": \"#E1E5ED\"}, \"yaxis8\": {\"anchor\": \"x8\", \"domain\": [0.535, 0.7325], \"gridcolor\": \"#E1E5ED\", \"showgrid\": false, \"tickfont\": {\"color\": \"#4D5663\"}, \"title\": {\"font\": {\"color\": \"#4D5663\"}, \"text\": \"\"}, \"zerolinecolor\": \"#E1E5ED\"}, \"yaxis9\": {\"anchor\": \"x9\", \"domain\": [0.2675, 0.465], \"gridcolor\": \"#E1E5ED\", \"showgrid\": false, \"tickfont\": {\"color\": \"#4D5663\"}, \"title\": {\"font\": {\"color\": \"#4D5663\"}, \"text\": \"\"}, \"zerolinecolor\": \"#E1E5ED\"}},                        {\"showLink\": true, \"linkText\": \"Export to plot.ly\", \"plotlyServerURL\": \"https://plot.ly\", \"responsive\": true}                    ).then(function(){\n",
       "                            \n",
       "var gd = document.getElementById('b1b7e068-b03e-4f30-9771-86ff925998e1');\n",
       "var x = new MutationObserver(function (mutations, observer) {{\n",
       "        var display = window.getComputedStyle(gd).display;\n",
       "        if (!display || display === 'none') {{\n",
       "            console.log([gd, 'removed!']);\n",
       "            Plotly.purge(gd);\n",
       "            observer.disconnect();\n",
       "        }}\n",
       "}});\n",
       "\n",
       "// Listen for the removal of the full notebook cells\n",
       "var notebookContainer = gd.closest('#notebook-container');\n",
       "if (notebookContainer) {{\n",
       "    x.observe(notebookContainer, {childList: true});\n",
       "}}\n",
       "\n",
       "// Listen for the clearing of the current output cell\n",
       "var outputEl = gd.closest('.output');\n",
       "if (outputEl) {{\n",
       "    x.observe(outputEl, {childList: true});\n",
       "}}\n",
       "\n",
       "                        })                };                });            </script>        </div>"
      ]
     },
     "metadata": {},
     "output_type": "display_data"
    }
   ],
   "source": [
    "df.scatter_matrix()"
   ]
  },
  {
   "cell_type": "markdown",
   "metadata": {
    "collapsed": true
   },
   "source": [
    "# Great Job!"
   ]
  }
 ],
 "metadata": {
  "kernelspec": {
   "display_name": "Python 3",
   "language": "python",
   "name": "python3"
  },
  "language_info": {
   "codemirror_mode": {
    "name": "ipython",
    "version": 3
   },
   "file_extension": ".py",
   "mimetype": "text/x-python",
   "name": "python",
   "nbconvert_exporter": "python",
   "pygments_lexer": "ipython3",
   "version": "3.8.3"
  }
 },
 "nbformat": 4,
 "nbformat_minor": 1
}
